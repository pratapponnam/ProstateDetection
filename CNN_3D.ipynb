{
 "cells": [
  {
   "cell_type": "code",
   "execution_count": 65,
   "id": "91cc3718-d121-4bd4-acd5-44eeaacaaecd",
   "metadata": {},
   "outputs": [],
   "source": [
    "import os\n",
    "import random\n",
    "import numpy as np\n",
    "import pandas as pd\n",
    "import matplotlib.pyplot as plt\n",
    "\n",
    "import torch\n",
    "import torch.nn.functional as F\n",
    "from torch import nn, optim\n",
    "from torch.utils.data import DataLoader, TensorDataset\n",
    "\n",
    "from sklearn.model_selection import train_test_split\n",
    "from sklearn.metrics import classification_report, confusion_matrix, ConfusionMatrixDisplay\n",
    "\n",
    "from tqdm import tqdm\n"
   ]
  },
  {
   "cell_type": "markdown",
   "id": "e24ebbf0-6fb6-4249-b493-eb25cdcee73f",
   "metadata": {},
   "source": [
    "Sets training configurations and loads the ProstateX labels. It ensures only patients with\n",
    "corresponding preprocessed .npy volume files are included in the dataset."
   ]
  },
  {
   "cell_type": "code",
   "execution_count": 67,
   "id": "1ed0a1fd-da23-491e-be5b-85fb3ed9857b",
   "metadata": {},
   "outputs": [],
   "source": [
    "\n",
    "# === Config ===\n",
    "DATA_DIR = r\"C:\\Users\\anude\\Downloads\\processed_data\"\n",
    "FINDINGS_CSV = r\"C:\\Users\\anude\\Downloads\\project\\ProstateX-Findings-Train.csv\"\n",
    "BATCH_SIZE = 4\n",
    "EPOCHS = 10\n",
    "LR = 1e-4\n",
    "DEVICE = torch.device(\"cuda\" if torch.cuda.is_available() else \"cpu\")\n",
    "\n",
    "# === Load labels and volume paths ===\n",
    "df = pd.read_csv(FINDINGS_CSV)\n",
    "df = df.dropna(subset=['ClinSig'])\n",
    "df['ProxID'] = df['ProxID'].astype(str)\n",
    "df['ClinSig'] = df['ClinSig'].astype(int)\n",
    "\n",
    "# Only use IDs that have .npy files\n",
    "available_ids = {f.replace(\".npy\", \"\") for f in os.listdir(DATA_DIR)}\n",
    "df = df[df['ProxID'].isin(available_ids)]\n"
   ]
  },
  {
   "cell_type": "code",
   "execution_count": 68,
   "id": "c9bb1ea2-da67-4f46-8018-48172383c69b",
   "metadata": {},
   "outputs": [],
   "source": [
    "#Functions\n",
    "\n",
    "def resize_volume(vol, target_shape=(3, 64, 64, 64)):\n",
    "    \"\"\"\n",
    "    Resizes a 4D volume by cropping or zero-padding to match the target shape.\n",
    "    Ensures consistent input dimensions for model training.\n",
    "    \"\"\"\n",
    "    c, d, h, w = vol.shape\n",
    "    tc, td, th, tw = target_shape\n",
    "    padded = np.zeros(target_shape, dtype=np.float32)\n",
    "    \n",
    "    # Crop if too big\n",
    "    d = min(d, td)\n",
    "    h = min(h, th)\n",
    "    w = min(w, tw)\n",
    "\n",
    "    padded[:c, :d, :h, :w] = vol[:c, :d, :h, :w]\n",
    "    return padded\n",
    "\n",
    "def load_tensor_dataset(dataframe, target_shape=(3, 64, 64, 64)):\n",
    "    \"\"\"\n",
    "    Loads and resizes volumes from .npy files, stacks them into tensors,\n",
    "    and returns a TensorDataset of image volumes and binary labels.\n",
    "    \"\"\"\n",
    "    x_list, y_list = [], []\n",
    "    for _, row in dataframe.iterrows():\n",
    "        try:\n",
    "            vol = np.load(os.path.join(DATA_DIR, f\"{row['ProxID']}.npy\")).astype(np.float32)\n",
    "            vol = resize_volume(vol, target_shape)\n",
    "            x_list.append(vol)\n",
    "            y_list.append(row['ClinSig'])\n",
    "        except Exception as e:\n",
    "            print(f\"[ERROR] Skipping {row['ProxID']}: {e}\")\n",
    "    x_tensor = torch.tensor(np.stack(x_list))  # [N, 3, 64, 64, 64]\n",
    "    y_tensor = torch.tensor(y_list, dtype=torch.float32)\n",
    "    return TensorDataset(x_tensor, y_tensor)\n"
   ]
  },
  {
   "cell_type": "markdown",
   "id": "231a413b-5daa-49c8-b8f1-6ba454d490bb",
   "metadata": {},
   "source": [
    "Splits the dataset into stratified training and validation sets based on ClinSig, loads them as tensor datasets, and prepares PyTorch DataLoaders for model training and evaluation."
   ]
  },
  {
   "cell_type": "code",
   "execution_count": 70,
   "id": "a8241f0d-6bdb-4ee5-b586-f5e11a0e74d4",
   "metadata": {},
   "outputs": [],
   "source": [
    "# Split into train/val\n",
    "train_df, val_df = train_test_split(df, test_size=0.2, stratify=df['ClinSig'], random_state=42)\n",
    "\n",
    "train_data = load_tensor_dataset(train_df)\n",
    "val_data = load_tensor_dataset(val_df)\n",
    "\n",
    "train_loader = DataLoader(train_data, batch_size=BATCH_SIZE, shuffle=True)\n",
    "val_loader = DataLoader(val_data, batch_size=BATCH_SIZE, shuffle=False)"
   ]
  },
  {
   "cell_type": "markdown",
   "id": "6d2312c9-77c4-407a-88d3-94fb13df15e7",
   "metadata": {},
   "source": [
    "A simple 3D CNN for binary classification of prostate lesions is trained using binary cross-entropy loss. After each epoch, the training loss is printed, and the model learns to predict clinical significance from the preprocessed 3D volumes."
   ]
  },
  {
   "cell_type": "code",
   "execution_count": 72,
   "id": "a33cc094-6852-4ff3-9516-704069cdd98c",
   "metadata": {},
   "outputs": [
    {
     "name": "stderr",
     "output_type": "stream",
     "text": [
      "Epoch 1/10: 100%|██████████| 66/66 [00:01<00:00, 44.94it/s]\n"
     ]
    },
    {
     "name": "stdout",
     "output_type": "stream",
     "text": [
      "Epoch 1 - Loss: 37.6334\n"
     ]
    },
    {
     "name": "stderr",
     "output_type": "stream",
     "text": [
      "Epoch 2/10: 100%|██████████| 66/66 [00:01<00:00, 47.47it/s]\n"
     ]
    },
    {
     "name": "stdout",
     "output_type": "stream",
     "text": [
      "Epoch 2 - Loss: 35.8395\n"
     ]
    },
    {
     "name": "stderr",
     "output_type": "stream",
     "text": [
      "Epoch 3/10: 100%|██████████| 66/66 [00:01<00:00, 45.54it/s]\n"
     ]
    },
    {
     "name": "stdout",
     "output_type": "stream",
     "text": [
      "Epoch 3 - Loss: 36.0578\n"
     ]
    },
    {
     "name": "stderr",
     "output_type": "stream",
     "text": [
      "Epoch 4/10: 100%|██████████| 66/66 [00:01<00:00, 47.52it/s]\n"
     ]
    },
    {
     "name": "stdout",
     "output_type": "stream",
     "text": [
      "Epoch 4 - Loss: 35.7906\n"
     ]
    },
    {
     "name": "stderr",
     "output_type": "stream",
     "text": [
      "Epoch 5/10: 100%|██████████| 66/66 [00:01<00:00, 47.95it/s]\n"
     ]
    },
    {
     "name": "stdout",
     "output_type": "stream",
     "text": [
      "Epoch 5 - Loss: 35.5140\n"
     ]
    },
    {
     "name": "stderr",
     "output_type": "stream",
     "text": [
      "Epoch 6/10: 100%|██████████| 66/66 [00:01<00:00, 48.29it/s]\n"
     ]
    },
    {
     "name": "stdout",
     "output_type": "stream",
     "text": [
      "Epoch 6 - Loss: 34.8291\n"
     ]
    },
    {
     "name": "stderr",
     "output_type": "stream",
     "text": [
      "Epoch 7/10: 100%|██████████| 66/66 [00:01<00:00, 46.95it/s]\n"
     ]
    },
    {
     "name": "stdout",
     "output_type": "stream",
     "text": [
      "Epoch 7 - Loss: 34.5192\n"
     ]
    },
    {
     "name": "stderr",
     "output_type": "stream",
     "text": [
      "Epoch 8/10: 100%|██████████| 66/66 [00:01<00:00, 47.49it/s]\n"
     ]
    },
    {
     "name": "stdout",
     "output_type": "stream",
     "text": [
      "Epoch 8 - Loss: 34.1947\n"
     ]
    },
    {
     "name": "stderr",
     "output_type": "stream",
     "text": [
      "Epoch 9/10: 100%|██████████| 66/66 [00:01<00:00, 48.71it/s]\n"
     ]
    },
    {
     "name": "stdout",
     "output_type": "stream",
     "text": [
      "Epoch 9 - Loss: 32.6661\n"
     ]
    },
    {
     "name": "stderr",
     "output_type": "stream",
     "text": [
      "Epoch 10/10: 100%|██████████| 66/66 [00:01<00:00, 48.53it/s]\n"
     ]
    },
    {
     "name": "stdout",
     "output_type": "stream",
     "text": [
      "Epoch 10 - Loss: 31.7896\n",
      " Model saved to C:\\Users\\anude\\Downloads\\project\\prostate_cnn_model_3d.pth\n"
     ]
    }
   ],
   "source": [
    "# === Define model ===\n",
    "model = nn.Sequential(\n",
    "    nn.Conv3d(3, 16, kernel_size=3, padding=1),\n",
    "    nn.ReLU(),\n",
    "    nn.MaxPool3d(2),\n",
    "    nn.Conv3d(16, 32, kernel_size=3, padding=1),\n",
    "    nn.ReLU(),\n",
    "    nn.MaxPool3d(2),\n",
    "    nn.Flatten(),\n",
    "    nn.Linear(32 * 16 * 16 * 16, 128),  # adjust if input shape is different\n",
    "    nn.ReLU(),\n",
    "    nn.Linear(128, 1),\n",
    "    nn.Sigmoid()\n",
    ").to(DEVICE)\n",
    "\n",
    "# === Training ===\n",
    "optimizer = optim.Adam(model.parameters(), lr=LR)\n",
    "loss_fn = nn.BCELoss()\n",
    "\n",
    "for epoch in range(EPOCHS):\n",
    "    model.train()\n",
    "    total_loss = 0\n",
    "    for x_batch, y_batch in tqdm(train_loader, desc=f\"Epoch {epoch+1}/{EPOCHS}\"):\n",
    "        x_batch, y_batch = x_batch.to(DEVICE), y_batch.to(DEVICE)\n",
    "        optimizer.zero_grad()\n",
    "        outputs = model(x_batch).squeeze()\n",
    "        loss = loss_fn(outputs, y_batch)\n",
    "        loss.backward()\n",
    "        optimizer.step()\n",
    "        total_loss += loss.item()\n",
    "    print(f\"Epoch {epoch+1} - Loss: {total_loss:.4f}\")\n",
    "\n",
    "# === Save model ===\n",
    "MODEL_PATH = r\"C:\\Users\\anude\\Downloads\\project\\prostate_cnn_model_3d.pth\"\n",
    "torch.save(model.state_dict(), MODEL_PATH)\n",
    "print(f\" Model saved to {MODEL_PATH}\")\n"
   ]
  },
  {
   "cell_type": "markdown",
   "id": "ad902a7f-f225-4005-87cc-1a51ab177ff9",
   "metadata": {},
   "source": [
    "Loads the saved 3D CNN model and evaluates its predictions on the validation set, calculating classification metrics like precision, recall, and F1-score for ClinSig and non-ClinSig cases."
   ]
  },
  {
   "cell_type": "code",
   "execution_count": 74,
   "id": "621a1fde-0686-45f6-8f11-68d8fd332e29",
   "metadata": {},
   "outputs": [
    {
     "name": "stdout",
     "output_type": "stream",
     "text": [
      "\n",
      " Evaluation Report:\n",
      "              precision    recall  f1-score   support\n",
      "\n",
      " Not ClinSig       0.78      0.96      0.86        51\n",
      "     ClinSig       0.33      0.07      0.11        15\n",
      "\n",
      "    accuracy                           0.76        66\n",
      "   macro avg       0.56      0.51      0.49        66\n",
      "weighted avg       0.68      0.76      0.69        66\n",
      "\n"
     ]
    }
   ],
   "source": [
    "# === Load saved model ===\n",
    "MODEL_PATH = r\"C:\\Users\\anude\\Downloads\\project\\prostate_cnn_model_3d.pth\"\n",
    "model.load_state_dict(torch.load(MODEL_PATH, map_location=DEVICE))\n",
    "model.to(DEVICE)\n",
    "model.eval()\n",
    "\n",
    "# === Evaluation ===\n",
    "all_preds, all_labels = [], []\n",
    "with torch.no_grad():\n",
    "    for x_batch, y_batch in val_loader:\n",
    "        x_batch = x_batch.to(DEVICE)\n",
    "        preds = model(x_batch).squeeze().cpu().numpy()\n",
    "        preds = (preds > 0.5).astype(int)\n",
    "        all_preds += [int(preds)] if np.isscalar(preds) else preds.tolist()\n",
    "        all_labels += [int(y_batch)] if torch.numel(y_batch) == 1 else y_batch.numpy().tolist()\n",
    "\n",
    "print(\"\\n Evaluation Report:\")\n",
    "print(classification_report(all_labels, all_preds, target_names=[\"Not ClinSig\", \"ClinSig\"]))\n"
   ]
  },
  {
   "cell_type": "markdown",
   "id": "9cc893bd-23d1-4ee1-be96-5d4a40f3e7d9",
   "metadata": {},
   "source": [
    "Visualises the confusion matrix to assess how well the model distinguishes between clinically significant and non-significant lesions."
   ]
  },
  {
   "cell_type": "code",
   "execution_count": 76,
   "id": "0d406fbc-e8a0-448c-ab07-4902e46f0d79",
   "metadata": {},
   "outputs": [
    {
     "data": {
      "image/png": "[encoded data removed]",
      "text/plain": [
       "<Figure size 640x480 with 2 Axes>"
      ]
     },
     "metadata": {},
     "output_type": "display_data"
    }
   ],
   "source": [
    "# === Confusion Matrix ===\n",
    "cm = confusion_matrix(all_labels, all_preds)\n",
    "disp = ConfusionMatrixDisplay(confusion_matrix=cm, display_labels=[\"Not ClinSig\", \"ClinSig\"])\n",
    "disp.plot(cmap=\"Blues\", values_format='d')\n",
    "plt.title(\"Confusion Matrix\")\n",
    "plt.tight_layout()\n",
    "plt.show()\n"
   ]
  },
  {
   "cell_type": "markdown",
   "id": "2576eb71-1919-4196-90f0-de0f0a69c8d5",
   "metadata": {},
   "source": [
    "<h2> Improving the model precision"
   ]
  },
  {
   "cell_type": "markdown",
   "id": "d90e20b6-5a0c-4dbd-bd33-fa1485eef758",
   "metadata": {},
   "source": [
    "Adding focal loss, data augmentation, and oversampling of clinically significant cases to handle class imbalance. It uses a deeper CNN architecture with batch normalization, dropout, and a learning rate scheduler for better generalisation"
   ]
  },
  {
   "cell_type": "code",
   "execution_count": 100,
   "id": "a31e71fe-a42a-4ea8-b9a6-7e4e9b1f0859",
   "metadata": {},
   "outputs": [],
   "source": [
    "\n",
    "DATA_DIR = r\"C:\\Users\\anude\\Downloads\\processed_data\"\n",
    "FINDINGS_CSV = r\"C:\\Users\\anude\\Downloads\\project\\ProstateX-Findings-Train.csv\"\n",
    "BATCH_SIZE = 4\n",
    "EPOCHS = 200\n",
    "LR = 1e-4\n",
    "GAMMA = 3.0\n",
    "THRESHOLD = 0.5\n",
    "TARGET_SHAPE = (3, 64, 64, 64)\n",
    "DEVICE = torch.device(\"cuda\" if torch.cuda.is_available() else \"cpu\")\n",
    "\n",
    "# === Focal Loss ===\n",
    "def focal_loss(logits, targets, gamma=GAMMA):\n",
    "    \"\"\"\n",
    "    Computes Focal Loss to address class imbalance by focusing more on hard-to-classify examples.\n",
    "    \"\"\"\n",
    "    bce = F.binary_cross_entropy_with_logits(logits, targets, reduction='none')\n",
    "    pt = torch.exp(-bce)\n",
    "    return ((1 - pt) ** gamma * bce).mean()\n",
    "\n",
    "# === Augmentation ===\n",
    "def augment(volume):\n",
    "    \"\"\"\n",
    "    Applies random 3D augmentations to a volume: horizontal flip, vertical flip, and 90-degree rotations.\n",
    "    \"\"\"\n",
    "    if random.random() < 0.5:\n",
    "        volume = np.flip(volume, axis=2)  # Horizontal\n",
    "    if random.random() < 0.5:\n",
    "        volume = np.flip(volume, axis=3)  # Vertical\n",
    "    if random.random() < 0.5:\n",
    "        k = random.choice([1, 2, 3])\n",
    "        volume = np.rot90(volume, k, axes=(2, 3)).copy()\n",
    "    return volume\n",
    "\n",
    "# === Resize + optional augment ===\n",
    "def resize_volume(vol, target_shape, augment_flag=False):\n",
    "    \"\"\"\n",
    "    Resizes a volume to the target shape by cropping or zero-padding, with optional augmentation.\n",
    "    \"\"\"\n",
    "    if augment_flag:\n",
    "        vol = augment(vol)\n",
    "    c, d, h, w = vol.shape\n",
    "    tc, td, th, tw = target_shape\n",
    "    padded = np.zeros(target_shape, dtype=np.float32)\n",
    "    d, h, w = min(d, td), min(h, th), min(w, tw)\n",
    "    padded[:c, :d, :h, :w] = vol[:c, :d, :h, :w]\n",
    "    return padded\n",
    "\n",
    "# === Data loader with augment for ClinSig ===\n",
    "def load_tensor_dataset(df, shape=TARGET_SHAPE, augment_clinsig=False):\n",
    "    \"\"\"\n",
    "    Loads volume data and labels into a TensorDataset, applying augmentation only to ClinSig-positive samples.\n",
    "    Returns the dataset and associated patient IDs.\n",
    "    \"\"\"\n",
    "    x_list, y_list, ids = [], [], []\n",
    "    for _, row in df.iterrows():\n",
    "        try:\n",
    "            vol = np.load(os.path.join(DATA_DIR, f\"{row['ProxID']}.npy\")).astype(np.float32)\n",
    "            is_clinsig = row['ClinSig'] == 1\n",
    "            vol = resize_volume(vol, shape, augment_flag=augment_clinsig and is_clinsig)\n",
    "            x_list.append(vol)\n",
    "            y_list.append(row['ClinSig'])\n",
    "            ids.append(row['ProxID'])\n",
    "        except Exception as e:\n",
    "            print(f\"[ERROR] Skipping {row['ProxID']}: {e}\")\n",
    "    x_tensor = torch.tensor(np.stack(x_list))\n",
    "    y_tensor = torch.tensor(y_list, dtype=torch.float32)\n",
    "    return TensorDataset(x_tensor, y_tensor), ids"
   ]
  },
  {
   "cell_type": "code",
   "execution_count": 101,
   "id": "ec1dd087-c917-4d28-9a70-b858549526c8",
   "metadata": {},
   "outputs": [],
   "source": [
    "\n",
    "# === Data prep ===\n",
    "df = pd.read_csv(FINDINGS_CSV)\n",
    "df = df.dropna(subset=['ClinSig'])\n",
    "df['ProxID'] = df['ProxID'].astype(str)\n",
    "df['ClinSig'] = df['ClinSig'].astype(int)\n",
    "df['ProxID'] = df['ProxID'].apply(lambda x: x if x.startswith(\"ProstateX-\") else f\"ProstateX-{x}\")\n",
    "available_ids = {f.replace(\".npy\", \"\") for f in os.listdir(DATA_DIR)}\n",
    "df = df[df['ProxID'].isin(available_ids)]\n"
   ]
  },
  {
   "cell_type": "code",
   "execution_count": 102,
   "id": "c95b5924-5e6c-4148-92cd-48dd96be024f",
   "metadata": {},
   "outputs": [
    {
     "name": "stdout",
     "output_type": "stream",
     "text": [
      "Train class distribution:\n",
      " ClinSig\n",
      "0    203\n",
      "1    122\n",
      "Name: count, dtype: int64\n",
      "Val class distribution:\n",
      " ClinSig\n",
      "0    51\n",
      "1    15\n",
      "Name: count, dtype: int64\n"
     ]
    }
   ],
   "source": [
    "# === Train/val split + duplicate ClinSig once ===\n",
    "train_df, val_df = train_test_split(df, test_size=0.2, stratify=df['ClinSig'], random_state=42)\n",
    "clinsig_df = train_df[train_df['ClinSig'] == 1]\n",
    "train_df = pd.concat([train_df, clinsig_df], ignore_index=True)\n",
    "\n",
    "# === Display counts ===\n",
    "print(\"Train class distribution:\\n\", train_df['ClinSig'].value_counts())\n",
    "print(\"Val class distribution:\\n\", val_df['ClinSig'].value_counts())\n",
    "\n",
    "# === Load Datasets ===\n",
    "train_data, _ = load_tensor_dataset(train_df, augment_clinsig=True)\n",
    "val_data, val_ids = load_tensor_dataset(val_df)\n",
    "train_loader = DataLoader(train_data, batch_size=BATCH_SIZE, shuffle=True)\n",
    "val_loader = DataLoader(val_data, batch_size=BATCH_SIZE, shuffle=False)"
   ]
  },
  {
   "cell_type": "markdown",
   "id": "b9d4d3d8-f183-4c2a-9e4d-c5d45750a531",
   "metadata": {},
   "source": [
    "A deep 3D CNN with batch normalization, dropout, and LeakyReLU activations, then trains it using focal loss and a learning rate scheduler. The model is optimised to handle class imbalance and learn robust features from volumetric prostate data."
   ]
  },
  {
   "cell_type": "code",
   "execution_count": 114,
   "id": "3c598dc6-3e54-46eb-8d03-263db6c1cd0d",
   "metadata": {},
   "outputs": [
    {
     "name": "stderr",
     "output_type": "stream",
     "text": [
      "Epoch 1/200: 100%|██████████| 82/82 [00:07<00:00, 11.44it/s]\n"
     ]
    },
    {
     "name": "stdout",
     "output_type": "stream",
     "text": [
      "Epoch 1 - Train Loss: 0.8429, Val Loss: 0.2941\n"
     ]
    },
    {
     "name": "stderr",
     "output_type": "stream",
     "text": [
      "Epoch 2/200: 100%|██████████| 82/82 [00:07<00:00, 11.42it/s]\n"
     ]
    },
    {
     "name": "stdout",
     "output_type": "stream",
     "text": [
      "Epoch 2 - Train Loss: 0.0865, Val Loss: 0.1167\n"
     ]
    },
    {
     "name": "stderr",
     "output_type": "stream",
     "text": [
      "Epoch 3/200: 100%|██████████| 82/82 [00:07<00:00, 11.32it/s]\n"
     ]
    },
    {
     "name": "stdout",
     "output_type": "stream",
     "text": [
      "Epoch 3 - Train Loss: 0.0632, Val Loss: 0.1091\n"
     ]
    },
    {
     "name": "stderr",
     "output_type": "stream",
     "text": [
      "Epoch 4/200: 100%|██████████| 82/82 [00:07<00:00, 11.37it/s]\n"
     ]
    },
    {
     "name": "stdout",
     "output_type": "stream",
     "text": [
      "Epoch 4 - Train Loss: 0.0506, Val Loss: 0.1316\n"
     ]
    },
    {
     "name": "stderr",
     "output_type": "stream",
     "text": [
      "Epoch 5/200: 100%|██████████| 82/82 [00:07<00:00, 11.35it/s]\n"
     ]
    },
    {
     "name": "stdout",
     "output_type": "stream",
     "text": [
      "Epoch 5 - Train Loss: 0.0514, Val Loss: 0.0889\n"
     ]
    },
    {
     "name": "stderr",
     "output_type": "stream",
     "text": [
      "Epoch 6/200: 100%|██████████| 82/82 [00:07<00:00, 11.30it/s]\n"
     ]
    },
    {
     "name": "stdout",
     "output_type": "stream",
     "text": [
      "Epoch 6 - Train Loss: 0.0438, Val Loss: 0.2081\n"
     ]
    },
    {
     "name": "stderr",
     "output_type": "stream",
     "text": [
      "Epoch 7/200: 100%|██████████| 82/82 [00:07<00:00, 11.16it/s]\n"
     ]
    },
    {
     "name": "stdout",
     "output_type": "stream",
     "text": [
      "Epoch 7 - Train Loss: 0.0653, Val Loss: 0.4255\n"
     ]
    },
    {
     "name": "stderr",
     "output_type": "stream",
     "text": [
      "Epoch 8/200: 100%|██████████| 82/82 [00:07<00:00, 11.29it/s]\n"
     ]
    },
    {
     "name": "stdout",
     "output_type": "stream",
     "text": [
      "Epoch 8 - Train Loss: 0.0697, Val Loss: 0.1262\n"
     ]
    },
    {
     "name": "stderr",
     "output_type": "stream",
     "text": [
      "Epoch 9/200: 100%|██████████| 82/82 [00:07<00:00, 11.17it/s]\n"
     ]
    },
    {
     "name": "stdout",
     "output_type": "stream",
     "text": [
      "Epoch 9 - Train Loss: 0.0394, Val Loss: 0.1576\n"
     ]
    },
    {
     "name": "stderr",
     "output_type": "stream",
     "text": [
      "Epoch 10/200: 100%|██████████| 82/82 [00:07<00:00, 11.24it/s]\n"
     ]
    },
    {
     "name": "stdout",
     "output_type": "stream",
     "text": [
      "Epoch 10 - Train Loss: 0.0363, Val Loss: 0.1712\n"
     ]
    },
    {
     "name": "stderr",
     "output_type": "stream",
     "text": [
      "Epoch 11/200: 100%|██████████| 82/82 [00:07<00:00, 10.81it/s]\n"
     ]
    },
    {
     "name": "stdout",
     "output_type": "stream",
     "text": [
      "Epoch 11 - Train Loss: 0.0434, Val Loss: 0.1608\n"
     ]
    },
    {
     "name": "stderr",
     "output_type": "stream",
     "text": [
      "Epoch 12/200: 100%|██████████| 82/82 [00:07<00:00, 11.11it/s]\n"
     ]
    },
    {
     "name": "stdout",
     "output_type": "stream",
     "text": [
      "Epoch 12 - Train Loss: 0.0341, Val Loss: 0.1602\n"
     ]
    },
    {
     "name": "stderr",
     "output_type": "stream",
     "text": [
      "Epoch 13/200: 100%|██████████| 82/82 [00:07<00:00, 11.29it/s]\n"
     ]
    },
    {
     "name": "stdout",
     "output_type": "stream",
     "text": [
      "Epoch 13 - Train Loss: 0.0269, Val Loss: 0.2178\n"
     ]
    },
    {
     "name": "stderr",
     "output_type": "stream",
     "text": [
      "Epoch 14/200: 100%|██████████| 82/82 [00:07<00:00, 11.40it/s]\n"
     ]
    },
    {
     "name": "stdout",
     "output_type": "stream",
     "text": [
      "Epoch 14 - Train Loss: 0.0270, Val Loss: 0.2302\n"
     ]
    },
    {
     "name": "stderr",
     "output_type": "stream",
     "text": [
      "Epoch 15/200: 100%|██████████| 82/82 [00:07<00:00, 11.36it/s]\n"
     ]
    },
    {
     "name": "stdout",
     "output_type": "stream",
     "text": [
      "Epoch 15 - Train Loss: 0.0190, Val Loss: 0.1911\n"
     ]
    },
    {
     "name": "stderr",
     "output_type": "stream",
     "text": [
      "Epoch 16/200: 100%|██████████| 82/82 [00:07<00:00, 11.32it/s]\n"
     ]
    },
    {
     "name": "stdout",
     "output_type": "stream",
     "text": [
      "Epoch 16 - Train Loss: 0.0190, Val Loss: 0.2941\n"
     ]
    },
    {
     "name": "stderr",
     "output_type": "stream",
     "text": [
      "Epoch 17/200: 100%|██████████| 82/82 [00:07<00:00, 11.08it/s]\n"
     ]
    },
    {
     "name": "stdout",
     "output_type": "stream",
     "text": [
      "Epoch 17 - Train Loss: 0.0242, Val Loss: 0.2343\n"
     ]
    },
    {
     "name": "stderr",
     "output_type": "stream",
     "text": [
      "Epoch 18/200: 100%|██████████| 82/82 [00:07<00:00, 11.26it/s]\n"
     ]
    },
    {
     "name": "stdout",
     "output_type": "stream",
     "text": [
      "Epoch 18 - Train Loss: 0.0212, Val Loss: 0.2738\n"
     ]
    },
    {
     "name": "stderr",
     "output_type": "stream",
     "text": [
      "Epoch 19/200: 100%|██████████| 82/82 [00:07<00:00, 11.16it/s]\n"
     ]
    },
    {
     "name": "stdout",
     "output_type": "stream",
     "text": [
      "Epoch 19 - Train Loss: 0.0183, Val Loss: 0.2763\n"
     ]
    },
    {
     "name": "stderr",
     "output_type": "stream",
     "text": [
      "Epoch 20/200: 100%|██████████| 82/82 [00:07<00:00, 11.09it/s]\n"
     ]
    },
    {
     "name": "stdout",
     "output_type": "stream",
     "text": [
      "Epoch 20 - Train Loss: 0.0219, Val Loss: 0.2593\n"
     ]
    },
    {
     "name": "stderr",
     "output_type": "stream",
     "text": [
      "Epoch 21/200: 100%|██████████| 82/82 [00:07<00:00, 11.20it/s]\n"
     ]
    },
    {
     "name": "stdout",
     "output_type": "stream",
     "text": [
      "Epoch 21 - Train Loss: 0.0207, Val Loss: 0.2238\n"
     ]
    },
    {
     "name": "stderr",
     "output_type": "stream",
     "text": [
      "Epoch 22/200: 100%|██████████| 82/82 [00:07<00:00, 11.19it/s]\n"
     ]
    },
    {
     "name": "stdout",
     "output_type": "stream",
     "text": [
      "Epoch 22 - Train Loss: 0.0175, Val Loss: 0.2829\n"
     ]
    },
    {
     "name": "stderr",
     "output_type": "stream",
     "text": [
      "Epoch 23/200: 100%|██████████| 82/82 [00:07<00:00, 11.34it/s]\n"
     ]
    },
    {
     "name": "stdout",
     "output_type": "stream",
     "text": [
      "Epoch 23 - Train Loss: 0.0182, Val Loss: 0.2395\n"
     ]
    },
    {
     "name": "stderr",
     "output_type": "stream",
     "text": [
      "Epoch 24/200: 100%|██████████| 82/82 [00:07<00:00, 11.37it/s]\n"
     ]
    },
    {
     "name": "stdout",
     "output_type": "stream",
     "text": [
      "Epoch 24 - Train Loss: 0.0158, Val Loss: 0.2514\n"
     ]
    },
    {
     "name": "stderr",
     "output_type": "stream",
     "text": [
      "Epoch 25/200: 100%|██████████| 82/82 [00:07<00:00, 11.47it/s]\n"
     ]
    },
    {
     "name": "stdout",
     "output_type": "stream",
     "text": [
      "Epoch 25 - Train Loss: 0.0167, Val Loss: 0.2394\n"
     ]
    },
    {
     "name": "stderr",
     "output_type": "stream",
     "text": [
      "Epoch 26/200: 100%|██████████| 82/82 [00:07<00:00, 11.35it/s]\n"
     ]
    },
    {
     "name": "stdout",
     "output_type": "stream",
     "text": [
      "Epoch 26 - Train Loss: 0.0145, Val Loss: 0.2693\n"
     ]
    },
    {
     "name": "stderr",
     "output_type": "stream",
     "text": [
      "Epoch 27/200: 100%|██████████| 82/82 [00:07<00:00, 11.37it/s]\n"
     ]
    },
    {
     "name": "stdout",
     "output_type": "stream",
     "text": [
      "Epoch 27 - Train Loss: 0.0154, Val Loss: 0.2486\n"
     ]
    },
    {
     "name": "stderr",
     "output_type": "stream",
     "text": [
      "Epoch 28/200: 100%|██████████| 82/82 [00:07<00:00, 11.31it/s]\n"
     ]
    },
    {
     "name": "stdout",
     "output_type": "stream",
     "text": [
      "Epoch 28 - Train Loss: 0.0177, Val Loss: 0.2680\n"
     ]
    },
    {
     "name": "stderr",
     "output_type": "stream",
     "text": [
      "Epoch 29/200: 100%|██████████| 82/82 [00:07<00:00, 11.40it/s]\n"
     ]
    },
    {
     "name": "stdout",
     "output_type": "stream",
     "text": [
      "Epoch 29 - Train Loss: 0.0181, Val Loss: 0.2575\n"
     ]
    },
    {
     "name": "stderr",
     "output_type": "stream",
     "text": [
      "Epoch 30/200: 100%|██████████| 82/82 [00:07<00:00, 11.39it/s]\n"
     ]
    },
    {
     "name": "stdout",
     "output_type": "stream",
     "text": [
      "Epoch 30 - Train Loss: 0.0181, Val Loss: 0.2685\n"
     ]
    },
    {
     "name": "stderr",
     "output_type": "stream",
     "text": [
      "Epoch 31/200: 100%|██████████| 82/82 [00:07<00:00, 11.45it/s]\n"
     ]
    },
    {
     "name": "stdout",
     "output_type": "stream",
     "text": [
      "Epoch 31 - Train Loss: 0.0167, Val Loss: 0.2532\n"
     ]
    },
    {
     "name": "stderr",
     "output_type": "stream",
     "text": [
      "Epoch 32/200: 100%|██████████| 82/82 [00:07<00:00, 11.34it/s]\n"
     ]
    },
    {
     "name": "stdout",
     "output_type": "stream",
     "text": [
      "Epoch 32 - Train Loss: 0.0153, Val Loss: 0.2686\n"
     ]
    },
    {
     "name": "stderr",
     "output_type": "stream",
     "text": [
      "Epoch 33/200: 100%|██████████| 82/82 [00:07<00:00, 11.38it/s]\n"
     ]
    },
    {
     "name": "stdout",
     "output_type": "stream",
     "text": [
      "Epoch 33 - Train Loss: 0.0190, Val Loss: 0.2746\n"
     ]
    },
    {
     "name": "stderr",
     "output_type": "stream",
     "text": [
      "Epoch 34/200: 100%|██████████| 82/82 [00:07<00:00, 11.40it/s]\n"
     ]
    },
    {
     "name": "stdout",
     "output_type": "stream",
     "text": [
      "Epoch 34 - Train Loss: 0.0152, Val Loss: 0.2930\n"
     ]
    },
    {
     "name": "stderr",
     "output_type": "stream",
     "text": [
      "Epoch 35/200: 100%|██████████| 82/82 [00:07<00:00, 11.39it/s]\n"
     ]
    },
    {
     "name": "stdout",
     "output_type": "stream",
     "text": [
      "Epoch 35 - Train Loss: 0.0174, Val Loss: 0.2611\n"
     ]
    },
    {
     "name": "stderr",
     "output_type": "stream",
     "text": [
      "Epoch 36/200: 100%|██████████| 82/82 [00:07<00:00, 11.36it/s]\n"
     ]
    },
    {
     "name": "stdout",
     "output_type": "stream",
     "text": [
      "Epoch 36 - Train Loss: 0.0150, Val Loss: 0.2283\n"
     ]
    },
    {
     "name": "stderr",
     "output_type": "stream",
     "text": [
      "Epoch 37/200: 100%|██████████| 82/82 [00:07<00:00, 11.43it/s]\n"
     ]
    },
    {
     "name": "stdout",
     "output_type": "stream",
     "text": [
      "Epoch 37 - Train Loss: 0.0197, Val Loss: 0.2398\n"
     ]
    },
    {
     "name": "stderr",
     "output_type": "stream",
     "text": [
      "Epoch 38/200: 100%|██████████| 82/82 [00:07<00:00, 11.38it/s]\n"
     ]
    },
    {
     "name": "stdout",
     "output_type": "stream",
     "text": [
      "Epoch 38 - Train Loss: 0.0163, Val Loss: 0.2602\n"
     ]
    },
    {
     "name": "stderr",
     "output_type": "stream",
     "text": [
      "Epoch 39/200: 100%|██████████| 82/82 [00:07<00:00, 11.39it/s]\n"
     ]
    },
    {
     "name": "stdout",
     "output_type": "stream",
     "text": [
      "Epoch 39 - Train Loss: 0.0162, Val Loss: 0.2822\n"
     ]
    },
    {
     "name": "stderr",
     "output_type": "stream",
     "text": [
      "Epoch 40/200: 100%|██████████| 82/82 [00:07<00:00, 11.44it/s]\n"
     ]
    },
    {
     "name": "stdout",
     "output_type": "stream",
     "text": [
      "Epoch 40 - Train Loss: 0.0180, Val Loss: 0.2733\n"
     ]
    },
    {
     "name": "stderr",
     "output_type": "stream",
     "text": [
      "Epoch 41/200: 100%|██████████| 82/82 [00:07<00:00, 11.32it/s]\n"
     ]
    },
    {
     "name": "stdout",
     "output_type": "stream",
     "text": [
      "Epoch 41 - Train Loss: 0.0238, Val Loss: 0.2911\n"
     ]
    },
    {
     "name": "stderr",
     "output_type": "stream",
     "text": [
      "Epoch 42/200: 100%|██████████| 82/82 [00:07<00:00, 11.30it/s]\n"
     ]
    },
    {
     "name": "stdout",
     "output_type": "stream",
     "text": [
      "Epoch 42 - Train Loss: 0.0161, Val Loss: 0.2953\n"
     ]
    },
    {
     "name": "stderr",
     "output_type": "stream",
     "text": [
      "Epoch 43/200: 100%|██████████| 82/82 [00:07<00:00, 11.25it/s]\n"
     ]
    },
    {
     "name": "stdout",
     "output_type": "stream",
     "text": [
      "Epoch 43 - Train Loss: 0.0163, Val Loss: 0.2543\n"
     ]
    },
    {
     "name": "stderr",
     "output_type": "stream",
     "text": [
      "Epoch 44/200: 100%|██████████| 82/82 [00:07<00:00, 11.43it/s]\n"
     ]
    },
    {
     "name": "stdout",
     "output_type": "stream",
     "text": [
      "Epoch 44 - Train Loss: 0.0153, Val Loss: 0.2708\n"
     ]
    },
    {
     "name": "stderr",
     "output_type": "stream",
     "text": [
      "Epoch 45/200: 100%|██████████| 82/82 [00:07<00:00, 11.40it/s]\n"
     ]
    },
    {
     "name": "stdout",
     "output_type": "stream",
     "text": [
      "Epoch 45 - Train Loss: 0.0177, Val Loss: 0.2486\n"
     ]
    },
    {
     "name": "stderr",
     "output_type": "stream",
     "text": [
      "Epoch 46/200: 100%|██████████| 82/82 [00:07<00:00, 11.41it/s]\n"
     ]
    },
    {
     "name": "stdout",
     "output_type": "stream",
     "text": [
      "Epoch 46 - Train Loss: 0.0179, Val Loss: 0.2580\n"
     ]
    },
    {
     "name": "stderr",
     "output_type": "stream",
     "text": [
      "Epoch 47/200: 100%|██████████| 82/82 [00:07<00:00, 11.35it/s]\n"
     ]
    },
    {
     "name": "stdout",
     "output_type": "stream",
     "text": [
      "Epoch 47 - Train Loss: 0.0185, Val Loss: 0.2718\n"
     ]
    },
    {
     "name": "stderr",
     "output_type": "stream",
     "text": [
      "Epoch 48/200: 100%|██████████| 82/82 [00:07<00:00, 11.52it/s]\n"
     ]
    },
    {
     "name": "stdout",
     "output_type": "stream",
     "text": [
      "Epoch 48 - Train Loss: 0.0154, Val Loss: 0.2550\n"
     ]
    },
    {
     "name": "stderr",
     "output_type": "stream",
     "text": [
      "Epoch 49/200: 100%|██████████| 82/82 [00:07<00:00, 11.39it/s]\n"
     ]
    },
    {
     "name": "stdout",
     "output_type": "stream",
     "text": [
      "Epoch 49 - Train Loss: 0.0161, Val Loss: 0.2558\n"
     ]
    },
    {
     "name": "stderr",
     "output_type": "stream",
     "text": [
      "Epoch 50/200: 100%|██████████| 82/82 [00:07<00:00, 11.50it/s]\n"
     ]
    },
    {
     "name": "stdout",
     "output_type": "stream",
     "text": [
      "Epoch 50 - Train Loss: 0.0179, Val Loss: 0.2908\n"
     ]
    },
    {
     "name": "stderr",
     "output_type": "stream",
     "text": [
      "Epoch 51/200: 100%|██████████| 82/82 [00:07<00:00, 11.50it/s]\n"
     ]
    },
    {
     "name": "stdout",
     "output_type": "stream",
     "text": [
      "Epoch 51 - Train Loss: 0.0156, Val Loss: 0.2864\n"
     ]
    },
    {
     "name": "stderr",
     "output_type": "stream",
     "text": [
      "Epoch 52/200: 100%|██████████| 82/82 [00:07<00:00, 11.55it/s]\n"
     ]
    },
    {
     "name": "stdout",
     "output_type": "stream",
     "text": [
      "Epoch 52 - Train Loss: 0.0178, Val Loss: 0.2935\n"
     ]
    },
    {
     "name": "stderr",
     "output_type": "stream",
     "text": [
      "Epoch 53/200: 100%|██████████| 82/82 [00:07<00:00, 11.52it/s]\n"
     ]
    },
    {
     "name": "stdout",
     "output_type": "stream",
     "text": [
      "Epoch 53 - Train Loss: 0.0184, Val Loss: 0.2787\n"
     ]
    },
    {
     "name": "stderr",
     "output_type": "stream",
     "text": [
      "Epoch 54/200: 100%|██████████| 82/82 [00:07<00:00, 11.53it/s]\n"
     ]
    },
    {
     "name": "stdout",
     "output_type": "stream",
     "text": [
      "Epoch 54 - Train Loss: 0.0165, Val Loss: 0.2526\n"
     ]
    },
    {
     "name": "stderr",
     "output_type": "stream",
     "text": [
      "Epoch 55/200: 100%|██████████| 82/82 [00:07<00:00, 11.53it/s]\n"
     ]
    },
    {
     "name": "stdout",
     "output_type": "stream",
     "text": [
      "Epoch 55 - Train Loss: 0.0187, Val Loss: 0.2870\n",
      "Early stopping at epoch 55\n",
      " Model saved to C:\\Users\\anude\\Downloads\\project\\prostate_cnn_model_3DCNN.pth\n"
     ]
    },
    {
     "data": {
      "image/png": "[encoded data removed]",
      "text/plain": [
       "<Figure size 1000x500 with 1 Axes>"
      ]
     },
     "metadata": {},
     "output_type": "display_data"
    }
   ],
   "source": [
    "# === Deep CNN Model ===\n",
    "model = nn.Sequential(\n",
    "    nn.Conv3d(3, 16, 3, padding=1), nn.BatchNorm3d(16), nn.LeakyReLU(),\n",
    "    nn.Conv3d(16, 32, 3, padding=1), nn.BatchNorm3d(32), nn.LeakyReLU(),\n",
    "    nn.MaxPool3d(2),\n",
    "    nn.Conv3d(32, 64, 3, padding=1), nn.BatchNorm3d(64), nn.LeakyReLU(),\n",
    "    nn.MaxPool3d(2),\n",
    "    nn.Flatten(),\n",
    "    nn.Dropout(0.2),\n",
    "    nn.Linear(64 * 16 * 16 * 16, 256), nn.LeakyReLU(),\n",
    "    nn.Dropout(0.2),\n",
    "    nn.Linear(256, 1)\n",
    ").to(DEVICE)\n",
    "\n",
    "# === Optimizer and Scheduler ===\n",
    "optimizer = optim.Adam(model.parameters(), lr=LR) # Adam optimizer for adaptive learning\n",
    "scheduler = optim.lr_scheduler.ReduceLROnPlateau(optimizer, mode='min', patience=2, factor=0.5) # Reduce LR on plateau\n",
    "\n",
    "# === Early Stopping Setup ===\n",
    "best_val_loss = float('inf')\n",
    "epochs_without_improvement = 0\n",
    "patience = 50\n",
    "\n",
    "train_losses = []\n",
    "val_losses = []\n",
    "# === Training Loop ===\n",
    "for epoch in range(EPOCHS):\n",
    "    model.train()\n",
    "    total_train_loss = 0\n",
    "    for x_batch, y_batch in tqdm(train_loader, desc=f\"Epoch {epoch+1}/{EPOCHS}\"):\n",
    "        x_batch, y_batch = x_batch.to(DEVICE), y_batch.to(DEVICE)\n",
    "        optimizer.zero_grad()\n",
    "        logits = model(x_batch).squeeze(dim=-1)\n",
    "        loss = focal_loss(logits, y_batch)  # Using Focal Loss to handle class imbalance\n",
    "        loss.backward()\n",
    "        optimizer.step()\n",
    "        total_train_loss  += loss.item()\n",
    "    train_losses.append(total_train_loss / len(train_loader))\n",
    "    # === Validation Phase ===\n",
    "    model.eval()\n",
    "    total_val_loss = 0\n",
    "    with torch.no_grad():\n",
    "        for x_val, y_val in val_loader:\n",
    "            x_val, y_val = x_val.to(DEVICE), y_val.to(DEVICE)\n",
    "            val_logits = model(x_val).squeeze(dim=-1)\n",
    "            val_loss = focal_loss(val_logits, y_val)\n",
    "            total_val_loss += val_loss.item()\n",
    "    avg_val_loss = total_val_loss / len(val_loader)\n",
    "    val_losses.append(avg_val_loss)\n",
    "    print(f\"Epoch {epoch+1} - Train Loss: {train_losses[-1]:.4f}, Val Loss: {avg_val_loss:.4f}\")\n",
    "    scheduler.step(avg_val_loss)\n",
    "    \n",
    "    # === Check for Early Stopping ===\n",
    "    if avg_val_loss < best_val_loss:\n",
    "        best_val_loss = avg_val_loss\n",
    "        epochs_without_improvement = 0\n",
    "        best_model_path = r\"C:\\Users\\anude\\Downloads\\project\\best_prostate_3dcnn.pth\"\n",
    "        torch.save(model.state_dict(),best_model_path )\n",
    "    else:\n",
    "        epochs_without_improvement += 1\n",
    "        if epochs_without_improvement >= patience:\n",
    "            print(f\"Early stopping at epoch {epoch+1}\")\n",
    "            break\n",
    "\n",
    "# === Save Final Trained Model ===\n",
    "MODEL_PATH = r\"C:\\Users\\anude\\Downloads\\project\\prostate_cnn_model_3DCNN.pth\"\n",
    "torch.save(model.state_dict(), MODEL_PATH)\n",
    "print(f\" Model saved to {MODEL_PATH}\")\n",
    "\n",
    "\n",
    "# === Plot Training and Validation Loss Curves ===\n",
    "plt.figure(figsize=(10, 5))\n",
    "plt.plot(train_losses, label=\"Train Loss\")\n",
    "plt.plot(val_losses, label=\"Validation Loss\")\n",
    "plt.xlabel(\"Epoch\")\n",
    "plt.ylabel(\"Loss\")\n",
    "plt.title(\"3D CNN Training & Validation Loss\")\n",
    "plt.legend()\n",
    "plt.grid(True)\n",
    "plt.tight_layout()\n",
    "plt.savefig(\"loss_curve_3dcnn.png\")\n",
    "plt.show()"
   ]
  },
  {
   "cell_type": "markdown",
   "id": "9f8fcef7-806c-4690-a0f6-85f037795233",
   "metadata": {},
   "source": [
    "Evaluates the final and best model on the validation set using sigmoid-based thresholding and prints a classification report, displays example predictions."
   ]
  },
  {
   "cell_type": "code",
   "execution_count": 116,
   "id": "64107ccc-ef8a-4f9e-a70e-61fa0e627513",
   "metadata": {},
   "outputs": [
    {
     "name": "stdout",
     "output_type": "stream",
     "text": [
      "\n",
      " Final Evaluation Report:\n",
      "              precision    recall  f1-score   support\n",
      "\n",
      " Not ClinSig       0.78      0.75      0.76        51\n",
      "     ClinSig       0.24      0.27      0.25        15\n",
      "\n",
      "    accuracy                           0.64        66\n",
      "   macro avg       0.51      0.51      0.51        66\n",
      "weighted avg       0.65      0.64      0.64        66\n",
      "\n",
      "\n",
      " Sample Predictions:\n",
      "ProstateX-0190: Predicted=1, Actual=0\n",
      "ProstateX-0052: Predicted=1, Actual=0\n",
      "ProstateX-0012: Predicted=0, Actual=0\n",
      "ProstateX-0160: Predicted=0, Actual=0\n",
      "ProstateX-0065: Predicted=0, Actual=0\n",
      "ProstateX-0079: Predicted=0, Actual=0\n",
      "ProstateX-0088: Predicted=1, Actual=0\n",
      "ProstateX-0021: Predicted=0, Actual=0\n",
      "ProstateX-0136: Predicted=0, Actual=0\n",
      "ProstateX-0110: Predicted=0, Actual=0\n"
     ]
    },
    {
     "data": {
      "text/plain": [
       "<Figure size 500x400 with 0 Axes>"
      ]
     },
     "metadata": {},
     "output_type": "display_data"
    },
    {
     "data": {
      "image/png": "[encoded data removed]",
      "text/plain": [
       "<Figure size 640x480 with 2 Axes>"
      ]
     },
     "metadata": {},
     "output_type": "display_data"
    }
   ],
   "source": [
    "# === Load Saved Model ===\n",
    "MODEL_PATH = r\"C:\\Users\\anude\\Downloads\\project\\prostate_cnn_model_3DCNN.pth\"\n",
    "model.load_state_dict(torch.load(MODEL_PATH, map_location=DEVICE))\n",
    "model.to(DEVICE)\n",
    "model.eval()\n",
    "\n",
    "\n",
    "all_preds, all_labels, all_proxids = [], [], []\n",
    "index = 0\n",
    "\n",
    "with torch.no_grad():\n",
    "    for x_batch, y_batch in val_loader:\n",
    "        x_batch = x_batch.to(DEVICE)\n",
    "        logits = model(x_batch).squeeze()\n",
    "        probs = torch.sigmoid(logits).cpu().numpy()\n",
    "        preds = (probs > THRESHOLD).astype(int)\n",
    "        preds = np.atleast_1d(preds)\n",
    "        y_batch = y_batch.numpy()\n",
    "        for i in range(len(preds)):\n",
    "            prox_id = val_ids[index]\n",
    "            all_proxids.append(prox_id)\n",
    "            all_preds.append(int(preds[i]))\n",
    "            all_labels.append(int(y_batch[i]))\n",
    "            index += 1\n",
    "\n",
    "# === Report ===\n",
    "print(\"\\n Final Evaluation Report:\")\n",
    "print(classification_report(all_labels, all_preds, target_names=[\"Not ClinSig\", \"ClinSig\"], zero_division=0))\n",
    "\n",
    "print(\"\\n Sample Predictions:\")\n",
    "for pid, pred, label in zip(all_proxids[:10], all_preds[:10], all_labels[:10]):\n",
    "    print(f\"{pid}: Predicted={pred}, Actual={label}\")\n",
    "\n",
    "# === Confusion Matrix ===\n",
    "cm = confusion_matrix(all_labels, all_preds, labels=[0, 1])\n",
    "disp = ConfusionMatrixDisplay(confusion_matrix=cm, display_labels=[\"Not ClinSig\", \"ClinSig\"])\n",
    "plt.figure(figsize=(5, 4))\n",
    "disp.plot(cmap=plt.cm.Blues, values_format='d')\n",
    "plt.title(\"Confusion Matrix\")\n",
    "plt.tight_layout()\n",
    "plt.show()"
   ]
  },
  {
   "cell_type": "code",
   "execution_count": 117,
   "id": "ceff9953-77f1-4ac4-949a-ae5d0c7135c3",
   "metadata": {},
   "outputs": [
    {
     "name": "stdout",
     "output_type": "stream",
     "text": [
      "\n",
      " Final Evaluation Report:\n",
      "              precision    recall  f1-score   support\n",
      "\n",
      " Not ClinSig       0.76      0.76      0.76        51\n",
      "     ClinSig       0.20      0.20      0.20        15\n",
      "\n",
      "    accuracy                           0.64        66\n",
      "   macro avg       0.48      0.48      0.48        66\n",
      "weighted avg       0.64      0.64      0.64        66\n",
      "\n",
      "\n",
      " Sample Predictions:\n",
      "ProstateX-0190: Predicted=1, Actual=0\n",
      "ProstateX-0052: Predicted=1, Actual=0\n",
      "ProstateX-0012: Predicted=0, Actual=0\n",
      "ProstateX-0160: Predicted=0, Actual=0\n",
      "ProstateX-0065: Predicted=0, Actual=0\n",
      "ProstateX-0079: Predicted=0, Actual=0\n",
      "ProstateX-0088: Predicted=1, Actual=0\n",
      "ProstateX-0021: Predicted=1, Actual=0\n",
      "ProstateX-0136: Predicted=0, Actual=0\n",
      "ProstateX-0110: Predicted=0, Actual=0\n"
     ]
    },
    {
     "data": {
      "text/plain": [
       "<Figure size 500x400 with 0 Axes>"
      ]
     },
     "metadata": {},
     "output_type": "display_data"
    },
    {
     "data": {
      "image/png": "[encoded data removed]",
      "text/plain": [
       "<Figure size 640x480 with 2 Axes>"
      ]
     },
     "metadata": {},
     "output_type": "display_data"
    }
   ],
   "source": [
    "# === Load Saved Model ===\n",
    "MODEL_PATH = r\"C:\\Users\\anude\\Downloads\\project\\best_prostate_3dcnn.pth\"\n",
    "model.load_state_dict(torch.load(MODEL_PATH, map_location=DEVICE))\n",
    "model.to(DEVICE)\n",
    "model.eval()\n",
    "\n",
    "\n",
    "all_preds, all_labels, all_proxids = [], [], []\n",
    "index = 0\n",
    "\n",
    "with torch.no_grad():\n",
    "    for x_batch, y_batch in val_loader:\n",
    "        x_batch = x_batch.to(DEVICE)\n",
    "        logits = model(x_batch).squeeze()\n",
    "        probs = torch.sigmoid(logits).cpu().numpy()\n",
    "        preds = (probs > THRESHOLD).astype(int)\n",
    "        preds = np.atleast_1d(preds)\n",
    "        y_batch = y_batch.numpy()\n",
    "        for i in range(len(preds)):\n",
    "            prox_id = val_ids[index]\n",
    "            all_proxids.append(prox_id)\n",
    "            all_preds.append(int(preds[i]))\n",
    "            all_labels.append(int(y_batch[i]))\n",
    "            index += 1\n",
    "\n",
    "# === Report ===\n",
    "print(\"\\n Final Evaluation Report:\")\n",
    "print(classification_report(all_labels, all_preds, target_names=[\"Not ClinSig\", \"ClinSig\"], zero_division=0))\n",
    "\n",
    "print(\"\\n Sample Predictions:\")\n",
    "for pid, pred, label in zip(all_proxids[:10], all_preds[:10], all_labels[:10]):\n",
    "    print(f\"{pid}: Predicted={pred}, Actual={label}\")\n",
    "\n",
    "# === Confusion Matrix ===\n",
    "cm = confusion_matrix(all_labels, all_preds, labels=[0, 1])\n",
    "disp = ConfusionMatrixDisplay(confusion_matrix=cm, display_labels=[\"Not ClinSig\", \"ClinSig\"])\n",
    "plt.figure(figsize=(5, 4))\n",
    "disp.plot(cmap=plt.cm.Blues, values_format='d')\n",
    "plt.title(\"Confusion Matrix\")\n",
    "plt.tight_layout()\n",
    "plt.show()"
   ]
  }
 ],
 "metadata": {
  "kernelspec": {
   "display_name": "Python [conda env:base] *",
   "language": "python",
   "name": "conda-base-py"
  },
  "language_info": {
   "codemirror_mode": {
    "name": "ipython",
    "version": 3
   },
   "file_extension": ".py",
   "mimetype": "text/x-python",
   "name": "python",
   "nbconvert_exporter": "python",
   "pygments_lexer": "ipython3",
   "version": "3.12.7"
  }
 },
 "nbformat": 4,
 "nbformat_minor": 5
}
