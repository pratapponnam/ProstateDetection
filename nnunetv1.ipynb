{
  "nbformat": 4,
  "nbformat_minor": 0,
  "metadata": {
    "colab": {
      "provenance": [],
      "gpuType": "T4",
      "authorship_tag": "ABX9TyNvC8BrtXYah0NFZF1MXsLP",
      "include_colab_link": true
    },
    "kernelspec": {
      "name": "python3",
      "display_name": "Python 3"
    },
    "language_info": {
      "name": "python"
    },
    "accelerator": "GPU"
  },
  "cells": [
    {
      "cell_type": "markdown",
      "metadata": {
        "id": "view-in-github",
        "colab_type": "text"
      },
      "source": [
        "<a href=\"https://colab.research.google.com/github/pratapponnam/ProstateDetection/blob/main/nnunetv1.ipynb\" target=\"_parent\"><img src=\"https://colab.research.google.com/assets/colab-badge.svg\" alt=\"Open In Colab\"/></a>"
      ]
    },
    {
      "cell_type": "code",
      "execution_count": 4,
      "metadata": {
        "colab": {
          "base_uri": "https://localhost:8080/",
          "height": 1000
        },
        "id": "mH1uu-80J-M7",
        "outputId": "c8e34f7b-b04a-4472-b4bf-6d399843aeb1"
      },
      "outputs": [
        {
          "output_type": "stream",
          "name": "stdout",
          "text": [
            "Collecting nnunet\n",
            "  Downloading nnunet-1.7.1.tar.gz (276 kB)\n",
            "\u001b[2K     \u001b[90m━━━━━━━━━━━━━━━━━━━━━━━━━━━━━━━━━━━━━━━━\u001b[0m \u001b[32m276.6/276.6 kB\u001b[0m \u001b[31m8.8 MB/s\u001b[0m eta \u001b[36m0:00:00\u001b[0m\n",
            "\u001b[?25h  Preparing metadata (setup.py) ... \u001b[?25l\u001b[?25hdone\n",
            "Requirement already satisfied: torch>1.10.0 in /usr/local/lib/python3.11/dist-packages (from nnunet) (2.6.0+cu124)\n",
            "Requirement already satisfied: tqdm in /usr/local/lib/python3.11/dist-packages (from nnunet) (4.67.1)\n",
            "Collecting dicom2nifti (from nnunet)\n",
            "  Downloading dicom2nifti-2.5.1-py3-none-any.whl.metadata (1.3 kB)\n",
            "Requirement already satisfied: scikit-image>=0.14 in /usr/local/lib/python3.11/dist-packages (from nnunet) (0.25.2)\n",
            "Collecting medpy (from nnunet)\n",
            "  Downloading medpy-0.5.2.tar.gz (156 kB)\n",
            "\u001b[2K     \u001b[90m━━━━━━━━━━━━━━━━━━━━━━━━━━━━━━━━━━━━━━━━\u001b[0m \u001b[32m156.3/156.3 kB\u001b[0m \u001b[31m15.9 MB/s\u001b[0m eta \u001b[36m0:00:00\u001b[0m\n",
            "\u001b[?25h  Preparing metadata (setup.py) ... \u001b[?25l\u001b[?25hdone\n",
            "Requirement already satisfied: scipy in /usr/local/lib/python3.11/dist-packages (from nnunet) (1.14.1)\n",
            "Collecting batchgenerators>=0.23 (from nnunet)\n",
            "  Downloading batchgenerators-0.25.1.tar.gz (76 kB)\n",
            "\u001b[2K     \u001b[90m━━━━━━━━━━━━━━━━━━━━━━━━━━━━━━━━━━━━━━━━\u001b[0m \u001b[32m77.0/77.0 kB\u001b[0m \u001b[31m6.8 MB/s\u001b[0m eta \u001b[36m0:00:00\u001b[0m\n",
            "\u001b[?25h  Preparing metadata (setup.py) ... \u001b[?25l\u001b[?25hdone\n",
            "Requirement already satisfied: numpy in /usr/local/lib/python3.11/dist-packages (from nnunet) (2.0.2)\n",
            "Requirement already satisfied: scikit-learn in /usr/local/lib/python3.11/dist-packages (from nnunet) (1.6.1)\n",
            "Collecting SimpleITK (from nnunet)\n",
            "  Downloading SimpleITK-2.4.1-cp311-abi3-manylinux_2_17_x86_64.manylinux2014_x86_64.whl.metadata (7.9 kB)\n",
            "Requirement already satisfied: pandas in /usr/local/lib/python3.11/dist-packages (from nnunet) (2.2.2)\n",
            "Requirement already satisfied: requests in /usr/local/lib/python3.11/dist-packages (from nnunet) (2.32.3)\n",
            "Requirement already satisfied: nibabel in /usr/local/lib/python3.11/dist-packages (from nnunet) (5.3.2)\n",
            "Requirement already satisfied: tifffile in /usr/local/lib/python3.11/dist-packages (from nnunet) (2025.3.13)\n",
            "Requirement already satisfied: matplotlib in /usr/local/lib/python3.11/dist-packages (from nnunet) (3.10.0)\n",
            "Requirement already satisfied: pillow>=7.1.2 in /usr/local/lib/python3.11/dist-packages (from batchgenerators>=0.23->nnunet) (11.1.0)\n",
            "Requirement already satisfied: future in /usr/local/lib/python3.11/dist-packages (from batchgenerators>=0.23->nnunet) (1.0.0)\n",
            "Collecting unittest2 (from batchgenerators>=0.23->nnunet)\n",
            "  Downloading unittest2-1.1.0-py2.py3-none-any.whl.metadata (15 kB)\n",
            "Requirement already satisfied: threadpoolctl in /usr/local/lib/python3.11/dist-packages (from batchgenerators>=0.23->nnunet) (3.6.0)\n",
            "Requirement already satisfied: networkx>=3.0 in /usr/local/lib/python3.11/dist-packages (from scikit-image>=0.14->nnunet) (3.4.2)\n",
            "Requirement already satisfied: imageio!=2.35.0,>=2.33 in /usr/local/lib/python3.11/dist-packages (from scikit-image>=0.14->nnunet) (2.37.0)\n",
            "Requirement already satisfied: packaging>=21 in /usr/local/lib/python3.11/dist-packages (from scikit-image>=0.14->nnunet) (24.2)\n",
            "Requirement already satisfied: lazy-loader>=0.4 in /usr/local/lib/python3.11/dist-packages (from scikit-image>=0.14->nnunet) (0.4)\n",
            "Requirement already satisfied: filelock in /usr/local/lib/python3.11/dist-packages (from torch>1.10.0->nnunet) (3.18.0)\n",
            "Requirement already satisfied: typing-extensions>=4.10.0 in /usr/local/lib/python3.11/dist-packages (from torch>1.10.0->nnunet) (4.12.2)\n",
            "Requirement already satisfied: jinja2 in /usr/local/lib/python3.11/dist-packages (from torch>1.10.0->nnunet) (3.1.6)\n",
            "Requirement already satisfied: fsspec in /usr/local/lib/python3.11/dist-packages (from torch>1.10.0->nnunet) (2025.3.0)\n",
            "Collecting nvidia-cuda-nvrtc-cu12==12.4.127 (from torch>1.10.0->nnunet)\n",
            "  Downloading nvidia_cuda_nvrtc_cu12-12.4.127-py3-none-manylinux2014_x86_64.whl.metadata (1.5 kB)\n",
            "Collecting nvidia-cuda-runtime-cu12==12.4.127 (from torch>1.10.0->nnunet)\n",
            "  Downloading nvidia_cuda_runtime_cu12-12.4.127-py3-none-manylinux2014_x86_64.whl.metadata (1.5 kB)\n",
            "Collecting nvidia-cuda-cupti-cu12==12.4.127 (from torch>1.10.0->nnunet)\n",
            "  Downloading nvidia_cuda_cupti_cu12-12.4.127-py3-none-manylinux2014_x86_64.whl.metadata (1.6 kB)\n",
            "Collecting nvidia-cudnn-cu12==9.1.0.70 (from torch>1.10.0->nnunet)\n",
            "  Downloading nvidia_cudnn_cu12-9.1.0.70-py3-none-manylinux2014_x86_64.whl.metadata (1.6 kB)\n",
            "Collecting nvidia-cublas-cu12==12.4.5.8 (from torch>1.10.0->nnunet)\n",
            "  Downloading nvidia_cublas_cu12-12.4.5.8-py3-none-manylinux2014_x86_64.whl.metadata (1.5 kB)\n",
            "Collecting nvidia-cufft-cu12==11.2.1.3 (from torch>1.10.0->nnunet)\n",
            "  Downloading nvidia_cufft_cu12-11.2.1.3-py3-none-manylinux2014_x86_64.whl.metadata (1.5 kB)\n",
            "Collecting nvidia-curand-cu12==10.3.5.147 (from torch>1.10.0->nnunet)\n",
            "  Downloading nvidia_curand_cu12-10.3.5.147-py3-none-manylinux2014_x86_64.whl.metadata (1.5 kB)\n",
            "Collecting nvidia-cusolver-cu12==11.6.1.9 (from torch>1.10.0->nnunet)\n",
            "  Downloading nvidia_cusolver_cu12-11.6.1.9-py3-none-manylinux2014_x86_64.whl.metadata (1.6 kB)\n",
            "Collecting nvidia-cusparse-cu12==12.3.1.170 (from torch>1.10.0->nnunet)\n",
            "  Downloading nvidia_cusparse_cu12-12.3.1.170-py3-none-manylinux2014_x86_64.whl.metadata (1.6 kB)\n",
            "Requirement already satisfied: nvidia-cusparselt-cu12==0.6.2 in /usr/local/lib/python3.11/dist-packages (from torch>1.10.0->nnunet) (0.6.2)\n",
            "Requirement already satisfied: nvidia-nccl-cu12==2.21.5 in /usr/local/lib/python3.11/dist-packages (from torch>1.10.0->nnunet) (2.21.5)\n",
            "Requirement already satisfied: nvidia-nvtx-cu12==12.4.127 in /usr/local/lib/python3.11/dist-packages (from torch>1.10.0->nnunet) (12.4.127)\n",
            "Collecting nvidia-nvjitlink-cu12==12.4.127 (from torch>1.10.0->nnunet)\n",
            "  Downloading nvidia_nvjitlink_cu12-12.4.127-py3-none-manylinux2014_x86_64.whl.metadata (1.5 kB)\n",
            "Requirement already satisfied: triton==3.2.0 in /usr/local/lib/python3.11/dist-packages (from torch>1.10.0->nnunet) (3.2.0)\n",
            "Requirement already satisfied: sympy==1.13.1 in /usr/local/lib/python3.11/dist-packages (from torch>1.10.0->nnunet) (1.13.1)\n",
            "Requirement already satisfied: mpmath<1.4,>=1.1.0 in /usr/local/lib/python3.11/dist-packages (from sympy==1.13.1->torch>1.10.0->nnunet) (1.3.0)\n",
            "Collecting pydicom>=2.2.0 (from dicom2nifti->nnunet)\n",
            "  Downloading pydicom-3.0.1-py3-none-any.whl.metadata (9.4 kB)\n",
            "Collecting python-gdcm (from dicom2nifti->nnunet)\n",
            "  Downloading python_gdcm-3.0.24.1-cp311-cp311-manylinux_2_17_x86_64.manylinux2014_x86_64.whl.metadata (3.7 kB)\n",
            "Requirement already satisfied: contourpy>=1.0.1 in /usr/local/lib/python3.11/dist-packages (from matplotlib->nnunet) (1.3.1)\n",
            "Requirement already satisfied: cycler>=0.10 in /usr/local/lib/python3.11/dist-packages (from matplotlib->nnunet) (0.12.1)\n",
            "Requirement already satisfied: fonttools>=4.22.0 in /usr/local/lib/python3.11/dist-packages (from matplotlib->nnunet) (4.56.0)\n",
            "Requirement already satisfied: kiwisolver>=1.3.1 in /usr/local/lib/python3.11/dist-packages (from matplotlib->nnunet) (1.4.8)\n",
            "Requirement already satisfied: pyparsing>=2.3.1 in /usr/local/lib/python3.11/dist-packages (from matplotlib->nnunet) (3.2.1)\n",
            "Requirement already satisfied: python-dateutil>=2.7 in /usr/local/lib/python3.11/dist-packages (from matplotlib->nnunet) (2.8.2)\n",
            "Requirement already satisfied: importlib-resources>=5.12 in /usr/local/lib/python3.11/dist-packages (from nibabel->nnunet) (6.5.2)\n",
            "Requirement already satisfied: pytz>=2020.1 in /usr/local/lib/python3.11/dist-packages (from pandas->nnunet) (2025.1)\n",
            "Requirement already satisfied: tzdata>=2022.7 in /usr/local/lib/python3.11/dist-packages (from pandas->nnunet) (2025.1)\n",
            "Requirement already satisfied: charset-normalizer<4,>=2 in /usr/local/lib/python3.11/dist-packages (from requests->nnunet) (3.4.1)\n",
            "Requirement already satisfied: idna<4,>=2.5 in /usr/local/lib/python3.11/dist-packages (from requests->nnunet) (3.10)\n",
            "Requirement already satisfied: urllib3<3,>=1.21.1 in /usr/local/lib/python3.11/dist-packages (from requests->nnunet) (2.3.0)\n",
            "Requirement already satisfied: certifi>=2017.4.17 in /usr/local/lib/python3.11/dist-packages (from requests->nnunet) (2025.1.31)\n",
            "Requirement already satisfied: joblib>=1.2.0 in /usr/local/lib/python3.11/dist-packages (from scikit-learn->nnunet) (1.4.2)\n",
            "Requirement already satisfied: six>=1.5 in /usr/local/lib/python3.11/dist-packages (from python-dateutil>=2.7->matplotlib->nnunet) (1.17.0)\n",
            "Requirement already satisfied: MarkupSafe>=2.0 in /usr/local/lib/python3.11/dist-packages (from jinja2->torch>1.10.0->nnunet) (3.0.2)\n",
            "Collecting argparse (from unittest2->batchgenerators>=0.23->nnunet)\n",
            "  Downloading argparse-1.4.0-py2.py3-none-any.whl.metadata (2.8 kB)\n",
            "Collecting traceback2 (from unittest2->batchgenerators>=0.23->nnunet)\n",
            "  Downloading traceback2-1.4.0-py2.py3-none-any.whl.metadata (1.5 kB)\n",
            "Collecting linecache2 (from traceback2->unittest2->batchgenerators>=0.23->nnunet)\n",
            "  Downloading linecache2-1.0.0-py2.py3-none-any.whl.metadata (1000 bytes)\n",
            "Downloading nvidia_cublas_cu12-12.4.5.8-py3-none-manylinux2014_x86_64.whl (363.4 MB)\n",
            "\u001b[2K   \u001b[90m━━━━━━━━━━━━━━━━━━━━━━━━━━━━━━━━━━━━━━━━\u001b[0m \u001b[32m363.4/363.4 MB\u001b[0m \u001b[31m4.5 MB/s\u001b[0m eta \u001b[36m0:00:00\u001b[0m\n",
            "\u001b[?25hDownloading nvidia_cuda_cupti_cu12-12.4.127-py3-none-manylinux2014_x86_64.whl (13.8 MB)\n",
            "\u001b[2K   \u001b[90m━━━━━━━━━━━━━━━━━━━━━━━━━━━━━━━━━━━━━━━━\u001b[0m \u001b[32m13.8/13.8 MB\u001b[0m \u001b[31m87.7 MB/s\u001b[0m eta \u001b[36m0:00:00\u001b[0m\n",
            "\u001b[?25hDownloading nvidia_cuda_nvrtc_cu12-12.4.127-py3-none-manylinux2014_x86_64.whl (24.6 MB)\n",
            "\u001b[2K   \u001b[90m━━━━━━━━━━━━━━━━━━━━━━━━━━━━━━━━━━━━━━━━\u001b[0m \u001b[32m24.6/24.6 MB\u001b[0m \u001b[31m73.3 MB/s\u001b[0m eta \u001b[36m0:00:00\u001b[0m\n",
            "\u001b[?25hDownloading nvidia_cuda_runtime_cu12-12.4.127-py3-none-manylinux2014_x86_64.whl (883 kB)\n",
            "\u001b[2K   \u001b[90m━━━━━━━━━━━━━━━━━━━━━━━━━━━━━━━━━━━━━━━━\u001b[0m \u001b[32m883.7/883.7 kB\u001b[0m \u001b[31m57.1 MB/s\u001b[0m eta \u001b[36m0:00:00\u001b[0m\n",
            "\u001b[?25hDownloading nvidia_cudnn_cu12-9.1.0.70-py3-none-manylinux2014_x86_64.whl (664.8 MB)\n",
            "\u001b[2K   \u001b[90m━━━━━━━━━━━━━━━━━━━━━━━━━━━━━━━━━━━━━━━━\u001b[0m \u001b[32m664.8/664.8 MB\u001b[0m \u001b[31m2.5 MB/s\u001b[0m eta \u001b[36m0:00:00\u001b[0m\n",
            "\u001b[?25hDownloading nvidia_cufft_cu12-11.2.1.3-py3-none-manylinux2014_x86_64.whl (211.5 MB)\n",
            "\u001b[2K   \u001b[90m━━━━━━━━━━━━━━━━━━━━━━━━━━━━━━━━━━━━━━━━\u001b[0m \u001b[32m211.5/211.5 MB\u001b[0m \u001b[31m4.9 MB/s\u001b[0m eta \u001b[36m0:00:00\u001b[0m\n",
            "\u001b[?25hDownloading nvidia_curand_cu12-10.3.5.147-py3-none-manylinux2014_x86_64.whl (56.3 MB)\n",
            "\u001b[2K   \u001b[90m━━━━━━━━━━━━━━━━━━━━━━━━━━━━━━━━━━━━━━━━\u001b[0m \u001b[32m56.3/56.3 MB\u001b[0m \u001b[31m17.8 MB/s\u001b[0m eta \u001b[36m0:00:00\u001b[0m\n",
            "\u001b[?25hDownloading nvidia_cusolver_cu12-11.6.1.9-py3-none-manylinux2014_x86_64.whl (127.9 MB)\n",
            "\u001b[2K   \u001b[90m━━━━━━━━━━━━━━━━━━━━━━━━━━━━━━━━━━━━━━━━\u001b[0m \u001b[32m127.9/127.9 MB\u001b[0m \u001b[31m7.6 MB/s\u001b[0m eta \u001b[36m0:00:00\u001b[0m\n",
            "\u001b[?25hDownloading nvidia_cusparse_cu12-12.3.1.170-py3-none-manylinux2014_x86_64.whl (207.5 MB)\n",
            "\u001b[2K   \u001b[90m━━━━━━━━━━━━━━━━━━━━━━━━━━━━━━━━━━━━━━━━\u001b[0m \u001b[32m207.5/207.5 MB\u001b[0m \u001b[31m6.0 MB/s\u001b[0m eta \u001b[36m0:00:00\u001b[0m\n",
            "\u001b[?25hDownloading nvidia_nvjitlink_cu12-12.4.127-py3-none-manylinux2014_x86_64.whl (21.1 MB)\n",
            "\u001b[2K   \u001b[90m━━━━━━━━━━━━━━━━━━━━━━━━━━━━━━━━━━━━━━━━\u001b[0m \u001b[32m21.1/21.1 MB\u001b[0m \u001b[31m82.9 MB/s\u001b[0m eta \u001b[36m0:00:00\u001b[0m\n",
            "\u001b[?25hDownloading dicom2nifti-2.5.1-py3-none-any.whl (43 kB)\n",
            "\u001b[2K   \u001b[90m━━━━━━━━━━━━━━━━━━━━━━━━━━━━━━━━━━━━━━━━\u001b[0m \u001b[32m43.6/43.6 kB\u001b[0m \u001b[31m3.3 MB/s\u001b[0m eta \u001b[36m0:00:00\u001b[0m\n",
            "\u001b[?25hDownloading SimpleITK-2.4.1-cp311-abi3-manylinux_2_17_x86_64.manylinux2014_x86_64.whl (52.3 MB)\n",
            "\u001b[2K   \u001b[90m━━━━━━━━━━━━━━━━━━━━━━━━━━━━━━━━━━━━━━━━\u001b[0m \u001b[32m52.3/52.3 MB\u001b[0m \u001b[31m15.4 MB/s\u001b[0m eta \u001b[36m0:00:00\u001b[0m\n",
            "\u001b[?25hDownloading pydicom-3.0.1-py3-none-any.whl (2.4 MB)\n",
            "\u001b[2K   \u001b[90m━━━━━━━━━━━━━━━━━━━━━━━━━━━━━━━━━━━━━━━━\u001b[0m \u001b[32m2.4/2.4 MB\u001b[0m \u001b[31m64.9 MB/s\u001b[0m eta \u001b[36m0:00:00\u001b[0m\n",
            "\u001b[?25hDownloading python_gdcm-3.0.24.1-cp311-cp311-manylinux_2_17_x86_64.manylinux2014_x86_64.whl (13.1 MB)\n",
            "\u001b[2K   \u001b[90m━━━━━━━━━━━━━━━━━━━━━━━━━━━━━━━━━━━━━━━━\u001b[0m \u001b[32m13.1/13.1 MB\u001b[0m \u001b[31m76.7 MB/s\u001b[0m eta \u001b[36m0:00:00\u001b[0m\n",
            "\u001b[?25hDownloading unittest2-1.1.0-py2.py3-none-any.whl (96 kB)\n",
            "\u001b[2K   \u001b[90m━━━━━━━━━━━━━━━━━━━━━━━━━━━━━━━━━━━━━━━━\u001b[0m \u001b[32m96.4/96.4 kB\u001b[0m \u001b[31m7.6 MB/s\u001b[0m eta \u001b[36m0:00:00\u001b[0m\n",
            "\u001b[?25hDownloading argparse-1.4.0-py2.py3-none-any.whl (23 kB)\n",
            "Downloading traceback2-1.4.0-py2.py3-none-any.whl (16 kB)\n",
            "Downloading linecache2-1.0.0-py2.py3-none-any.whl (12 kB)\n",
            "Building wheels for collected packages: nnunet, batchgenerators, medpy\n",
            "  Building wheel for nnunet (setup.py) ... \u001b[?25l\u001b[?25hdone\n",
            "  Created wheel for nnunet: filename=nnunet-1.7.1-py3-none-any.whl size=531260 sha256=c4b1a988cdbceefcf3eca02a15e6a3a70b2d4f9a0f579395e6df25193e63b7f3\n",
            "  Stored in directory: /root/.cache/pip/wheels/96/24/6f/29ae4df3d7ad633127125dba95ba0e3ef10bfea39da3a0f44c\n",
            "  Building wheel for batchgenerators (setup.py) ... \u001b[?25l\u001b[?25hdone\n",
            "  Created wheel for batchgenerators: filename=batchgenerators-0.25.1-py3-none-any.whl size=93088 sha256=8e7d930b46bffa6a46f03edc9fb898fb4abb9a483f56a3e032770296d7d933f8\n",
            "  Stored in directory: /root/.cache/pip/wheels/56/11/c7/fadca30e054c602093ffe36ba8a2f0a87dd2f86ac75191d3ed\n",
            "  Building wheel for medpy (setup.py) ... \u001b[?25l\u001b[?25hdone\n",
            "  Created wheel for medpy: filename=MedPy-0.5.2-py3-none-any.whl size=224709 sha256=140952df3ecadafff1fdba8e2b249f7e104b7d658537e9e2bc412e1bc1461e3d\n",
            "  Stored in directory: /root/.cache/pip/wheels/d4/33/ed/aaac5a347fb8d41679ca515b8f5c49dfdf49be15bdbb9a905d\n",
            "Successfully built nnunet batchgenerators medpy\n",
            "Installing collected packages: SimpleITK, linecache2, argparse, traceback2, python-gdcm, pydicom, nvidia-nvjitlink-cu12, nvidia-curand-cu12, nvidia-cufft-cu12, nvidia-cuda-runtime-cu12, nvidia-cuda-nvrtc-cu12, nvidia-cuda-cupti-cu12, nvidia-cublas-cu12, unittest2, nvidia-cusparse-cu12, nvidia-cudnn-cu12, medpy, dicom2nifti, nvidia-cusolver-cu12, batchgenerators, nnunet\n",
            "  Attempting uninstall: nvidia-nvjitlink-cu12\n",
            "    Found existing installation: nvidia-nvjitlink-cu12 12.5.82\n",
            "    Uninstalling nvidia-nvjitlink-cu12-12.5.82:\n",
            "      Successfully uninstalled nvidia-nvjitlink-cu12-12.5.82\n",
            "  Attempting uninstall: nvidia-curand-cu12\n",
            "    Found existing installation: nvidia-curand-cu12 10.3.6.82\n",
            "    Uninstalling nvidia-curand-cu12-10.3.6.82:\n",
            "      Successfully uninstalled nvidia-curand-cu12-10.3.6.82\n",
            "  Attempting uninstall: nvidia-cufft-cu12\n",
            "    Found existing installation: nvidia-cufft-cu12 11.2.3.61\n",
            "    Uninstalling nvidia-cufft-cu12-11.2.3.61:\n",
            "      Successfully uninstalled nvidia-cufft-cu12-11.2.3.61\n",
            "  Attempting uninstall: nvidia-cuda-runtime-cu12\n",
            "    Found existing installation: nvidia-cuda-runtime-cu12 12.5.82\n",
            "    Uninstalling nvidia-cuda-runtime-cu12-12.5.82:\n",
            "      Successfully uninstalled nvidia-cuda-runtime-cu12-12.5.82\n",
            "  Attempting uninstall: nvidia-cuda-nvrtc-cu12\n",
            "    Found existing installation: nvidia-cuda-nvrtc-cu12 12.5.82\n",
            "    Uninstalling nvidia-cuda-nvrtc-cu12-12.5.82:\n",
            "      Successfully uninstalled nvidia-cuda-nvrtc-cu12-12.5.82\n",
            "  Attempting uninstall: nvidia-cuda-cupti-cu12\n",
            "    Found existing installation: nvidia-cuda-cupti-cu12 12.5.82\n",
            "    Uninstalling nvidia-cuda-cupti-cu12-12.5.82:\n",
            "      Successfully uninstalled nvidia-cuda-cupti-cu12-12.5.82\n",
            "  Attempting uninstall: nvidia-cublas-cu12\n",
            "    Found existing installation: nvidia-cublas-cu12 12.5.3.2\n",
            "    Uninstalling nvidia-cublas-cu12-12.5.3.2:\n",
            "      Successfully uninstalled nvidia-cublas-cu12-12.5.3.2\n",
            "  Attempting uninstall: nvidia-cusparse-cu12\n",
            "    Found existing installation: nvidia-cusparse-cu12 12.5.1.3\n",
            "    Uninstalling nvidia-cusparse-cu12-12.5.1.3:\n",
            "      Successfully uninstalled nvidia-cusparse-cu12-12.5.1.3\n",
            "  Attempting uninstall: nvidia-cudnn-cu12\n",
            "    Found existing installation: nvidia-cudnn-cu12 9.3.0.75\n",
            "    Uninstalling nvidia-cudnn-cu12-9.3.0.75:\n",
            "      Successfully uninstalled nvidia-cudnn-cu12-9.3.0.75\n",
            "  Attempting uninstall: nvidia-cusolver-cu12\n",
            "    Found existing installation: nvidia-cusolver-cu12 11.6.3.83\n",
            "    Uninstalling nvidia-cusolver-cu12-11.6.3.83:\n",
            "      Successfully uninstalled nvidia-cusolver-cu12-11.6.3.83\n",
            "Successfully installed SimpleITK-2.4.1 argparse-1.4.0 batchgenerators-0.25.1 dicom2nifti-2.5.1 linecache2-1.0.0 medpy-0.5.2 nnunet-1.7.1 nvidia-cublas-cu12-12.4.5.8 nvidia-cuda-cupti-cu12-12.4.127 nvidia-cuda-nvrtc-cu12-12.4.127 nvidia-cuda-runtime-cu12-12.4.127 nvidia-cudnn-cu12-9.1.0.70 nvidia-cufft-cu12-11.2.1.3 nvidia-curand-cu12-10.3.5.147 nvidia-cusolver-cu12-11.6.1.9 nvidia-cusparse-cu12-12.3.1.170 nvidia-nvjitlink-cu12-12.4.127 pydicom-3.0.1 python-gdcm-3.0.24.1 traceback2-1.4.0 unittest2-1.1.0\n"
          ]
        },
        {
          "output_type": "display_data",
          "data": {
            "application/vnd.colab-display-data+json": {
              "pip_warning": {
                "packages": [
                  "argparse"
                ]
              },
              "id": "ac91dc15341f4d5f894b64e70a65af2d"
            }
          },
          "metadata": {}
        }
      ],
      "source": [
        "!pip install nnunet"
      ]
    },
    {
      "cell_type": "code",
      "source": [
        "!pip install torch torchvision torchaudio --index-url https://download.pytorch.org/whl/cu118"
      ],
      "metadata": {
        "colab": {
          "base_uri": "https://localhost:8080/"
        },
        "id": "n4TMqKJVKaVH",
        "outputId": "b2b4e2f8-f4c6-4934-af58-e50f750f069c"
      },
      "execution_count": 1,
      "outputs": [
        {
          "output_type": "stream",
          "name": "stdout",
          "text": [
            "Looking in indexes: https://download.pytorch.org/whl/cu118\n",
            "Requirement already satisfied: torch in /usr/local/lib/python3.11/dist-packages (2.6.0+cu124)\n",
            "Requirement already satisfied: torchvision in /usr/local/lib/python3.11/dist-packages (0.21.0+cu124)\n",
            "Requirement already satisfied: torchaudio in /usr/local/lib/python3.11/dist-packages (2.6.0+cu124)\n",
            "Requirement already satisfied: filelock in /usr/local/lib/python3.11/dist-packages (from torch) (3.18.0)\n",
            "Requirement already satisfied: typing-extensions>=4.10.0 in /usr/local/lib/python3.11/dist-packages (from torch) (4.12.2)\n",
            "Requirement already satisfied: networkx in /usr/local/lib/python3.11/dist-packages (from torch) (3.4.2)\n",
            "Requirement already satisfied: jinja2 in /usr/local/lib/python3.11/dist-packages (from torch) (3.1.6)\n",
            "Requirement already satisfied: fsspec in /usr/local/lib/python3.11/dist-packages (from torch) (2025.3.0)\n",
            "Requirement already satisfied: nvidia-cuda-nvrtc-cu12==12.4.127 in /usr/local/lib/python3.11/dist-packages (from torch) (12.4.127)\n",
            "Requirement already satisfied: nvidia-cuda-runtime-cu12==12.4.127 in /usr/local/lib/python3.11/dist-packages (from torch) (12.4.127)\n",
            "Requirement already satisfied: nvidia-cuda-cupti-cu12==12.4.127 in /usr/local/lib/python3.11/dist-packages (from torch) (12.4.127)\n",
            "Requirement already satisfied: nvidia-cudnn-cu12==9.1.0.70 in /usr/local/lib/python3.11/dist-packages (from torch) (9.1.0.70)\n",
            "Requirement already satisfied: nvidia-cublas-cu12==12.4.5.8 in /usr/local/lib/python3.11/dist-packages (from torch) (12.4.5.8)\n",
            "Requirement already satisfied: nvidia-cufft-cu12==11.2.1.3 in /usr/local/lib/python3.11/dist-packages (from torch) (11.2.1.3)\n",
            "Requirement already satisfied: nvidia-curand-cu12==10.3.5.147 in /usr/local/lib/python3.11/dist-packages (from torch) (10.3.5.147)\n",
            "Requirement already satisfied: nvidia-cusolver-cu12==11.6.1.9 in /usr/local/lib/python3.11/dist-packages (from torch) (11.6.1.9)\n",
            "Requirement already satisfied: nvidia-cusparse-cu12==12.3.1.170 in /usr/local/lib/python3.11/dist-packages (from torch) (12.3.1.170)\n",
            "Requirement already satisfied: nvidia-cusparselt-cu12==0.6.2 in /usr/local/lib/python3.11/dist-packages (from torch) (0.6.2)\n",
            "Requirement already satisfied: nvidia-nccl-cu12==2.21.5 in /usr/local/lib/python3.11/dist-packages (from torch) (2.21.5)\n",
            "Requirement already satisfied: nvidia-nvtx-cu12==12.4.127 in /usr/local/lib/python3.11/dist-packages (from torch) (12.4.127)\n",
            "Requirement already satisfied: nvidia-nvjitlink-cu12==12.4.127 in /usr/local/lib/python3.11/dist-packages (from torch) (12.4.127)\n",
            "Requirement already satisfied: triton==3.2.0 in /usr/local/lib/python3.11/dist-packages (from torch) (3.2.0)\n",
            "Requirement already satisfied: sympy==1.13.1 in /usr/local/lib/python3.11/dist-packages (from torch) (1.13.1)\n",
            "Requirement already satisfied: mpmath<1.4,>=1.1.0 in /usr/local/lib/python3.11/dist-packages (from sympy==1.13.1->torch) (1.3.0)\n",
            "Requirement already satisfied: numpy in /usr/local/lib/python3.11/dist-packages (from torchvision) (2.0.2)\n",
            "Requirement already satisfied: pillow!=8.3.*,>=5.3.0 in /usr/local/lib/python3.11/dist-packages (from torchvision) (11.1.0)\n",
            "Requirement already satisfied: MarkupSafe>=2.0 in /usr/local/lib/python3.11/dist-packages (from jinja2->torch) (3.0.2)\n"
          ]
        }
      ]
    },
    {
      "cell_type": "code",
      "source": [
        "\n",
        "from google.colab import drive\n",
        "drive.mount('/content/drive')"
      ],
      "metadata": {
        "colab": {
          "base_uri": "https://localhost:8080/"
        },
        "id": "w3IkG32pKmCq",
        "outputId": "f423ef67-e7fb-4d03-b11c-cb5d11d684a5"
      },
      "execution_count": 2,
      "outputs": [
        {
          "output_type": "stream",
          "name": "stdout",
          "text": [
            "Mounted at /content/drive\n"
          ]
        }
      ]
    },
    {
      "cell_type": "code",
      "source": [
        "!pip install nnunetv2\n"
      ],
      "metadata": {
        "colab": {
          "base_uri": "https://localhost:8080/",
          "height": 1000
        },
        "id": "K13JKvnXGRc3",
        "outputId": "8a1c286d-608e-43e5-e8c2-c32c0de328da"
      },
      "execution_count": 2,
      "outputs": [
        {
          "output_type": "stream",
          "name": "stdout",
          "text": [
            "Collecting nnunetv2\n",
            "  Downloading nnunetv2-2.6.0.tar.gz (206 kB)\n",
            "\u001b[?25l     \u001b[90m━━━━━━━━━━━━━━━━━━━━━━━━━━━━━━━━━━━━━━━━\u001b[0m \u001b[32m0.0/206.3 kB\u001b[0m \u001b[31m?\u001b[0m eta \u001b[36m-:--:--\u001b[0m\r\u001b[2K     \u001b[90m━━━━━━━━━━━━━━━━━━━━━━━━━━━━━━━━━━━━━━━━\u001b[0m \u001b[32m206.3/206.3 kB\u001b[0m \u001b[31m7.1 MB/s\u001b[0m eta \u001b[36m0:00:00\u001b[0m\n",
            "\u001b[?25h  Installing build dependencies ... \u001b[?25l\u001b[?25hdone\n",
            "  Getting requirements to build wheel ... \u001b[?25l\u001b[?25hdone\n",
            "  Preparing metadata (pyproject.toml) ... \u001b[?25l\u001b[?25hdone\n",
            "Requirement already satisfied: torch>=2.1.2 in /usr/local/lib/python3.11/dist-packages (from nnunetv2) (2.6.0+cu124)\n",
            "Collecting acvl-utils<0.3,>=0.2.3 (from nnunetv2)\n",
            "  Downloading acvl_utils-0.2.5.tar.gz (29 kB)\n",
            "  Preparing metadata (setup.py) ... \u001b[?25l\u001b[?25hdone\n",
            "Collecting dynamic-network-architectures<0.4,>=0.3.1 (from nnunetv2)\n",
            "  Downloading dynamic_network_architectures-0.3.1.tar.gz (20 kB)\n",
            "  Preparing metadata (setup.py) ... \u001b[?25l\u001b[?25hdone\n",
            "Requirement already satisfied: tqdm in /usr/local/lib/python3.11/dist-packages (from nnunetv2) (4.67.1)\n",
            "Requirement already satisfied: dicom2nifti in /usr/local/lib/python3.11/dist-packages (from nnunetv2) (2.5.1)\n",
            "Requirement already satisfied: scipy in /usr/local/lib/python3.11/dist-packages (from nnunetv2) (1.14.1)\n",
            "Requirement already satisfied: batchgenerators>=0.25.1 in /usr/local/lib/python3.11/dist-packages (from nnunetv2) (0.25.1)\n",
            "Requirement already satisfied: numpy>=1.24 in /usr/local/lib/python3.11/dist-packages (from nnunetv2) (2.0.2)\n",
            "Requirement already satisfied: scikit-learn in /usr/local/lib/python3.11/dist-packages (from nnunetv2) (1.6.1)\n",
            "Requirement already satisfied: scikit-image>=0.19.3 in /usr/local/lib/python3.11/dist-packages (from nnunetv2) (0.25.2)\n",
            "Requirement already satisfied: SimpleITK>=2.2.1 in /usr/local/lib/python3.11/dist-packages (from nnunetv2) (2.4.1)\n",
            "Requirement already satisfied: pandas in /usr/local/lib/python3.11/dist-packages (from nnunetv2) (2.2.2)\n",
            "Requirement already satisfied: graphviz in /usr/local/lib/python3.11/dist-packages (from nnunetv2) (0.20.3)\n",
            "Requirement already satisfied: tifffile in /usr/local/lib/python3.11/dist-packages (from nnunetv2) (2025.3.13)\n",
            "Requirement already satisfied: requests in /usr/local/lib/python3.11/dist-packages (from nnunetv2) (2.32.3)\n",
            "Requirement already satisfied: nibabel in /usr/local/lib/python3.11/dist-packages (from nnunetv2) (5.3.2)\n",
            "Requirement already satisfied: matplotlib in /usr/local/lib/python3.11/dist-packages (from nnunetv2) (3.10.0)\n",
            "Requirement already satisfied: seaborn in /usr/local/lib/python3.11/dist-packages (from nnunetv2) (0.13.2)\n",
            "Collecting imagecodecs (from nnunetv2)\n",
            "  Downloading imagecodecs-2024.12.30-cp311-cp311-manylinux_2_17_x86_64.manylinux2014_x86_64.whl.metadata (19 kB)\n",
            "Collecting yacs (from nnunetv2)\n",
            "  Downloading yacs-0.1.8-py3-none-any.whl.metadata (639 bytes)\n",
            "Collecting batchgeneratorsv2>=0.2 (from nnunetv2)\n",
            "  Downloading batchgeneratorsv2-0.2.3.tar.gz (35 kB)\n",
            "  Installing build dependencies ... \u001b[?25l\u001b[?25hdone\n",
            "  Getting requirements to build wheel ... \u001b[?25l\u001b[?25hdone\n",
            "  Preparing metadata (pyproject.toml) ... \u001b[?25l\u001b[?25hdone\n",
            "Requirement already satisfied: einops in /usr/local/lib/python3.11/dist-packages (from nnunetv2) (0.8.1)\n",
            "Requirement already satisfied: blosc2>=3.0.0b1 in /usr/local/lib/python3.11/dist-packages (from nnunetv2) (3.2.0)\n",
            "Collecting connected-components-3d (from acvl-utils<0.3,>=0.2.3->nnunetv2)\n",
            "  Downloading connected_components_3d-3.23.0-cp311-cp311-manylinux_2_17_x86_64.manylinux2014_x86_64.whl.metadata (32 kB)\n",
            "Requirement already satisfied: pillow>=7.1.2 in /usr/local/lib/python3.11/dist-packages (from batchgenerators>=0.25.1->nnunetv2) (11.1.0)\n",
            "Requirement already satisfied: future in /usr/local/lib/python3.11/dist-packages (from batchgenerators>=0.25.1->nnunetv2) (1.0.0)\n",
            "Requirement already satisfied: unittest2 in /usr/local/lib/python3.11/dist-packages (from batchgenerators>=0.25.1->nnunetv2) (1.1.0)\n",
            "Requirement already satisfied: threadpoolctl in /usr/local/lib/python3.11/dist-packages (from batchgenerators>=0.25.1->nnunetv2) (3.6.0)\n",
            "Collecting fft-conv-pytorch (from batchgeneratorsv2>=0.2->nnunetv2)\n",
            "  Downloading fft_conv_pytorch-1.2.0-py3-none-any.whl.metadata (2.8 kB)\n",
            "Requirement already satisfied: ndindex in /usr/local/lib/python3.11/dist-packages (from blosc2>=3.0.0b1->nnunetv2) (1.9.2)\n",
            "Requirement already satisfied: msgpack in /usr/local/lib/python3.11/dist-packages (from blosc2>=3.0.0b1->nnunetv2) (1.1.0)\n",
            "Requirement already satisfied: platformdirs in /usr/local/lib/python3.11/dist-packages (from blosc2>=3.0.0b1->nnunetv2) (4.3.7)\n",
            "Requirement already satisfied: numexpr in /usr/local/lib/python3.11/dist-packages (from blosc2>=3.0.0b1->nnunetv2) (2.10.2)\n",
            "Requirement already satisfied: py-cpuinfo in /usr/local/lib/python3.11/dist-packages (from blosc2>=3.0.0b1->nnunetv2) (9.0.0)\n",
            "Requirement already satisfied: networkx>=3.0 in /usr/local/lib/python3.11/dist-packages (from scikit-image>=0.19.3->nnunetv2) (3.4.2)\n",
            "Requirement already satisfied: imageio!=2.35.0,>=2.33 in /usr/local/lib/python3.11/dist-packages (from scikit-image>=0.19.3->nnunetv2) (2.37.0)\n",
            "Requirement already satisfied: packaging>=21 in /usr/local/lib/python3.11/dist-packages (from scikit-image>=0.19.3->nnunetv2) (24.2)\n",
            "Requirement already satisfied: lazy-loader>=0.4 in /usr/local/lib/python3.11/dist-packages (from scikit-image>=0.19.3->nnunetv2) (0.4)\n",
            "Requirement already satisfied: filelock in /usr/local/lib/python3.11/dist-packages (from torch>=2.1.2->nnunetv2) (3.18.0)\n",
            "Requirement already satisfied: typing-extensions>=4.10.0 in /usr/local/lib/python3.11/dist-packages (from torch>=2.1.2->nnunetv2) (4.12.2)\n",
            "Requirement already satisfied: jinja2 in /usr/local/lib/python3.11/dist-packages (from torch>=2.1.2->nnunetv2) (3.1.6)\n",
            "Requirement already satisfied: fsspec in /usr/local/lib/python3.11/dist-packages (from torch>=2.1.2->nnunetv2) (2025.3.0)\n",
            "Requirement already satisfied: nvidia-cuda-nvrtc-cu12==12.4.127 in /usr/local/lib/python3.11/dist-packages (from torch>=2.1.2->nnunetv2) (12.4.127)\n",
            "Requirement already satisfied: nvidia-cuda-runtime-cu12==12.4.127 in /usr/local/lib/python3.11/dist-packages (from torch>=2.1.2->nnunetv2) (12.4.127)\n",
            "Requirement already satisfied: nvidia-cuda-cupti-cu12==12.4.127 in /usr/local/lib/python3.11/dist-packages (from torch>=2.1.2->nnunetv2) (12.4.127)\n",
            "Requirement already satisfied: nvidia-cudnn-cu12==9.1.0.70 in /usr/local/lib/python3.11/dist-packages (from torch>=2.1.2->nnunetv2) (9.1.0.70)\n",
            "Requirement already satisfied: nvidia-cublas-cu12==12.4.5.8 in /usr/local/lib/python3.11/dist-packages (from torch>=2.1.2->nnunetv2) (12.4.5.8)\n",
            "Requirement already satisfied: nvidia-cufft-cu12==11.2.1.3 in /usr/local/lib/python3.11/dist-packages (from torch>=2.1.2->nnunetv2) (11.2.1.3)\n",
            "Requirement already satisfied: nvidia-curand-cu12==10.3.5.147 in /usr/local/lib/python3.11/dist-packages (from torch>=2.1.2->nnunetv2) (10.3.5.147)\n",
            "Requirement already satisfied: nvidia-cusolver-cu12==11.6.1.9 in /usr/local/lib/python3.11/dist-packages (from torch>=2.1.2->nnunetv2) (11.6.1.9)\n",
            "Requirement already satisfied: nvidia-cusparse-cu12==12.3.1.170 in /usr/local/lib/python3.11/dist-packages (from torch>=2.1.2->nnunetv2) (12.3.1.170)\n",
            "Requirement already satisfied: nvidia-cusparselt-cu12==0.6.2 in /usr/local/lib/python3.11/dist-packages (from torch>=2.1.2->nnunetv2) (0.6.2)\n",
            "Requirement already satisfied: nvidia-nccl-cu12==2.21.5 in /usr/local/lib/python3.11/dist-packages (from torch>=2.1.2->nnunetv2) (2.21.5)\n",
            "Requirement already satisfied: nvidia-nvtx-cu12==12.4.127 in /usr/local/lib/python3.11/dist-packages (from torch>=2.1.2->nnunetv2) (12.4.127)\n",
            "Requirement already satisfied: nvidia-nvjitlink-cu12==12.4.127 in /usr/local/lib/python3.11/dist-packages (from torch>=2.1.2->nnunetv2) (12.4.127)\n",
            "Requirement already satisfied: triton==3.2.0 in /usr/local/lib/python3.11/dist-packages (from torch>=2.1.2->nnunetv2) (3.2.0)\n",
            "Requirement already satisfied: sympy==1.13.1 in /usr/local/lib/python3.11/dist-packages (from torch>=2.1.2->nnunetv2) (1.13.1)\n",
            "Requirement already satisfied: mpmath<1.4,>=1.1.0 in /usr/local/lib/python3.11/dist-packages (from sympy==1.13.1->torch>=2.1.2->nnunetv2) (1.3.0)\n",
            "Requirement already satisfied: pydicom>=2.2.0 in /usr/local/lib/python3.11/dist-packages (from dicom2nifti->nnunetv2) (3.0.1)\n",
            "Requirement already satisfied: python-gdcm in /usr/local/lib/python3.11/dist-packages (from dicom2nifti->nnunetv2) (3.0.24.1)\n",
            "Requirement already satisfied: contourpy>=1.0.1 in /usr/local/lib/python3.11/dist-packages (from matplotlib->nnunetv2) (1.3.1)\n",
            "Requirement already satisfied: cycler>=0.10 in /usr/local/lib/python3.11/dist-packages (from matplotlib->nnunetv2) (0.12.1)\n",
            "Requirement already satisfied: fonttools>=4.22.0 in /usr/local/lib/python3.11/dist-packages (from matplotlib->nnunetv2) (4.56.0)\n",
            "Requirement already satisfied: kiwisolver>=1.3.1 in /usr/local/lib/python3.11/dist-packages (from matplotlib->nnunetv2) (1.4.8)\n",
            "Requirement already satisfied: pyparsing>=2.3.1 in /usr/local/lib/python3.11/dist-packages (from matplotlib->nnunetv2) (3.2.1)\n",
            "Requirement already satisfied: python-dateutil>=2.7 in /usr/local/lib/python3.11/dist-packages (from matplotlib->nnunetv2) (2.8.2)\n",
            "Requirement already satisfied: importlib-resources>=5.12 in /usr/local/lib/python3.11/dist-packages (from nibabel->nnunetv2) (6.5.2)\n",
            "Requirement already satisfied: pytz>=2020.1 in /usr/local/lib/python3.11/dist-packages (from pandas->nnunetv2) (2025.1)\n",
            "Requirement already satisfied: tzdata>=2022.7 in /usr/local/lib/python3.11/dist-packages (from pandas->nnunetv2) (2025.1)\n",
            "Requirement already satisfied: charset-normalizer<4,>=2 in /usr/local/lib/python3.11/dist-packages (from requests->nnunetv2) (3.4.1)\n",
            "Requirement already satisfied: idna<4,>=2.5 in /usr/local/lib/python3.11/dist-packages (from requests->nnunetv2) (3.10)\n",
            "Requirement already satisfied: urllib3<3,>=1.21.1 in /usr/local/lib/python3.11/dist-packages (from requests->nnunetv2) (2.3.0)\n",
            "Requirement already satisfied: certifi>=2017.4.17 in /usr/local/lib/python3.11/dist-packages (from requests->nnunetv2) (2025.1.31)\n",
            "Requirement already satisfied: joblib>=1.2.0 in /usr/local/lib/python3.11/dist-packages (from scikit-learn->nnunetv2) (1.4.2)\n",
            "Requirement already satisfied: PyYAML in /usr/local/lib/python3.11/dist-packages (from yacs->nnunetv2) (6.0.2)\n",
            "Requirement already satisfied: six>=1.5 in /usr/local/lib/python3.11/dist-packages (from python-dateutil>=2.7->matplotlib->nnunetv2) (1.17.0)\n",
            "Requirement already satisfied: MarkupSafe>=2.0 in /usr/local/lib/python3.11/dist-packages (from jinja2->torch>=2.1.2->nnunetv2) (3.0.2)\n",
            "Collecting argparse (from unittest2->batchgenerators>=0.25.1->nnunetv2)\n",
            "  Using cached argparse-1.4.0-py2.py3-none-any.whl.metadata (2.8 kB)\n",
            "Requirement already satisfied: traceback2 in /usr/local/lib/python3.11/dist-packages (from unittest2->batchgenerators>=0.25.1->nnunetv2) (1.4.0)\n",
            "Requirement already satisfied: linecache2 in /usr/local/lib/python3.11/dist-packages (from traceback2->unittest2->batchgenerators>=0.25.1->nnunetv2) (1.0.0)\n",
            "Downloading imagecodecs-2024.12.30-cp311-cp311-manylinux_2_17_x86_64.manylinux2014_x86_64.whl (45.5 MB)\n",
            "\u001b[2K   \u001b[90m━━━━━━━━━━━━━━━━━━━━━━━━━━━━━━━━━━━━━━━━\u001b[0m \u001b[32m45.5/45.5 MB\u001b[0m \u001b[31m13.5 MB/s\u001b[0m eta \u001b[36m0:00:00\u001b[0m\n",
            "\u001b[?25hDownloading yacs-0.1.8-py3-none-any.whl (14 kB)\n",
            "Downloading connected_components_3d-3.23.0-cp311-cp311-manylinux_2_17_x86_64.manylinux2014_x86_64.whl (4.3 MB)\n",
            "\u001b[2K   \u001b[90m━━━━━━━━━━━━━━━━━━━━━━━━━━━━━━━━━━━━━━━━\u001b[0m \u001b[32m4.3/4.3 MB\u001b[0m \u001b[31m93.7 MB/s\u001b[0m eta \u001b[36m0:00:00\u001b[0m\n",
            "\u001b[?25hDownloading fft_conv_pytorch-1.2.0-py3-none-any.whl (6.8 kB)\n",
            "Using cached argparse-1.4.0-py2.py3-none-any.whl (23 kB)\n",
            "Building wheels for collected packages: nnunetv2, acvl-utils, batchgeneratorsv2, dynamic-network-architectures\n",
            "  Building wheel for nnunetv2 (pyproject.toml) ... \u001b[?25l\u001b[?25hdone\n",
            "  Created wheel for nnunetv2: filename=nnunetv2-2.6.0-py3-none-any.whl size=277014 sha256=f28921449215fd221bd00aed34425da9ba03342305d971a48117b2ecf5b8b78f\n",
            "  Stored in directory: /root/.cache/pip/wheels/3d/0d/bb/f932cb0032d1aacc2f336de421448313d147db8eed671096e9\n",
            "  Building wheel for acvl-utils (setup.py) ... \u001b[?25l\u001b[?25hdone\n",
            "  Created wheel for acvl-utils: filename=acvl_utils-0.2.5-py3-none-any.whl size=27214 sha256=c1571061dc8ae9b0317a007070187a6efd71981852727982b178cefd65372575\n",
            "  Stored in directory: /root/.cache/pip/wheels/3f/8c/10/dcba79e0b2d1d463605233cec1fc6cfad47af5230b8985e464\n",
            "  Building wheel for batchgeneratorsv2 (pyproject.toml) ... \u001b[?25l\u001b[?25hdone\n",
            "  Created wheel for batchgeneratorsv2: filename=batchgeneratorsv2-0.2.3-py3-none-any.whl size=47567 sha256=aa5bdcf0ceffbc074fed45f5504a83999c7e2c79388456b4c1ff1443d91469ad\n",
            "  Stored in directory: /root/.cache/pip/wheels/1f/68/57/3a0eceb67b9c1b630df16113639b66a843dfd6686a4ed5ae1d\n",
            "  Building wheel for dynamic-network-architectures (setup.py) ... \u001b[?25l\u001b[?25hdone\n",
            "  Created wheel for dynamic-network-architectures: filename=dynamic_network_architectures-0.3.1-py3-none-any.whl size=30046 sha256=75a2487d4c1a8297e5c46b874a54dfe655462f0a87a203a54d0aa4e8e074fb29\n",
            "  Stored in directory: /root/.cache/pip/wheels/d9/8f/23/133ba252665b6f93abdbb294b323cc8fec041be83e4d22b701\n",
            "Successfully built nnunetv2 acvl-utils batchgeneratorsv2 dynamic-network-architectures\n",
            "Installing collected packages: argparse, yacs, imagecodecs, connected-components-3d, fft-conv-pytorch, dynamic-network-architectures, acvl-utils, batchgeneratorsv2, nnunetv2\n",
            "Successfully installed acvl-utils-0.2.5 argparse-1.4.0 batchgeneratorsv2-0.2.3 connected-components-3d-3.23.0 dynamic-network-architectures-0.3.1 fft-conv-pytorch-1.2.0 imagecodecs-2024.12.30 nnunetv2-2.6.0 yacs-0.1.8\n"
          ]
        },
        {
          "output_type": "display_data",
          "data": {
            "application/vnd.colab-display-data+json": {
              "pip_warning": {
                "packages": [
                  "argparse"
                ]
              },
              "id": "64239cdaf9404ac28384eaa77009f5d6"
            }
          },
          "metadata": {}
        }
      ]
    },
    {
      "cell_type": "code",
      "source": [
        "import os\n",
        "import glob\n",
        "import numpy as np\n",
        "import nibabel as nib\n",
        "import pydicom\n",
        "import tensorflow as tf\n",
        "import json\n",
        "import pandas as pd\n",
        "from tqdm import tqdm\n"
      ],
      "metadata": {
        "id": "lqnGbJJTHkiA"
      },
      "execution_count": 1,
      "outputs": []
    },
    {
      "cell_type": "code",
      "source": [
        "\n",
        "# Paths\n",
        "BASE_PATH = \"/content/drive/MyDrive/\"\n",
        "DATASET_PATH = os.path.join(BASE_PATH, \"Prostate\")\n",
        "NIFTI_SAVE_PATH = os.path.join(BASE_PATH, \"Prostate_NIfTI_Cache\")  # Cache location\n",
        "NNUNET_RAW_PATH = os.path.join(BASE_PATH, \"nnUNet_raw/Dataset500_ProstateX\")\n",
        "IMAGES_TR_PATH = os.path.join(NNUNET_RAW_PATH, \"imagesTr\")\n",
        "LABELS_TR_PATH = os.path.join(NNUNET_RAW_PATH, \"labelsTr\")\n",
        "\n",
        "# Ensure directories exist\n",
        "os.makedirs(IMAGES_TR_PATH, exist_ok=True)\n",
        "os.makedirs(LABELS_TR_PATH, exist_ok=True)\n",
        "os.makedirs(NIFTI_SAVE_PATH, exist_ok=True)\n",
        "\n",
        "# Load CSV files\n",
        "image_train_file = \"/content/drive/MyDrive/ProstateX-Images-Train1.csv\"\n",
        "findings_train_file = \"/content/drive/MyDrive/ProstateX-Findings-Train1.csv\"\n",
        "\n",
        "if not os.path.exists(image_train_file) or not os.path.exists(findings_train_file):\n",
        "    print(\"[ERROR] One or both CSV files are missing. Check the paths.\")\n",
        "    exit(1)\n",
        "\n",
        "# Load data\n",
        "image_train_df = pd.read_csv(image_train_file)\n",
        "findings_train_df = pd.read_csv(findings_train_file)\n",
        "\n",
        "# Print column names to check\n",
        "print(\"[INFO] ImageTrain Columns:\", image_train_df.columns)\n",
        "print(\"[INFO] FindingsTrain Columns:\", findings_train_df.columns)\n",
        "\n",
        "# Ensure 'ProxID' and 'fid' exist in both CSVs\n",
        "required_columns = [\"ProxID\", \"fid\"]\n",
        "for col in required_columns:\n",
        "    if col not in image_train_df.columns or col not in findings_train_df.columns:\n",
        "        print(f\"[ERROR] Column '{col}' not found in both CSV files.\")\n",
        "        exit(1)\n",
        "\n",
        "# Merge both datasets on 'ProxID' and 'fid'\n",
        "merged_df = pd.merge(image_train_df, findings_train_df, on=[\"ProxID\", \"fid\"], how=\"inner\")\n",
        "\n",
        "print(f\"[INFO] Successfully merged! Total records: {len(merged_df)}\")"
      ],
      "metadata": {
        "colab": {
          "base_uri": "https://localhost:8080/"
        },
        "id": "OaWOvIRMe23a",
        "outputId": "94f0fc76-9b84-4c39-d34b-a19064da2b77"
      },
      "execution_count": 2,
      "outputs": [
        {
          "output_type": "stream",
          "name": "stdout",
          "text": [
            "[INFO] ImageTrain Columns: Index(['ProxID', 'Name', 'fid', 'pos', 'WorldMatrix', 'ijk', 'TopLevel',\n",
            "       'SpacingBetweenSlices', 'VoxelSpacing', 'Dim', 'DCMSerDescr',\n",
            "       'DCMSerNum'],\n",
            "      dtype='object')\n",
            "[INFO] FindingsTrain Columns: Index(['ProxID', 'fid', 'pos', 'zone', 'ClinSig'], dtype='object')\n",
            "[INFO] Successfully merged! Total records: 187\n"
          ]
        }
      ]
    },
    {
      "cell_type": "code",
      "source": [
        "# Correct column names\n",
        "SERIES_DESC_COL = \"DCMSerDescr\"  # Column with Series Description\n",
        "SERIES_NUM_COL = \"DCMSerNum\"  # Column with Series Number\n",
        "LABEL_COL = \"ClinSig\"  # Column with Label\n",
        "\n",
        "# Function to load or convert DICOM images\n",
        "def load_or_convert_dicom_images(dicom_dir, merged_df, img_size=(128, 128)):\n",
        "    images = []\n",
        "    labels = []\n",
        "    matched_records = 0\n",
        "\n",
        "    dicom_files = glob.glob(os.path.join(dicom_dir, \"**/*.dcm\"), recursive=True)\n",
        "    print(f\"Found {len(dicom_files)} DICOM files.\")\n",
        "\n",
        "    if len(dicom_files) == 0:\n",
        "        print(\"[ERROR] No DICOM files found. Check the directory path.\")\n",
        "        return [], []\n",
        "\n",
        "    for idx, row in merged_df.iterrows():\n",
        "        series_desc = row[SERIES_DESC_COL]\n",
        "        series_num = row[SERIES_NUM_COL]\n",
        "        label = row[LABEL_COL]\n",
        "\n",
        "        nifti_file_path = os.path.join(NIFTI_SAVE_PATH, f\"prostate_{idx:04d}.nii.gz\")\n",
        "\n",
        "        # If NIfTI already exists, use cached version\n",
        "        if os.path.exists(nifti_file_path):\n",
        "            print(f\"[INFO] Using cached NIfTI: {nifti_file_path}\")\n",
        "            image = nib.load(nifti_file_path).get_fdata()\n",
        "            images.append(image)\n",
        "            labels.append(label)\n",
        "            matched_records += 1\n",
        "            continue  # Skip reprocessing\n",
        "\n",
        "        matched = False\n",
        "        for dicom_path in dicom_files:\n",
        "            dicom = pydicom.dcmread(dicom_path)\n",
        "\n",
        "            if dicom.SeriesNumber == series_num and series_desc in dicom.SeriesDescription:\n",
        "                img = dicom.pixel_array.astype(np.float32)\n",
        "                img = (img - np.min(img)) / (np.max(img) - np.min(img))  # Normalize\n",
        "\n",
        "                # 🔹 Ensure shape is (H, W, 1) before resizing\n",
        "                if img.ndim == 2:\n",
        "                    img = np.expand_dims(img, axis=-1)  # Add channel dimension (H, W, 1)\n",
        "\n",
        "                img = tf.image.resize(img, img_size).numpy()  # Resize to (128, 128, 1)\n",
        "\n",
        "                # Ensure final shape is (1, 128, 128)\n",
        "                img = np.transpose(img, (2, 0, 1))  # Convert (128, 128, 1) → (1, 128, 128)\n",
        "\n",
        "                images.append(img)\n",
        "                labels.append(label)\n",
        "                matched_records += 1\n",
        "                matched = True\n",
        "\n",
        "                # Save NIfTI in cache with correct spacing and shape\n",
        "                affine = np.eye(4)  # Default affine matrix\n",
        "                nifti_img = nib.Nifti1Image(img, affine)\n",
        "                nifti_img.header.set_zooms((1.0, 1.0, 1.0))  # Ensure correct spacing\n",
        "                nib.save(nifti_img, nifti_file_path)\n",
        "                print(f\"[INFO] Saved NIfTI: {nifti_file_path}\")\n",
        "\n",
        "                break  # Stop checking once a match is found\n",
        "\n",
        "        if not matched:\n",
        "            print(f\"[WARNING] No match found for SeriesNumber {series_num} and Description {series_desc}\")\n",
        "\n",
        "    print(f\"[INFO] Total matched records: {matched_records}\")\n",
        "    return images, labels\n",
        "\n",
        "# Convert/load images & labels\n",
        "images, labels = load_or_convert_dicom_images(DATASET_PATH, merged_df)"
      ],
      "metadata": {
        "colab": {
          "base_uri": "https://localhost:8080/"
        },
        "id": "TLNfB9Xi1krZ",
        "outputId": "50ff9908-c4a4-4926-ccba-d511cb18c786"
      },
      "execution_count": 45,
      "outputs": [
        {
          "output_type": "stream",
          "name": "stdout",
          "text": [
            "Found 9988 DICOM files.\n",
            "[INFO] Saved NIfTI: /content/drive/MyDrive/Prostate_NIfTI_Cache/prostate_0000.nii.gz\n",
            "[INFO] Saved NIfTI: /content/drive/MyDrive/Prostate_NIfTI_Cache/prostate_0001.nii.gz\n",
            "[INFO] Saved NIfTI: /content/drive/MyDrive/Prostate_NIfTI_Cache/prostate_0002.nii.gz\n",
            "[INFO] Saved NIfTI: /content/drive/MyDrive/Prostate_NIfTI_Cache/prostate_0003.nii.gz\n",
            "[INFO] Saved NIfTI: /content/drive/MyDrive/Prostate_NIfTI_Cache/prostate_0004.nii.gz\n",
            "[INFO] Saved NIfTI: /content/drive/MyDrive/Prostate_NIfTI_Cache/prostate_0005.nii.gz\n",
            "[INFO] Saved NIfTI: /content/drive/MyDrive/Prostate_NIfTI_Cache/prostate_0006.nii.gz\n",
            "[INFO] Saved NIfTI: /content/drive/MyDrive/Prostate_NIfTI_Cache/prostate_0007.nii.gz\n",
            "[INFO] Saved NIfTI: /content/drive/MyDrive/Prostate_NIfTI_Cache/prostate_0008.nii.gz\n",
            "[INFO] Saved NIfTI: /content/drive/MyDrive/Prostate_NIfTI_Cache/prostate_0009.nii.gz\n",
            "[INFO] Saved NIfTI: /content/drive/MyDrive/Prostate_NIfTI_Cache/prostate_0010.nii.gz\n",
            "[INFO] Saved NIfTI: /content/drive/MyDrive/Prostate_NIfTI_Cache/prostate_0011.nii.gz\n",
            "[INFO] Saved NIfTI: /content/drive/MyDrive/Prostate_NIfTI_Cache/prostate_0012.nii.gz\n",
            "[INFO] Saved NIfTI: /content/drive/MyDrive/Prostate_NIfTI_Cache/prostate_0013.nii.gz\n",
            "[INFO] Saved NIfTI: /content/drive/MyDrive/Prostate_NIfTI_Cache/prostate_0014.nii.gz\n",
            "[INFO] Saved NIfTI: /content/drive/MyDrive/Prostate_NIfTI_Cache/prostate_0015.nii.gz\n",
            "[INFO] Saved NIfTI: /content/drive/MyDrive/Prostate_NIfTI_Cache/prostate_0016.nii.gz\n",
            "[INFO] Saved NIfTI: /content/drive/MyDrive/Prostate_NIfTI_Cache/prostate_0017.nii.gz\n",
            "[INFO] Saved NIfTI: /content/drive/MyDrive/Prostate_NIfTI_Cache/prostate_0018.nii.gz\n",
            "[INFO] Saved NIfTI: /content/drive/MyDrive/Prostate_NIfTI_Cache/prostate_0019.nii.gz\n",
            "[INFO] Saved NIfTI: /content/drive/MyDrive/Prostate_NIfTI_Cache/prostate_0020.nii.gz\n",
            "[INFO] Saved NIfTI: /content/drive/MyDrive/Prostate_NIfTI_Cache/prostate_0021.nii.gz\n",
            "[INFO] Saved NIfTI: /content/drive/MyDrive/Prostate_NIfTI_Cache/prostate_0022.nii.gz\n",
            "[INFO] Saved NIfTI: /content/drive/MyDrive/Prostate_NIfTI_Cache/prostate_0023.nii.gz\n",
            "[INFO] Saved NIfTI: /content/drive/MyDrive/Prostate_NIfTI_Cache/prostate_0024.nii.gz\n",
            "[INFO] Saved NIfTI: /content/drive/MyDrive/Prostate_NIfTI_Cache/prostate_0025.nii.gz\n",
            "[INFO] Saved NIfTI: /content/drive/MyDrive/Prostate_NIfTI_Cache/prostate_0026.nii.gz\n",
            "[INFO] Saved NIfTI: /content/drive/MyDrive/Prostate_NIfTI_Cache/prostate_0027.nii.gz\n",
            "[INFO] Saved NIfTI: /content/drive/MyDrive/Prostate_NIfTI_Cache/prostate_0028.nii.gz\n",
            "[INFO] Saved NIfTI: /content/drive/MyDrive/Prostate_NIfTI_Cache/prostate_0029.nii.gz\n",
            "[INFO] Saved NIfTI: /content/drive/MyDrive/Prostate_NIfTI_Cache/prostate_0030.nii.gz\n",
            "[INFO] Saved NIfTI: /content/drive/MyDrive/Prostate_NIfTI_Cache/prostate_0031.nii.gz\n",
            "[INFO] Saved NIfTI: /content/drive/MyDrive/Prostate_NIfTI_Cache/prostate_0032.nii.gz\n",
            "[INFO] Saved NIfTI: /content/drive/MyDrive/Prostate_NIfTI_Cache/prostate_0033.nii.gz\n",
            "[INFO] Saved NIfTI: /content/drive/MyDrive/Prostate_NIfTI_Cache/prostate_0034.nii.gz\n",
            "[INFO] Saved NIfTI: /content/drive/MyDrive/Prostate_NIfTI_Cache/prostate_0035.nii.gz\n",
            "[INFO] Saved NIfTI: /content/drive/MyDrive/Prostate_NIfTI_Cache/prostate_0036.nii.gz\n",
            "[INFO] Saved NIfTI: /content/drive/MyDrive/Prostate_NIfTI_Cache/prostate_0037.nii.gz\n",
            "[INFO] Saved NIfTI: /content/drive/MyDrive/Prostate_NIfTI_Cache/prostate_0038.nii.gz\n",
            "[INFO] Saved NIfTI: /content/drive/MyDrive/Prostate_NIfTI_Cache/prostate_0039.nii.gz\n",
            "[INFO] Saved NIfTI: /content/drive/MyDrive/Prostate_NIfTI_Cache/prostate_0040.nii.gz\n",
            "[INFO] Saved NIfTI: /content/drive/MyDrive/Prostate_NIfTI_Cache/prostate_0041.nii.gz\n",
            "[INFO] Saved NIfTI: /content/drive/MyDrive/Prostate_NIfTI_Cache/prostate_0042.nii.gz\n",
            "[INFO] Saved NIfTI: /content/drive/MyDrive/Prostate_NIfTI_Cache/prostate_0043.nii.gz\n",
            "[INFO] Saved NIfTI: /content/drive/MyDrive/Prostate_NIfTI_Cache/prostate_0044.nii.gz\n",
            "[INFO] Saved NIfTI: /content/drive/MyDrive/Prostate_NIfTI_Cache/prostate_0045.nii.gz\n",
            "[INFO] Saved NIfTI: /content/drive/MyDrive/Prostate_NIfTI_Cache/prostate_0046.nii.gz\n",
            "[INFO] Saved NIfTI: /content/drive/MyDrive/Prostate_NIfTI_Cache/prostate_0047.nii.gz\n",
            "[INFO] Saved NIfTI: /content/drive/MyDrive/Prostate_NIfTI_Cache/prostate_0048.nii.gz\n",
            "[INFO] Saved NIfTI: /content/drive/MyDrive/Prostate_NIfTI_Cache/prostate_0049.nii.gz\n",
            "[INFO] Saved NIfTI: /content/drive/MyDrive/Prostate_NIfTI_Cache/prostate_0050.nii.gz\n",
            "[INFO] Saved NIfTI: /content/drive/MyDrive/Prostate_NIfTI_Cache/prostate_0051.nii.gz\n",
            "[INFO] Saved NIfTI: /content/drive/MyDrive/Prostate_NIfTI_Cache/prostate_0052.nii.gz\n",
            "[INFO] Saved NIfTI: /content/drive/MyDrive/Prostate_NIfTI_Cache/prostate_0053.nii.gz\n",
            "[INFO] Saved NIfTI: /content/drive/MyDrive/Prostate_NIfTI_Cache/prostate_0054.nii.gz\n",
            "[INFO] Saved NIfTI: /content/drive/MyDrive/Prostate_NIfTI_Cache/prostate_0055.nii.gz\n",
            "[INFO] Saved NIfTI: /content/drive/MyDrive/Prostate_NIfTI_Cache/prostate_0056.nii.gz\n",
            "[INFO] Saved NIfTI: /content/drive/MyDrive/Prostate_NIfTI_Cache/prostate_0057.nii.gz\n",
            "[INFO] Saved NIfTI: /content/drive/MyDrive/Prostate_NIfTI_Cache/prostate_0058.nii.gz\n",
            "[INFO] Saved NIfTI: /content/drive/MyDrive/Prostate_NIfTI_Cache/prostate_0059.nii.gz\n",
            "[INFO] Saved NIfTI: /content/drive/MyDrive/Prostate_NIfTI_Cache/prostate_0060.nii.gz\n",
            "[INFO] Saved NIfTI: /content/drive/MyDrive/Prostate_NIfTI_Cache/prostate_0061.nii.gz\n",
            "[INFO] Saved NIfTI: /content/drive/MyDrive/Prostate_NIfTI_Cache/prostate_0062.nii.gz\n",
            "[INFO] Saved NIfTI: /content/drive/MyDrive/Prostate_NIfTI_Cache/prostate_0063.nii.gz\n",
            "[INFO] Saved NIfTI: /content/drive/MyDrive/Prostate_NIfTI_Cache/prostate_0064.nii.gz\n",
            "[INFO] Saved NIfTI: /content/drive/MyDrive/Prostate_NIfTI_Cache/prostate_0065.nii.gz\n",
            "[INFO] Saved NIfTI: /content/drive/MyDrive/Prostate_NIfTI_Cache/prostate_0066.nii.gz\n",
            "[INFO] Saved NIfTI: /content/drive/MyDrive/Prostate_NIfTI_Cache/prostate_0067.nii.gz\n",
            "[INFO] Saved NIfTI: /content/drive/MyDrive/Prostate_NIfTI_Cache/prostate_0068.nii.gz\n",
            "[INFO] Saved NIfTI: /content/drive/MyDrive/Prostate_NIfTI_Cache/prostate_0069.nii.gz\n",
            "[INFO] Saved NIfTI: /content/drive/MyDrive/Prostate_NIfTI_Cache/prostate_0070.nii.gz\n",
            "[INFO] Saved NIfTI: /content/drive/MyDrive/Prostate_NIfTI_Cache/prostate_0071.nii.gz\n",
            "[INFO] Saved NIfTI: /content/drive/MyDrive/Prostate_NIfTI_Cache/prostate_0072.nii.gz\n",
            "[INFO] Saved NIfTI: /content/drive/MyDrive/Prostate_NIfTI_Cache/prostate_0073.nii.gz\n",
            "[INFO] Saved NIfTI: /content/drive/MyDrive/Prostate_NIfTI_Cache/prostate_0074.nii.gz\n",
            "[INFO] Saved NIfTI: /content/drive/MyDrive/Prostate_NIfTI_Cache/prostate_0075.nii.gz\n",
            "[INFO] Saved NIfTI: /content/drive/MyDrive/Prostate_NIfTI_Cache/prostate_0076.nii.gz\n",
            "[INFO] Saved NIfTI: /content/drive/MyDrive/Prostate_NIfTI_Cache/prostate_0077.nii.gz\n",
            "[INFO] Saved NIfTI: /content/drive/MyDrive/Prostate_NIfTI_Cache/prostate_0078.nii.gz\n",
            "[INFO] Saved NIfTI: /content/drive/MyDrive/Prostate_NIfTI_Cache/prostate_0079.nii.gz\n",
            "[INFO] Saved NIfTI: /content/drive/MyDrive/Prostate_NIfTI_Cache/prostate_0080.nii.gz\n",
            "[INFO] Saved NIfTI: /content/drive/MyDrive/Prostate_NIfTI_Cache/prostate_0081.nii.gz\n",
            "[INFO] Saved NIfTI: /content/drive/MyDrive/Prostate_NIfTI_Cache/prostate_0082.nii.gz\n",
            "[INFO] Saved NIfTI: /content/drive/MyDrive/Prostate_NIfTI_Cache/prostate_0083.nii.gz\n",
            "[INFO] Saved NIfTI: /content/drive/MyDrive/Prostate_NIfTI_Cache/prostate_0084.nii.gz\n",
            "[INFO] Saved NIfTI: /content/drive/MyDrive/Prostate_NIfTI_Cache/prostate_0085.nii.gz\n",
            "[INFO] Saved NIfTI: /content/drive/MyDrive/Prostate_NIfTI_Cache/prostate_0086.nii.gz\n",
            "[INFO] Saved NIfTI: /content/drive/MyDrive/Prostate_NIfTI_Cache/prostate_0087.nii.gz\n",
            "[INFO] Saved NIfTI: /content/drive/MyDrive/Prostate_NIfTI_Cache/prostate_0088.nii.gz\n",
            "[INFO] Saved NIfTI: /content/drive/MyDrive/Prostate_NIfTI_Cache/prostate_0089.nii.gz\n",
            "[INFO] Saved NIfTI: /content/drive/MyDrive/Prostate_NIfTI_Cache/prostate_0090.nii.gz\n",
            "[INFO] Saved NIfTI: /content/drive/MyDrive/Prostate_NIfTI_Cache/prostate_0091.nii.gz\n",
            "[INFO] Saved NIfTI: /content/drive/MyDrive/Prostate_NIfTI_Cache/prostate_0092.nii.gz\n",
            "[INFO] Saved NIfTI: /content/drive/MyDrive/Prostate_NIfTI_Cache/prostate_0093.nii.gz\n",
            "[INFO] Saved NIfTI: /content/drive/MyDrive/Prostate_NIfTI_Cache/prostate_0094.nii.gz\n",
            "[INFO] Saved NIfTI: /content/drive/MyDrive/Prostate_NIfTI_Cache/prostate_0095.nii.gz\n",
            "[INFO] Saved NIfTI: /content/drive/MyDrive/Prostate_NIfTI_Cache/prostate_0096.nii.gz\n",
            "[INFO] Saved NIfTI: /content/drive/MyDrive/Prostate_NIfTI_Cache/prostate_0097.nii.gz\n",
            "[INFO] Saved NIfTI: /content/drive/MyDrive/Prostate_NIfTI_Cache/prostate_0098.nii.gz\n",
            "[INFO] Saved NIfTI: /content/drive/MyDrive/Prostate_NIfTI_Cache/prostate_0099.nii.gz\n",
            "[INFO] Saved NIfTI: /content/drive/MyDrive/Prostate_NIfTI_Cache/prostate_0100.nii.gz\n",
            "[INFO] Saved NIfTI: /content/drive/MyDrive/Prostate_NIfTI_Cache/prostate_0101.nii.gz\n",
            "[INFO] Saved NIfTI: /content/drive/MyDrive/Prostate_NIfTI_Cache/prostate_0102.nii.gz\n",
            "[INFO] Saved NIfTI: /content/drive/MyDrive/Prostate_NIfTI_Cache/prostate_0103.nii.gz\n",
            "[INFO] Saved NIfTI: /content/drive/MyDrive/Prostate_NIfTI_Cache/prostate_0104.nii.gz\n",
            "[INFO] Saved NIfTI: /content/drive/MyDrive/Prostate_NIfTI_Cache/prostate_0105.nii.gz\n",
            "[INFO] Saved NIfTI: /content/drive/MyDrive/Prostate_NIfTI_Cache/prostate_0106.nii.gz\n",
            "[INFO] Saved NIfTI: /content/drive/MyDrive/Prostate_NIfTI_Cache/prostate_0107.nii.gz\n",
            "[INFO] Saved NIfTI: /content/drive/MyDrive/Prostate_NIfTI_Cache/prostate_0108.nii.gz\n",
            "[INFO] Saved NIfTI: /content/drive/MyDrive/Prostate_NIfTI_Cache/prostate_0109.nii.gz\n",
            "[INFO] Saved NIfTI: /content/drive/MyDrive/Prostate_NIfTI_Cache/prostate_0110.nii.gz\n",
            "[INFO] Saved NIfTI: /content/drive/MyDrive/Prostate_NIfTI_Cache/prostate_0111.nii.gz\n",
            "[INFO] Saved NIfTI: /content/drive/MyDrive/Prostate_NIfTI_Cache/prostate_0112.nii.gz\n",
            "[INFO] Saved NIfTI: /content/drive/MyDrive/Prostate_NIfTI_Cache/prostate_0113.nii.gz\n",
            "[INFO] Saved NIfTI: /content/drive/MyDrive/Prostate_NIfTI_Cache/prostate_0114.nii.gz\n",
            "[INFO] Saved NIfTI: /content/drive/MyDrive/Prostate_NIfTI_Cache/prostate_0115.nii.gz\n",
            "[INFO] Saved NIfTI: /content/drive/MyDrive/Prostate_NIfTI_Cache/prostate_0116.nii.gz\n",
            "[INFO] Saved NIfTI: /content/drive/MyDrive/Prostate_NIfTI_Cache/prostate_0117.nii.gz\n",
            "[INFO] Saved NIfTI: /content/drive/MyDrive/Prostate_NIfTI_Cache/prostate_0118.nii.gz\n",
            "[INFO] Saved NIfTI: /content/drive/MyDrive/Prostate_NIfTI_Cache/prostate_0119.nii.gz\n",
            "[INFO] Saved NIfTI: /content/drive/MyDrive/Prostate_NIfTI_Cache/prostate_0120.nii.gz\n",
            "[INFO] Saved NIfTI: /content/drive/MyDrive/Prostate_NIfTI_Cache/prostate_0121.nii.gz\n",
            "[INFO] Saved NIfTI: /content/drive/MyDrive/Prostate_NIfTI_Cache/prostate_0122.nii.gz\n",
            "[INFO] Saved NIfTI: /content/drive/MyDrive/Prostate_NIfTI_Cache/prostate_0123.nii.gz\n",
            "[INFO] Saved NIfTI: /content/drive/MyDrive/Prostate_NIfTI_Cache/prostate_0124.nii.gz\n",
            "[INFO] Saved NIfTI: /content/drive/MyDrive/Prostate_NIfTI_Cache/prostate_0125.nii.gz\n",
            "[INFO] Saved NIfTI: /content/drive/MyDrive/Prostate_NIfTI_Cache/prostate_0126.nii.gz\n",
            "[INFO] Saved NIfTI: /content/drive/MyDrive/Prostate_NIfTI_Cache/prostate_0127.nii.gz\n",
            "[INFO] Saved NIfTI: /content/drive/MyDrive/Prostate_NIfTI_Cache/prostate_0128.nii.gz\n",
            "[INFO] Saved NIfTI: /content/drive/MyDrive/Prostate_NIfTI_Cache/prostate_0129.nii.gz\n",
            "[INFO] Saved NIfTI: /content/drive/MyDrive/Prostate_NIfTI_Cache/prostate_0130.nii.gz\n",
            "[INFO] Saved NIfTI: /content/drive/MyDrive/Prostate_NIfTI_Cache/prostate_0131.nii.gz\n",
            "[INFO] Saved NIfTI: /content/drive/MyDrive/Prostate_NIfTI_Cache/prostate_0132.nii.gz\n",
            "[INFO] Saved NIfTI: /content/drive/MyDrive/Prostate_NIfTI_Cache/prostate_0133.nii.gz\n",
            "[INFO] Saved NIfTI: /content/drive/MyDrive/Prostate_NIfTI_Cache/prostate_0134.nii.gz\n",
            "[INFO] Saved NIfTI: /content/drive/MyDrive/Prostate_NIfTI_Cache/prostate_0135.nii.gz\n",
            "[INFO] Saved NIfTI: /content/drive/MyDrive/Prostate_NIfTI_Cache/prostate_0136.nii.gz\n",
            "[INFO] Saved NIfTI: /content/drive/MyDrive/Prostate_NIfTI_Cache/prostate_0137.nii.gz\n",
            "[INFO] Saved NIfTI: /content/drive/MyDrive/Prostate_NIfTI_Cache/prostate_0138.nii.gz\n",
            "[INFO] Saved NIfTI: /content/drive/MyDrive/Prostate_NIfTI_Cache/prostate_0139.nii.gz\n",
            "[INFO] Saved NIfTI: /content/drive/MyDrive/Prostate_NIfTI_Cache/prostate_0140.nii.gz\n",
            "[INFO] Saved NIfTI: /content/drive/MyDrive/Prostate_NIfTI_Cache/prostate_0141.nii.gz\n",
            "[INFO] Saved NIfTI: /content/drive/MyDrive/Prostate_NIfTI_Cache/prostate_0142.nii.gz\n",
            "[INFO] Saved NIfTI: /content/drive/MyDrive/Prostate_NIfTI_Cache/prostate_0143.nii.gz\n",
            "[INFO] Saved NIfTI: /content/drive/MyDrive/Prostate_NIfTI_Cache/prostate_0144.nii.gz\n",
            "[INFO] Saved NIfTI: /content/drive/MyDrive/Prostate_NIfTI_Cache/prostate_0145.nii.gz\n",
            "[INFO] Saved NIfTI: /content/drive/MyDrive/Prostate_NIfTI_Cache/prostate_0146.nii.gz\n",
            "[INFO] Saved NIfTI: /content/drive/MyDrive/Prostate_NIfTI_Cache/prostate_0147.nii.gz\n",
            "[INFO] Saved NIfTI: /content/drive/MyDrive/Prostate_NIfTI_Cache/prostate_0148.nii.gz\n",
            "[INFO] Saved NIfTI: /content/drive/MyDrive/Prostate_NIfTI_Cache/prostate_0149.nii.gz\n",
            "[INFO] Saved NIfTI: /content/drive/MyDrive/Prostate_NIfTI_Cache/prostate_0150.nii.gz\n",
            "[INFO] Saved NIfTI: /content/drive/MyDrive/Prostate_NIfTI_Cache/prostate_0151.nii.gz\n",
            "[INFO] Saved NIfTI: /content/drive/MyDrive/Prostate_NIfTI_Cache/prostate_0152.nii.gz\n",
            "[INFO] Saved NIfTI: /content/drive/MyDrive/Prostate_NIfTI_Cache/prostate_0153.nii.gz\n",
            "[INFO] Saved NIfTI: /content/drive/MyDrive/Prostate_NIfTI_Cache/prostate_0154.nii.gz\n",
            "[INFO] Saved NIfTI: /content/drive/MyDrive/Prostate_NIfTI_Cache/prostate_0155.nii.gz\n",
            "[INFO] Saved NIfTI: /content/drive/MyDrive/Prostate_NIfTI_Cache/prostate_0156.nii.gz\n",
            "[INFO] Saved NIfTI: /content/drive/MyDrive/Prostate_NIfTI_Cache/prostate_0157.nii.gz\n",
            "[INFO] Saved NIfTI: /content/drive/MyDrive/Prostate_NIfTI_Cache/prostate_0158.nii.gz\n",
            "[INFO] Saved NIfTI: /content/drive/MyDrive/Prostate_NIfTI_Cache/prostate_0159.nii.gz\n",
            "[INFO] Saved NIfTI: /content/drive/MyDrive/Prostate_NIfTI_Cache/prostate_0160.nii.gz\n",
            "[INFO] Saved NIfTI: /content/drive/MyDrive/Prostate_NIfTI_Cache/prostate_0161.nii.gz\n",
            "[INFO] Saved NIfTI: /content/drive/MyDrive/Prostate_NIfTI_Cache/prostate_0162.nii.gz\n",
            "[INFO] Saved NIfTI: /content/drive/MyDrive/Prostate_NIfTI_Cache/prostate_0163.nii.gz\n",
            "[INFO] Saved NIfTI: /content/drive/MyDrive/Prostate_NIfTI_Cache/prostate_0164.nii.gz\n",
            "[INFO] Saved NIfTI: /content/drive/MyDrive/Prostate_NIfTI_Cache/prostate_0165.nii.gz\n",
            "[INFO] Saved NIfTI: /content/drive/MyDrive/Prostate_NIfTI_Cache/prostate_0166.nii.gz\n",
            "[INFO] Saved NIfTI: /content/drive/MyDrive/Prostate_NIfTI_Cache/prostate_0167.nii.gz\n",
            "[INFO] Saved NIfTI: /content/drive/MyDrive/Prostate_NIfTI_Cache/prostate_0168.nii.gz\n",
            "[INFO] Saved NIfTI: /content/drive/MyDrive/Prostate_NIfTI_Cache/prostate_0169.nii.gz\n",
            "[INFO] Saved NIfTI: /content/drive/MyDrive/Prostate_NIfTI_Cache/prostate_0170.nii.gz\n",
            "[INFO] Saved NIfTI: /content/drive/MyDrive/Prostate_NIfTI_Cache/prostate_0171.nii.gz\n",
            "[INFO] Saved NIfTI: /content/drive/MyDrive/Prostate_NIfTI_Cache/prostate_0172.nii.gz\n",
            "[INFO] Saved NIfTI: /content/drive/MyDrive/Prostate_NIfTI_Cache/prostate_0173.nii.gz\n",
            "[INFO] Saved NIfTI: /content/drive/MyDrive/Prostate_NIfTI_Cache/prostate_0174.nii.gz\n",
            "[INFO] Saved NIfTI: /content/drive/MyDrive/Prostate_NIfTI_Cache/prostate_0175.nii.gz\n",
            "[INFO] Saved NIfTI: /content/drive/MyDrive/Prostate_NIfTI_Cache/prostate_0176.nii.gz\n",
            "[INFO] Saved NIfTI: /content/drive/MyDrive/Prostate_NIfTI_Cache/prostate_0177.nii.gz\n",
            "[INFO] Saved NIfTI: /content/drive/MyDrive/Prostate_NIfTI_Cache/prostate_0178.nii.gz\n",
            "[INFO] Saved NIfTI: /content/drive/MyDrive/Prostate_NIfTI_Cache/prostate_0179.nii.gz\n",
            "[INFO] Saved NIfTI: /content/drive/MyDrive/Prostate_NIfTI_Cache/prostate_0180.nii.gz\n",
            "[INFO] Saved NIfTI: /content/drive/MyDrive/Prostate_NIfTI_Cache/prostate_0181.nii.gz\n",
            "[INFO] Saved NIfTI: /content/drive/MyDrive/Prostate_NIfTI_Cache/prostate_0182.nii.gz\n",
            "[INFO] Saved NIfTI: /content/drive/MyDrive/Prostate_NIfTI_Cache/prostate_0183.nii.gz\n",
            "[INFO] Saved NIfTI: /content/drive/MyDrive/Prostate_NIfTI_Cache/prostate_0184.nii.gz\n",
            "[INFO] Saved NIfTI: /content/drive/MyDrive/Prostate_NIfTI_Cache/prostate_0185.nii.gz\n",
            "[INFO] Saved NIfTI: /content/drive/MyDrive/Prostate_NIfTI_Cache/prostate_0186.nii.gz\n",
            "[INFO] Total matched records: 187\n"
          ]
        }
      ]
    },
    {
      "cell_type": "code",
      "source": [
        "\n",
        "# Save images & labels as NIfTI in nnUNet format\n",
        "for idx, (image, label) in enumerate(tqdm(zip(images, labels), desc=\"Saving NIfTI files\", total=len(images))):\n",
        "    affine = np.eye(4)  # Default affine matrix\n",
        "\n",
        "    # Ensure image is in (1, 128, 128) format\n",
        "    if image.ndim == 2:\n",
        "        print(f\"⚠️ Image {idx} is 2D. Expanding to 3D...\")\n",
        "        image = np.expand_dims(image, axis=0)  # Convert (H, W) → (1, H, W)\n",
        "\n",
        "    image_nifti = nib.Nifti1Image(image, affine)\n",
        "    image_nifti.header.set_zooms((1.0, 1.0, 1.0))  # Set correct spacing\n",
        "    nib.save(image_nifti, os.path.join(IMAGES_TR_PATH, f\"prostate_{idx:04d}_0000.nii.gz\"))\n",
        "\n",
        "    # Convert `label` to an integer and ensure shape (1, 128, 128)\n",
        "    label_array = np.full((1, 128, 128), int(label), dtype=np.int16)  # Create a full array instead of (1,1)\n",
        "\n",
        "    label_nifti = nib.Nifti1Image(label_array, affine)\n",
        "    label_nifti.header.set_zooms((1.0, 1.0, 1.0))  # Match spacing to images\n",
        "    nib.save(label_nifti, os.path.join(LABELS_TR_PATH, f\"prostate_{idx:04d}.nii.gz\"))\n",
        "\n",
        "    print(f\"[INFO] Saved Image: prostate_{idx:04d}_0000.nii.gz, Label: prostate_{idx:04d}.nii.gz\")\n"
      ],
      "metadata": {
        "colab": {
          "base_uri": "https://localhost:8080/"
        },
        "id": "kP8Vth0ODylj",
        "outputId": "3962c2f1-62eb-4cdc-e96c-bfefb37c2471"
      },
      "execution_count": 46,
      "outputs": [
        {
          "output_type": "stream",
          "name": "stderr",
          "text": [
            "Saving NIfTI files:   3%|▎         | 5/187 [00:00<00:03, 46.00it/s]"
          ]
        },
        {
          "output_type": "stream",
          "name": "stdout",
          "text": [
            "[INFO] Saved Image: prostate_0000_0000.nii.gz, Label: prostate_0000.nii.gz\n",
            "[INFO] Saved Image: prostate_0001_0000.nii.gz, Label: prostate_0001.nii.gz\n",
            "[INFO] Saved Image: prostate_0002_0000.nii.gz, Label: prostate_0002.nii.gz\n",
            "[INFO] Saved Image: prostate_0003_0000.nii.gz, Label: prostate_0003.nii.gz\n",
            "[INFO] Saved Image: prostate_0004_0000.nii.gz, Label: prostate_0004.nii.gz\n",
            "[INFO] Saved Image: prostate_0005_0000.nii.gz, Label: prostate_0005.nii.gz\n",
            "[INFO] Saved Image: prostate_0006_0000.nii.gz, Label: prostate_0006.nii.gz\n",
            "[INFO] Saved Image: prostate_0007_0000.nii.gz, Label: prostate_0007.nii.gz\n",
            "[INFO] Saved Image: prostate_0008_0000.nii.gz, Label: prostate_0008.nii.gz\n"
          ]
        },
        {
          "output_type": "stream",
          "name": "stderr",
          "text": [
            "Saving NIfTI files:   8%|▊         | 15/187 [00:00<00:04, 40.68it/s]"
          ]
        },
        {
          "output_type": "stream",
          "name": "stdout",
          "text": [
            "[INFO] Saved Image: prostate_0009_0000.nii.gz, Label: prostate_0009.nii.gz\n",
            "[INFO] Saved Image: prostate_0010_0000.nii.gz, Label: prostate_0010.nii.gz\n",
            "[INFO] Saved Image: prostate_0011_0000.nii.gz, Label: prostate_0011.nii.gz\n",
            "[INFO] Saved Image: prostate_0012_0000.nii.gz, Label: prostate_0012.nii.gz\n",
            "[INFO] Saved Image: prostate_0013_0000.nii.gz, Label: prostate_0013.nii.gz\n",
            "[INFO] Saved Image: prostate_0014_0000.nii.gz, Label: prostate_0014.nii.gz\n",
            "[INFO] Saved Image: prostate_0015_0000.nii.gz, Label: prostate_0015.nii.gz\n",
            "[INFO] Saved Image: prostate_0016_0000.nii.gz, Label: prostate_0016.nii.gz\n",
            "[INFO] Saved Image: prostate_0017_0000.nii.gz, Label: prostate_0017.nii.gz\n",
            "[INFO] Saved Image: prostate_0018_0000.nii.gz, Label: prostate_0018.nii.gz\n"
          ]
        },
        {
          "output_type": "stream",
          "name": "stderr",
          "text": [
            "Saving NIfTI files:  14%|█▍        | 26/187 [00:00<00:03, 44.30it/s]"
          ]
        },
        {
          "output_type": "stream",
          "name": "stdout",
          "text": [
            "[INFO] Saved Image: prostate_0019_0000.nii.gz, Label: prostate_0019.nii.gz\n",
            "[INFO] Saved Image: prostate_0020_0000.nii.gz, Label: prostate_0020.nii.gz\n",
            "[INFO] Saved Image: prostate_0021_0000.nii.gz, Label: prostate_0021.nii.gz\n",
            "[INFO] Saved Image: prostate_0022_0000.nii.gz, Label: prostate_0022.nii.gz\n",
            "[INFO] Saved Image: prostate_0023_0000.nii.gz, Label: prostate_0023.nii.gz\n",
            "[INFO] Saved Image: prostate_0024_0000.nii.gz, Label: prostate_0024.nii.gz\n",
            "[INFO] Saved Image: prostate_0025_0000.nii.gz, Label: prostate_0025.nii.gz\n",
            "[INFO] Saved Image: prostate_0026_0000.nii.gz, Label: prostate_0026.nii.gz\n",
            "[INFO] Saved Image: prostate_0027_0000.nii.gz, Label: prostate_0027.nii.gz\n"
          ]
        },
        {
          "output_type": "stream",
          "name": "stderr",
          "text": [
            "Saving NIfTI files:  19%|█▉        | 36/187 [00:00<00:03, 41.02it/s]"
          ]
        },
        {
          "output_type": "stream",
          "name": "stdout",
          "text": [
            "[INFO] Saved Image: prostate_0028_0000.nii.gz, Label: prostate_0028.nii.gz\n",
            "[INFO] Saved Image: prostate_0029_0000.nii.gz, Label: prostate_0029.nii.gz\n",
            "[INFO] Saved Image: prostate_0030_0000.nii.gz, Label: prostate_0030.nii.gz\n",
            "[INFO] Saved Image: prostate_0031_0000.nii.gz, Label: prostate_0031.nii.gz\n",
            "[INFO] Saved Image: prostate_0032_0000.nii.gz, Label: prostate_0032.nii.gz\n",
            "[INFO] Saved Image: prostate_0033_0000.nii.gz, Label: prostate_0033.nii.gz\n",
            "[INFO] Saved Image: prostate_0034_0000.nii.gz, Label: prostate_0034.nii.gz\n",
            "[INFO] Saved Image: prostate_0035_0000.nii.gz, Label: prostate_0035.nii.gz\n",
            "[INFO] Saved Image: prostate_0036_0000.nii.gz, Label: prostate_0036.nii.gz\n"
          ]
        },
        {
          "output_type": "stream",
          "name": "stderr",
          "text": [
            "\rSaving NIfTI files:  22%|██▏       | 42/187 [00:00<00:03, 42.40it/s]"
          ]
        },
        {
          "output_type": "stream",
          "name": "stdout",
          "text": [
            "[INFO] Saved Image: prostate_0037_0000.nii.gz, Label: prostate_0037.nii.gz\n",
            "[INFO] Saved Image: prostate_0038_0000.nii.gz, Label: prostate_0038.nii.gz\n",
            "[INFO] Saved Image: prostate_0039_0000.nii.gz, Label: prostate_0039.nii.gz\n",
            "[INFO] Saved Image: prostate_0040_0000.nii.gz, Label: prostate_0040.nii.gz\n",
            "[INFO] Saved Image: prostate_0041_0000.nii.gz, Label: prostate_0041.nii.gz\n",
            "[INFO] Saved Image: prostate_0042_0000.nii.gz, Label: prostate_0042.nii.gz\n",
            "[INFO] Saved Image: prostate_0043_0000.nii.gz, Label: prostate_0043.nii.gz\n",
            "[INFO] Saved Image: prostate_0044_0000.nii.gz, Label: prostate_0044.nii.gz\n",
            "[INFO] Saved Image: prostate_0045_0000.nii.gz, Label: prostate_0045.nii.gz\n",
            "[INFO] Saved Image: prostate_0046_0000.nii.gz, Label: prostate_0046.nii.gz\n"
          ]
        },
        {
          "output_type": "stream",
          "name": "stderr",
          "text": [
            "Saving NIfTI files:  28%|██▊       | 53/187 [00:01<00:03, 44.15it/s]"
          ]
        },
        {
          "output_type": "stream",
          "name": "stdout",
          "text": [
            "[INFO] Saved Image: prostate_0047_0000.nii.gz, Label: prostate_0047.nii.gz\n",
            "[INFO] Saved Image: prostate_0048_0000.nii.gz, Label: prostate_0048.nii.gz\n",
            "[INFO] Saved Image: prostate_0049_0000.nii.gz, Label: prostate_0049.nii.gz\n",
            "[INFO] Saved Image: prostate_0050_0000.nii.gz, Label: prostate_0050.nii.gz\n",
            "[INFO] Saved Image: prostate_0051_0000.nii.gz, Label: prostate_0051.nii.gz\n",
            "[INFO] Saved Image: prostate_0052_0000.nii.gz, Label: prostate_0052.nii.gz\n",
            "[INFO] Saved Image: prostate_0053_0000.nii.gz, Label: prostate_0053.nii.gz\n",
            "[INFO] Saved Image: prostate_0054_0000.nii.gz, Label: prostate_0054.nii.gz\n",
            "[INFO] Saved Image: prostate_0055_0000.nii.gz, Label: prostate_0055.nii.gz\n"
          ]
        },
        {
          "output_type": "stream",
          "name": "stderr",
          "text": [
            "Saving NIfTI files:  34%|███▎      | 63/187 [00:01<00:02, 43.48it/s]"
          ]
        },
        {
          "output_type": "stream",
          "name": "stdout",
          "text": [
            "[INFO] Saved Image: prostate_0056_0000.nii.gz, Label: prostate_0056.nii.gz\n",
            "[INFO] Saved Image: prostate_0057_0000.nii.gz, Label: prostate_0057.nii.gz\n",
            "[INFO] Saved Image: prostate_0058_0000.nii.gz, Label: prostate_0058.nii.gz\n",
            "[INFO] Saved Image: prostate_0059_0000.nii.gz, Label: prostate_0059.nii.gz\n",
            "[INFO] Saved Image: prostate_0060_0000.nii.gz, Label: prostate_0060.nii.gz\n",
            "[INFO] Saved Image: prostate_0061_0000.nii.gz, Label: prostate_0061.nii.gz\n",
            "[INFO] Saved Image: prostate_0062_0000.nii.gz, Label: prostate_0062.nii.gz\n",
            "[INFO] Saved Image: prostate_0063_0000.nii.gz, Label: prostate_0063.nii.gz\n",
            "[INFO] Saved Image: prostate_0064_0000.nii.gz, Label: prostate_0064.nii.gz\n",
            "[INFO] Saved Image: prostate_0065_0000.nii.gz, Label: prostate_0065.nii.gz\n"
          ]
        },
        {
          "output_type": "stream",
          "name": "stderr",
          "text": [
            "Saving NIfTI files:  39%|███▉      | 73/187 [00:01<00:02, 43.69it/s]"
          ]
        },
        {
          "output_type": "stream",
          "name": "stdout",
          "text": [
            "[INFO] Saved Image: prostate_0066_0000.nii.gz, Label: prostate_0066.nii.gz\n",
            "[INFO] Saved Image: prostate_0067_0000.nii.gz, Label: prostate_0067.nii.gz\n",
            "[INFO] Saved Image: prostate_0068_0000.nii.gz, Label: prostate_0068.nii.gz\n",
            "[INFO] Saved Image: prostate_0069_0000.nii.gz, Label: prostate_0069.nii.gz\n",
            "[INFO] Saved Image: prostate_0070_0000.nii.gz, Label: prostate_0070.nii.gz\n",
            "[INFO] Saved Image: prostate_0071_0000.nii.gz, Label: prostate_0071.nii.gz\n",
            "[INFO] Saved Image: prostate_0072_0000.nii.gz, Label: prostate_0072.nii.gz\n",
            "[INFO] Saved Image: prostate_0073_0000.nii.gz, Label: prostate_0073.nii.gz\n",
            "[INFO] Saved Image: prostate_0074_0000.nii.gz, Label: prostate_0074.nii.gz\n",
            "[INFO] Saved Image: prostate_0075_0000.nii.gz, Label: prostate_0075.nii.gz\n"
          ]
        },
        {
          "output_type": "stream",
          "name": "stderr",
          "text": [
            "Saving NIfTI files:  44%|████▍     | 83/187 [00:01<00:02, 43.22it/s]"
          ]
        },
        {
          "output_type": "stream",
          "name": "stdout",
          "text": [
            "[INFO] Saved Image: prostate_0076_0000.nii.gz, Label: prostate_0076.nii.gz\n",
            "[INFO] Saved Image: prostate_0077_0000.nii.gz, Label: prostate_0077.nii.gz\n",
            "[INFO] Saved Image: prostate_0078_0000.nii.gz, Label: prostate_0078.nii.gz\n",
            "[INFO] Saved Image: prostate_0079_0000.nii.gz, Label: prostate_0079.nii.gz\n",
            "[INFO] Saved Image: prostate_0080_0000.nii.gz, Label: prostate_0080.nii.gz\n",
            "[INFO] Saved Image: prostate_0081_0000.nii.gz, Label: prostate_0081.nii.gz\n",
            "[INFO] Saved Image: prostate_0082_0000.nii.gz, Label: prostate_0082.nii.gz\n",
            "[INFO] Saved Image: prostate_0083_0000.nii.gz, Label: prostate_0083.nii.gz\n",
            "[INFO] Saved Image: prostate_0084_0000.nii.gz, Label: prostate_0084.nii.gz\n"
          ]
        },
        {
          "output_type": "stream",
          "name": "stderr",
          "text": [
            "Saving NIfTI files:  50%|████▉     | 93/187 [00:02<00:02, 41.57it/s]"
          ]
        },
        {
          "output_type": "stream",
          "name": "stdout",
          "text": [
            "[INFO] Saved Image: prostate_0085_0000.nii.gz, Label: prostate_0085.nii.gz\n",
            "[INFO] Saved Image: prostate_0086_0000.nii.gz, Label: prostate_0086.nii.gz\n",
            "[INFO] Saved Image: prostate_0087_0000.nii.gz, Label: prostate_0087.nii.gz\n",
            "[INFO] Saved Image: prostate_0088_0000.nii.gz, Label: prostate_0088.nii.gz\n",
            "[INFO] Saved Image: prostate_0089_0000.nii.gz, Label: prostate_0089.nii.gz\n",
            "[INFO] Saved Image: prostate_0090_0000.nii.gz, Label: prostate_0090.nii.gz\n",
            "[INFO] Saved Image: prostate_0091_0000.nii.gz, Label: prostate_0091.nii.gz\n",
            "[INFO] Saved Image: prostate_0092_0000.nii.gz, Label: prostate_0092.nii.gz\n",
            "[INFO] Saved Image: prostate_0093_0000.nii.gz, Label: prostate_0093.nii.gz\n"
          ]
        },
        {
          "output_type": "stream",
          "name": "stderr",
          "text": [
            "Saving NIfTI files:  55%|█████▌    | 103/187 [00:02<00:01, 44.07it/s]"
          ]
        },
        {
          "output_type": "stream",
          "name": "stdout",
          "text": [
            "[INFO] Saved Image: prostate_0094_0000.nii.gz, Label: prostate_0094.nii.gz\n",
            "[INFO] Saved Image: prostate_0095_0000.nii.gz, Label: prostate_0095.nii.gz\n",
            "[INFO] Saved Image: prostate_0096_0000.nii.gz, Label: prostate_0096.nii.gz\n",
            "[INFO] Saved Image: prostate_0097_0000.nii.gz, Label: prostate_0097.nii.gz\n",
            "[INFO] Saved Image: prostate_0098_0000.nii.gz, Label: prostate_0098.nii.gz\n",
            "[INFO] Saved Image: prostate_0099_0000.nii.gz, Label: prostate_0099.nii.gz\n",
            "[INFO] Saved Image: prostate_0100_0000.nii.gz, Label: prostate_0100.nii.gz\n",
            "[INFO] Saved Image: prostate_0101_0000.nii.gz, Label: prostate_0101.nii.gz\n",
            "[INFO] Saved Image: prostate_0102_0000.nii.gz, Label: prostate_0102.nii.gz\n",
            "[INFO] Saved Image: prostate_0103_0000.nii.gz, Label: prostate_0103.nii.gz\n"
          ]
        },
        {
          "output_type": "stream",
          "name": "stderr",
          "text": [
            "Saving NIfTI files:  60%|██████    | 113/187 [00:02<00:01, 42.73it/s]"
          ]
        },
        {
          "output_type": "stream",
          "name": "stdout",
          "text": [
            "[INFO] Saved Image: prostate_0104_0000.nii.gz, Label: prostate_0104.nii.gz\n",
            "[INFO] Saved Image: prostate_0105_0000.nii.gz, Label: prostate_0105.nii.gz\n",
            "[INFO] Saved Image: prostate_0106_0000.nii.gz, Label: prostate_0106.nii.gz\n",
            "[INFO] Saved Image: prostate_0107_0000.nii.gz, Label: prostate_0107.nii.gz\n",
            "[INFO] Saved Image: prostate_0108_0000.nii.gz, Label: prostate_0108.nii.gz\n",
            "[INFO] Saved Image: prostate_0109_0000.nii.gz, Label: prostate_0109.nii.gz\n",
            "[INFO] Saved Image: prostate_0110_0000.nii.gz, Label: prostate_0110.nii.gz\n",
            "[INFO] Saved Image: prostate_0111_0000.nii.gz, Label: prostate_0111.nii.gz\n",
            "[INFO] Saved Image: prostate_0112_0000.nii.gz, Label: prostate_0112.nii.gz\n",
            "[INFO] Saved Image: prostate_0113_0000.nii.gz, Label: prostate_0113.nii.gz\n"
          ]
        },
        {
          "output_type": "stream",
          "name": "stderr",
          "text": [
            "Saving NIfTI files:  66%|██████▌   | 123/187 [00:02<00:01, 43.87it/s]"
          ]
        },
        {
          "output_type": "stream",
          "name": "stdout",
          "text": [
            "[INFO] Saved Image: prostate_0114_0000.nii.gz, Label: prostate_0114.nii.gz\n",
            "[INFO] Saved Image: prostate_0115_0000.nii.gz, Label: prostate_0115.nii.gz\n",
            "[INFO] Saved Image: prostate_0116_0000.nii.gz, Label: prostate_0116.nii.gz\n",
            "[INFO] Saved Image: prostate_0117_0000.nii.gz, Label: prostate_0117.nii.gz\n",
            "[INFO] Saved Image: prostate_0118_0000.nii.gz, Label: prostate_0118.nii.gz\n",
            "[INFO] Saved Image: prostate_0119_0000.nii.gz, Label: prostate_0119.nii.gz\n",
            "[INFO] Saved Image: prostate_0120_0000.nii.gz, Label: prostate_0120.nii.gz\n",
            "[INFO] Saved Image: prostate_0121_0000.nii.gz, Label: prostate_0121.nii.gz\n",
            "[INFO] Saved Image: prostate_0122_0000.nii.gz, Label: prostate_0122.nii.gz\n"
          ]
        },
        {
          "output_type": "stream",
          "name": "stderr",
          "text": [
            "\rSaving NIfTI files:  68%|██████▊   | 128/187 [00:02<00:01, 42.16it/s]"
          ]
        },
        {
          "output_type": "stream",
          "name": "stdout",
          "text": [
            "[INFO] Saved Image: prostate_0123_0000.nii.gz, Label: prostate_0123.nii.gz\n",
            "[INFO] Saved Image: prostate_0124_0000.nii.gz, Label: prostate_0124.nii.gz\n",
            "[INFO] Saved Image: prostate_0125_0000.nii.gz, Label: prostate_0125.nii.gz\n",
            "[INFO] Saved Image: prostate_0126_0000.nii.gz, Label: prostate_0126.nii.gz\n",
            "[INFO] Saved Image: prostate_0127_0000.nii.gz, Label: prostate_0127.nii.gz\n",
            "[INFO] Saved Image: prostate_0128_0000.nii.gz, Label: prostate_0128.nii.gz\n",
            "[INFO] Saved Image: prostate_0129_0000.nii.gz, Label: prostate_0129.nii.gz\n",
            "[INFO] Saved Image: prostate_0130_0000.nii.gz, Label: prostate_0130.nii.gz\n",
            "[INFO] Saved Image: prostate_0131_0000.nii.gz, Label: prostate_0131.nii.gz\n"
          ]
        },
        {
          "output_type": "stream",
          "name": "stderr",
          "text": [
            "Saving NIfTI files:  74%|███████▍  | 138/187 [00:03<00:01, 43.94it/s]"
          ]
        },
        {
          "output_type": "stream",
          "name": "stdout",
          "text": [
            "[INFO] Saved Image: prostate_0132_0000.nii.gz, Label: prostate_0132.nii.gz\n",
            "[INFO] Saved Image: prostate_0133_0000.nii.gz, Label: prostate_0133.nii.gz\n",
            "[INFO] Saved Image: prostate_0134_0000.nii.gz, Label: prostate_0134.nii.gz\n",
            "[INFO] Saved Image: prostate_0135_0000.nii.gz, Label: prostate_0135.nii.gz\n",
            "[INFO] Saved Image: prostate_0136_0000.nii.gz, Label: prostate_0136.nii.gz\n",
            "[INFO] Saved Image: prostate_0137_0000.nii.gz, Label: prostate_0137.nii.gz\n",
            "[INFO] Saved Image: prostate_0138_0000.nii.gz, Label: prostate_0138.nii.gz\n",
            "[INFO] Saved Image: prostate_0139_0000.nii.gz, Label: prostate_0139.nii.gz\n",
            "[INFO] Saved Image: prostate_0140_0000.nii.gz, Label: prostate_0140.nii.gz\n"
          ]
        },
        {
          "output_type": "stream",
          "name": "stderr",
          "text": [
            "Saving NIfTI files:  79%|███████▉  | 148/187 [00:03<00:00, 42.49it/s]"
          ]
        },
        {
          "output_type": "stream",
          "name": "stdout",
          "text": [
            "[INFO] Saved Image: prostate_0141_0000.nii.gz, Label: prostate_0141.nii.gz\n",
            "[INFO] Saved Image: prostate_0142_0000.nii.gz, Label: prostate_0142.nii.gz\n",
            "[INFO] Saved Image: prostate_0143_0000.nii.gz, Label: prostate_0143.nii.gz\n",
            "[INFO] Saved Image: prostate_0144_0000.nii.gz, Label: prostate_0144.nii.gz\n",
            "[INFO] Saved Image: prostate_0145_0000.nii.gz, Label: prostate_0145.nii.gz\n",
            "[INFO] Saved Image: prostate_0146_0000.nii.gz, Label: prostate_0146.nii.gz\n",
            "[INFO] Saved Image: prostate_0147_0000.nii.gz, Label: prostate_0147.nii.gz\n",
            "[INFO] Saved Image: prostate_0148_0000.nii.gz, Label: prostate_0148.nii.gz\n",
            "[INFO] Saved Image: prostate_0149_0000.nii.gz, Label: prostate_0149.nii.gz\n",
            "[INFO] Saved Image: prostate_0150_0000.nii.gz, Label: prostate_0150.nii.gz\n"
          ]
        },
        {
          "output_type": "stream",
          "name": "stderr",
          "text": [
            "Saving NIfTI files:  85%|████████▌ | 159/187 [00:03<00:00, 45.07it/s]"
          ]
        },
        {
          "output_type": "stream",
          "name": "stdout",
          "text": [
            "[INFO] Saved Image: prostate_0151_0000.nii.gz, Label: prostate_0151.nii.gz\n",
            "[INFO] Saved Image: prostate_0152_0000.nii.gz, Label: prostate_0152.nii.gz\n",
            "[INFO] Saved Image: prostate_0153_0000.nii.gz, Label: prostate_0153.nii.gz\n",
            "[INFO] Saved Image: prostate_0154_0000.nii.gz, Label: prostate_0154.nii.gz\n",
            "[INFO] Saved Image: prostate_0155_0000.nii.gz, Label: prostate_0155.nii.gz\n",
            "[INFO] Saved Image: prostate_0156_0000.nii.gz, Label: prostate_0156.nii.gz\n",
            "[INFO] Saved Image: prostate_0157_0000.nii.gz, Label: prostate_0157.nii.gz\n",
            "[INFO] Saved Image: prostate_0158_0000.nii.gz, Label: prostate_0158.nii.gz\n",
            "[INFO] Saved Image: prostate_0159_0000.nii.gz, Label: prostate_0159.nii.gz\n"
          ]
        },
        {
          "output_type": "stream",
          "name": "stderr",
          "text": [
            "Saving NIfTI files:  90%|█████████ | 169/187 [00:03<00:00, 42.00it/s]"
          ]
        },
        {
          "output_type": "stream",
          "name": "stdout",
          "text": [
            "[INFO] Saved Image: prostate_0160_0000.nii.gz, Label: prostate_0160.nii.gz\n",
            "[INFO] Saved Image: prostate_0161_0000.nii.gz, Label: prostate_0161.nii.gz\n",
            "[INFO] Saved Image: prostate_0162_0000.nii.gz, Label: prostate_0162.nii.gz\n",
            "[INFO] Saved Image: prostate_0163_0000.nii.gz, Label: prostate_0163.nii.gz\n",
            "[INFO] Saved Image: prostate_0164_0000.nii.gz, Label: prostate_0164.nii.gz\n",
            "[INFO] Saved Image: prostate_0165_0000.nii.gz, Label: prostate_0165.nii.gz\n",
            "[INFO] Saved Image: prostate_0166_0000.nii.gz, Label: prostate_0166.nii.gz\n",
            "[INFO] Saved Image: prostate_0167_0000.nii.gz, Label: prostate_0167.nii.gz\n",
            "[INFO] Saved Image: prostate_0168_0000.nii.gz, Label: prostate_0168.nii.gz\n"
          ]
        },
        {
          "output_type": "stream",
          "name": "stderr",
          "text": [
            "\rSaving NIfTI files:  93%|█████████▎| 174/187 [00:04<00:00, 39.12it/s]"
          ]
        },
        {
          "output_type": "stream",
          "name": "stdout",
          "text": [
            "[INFO] Saved Image: prostate_0169_0000.nii.gz, Label: prostate_0169.nii.gz\n",
            "[INFO] Saved Image: prostate_0170_0000.nii.gz, Label: prostate_0170.nii.gz\n",
            "[INFO] Saved Image: prostate_0171_0000.nii.gz, Label: prostate_0171.nii.gz\n",
            "[INFO] Saved Image: prostate_0172_0000.nii.gz, Label: prostate_0172.nii.gz\n",
            "[INFO] Saved Image: prostate_0173_0000.nii.gz, Label: prostate_0173.nii.gz\n",
            "[INFO] Saved Image: prostate_0174_0000.nii.gz, Label: prostate_0174.nii.gz\n",
            "[INFO] Saved Image: prostate_0175_0000.nii.gz, Label: prostate_0175.nii.gz\n",
            "[INFO] Saved Image: prostate_0176_0000.nii.gz, Label: prostate_0176.nii.gz\n"
          ]
        },
        {
          "output_type": "stream",
          "name": "stderr",
          "text": [
            "Saving NIfTI files:  98%|█████████▊| 184/187 [00:04<00:00, 40.59it/s]"
          ]
        },
        {
          "output_type": "stream",
          "name": "stdout",
          "text": [
            "[INFO] Saved Image: prostate_0177_0000.nii.gz, Label: prostate_0177.nii.gz\n",
            "[INFO] Saved Image: prostate_0178_0000.nii.gz, Label: prostate_0178.nii.gz\n",
            "[INFO] Saved Image: prostate_0179_0000.nii.gz, Label: prostate_0179.nii.gz\n",
            "[INFO] Saved Image: prostate_0180_0000.nii.gz, Label: prostate_0180.nii.gz\n",
            "[INFO] Saved Image: prostate_0181_0000.nii.gz, Label: prostate_0181.nii.gz\n",
            "[INFO] Saved Image: prostate_0182_0000.nii.gz, Label: prostate_0182.nii.gz\n",
            "[INFO] Saved Image: prostate_0183_0000.nii.gz, Label: prostate_0183.nii.gz\n",
            "[INFO] Saved Image: prostate_0184_0000.nii.gz, Label: prostate_0184.nii.gz\n",
            "[INFO] Saved Image: prostate_0185_0000.nii.gz, Label: prostate_0185.nii.gz\n"
          ]
        },
        {
          "output_type": "stream",
          "name": "stderr",
          "text": [
            "\rSaving NIfTI files: 100%|██████████| 187/187 [00:04<00:00, 42.61it/s]"
          ]
        },
        {
          "output_type": "stream",
          "name": "stdout",
          "text": [
            "[INFO] Saved Image: prostate_0186_0000.nii.gz, Label: prostate_0186.nii.gz\n"
          ]
        },
        {
          "output_type": "stream",
          "name": "stderr",
          "text": [
            "\n"
          ]
        }
      ]
    },
    {
      "cell_type": "code",
      "source": [
        "import os\n",
        "import json\n",
        "import subprocess\n",
        "\n",
        "# Define paths\n",
        "BASE_PATH = \"/content/drive/MyDrive/nnUNet_raw\"\n",
        "DATASET_PATH = os.path.join(BASE_PATH, \"Dataset500_ProstateX\")\n",
        "IMAGES_TR_PATH = os.path.join(DATASET_PATH, \"imagesTr\")\n",
        "LABELS_TR_PATH = os.path.join(DATASET_PATH, \"labelsTr\")\n",
        "PREPROCESSED_PATH = \"/content/drive/MyDrive/nnUNet_preprocessed\"\n",
        "RESULTS_PATH = \"/content/drive/MyDrive/nnUNet_results\"\n",
        "PREDICTIONS_PATH = \"/content/drive/MyDrive/nnUNet_predictions\"\n",
        "\n",
        "# Ensure dataset is in the correct location\n",
        "if not os.path.exists(DATASET_PATH):\n",
        "    print(f\"[ERROR] Dataset path {DATASET_PATH} does not exist! Ensure it is placed correctly inside nnUNet_raw.\")\n",
        "    exit(1)\n",
        "\n",
        "# Set nnUNet environment variables\n",
        "os.environ[\"nnUNet_raw\"] = BASE_PATH\n",
        "os.environ[\"nnUNet_preprocessed\"] = PREPROCESSED_PATH\n",
        "os.environ[\"nnUNet_results\"] = RESULTS_PATH\n",
        "\n",
        "# Verify environment variables\n",
        "print(\"[INFO] Environment Variables Set:\")\n",
        "for var in [\"nnUNet_raw\", \"nnUNet_preprocessed\", \"nnUNet_results\"]:\n",
        "    print(f\"{var}: {os.environ.get(var)}\")\n",
        "\n",
        "# List available images for dataset.json\n",
        "try:\n",
        "    images = sorted([f for f in os.listdir(IMAGES_TR_PATH) if f.endswith(\".nii.gz\")])\n",
        "    print(f\"[INFO] Found {len(images)} training images.\")\n",
        "except FileNotFoundError:\n",
        "    print(\"[ERROR] Training image directory not found!\")\n",
        "    exit(1)\n"
      ],
      "metadata": {
        "colab": {
          "base_uri": "https://localhost:8080/"
        },
        "id": "MZdyNfr-kBCC",
        "outputId": "1cc4e4d9-31d5-4424-9c94-8eba5faeff76"
      },
      "execution_count": 5,
      "outputs": [
        {
          "output_type": "stream",
          "name": "stdout",
          "text": [
            "[INFO] Environment Variables Set:\n",
            "nnUNet_raw: /content/drive/MyDrive/nnUNet_raw\n",
            "nnUNet_preprocessed: /content/drive/MyDrive/nnUNet_preprocessed\n",
            "nnUNet_results: /content/drive/MyDrive/nnUNet_results\n",
            "[INFO] Found 187 training images.\n"
          ]
        }
      ]
    },
    {
      "cell_type": "code",
      "source": [
        "\n",
        "\n",
        "# Generate dataset.json with required keys\n",
        "dataset_json = {\n",
        "    \"name\": \"ProstateX\",\n",
        "    \"description\": \"ProstateX dataset for nnU-Net training\",\n",
        "    \"tensorImageSize\": \"3D\",\n",
        "    \"reference\": \"\",\n",
        "    \"licence\": \"\",\n",
        "    \"release\": \"1.0\",\n",
        "    \"modality\": {\"0\": \"MRI\"},\n",
        "    \"labels\": { \"background\":0\n",
        "               , \"tumor\":1},\n",
        "    \"channel_names\": {\"0\": \"T2\"},  # Adjust based on your data\n",
        "    \"file_ending\": \".nii.gz\",\n",
        "    \"numTraining\": len(images),\n",
        "    \"numTest\": 0,\n",
        "    \"training\": [{\"image\": f\"./imagesTr/{img}\", \"label\": f\"./labelsTr/{img.replace('_0000', '')}\"} for img in images],\n",
        "    \"test\": []\n",
        "}\n",
        "\n",
        "# Save dataset.json\n",
        "json_path = os.path.join(DATASET_PATH, \"dataset.json\")\n",
        "with open(json_path, \"w\") as f:\n",
        "    json.dump(dataset_json, f, indent=4)\n",
        "\n",
        "print(\"[SUCCESS] dataset.json created successfully!\")\n",
        "\n",
        "# Verify dataset.json content\n",
        "with open(json_path, \"r\") as f:\n",
        "    data = json.load(f)\n",
        "\n",
        "required_keys = [\"labels\", \"channel_names\", \"numTraining\", \"file_ending\"]\n",
        "missing_keys = [key for key in required_keys if key not in data]\n",
        "\n",
        "if not missing_keys:\n",
        "    print(\"[SUCCESS] dataset.json is correctly formatted!\")\n",
        "else:\n",
        "    print(f\"[ERROR] Missing keys: {missing_keys}\")\n",
        "    exit(1)"
      ],
      "metadata": {
        "colab": {
          "base_uri": "https://localhost:8080/"
        },
        "id": "Qs8Io7XUkK-l",
        "outputId": "2e516348-79c0-4ec3-b812-4b2bf60ce787"
      },
      "execution_count": 48,
      "outputs": [
        {
          "output_type": "stream",
          "name": "stdout",
          "text": [
            "[SUCCESS] dataset.json created successfully!\n",
            "[SUCCESS] dataset.json is correctly formatted!\n"
          ]
        }
      ]
    },
    {
      "cell_type": "code",
      "source": [
        "# Step 4: Preprocess the Data\n",
        "print(\"[INFO] Running nnUNet Preprocessing...\")\n",
        "preprocess_command = \"nnUNetv2_plan_and_preprocess -d 500 --verify_dataset_integrity\"\n",
        "process = subprocess.run(preprocess_command, shell=True, capture_output=True, text=True)\n",
        "print(\"[INFO] Preprocessing Output:\\n\", process.stdout)\n",
        "if process.stderr:\n",
        "    print(\"[ERROR] Preprocessing Error:\\n\", process.stderr)\n",
        "    exit(1)"
      ],
      "metadata": {
        "colab": {
          "base_uri": "https://localhost:8080/"
        },
        "id": "EeCxlNJ6kOS5",
        "outputId": "69ee29f6-eff6-4c32-cdaf-eb9813672553"
      },
      "execution_count": 49,
      "outputs": [
        {
          "output_type": "stream",
          "name": "stdout",
          "text": [
            "[INFO] Running nnUNet Preprocessing...\n",
            "[INFO] Preprocessing Output:\n",
            " Fingerprint extraction...\n",
            "Dataset500_ProstateX\n",
            "Using <class 'nnunetv2.imageio.simpleitk_reader_writer.SimpleITKIO'> as reader/writer\n",
            "\n",
            "####################\n",
            "verify_dataset_integrity Done. \n",
            "If you didn't see any error messages then your dataset is most likely OK!\n",
            "####################\n",
            "\n",
            "Using <class 'nnunetv2.imageio.simpleitk_reader_writer.SimpleITKIO'> as reader/writer\n",
            "Experiment planning...\n",
            "\n",
            "############################\n",
            "INFO: You are using the old nnU-Net default planner. We have updated our recommendations. Please consider using those instead! Read more here: https://github.com/MIC-DKFZ/nnUNet/blob/master/documentation/resenc_presets.md\n",
            "############################\n",
            "\n",
            "Dropping 3d_lowres config because the image size difference to 3d_fullres is too small. 3d_fullres: [126. 126.   1.], 3d_lowres: [126, 126, 1]\n",
            "2D U-Net configuration:\n",
            "{'data_identifier': 'nnUNetPlans_2d', 'preprocessor_name': 'DefaultPreprocessor', 'batch_size': 1160, 'patch_size': (np.int64(128), np.int64(1)), 'median_image_size_in_voxels': array([126.,   1.]), 'spacing': array([1., 1.]), 'normalization_schemes': ['ZScoreNormalization'], 'use_mask_for_norm': [False], 'resampling_fn_data': 'resample_data_or_seg_to_shape', 'resampling_fn_seg': 'resample_data_or_seg_to_shape', 'resampling_fn_data_kwargs': {'is_seg': False, 'order': 3, 'order_z': 0, 'force_separate_z': None}, 'resampling_fn_seg_kwargs': {'is_seg': True, 'order': 1, 'order_z': 0, 'force_separate_z': None}, 'resampling_fn_probabilities': 'resample_data_or_seg_to_shape', 'resampling_fn_probabilities_kwargs': {'is_seg': False, 'order': 1, 'order_z': 0, 'force_separate_z': None}, 'architecture': {'network_class_name': 'dynamic_network_architectures.architectures.unet.PlainConvUNet', 'arch_kwargs': {'n_stages': 5, 'features_per_stage': (32, 64, 128, 256, 512), 'conv_op': 'torch.nn.modules.conv.Conv2d', 'kernel_sizes': ((3, 3), (3, 3), (3, 3), (3, 3), (3, 3)), 'strides': ((1, 1), (2, 1), (2, 1), (2, 1), (2, 1)), 'n_conv_per_stage': (2, 2, 2, 2, 2), 'n_conv_per_stage_decoder': (2, 2, 2, 2), 'conv_bias': True, 'norm_op': 'torch.nn.modules.instancenorm.InstanceNorm2d', 'norm_op_kwargs': {'eps': 1e-05, 'affine': True}, 'dropout_op': None, 'dropout_op_kwargs': None, 'nonlin': 'torch.nn.LeakyReLU', 'nonlin_kwargs': {'inplace': True}}, '_kw_requires_import': ('conv_op', 'norm_op', 'dropout_op', 'nonlin')}, 'batch_dice': True}\n",
            "\n",
            "Using <class 'nnunetv2.imageio.simpleitk_reader_writer.SimpleITKIO'> as reader/writer\n",
            "3D fullres U-Net configuration:\n",
            "{'data_identifier': 'nnUNetPlans_3d_fullres', 'preprocessor_name': 'DefaultPreprocessor', 'batch_size': 9, 'patch_size': (np.int64(128), np.int64(128), np.int64(1)), 'median_image_size_in_voxels': array([126., 126.,   1.]), 'spacing': array([1., 1., 1.]), 'normalization_schemes': ['ZScoreNormalization'], 'use_mask_for_norm': [False], 'resampling_fn_data': 'resample_data_or_seg_to_shape', 'resampling_fn_seg': 'resample_data_or_seg_to_shape', 'resampling_fn_data_kwargs': {'is_seg': False, 'order': 3, 'order_z': 0, 'force_separate_z': None}, 'resampling_fn_seg_kwargs': {'is_seg': True, 'order': 1, 'order_z': 0, 'force_separate_z': None}, 'resampling_fn_probabilities': 'resample_data_or_seg_to_shape', 'resampling_fn_probabilities_kwargs': {'is_seg': False, 'order': 1, 'order_z': 0, 'force_separate_z': None}, 'architecture': {'network_class_name': 'dynamic_network_architectures.architectures.unet.PlainConvUNet', 'arch_kwargs': {'n_stages': 6, 'features_per_stage': (32, 64, 128, 256, 320, 320), 'conv_op': 'torch.nn.modules.conv.Conv3d', 'kernel_sizes': ((3, 3, 3), (3, 3, 3), (3, 3, 3), (3, 3, 3), (3, 3, 3), (3, 3, 3)), 'strides': ((1, 1, 1), (2, 2, 1), (2, 2, 1), (2, 2, 1), (2, 2, 1), (2, 2, 1)), 'n_conv_per_stage': (2, 2, 2, 2, 2, 2), 'n_conv_per_stage_decoder': (2, 2, 2, 2, 2), 'conv_bias': True, 'norm_op': 'torch.nn.modules.instancenorm.InstanceNorm3d', 'norm_op_kwargs': {'eps': 1e-05, 'affine': True}, 'dropout_op': None, 'dropout_op_kwargs': None, 'nonlin': 'torch.nn.LeakyReLU', 'nonlin_kwargs': {'inplace': True}}, '_kw_requires_import': ('conv_op', 'norm_op', 'dropout_op', 'nonlin')}, 'batch_dice': False}\n",
            "\n",
            "Plans were saved to /content/drive/MyDrive/nnUNet_preprocessed/Dataset500_ProstateX/nnUNetPlans.json\n",
            "Preprocessing...\n",
            "Preprocessing dataset Dataset500_ProstateX\n",
            "Configuration: 2d...\n",
            "Configuration: 3d_fullres...\n",
            "Configuration: 3d_lowres...\n",
            "INFO: Configuration 3d_lowres not found in plans file nnUNetPlans.json of dataset Dataset500_ProstateX. Skipping.\n",
            "\n",
            "[ERROR] Preprocessing Error:\n",
            " \n",
            "  0%|          | 0/187 [00:00<?, ?it/s]\n",
            "  1%|          | 1/187 [00:51<2:38:15, 51.05s/it]\n",
            "  1%|          | 2/187 [00:51<1:04:59, 21.08s/it]\n",
            "  2%|▏         | 3/187 [00:51<35:16, 11.50s/it]  \n",
            "  2%|▏         | 4/187 [00:51<21:21,  7.00s/it]\n",
            "  5%|▍         | 9/187 [00:51<05:36,  1.89s/it]\n",
            "  6%|▌         | 11/187 [00:52<04:02,  1.38s/it]\n",
            "  9%|▊         | 16/187 [00:52<01:56,  1.47it/s]\n",
            " 10%|█         | 19/187 [00:52<01:29,  1.88it/s]\n",
            " 13%|█▎        | 24/187 [00:52<00:51,  3.16it/s]\n",
            " 14%|█▍        | 27/187 [00:53<00:45,  3.49it/s]\n",
            " 16%|█▌        | 30/187 [00:53<00:34,  4.61it/s]\n",
            " 18%|█▊        | 33/187 [00:53<00:29,  5.16it/s]\n",
            " 19%|█▊        | 35/187 [00:54<00:26,  5.75it/s]\n",
            " 20%|█▉        | 37/187 [00:54<00:23,  6.37it/s]\n",
            " 21%|██        | 39/187 [00:54<00:19,  7.66it/s]\n",
            " 22%|██▏       | 41/187 [00:54<00:17,  8.14it/s]\n",
            " 23%|██▎       | 43/187 [00:54<00:16,  8.55it/s]\n",
            " 24%|██▍       | 45/187 [00:55<00:17,  7.90it/s]\n",
            " 26%|██▌       | 48/187 [00:55<00:12, 10.90it/s]\n",
            " 27%|██▋       | 50/187 [00:55<00:12, 10.62it/s]\n",
            " 28%|██▊       | 52/187 [00:55<00:16,  8.09it/s]\n",
            " 29%|██▉       | 54/187 [00:56<00:13,  9.70it/s]\n",
            " 30%|███       | 57/187 [00:56<00:10, 12.99it/s]\n",
            " 32%|███▏      | 59/187 [00:56<00:12, 10.35it/s]\n",
            " 33%|███▎      | 61/187 [00:56<00:12, 10.22it/s]\n",
            " 34%|███▎      | 63/187 [00:56<00:10, 11.83it/s]\n",
            " 35%|███▍      | 65/187 [00:56<00:10, 11.20it/s]\n",
            " 36%|███▌      | 67/187 [00:57<00:11, 10.79it/s]\n",
            " 37%|███▋      | 69/187 [00:57<00:12,  9.09it/s]\n",
            " 39%|███▉      | 73/187 [00:57<00:09, 12.06it/s]\n",
            " 40%|████      | 75/187 [00:57<00:08, 13.35it/s]\n",
            " 41%|████      | 77/187 [00:58<00:11,  9.26it/s]\n",
            " 43%|████▎     | 81/187 [00:58<00:09, 10.61it/s]\n",
            " 44%|████▍     | 83/187 [00:58<00:09, 10.43it/s]\n",
            " 45%|████▌     | 85/187 [00:59<00:15,  6.72it/s]\n",
            " 47%|████▋     | 88/187 [00:59<00:10,  9.21it/s]\n",
            " 48%|████▊     | 90/187 [00:59<00:12,  7.57it/s]\n",
            " 49%|████▉     | 92/187 [01:00<00:18,  5.26it/s]\n",
            " 51%|█████     | 95/187 [01:00<00:12,  7.47it/s]\n",
            " 52%|█████▏    | 97/187 [01:00<00:13,  6.61it/s]\n",
            " 53%|█████▎    | 99/187 [01:01<00:12,  7.21it/s]\n",
            " 54%|█████▍    | 101/187 [01:01<00:14,  5.84it/s]\n",
            " 56%|█████▌    | 104/187 [01:01<00:11,  7.54it/s]\n",
            " 57%|█████▋    | 106/187 [01:02<00:11,  7.21it/s]\n",
            " 57%|█████▋    | 107/187 [01:02<00:10,  7.52it/s]\n",
            " 58%|█████▊    | 108/187 [01:02<00:13,  6.07it/s]\n",
            " 58%|█████▊    | 109/187 [01:02<00:11,  6.60it/s]\n",
            " 59%|█████▉    | 111/187 [01:02<00:08,  8.78it/s]\n",
            " 60%|██████    | 113/187 [01:03<00:08,  9.14it/s]\n",
            " 61%|██████▏   | 115/187 [01:03<00:07,  9.38it/s]\n",
            " 63%|██████▎   | 117/187 [01:03<00:09,  7.29it/s]\n",
            " 64%|██████▍   | 120/187 [01:03<00:06, 10.53it/s]\n",
            " 65%|██████▌   | 122/187 [01:04<00:07,  9.03it/s]\n",
            " 66%|██████▋   | 124/187 [01:04<00:08,  7.31it/s]\n",
            " 67%|██████▋   | 126/187 [01:04<00:06,  8.94it/s]\n",
            " 69%|██████▉   | 129/187 [01:04<00:06,  9.29it/s]\n",
            " 71%|███████   | 132/187 [01:05<00:05,  9.50it/s]\n",
            " 72%|███████▏  | 134/187 [01:05<00:04, 10.93it/s]\n",
            " 73%|███████▎  | 137/187 [01:05<00:04, 12.05it/s]\n",
            " 74%|███████▍  | 139/187 [01:05<00:03, 13.36it/s]\n",
            " 75%|███████▌  | 141/187 [01:05<00:04, 10.52it/s]\n",
            " 77%|███████▋  | 144/187 [01:05<00:03, 13.72it/s]\n",
            " 78%|███████▊  | 146/187 [01:06<00:03, 12.49it/s]\n",
            " 79%|███████▉  | 148/187 [01:06<00:04,  8.87it/s]\n",
            " 80%|████████  | 150/187 [01:06<00:03, 10.47it/s]\n",
            " 82%|████████▏ | 153/187 [01:06<00:02, 11.76it/s]\n",
            " 83%|████████▎ | 155/187 [01:06<00:02, 13.16it/s]\n",
            " 84%|████████▍ | 157/187 [01:07<00:02, 10.36it/s]\n",
            " 86%|████████▌ | 160/187 [01:07<00:01, 13.63it/s]\n",
            " 87%|████████▋ | 162/187 [01:07<00:02, 12.42it/s]\n",
            " 88%|████████▊ | 164/187 [01:07<00:02, 10.03it/s]\n",
            " 89%|████████▉ | 166/187 [01:07<00:01, 11.63it/s]\n",
            " 90%|████████▉ | 168/187 [01:08<00:01, 13.18it/s]\n",
            " 91%|█████████ | 170/187 [01:08<00:01, 12.03it/s]\n",
            " 92%|█████████▏| 172/187 [01:08<00:01,  9.70it/s]\n",
            " 94%|█████████▍| 176/187 [01:08<00:00, 14.78it/s]\n",
            " 96%|█████████▌| 179/187 [01:08<00:00, 12.72it/s]\n",
            " 97%|█████████▋| 181/187 [01:09<00:00, 11.89it/s]\n",
            " 98%|█████████▊| 183/187 [01:09<00:00, 13.22it/s]\n",
            " 99%|█████████▉| 185/187 [01:09<00:00, 14.50it/s]\n",
            "100%|██████████| 187/187 [01:09<00:00,  2.69it/s]\n",
            "\n",
            "  0%|          | 0/187 [00:00<?, ?it/s]\n",
            "  1%|          | 1/187 [00:58<3:02:03, 58.73s/it]\n",
            "  1%|          | 2/187 [00:59<1:15:07, 24.36s/it]\n",
            "  2%|▏         | 3/187 [00:59<41:09, 13.42s/it]  \n",
            "  2%|▏         | 4/187 [00:59<24:54,  8.16s/it]\n",
            "  3%|▎         | 5/187 [01:00<16:36,  5.48s/it]\n",
            "  3%|▎         | 6/187 [01:00<11:00,  3.65s/it]\n",
            "  4%|▎         | 7/187 [01:00<07:40,  2.56s/it]\n",
            "  4%|▍         | 8/187 [01:00<05:17,  1.77s/it]\n",
            "  5%|▍         | 9/187 [01:20<21:53,  7.38s/it]\n",
            "  5%|▌         | 10/187 [01:21<16:25,  5.57s/it]\n",
            "  6%|▌         | 11/187 [01:24<13:20,  4.55s/it]\n",
            "  6%|▋         | 12/187 [01:24<09:24,  3.22s/it]\n",
            "  7%|▋         | 13/187 [01:24<06:47,  2.34s/it]\n",
            "  8%|▊         | 15/187 [01:24<03:43,  1.30s/it]\n",
            "  9%|▊         | 16/187 [01:26<03:42,  1.30s/it]\n",
            "  9%|▉         | 17/187 [01:39<12:38,  4.46s/it]\n",
            " 10%|▉         | 18/187 [01:39<09:27,  3.36s/it]\n",
            " 10%|█         | 19/187 [01:41<07:52,  2.81s/it]\n",
            " 11%|█         | 20/187 [01:45<08:29,  3.05s/it]\n",
            " 11%|█         | 21/187 [01:50<10:02,  3.63s/it]\n",
            " 12%|█▏        | 22/187 [01:50<07:08,  2.60s/it]\n",
            " 12%|█▏        | 23/187 [01:50<05:34,  2.04s/it]\n",
            " 13%|█▎        | 24/187 [01:51<04:03,  1.49s/it]\n",
            " 13%|█▎        | 25/187 [01:56<06:58,  2.58s/it]\n",
            " 14%|█▍        | 26/187 [01:58<06:38,  2.48s/it]\n",
            " 14%|█▍        | 27/187 [02:05<10:21,  3.88s/it]\n",
            " 15%|█▍        | 28/187 [02:06<07:46,  2.93s/it]\n",
            " 16%|█▌        | 29/187 [02:10<08:21,  3.17s/it]\n",
            " 16%|█▌        | 30/187 [02:14<09:18,  3.55s/it]\n",
            " 17%|█▋        | 31/187 [02:15<06:51,  2.64s/it]\n",
            " 17%|█▋        | 32/187 [02:15<04:55,  1.91s/it]\n",
            " 18%|█▊        | 34/187 [02:20<05:56,  2.33s/it]\n",
            " 19%|█▊        | 35/187 [02:24<06:36,  2.61s/it]\n",
            " 19%|█▉        | 36/187 [02:26<06:30,  2.59s/it]\n",
            " 20%|█▉        | 37/187 [02:26<04:46,  1.91s/it]\n",
            " 20%|██        | 38/187 [02:32<07:21,  2.96s/it]\n",
            " 21%|██        | 39/187 [02:39<09:50,  3.99s/it]\n",
            " 21%|██▏       | 40/187 [02:39<07:18,  2.98s/it]\n",
            " 22%|██▏       | 41/187 [02:40<05:20,  2.20s/it]\n",
            " 22%|██▏       | 42/187 [02:45<07:33,  3.13s/it]\n",
            " 23%|██▎       | 43/187 [02:45<05:25,  2.26s/it]\n",
            " 24%|██▎       | 44/187 [02:50<07:00,  2.94s/it]\n",
            " 24%|██▍       | 45/187 [02:51<05:40,  2.40s/it]\n",
            " 25%|██▍       | 46/187 [02:54<06:34,  2.80s/it]\n",
            " 25%|██▌       | 47/187 [02:55<04:38,  1.99s/it]\n",
            " 26%|██▌       | 48/187 [02:55<03:35,  1.55s/it]\n",
            " 26%|██▌       | 49/187 [02:56<02:46,  1.21s/it]\n",
            " 27%|██▋       | 50/187 [03:01<05:39,  2.48s/it]\n",
            " 27%|██▋       | 51/187 [03:02<04:29,  1.98s/it]\n",
            " 28%|██▊       | 52/187 [03:06<05:50,  2.60s/it]\n",
            " 28%|██▊       | 53/187 [03:12<08:28,  3.79s/it]\n",
            " 29%|██▉       | 54/187 [03:14<07:01,  3.17s/it]\n",
            " 29%|██▉       | 55/187 [03:14<05:00,  2.28s/it]\n",
            " 30%|██▉       | 56/187 [03:16<04:52,  2.23s/it]\n",
            " 30%|███       | 57/187 [03:17<03:42,  1.71s/it]\n",
            " 31%|███       | 58/187 [03:20<04:20,  2.02s/it]\n",
            " 32%|███▏      | 59/187 [03:21<03:51,  1.81s/it]\n",
            " 32%|███▏      | 60/187 [03:26<05:57,  2.81s/it]\n",
            " 33%|███▎      | 61/187 [03:32<07:53,  3.76s/it]\n",
            " 33%|███▎      | 62/187 [03:35<06:59,  3.36s/it]\n",
            " 34%|███▎      | 63/187 [03:37<06:18,  3.05s/it]\n",
            " 34%|███▍      | 64/187 [03:37<04:44,  2.32s/it]\n",
            " 35%|███▍      | 65/187 [03:38<03:47,  1.86s/it]\n",
            " 35%|███▌      | 66/187 [03:40<03:25,  1.70s/it]\n",
            " 36%|███▌      | 67/187 [03:42<03:50,  1.92s/it]\n",
            " 36%|███▋      | 68/187 [03:43<03:22,  1.71s/it]\n",
            " 37%|███▋      | 69/187 [03:52<07:46,  3.96s/it]\n",
            " 37%|███▋      | 70/187 [03:56<07:42,  3.95s/it]\n",
            " 38%|███▊      | 71/187 [03:59<07:02,  3.64s/it]\n",
            " 39%|███▊      | 72/187 [04:01<05:45,  3.01s/it]\n",
            " 39%|███▉      | 73/187 [04:04<06:00,  3.17s/it]\n",
            " 40%|███▉      | 74/187 [04:05<04:17,  2.28s/it]\n",
            " 40%|████      | 75/187 [04:08<05:00,  2.69s/it]\n",
            " 41%|████      | 76/187 [04:09<03:42,  2.00s/it]\n",
            " 41%|████      | 77/187 [04:17<07:07,  3.89s/it]\n",
            " 42%|████▏     | 78/187 [04:17<05:03,  2.78s/it]\n",
            " 42%|████▏     | 79/187 [04:22<05:54,  3.29s/it]\n",
            " 43%|████▎     | 80/187 [04:24<05:33,  3.12s/it]\n",
            " 43%|████▎     | 81/187 [04:25<04:00,  2.27s/it]\n",
            " 44%|████▍     | 82/187 [04:30<05:23,  3.08s/it]\n",
            " 44%|████▍     | 83/187 [04:30<03:50,  2.21s/it]\n",
            " 45%|████▍     | 84/187 [04:33<04:32,  2.64s/it]\n",
            " 45%|████▌     | 85/187 [04:34<03:27,  2.03s/it]\n",
            " 46%|████▌     | 86/187 [04:41<05:52,  3.49s/it]\n",
            " 47%|████▋     | 87/187 [04:43<04:55,  2.95s/it]\n",
            " 47%|████▋     | 88/187 [04:46<05:06,  3.10s/it]\n",
            " 48%|████▊     | 89/187 [04:46<03:35,  2.20s/it]\n",
            " 48%|████▊     | 90/187 [04:50<04:18,  2.66s/it]\n",
            " 49%|████▊     | 91/187 [04:50<03:16,  2.05s/it]\n",
            " 49%|████▉     | 92/187 [04:55<04:31,  2.86s/it]\n",
            " 50%|████▉     | 93/187 [04:58<04:36,  2.94s/it]\n",
            " 50%|█████     | 94/187 [05:05<06:11,  4.00s/it]\n",
            " 51%|█████     | 95/187 [05:07<05:29,  3.59s/it]\n",
            " 51%|█████▏    | 96/187 [05:10<05:00,  3.30s/it]\n",
            " 52%|█████▏    | 97/187 [05:10<03:33,  2.37s/it]\n",
            " 52%|█████▏    | 98/187 [05:11<02:46,  1.87s/it]\n",
            " 53%|█████▎    | 99/187 [05:13<02:59,  2.04s/it]\n",
            " 53%|█████▎    | 100/187 [05:14<02:25,  1.67s/it]\n",
            " 54%|█████▍    | 101/187 [05:23<05:22,  3.75s/it]\n",
            " 55%|█████▍    | 102/187 [05:24<04:16,  3.02s/it]\n",
            " 55%|█████▌    | 103/187 [05:29<05:07,  3.66s/it]\n",
            " 56%|█████▌    | 104/187 [05:31<04:15,  3.08s/it]\n",
            " 56%|█████▌    | 105/187 [05:34<04:13,  3.09s/it]\n",
            " 57%|█████▋    | 106/187 [05:36<03:42,  2.74s/it]\n",
            " 57%|█████▋    | 107/187 [05:37<02:52,  2.16s/it]\n",
            " 58%|█████▊    | 108/187 [05:40<03:16,  2.48s/it]\n",
            " 58%|█████▊    | 109/187 [05:49<05:36,  4.32s/it]\n",
            " 59%|█████▉    | 110/187 [05:50<04:13,  3.29s/it]\n",
            " 59%|█████▉    | 111/187 [05:55<04:50,  3.82s/it]\n",
            " 60%|█████▉    | 112/187 [05:56<03:47,  3.04s/it]\n",
            " 60%|██████    | 113/187 [05:58<03:19,  2.70s/it]\n",
            " 61%|██████    | 114/187 [05:58<02:31,  2.07s/it]\n",
            " 61%|██████▏   | 115/187 [06:01<02:32,  2.12s/it]\n",
            " 62%|██████▏   | 116/187 [06:05<03:13,  2.73s/it]\n",
            " 63%|██████▎   | 117/187 [06:11<04:31,  3.88s/it]\n",
            " 63%|██████▎   | 118/187 [06:14<04:10,  3.62s/it]\n",
            " 64%|██████▍   | 120/187 [06:15<02:21,  2.12s/it]\n",
            " 65%|██████▍   | 121/187 [06:17<02:19,  2.12s/it]\n",
            " 65%|██████▌   | 122/187 [06:20<02:36,  2.41s/it]\n",
            " 66%|██████▋   | 124/187 [06:22<01:50,  1.75s/it]\n",
            " 67%|██████▋   | 125/187 [06:28<02:48,  2.71s/it]\n",
            " 67%|██████▋   | 126/187 [06:31<02:44,  2.69s/it]\n",
            " 68%|██████▊   | 127/187 [06:36<03:29,  3.50s/it]\n",
            " 68%|██████▊   | 128/187 [06:39<03:15,  3.32s/it]\n",
            " 69%|██████▉   | 129/187 [06:40<02:23,  2.47s/it]\n",
            " 70%|██████▉   | 130/187 [06:40<01:48,  1.91s/it]\n",
            " 70%|███████   | 131/187 [06:40<01:19,  1.41s/it]\n",
            " 71%|███████   | 132/187 [06:42<01:25,  1.56s/it]\n",
            " 71%|███████   | 133/187 [06:46<02:00,  2.24s/it]\n",
            " 72%|███████▏  | 134/187 [06:48<01:55,  2.17s/it]\n",
            " 72%|███████▏  | 135/187 [06:55<03:08,  3.63s/it]\n",
            " 73%|███████▎  | 136/187 [06:59<03:14,  3.81s/it]\n",
            " 73%|███████▎  | 137/187 [07:02<03:00,  3.61s/it]\n",
            " 74%|███████▍  | 138/187 [07:04<02:27,  3.01s/it]\n",
            " 74%|███████▍  | 139/187 [07:05<01:55,  2.41s/it]\n",
            " 75%|███████▍  | 140/187 [07:06<01:30,  1.93s/it]\n",
            " 75%|███████▌  | 141/187 [07:11<02:09,  2.81s/it]\n",
            " 76%|███████▌  | 142/187 [07:12<01:46,  2.36s/it]\n",
            " 76%|███████▋  | 143/187 [07:20<03:02,  4.14s/it]\n",
            " 77%|███████▋  | 144/187 [07:22<02:30,  3.51s/it]\n",
            " 78%|███████▊  | 145/187 [07:23<01:46,  2.55s/it]\n",
            " 78%|███████▊  | 146/187 [07:23<01:21,  1.99s/it]\n",
            " 79%|███████▊  | 147/187 [07:24<01:04,  1.61s/it]\n",
            " 79%|███████▉  | 148/187 [07:28<01:30,  2.31s/it]\n",
            " 80%|███████▉  | 149/187 [07:30<01:21,  2.13s/it]\n",
            " 80%|████████  | 150/187 [07:33<01:26,  2.34s/it]\n",
            " 81%|████████  | 151/187 [07:39<02:06,  3.52s/it]\n",
            " 81%|████████▏ | 152/187 [07:45<02:32,  4.34s/it]\n",
            " 82%|████████▏ | 153/187 [07:48<02:11,  3.86s/it]\n",
            " 82%|████████▏ | 154/187 [07:48<01:33,  2.82s/it]\n",
            " 83%|████████▎ | 155/187 [07:49<01:08,  2.13s/it]\n",
            " 83%|████████▎ | 156/187 [07:51<01:07,  2.19s/it]\n",
            " 84%|████████▍ | 157/187 [07:52<00:55,  1.83s/it]\n",
            " 84%|████████▍ | 158/187 [07:55<01:02,  2.16s/it]\n",
            " 85%|████████▌ | 159/187 [07:59<01:13,  2.64s/it]\n",
            " 86%|████████▌ | 160/187 [08:03<01:23,  3.09s/it]\n",
            " 86%|████████▌ | 161/187 [08:07<01:28,  3.40s/it]\n",
            " 87%|████████▋ | 162/187 [08:08<01:06,  2.66s/it]\n",
            " 87%|████████▋ | 163/187 [08:10<00:58,  2.44s/it]\n",
            " 88%|████████▊ | 164/187 [08:12<00:53,  2.31s/it]\n",
            " 88%|████████▊ | 165/187 [08:14<00:52,  2.38s/it]\n",
            " 89%|████████▉ | 166/187 [08:15<00:38,  1.84s/it]\n",
            " 89%|████████▉ | 167/187 [08:18<00:44,  2.23s/it]\n",
            " 90%|████████▉ | 168/187 [08:19<00:35,  1.89s/it]\n",
            " 90%|█████████ | 169/187 [08:27<01:06,  3.72s/it]\n",
            " 91%|█████████ | 170/187 [08:29<00:52,  3.06s/it]\n",
            " 91%|█████████▏| 171/187 [08:29<00:35,  2.23s/it]\n",
            " 92%|█████████▏| 172/187 [08:33<00:41,  2.78s/it]\n",
            " 93%|█████████▎| 173/187 [08:33<00:27,  1.97s/it]\n",
            " 93%|█████████▎| 174/187 [08:40<00:43,  3.32s/it]\n",
            " 94%|█████████▎| 175/187 [08:40<00:30,  2.54s/it]\n",
            " 94%|█████████▍| 176/187 [08:45<00:34,  3.14s/it]\n",
            " 95%|█████████▍| 177/187 [08:51<00:40,  4.08s/it]\n",
            " 95%|█████████▌| 178/187 [08:52<00:28,  3.13s/it]\n",
            " 96%|█████████▌| 179/187 [08:53<00:18,  2.37s/it]\n",
            " 96%|█████████▋| 180/187 [08:53<00:12,  1.84s/it]\n",
            " 97%|█████████▋| 181/187 [08:56<00:13,  2.17s/it]\n",
            " 97%|█████████▋| 182/187 [08:57<00:08,  1.73s/it]\n",
            " 98%|█████████▊| 183/187 [08:57<00:05,  1.33s/it]\n",
            " 98%|█████████▊| 184/187 [09:00<00:04,  1.63s/it]\n",
            " 99%|█████████▉| 185/187 [09:02<00:03,  1.72s/it]\n",
            " 99%|█████████▉| 186/187 [09:03<00:01,  1.75s/it]\n",
            "100%|██████████| 187/187 [09:04<00:00,  2.91s/it]\n",
            "\n",
            "  0%|          | 0/187 [00:00<?, ?it/s]\n",
            "  1%|          | 1/187 [00:24<1:14:31, 24.04s/it]\n",
            "  1%|          | 2/187 [00:25<33:38, 10.91s/it]  \n",
            "  3%|▎         | 5/187 [00:25<09:28,  3.12s/it]\n",
            "  4%|▎         | 7/187 [00:26<06:03,  2.02s/it]\n",
            "  5%|▍         | 9/187 [00:26<03:51,  1.30s/it]\n",
            "  6%|▌         | 11/187 [00:27<02:54,  1.01it/s]\n",
            "  7%|▋         | 13/187 [00:27<02:01,  1.43it/s]\n",
            "  8%|▊         | 15/187 [00:28<01:43,  1.66it/s]\n",
            "  9%|▉         | 17/187 [00:28<01:13,  2.32it/s]\n",
            " 10%|█         | 19/187 [00:29<01:08,  2.46it/s]\n",
            " 11%|█         | 20/187 [00:29<00:58,  2.85it/s]\n",
            " 12%|█▏        | 22/187 [00:30<00:58,  2.84it/s]\n",
            " 12%|█▏        | 23/187 [00:30<00:52,  3.10it/s]\n",
            " 13%|█▎        | 24/187 [00:30<00:48,  3.37it/s]\n",
            " 14%|█▍        | 26/187 [00:31<00:48,  3.35it/s]\n",
            " 14%|█▍        | 27/187 [00:31<00:44,  3.60it/s]\n",
            " 15%|█▍        | 28/187 [00:31<00:45,  3.52it/s]\n",
            " 16%|█▌        | 30/187 [00:32<00:48,  3.21it/s]\n",
            " 17%|█▋        | 31/187 [00:32<00:44,  3.47it/s]\n",
            " 17%|█▋        | 32/187 [00:32<00:41,  3.74it/s]\n",
            " 18%|█▊        | 33/187 [00:33<00:38,  3.99it/s]\n",
            " 18%|█▊        | 34/187 [00:33<00:52,  2.89it/s]\n",
            " 19%|█▊        | 35/187 [00:33<00:50,  2.99it/s]\n",
            " 19%|█▉        | 36/187 [00:34<00:49,  3.07it/s]\n",
            " 20%|██        | 38/187 [00:34<00:43,  3.41it/s]\n",
            " 21%|██        | 39/187 [00:34<00:40,  3.69it/s]\n",
            " 21%|██▏       | 40/187 [00:35<00:33,  4.40it/s]\n",
            " 22%|██▏       | 41/187 [00:35<00:28,  5.17it/s]\n",
            " 22%|██▏       | 42/187 [00:35<00:40,  3.57it/s]\n",
            " 23%|██▎       | 43/187 [00:35<00:37,  3.87it/s]\n",
            " 24%|██▎       | 44/187 [00:35<00:30,  4.70it/s]\n",
            " 24%|██▍       | 45/187 [00:36<00:25,  5.55it/s]\n",
            " 25%|██▍       | 46/187 [00:36<00:43,  3.27it/s]\n",
            " 25%|██▌       | 47/187 [00:36<00:34,  4.08it/s]\n",
            " 26%|██▌       | 48/187 [00:36<00:28,  4.95it/s]\n",
            " 26%|██▌       | 49/187 [00:36<00:23,  5.80it/s]\n",
            " 27%|██▋       | 50/187 [00:37<00:41,  3.31it/s]\n",
            " 27%|██▋       | 51/187 [00:37<00:32,  4.14it/s]\n",
            " 28%|██▊       | 52/187 [00:37<00:26,  5.01it/s]\n",
            " 28%|██▊       | 53/187 [00:37<00:22,  5.88it/s]\n",
            " 29%|██▉       | 54/187 [00:38<00:39,  3.33it/s]\n",
            " 29%|██▉       | 55/187 [00:38<00:31,  4.15it/s]\n",
            " 30%|██▉       | 56/187 [00:38<00:26,  5.02it/s]\n",
            " 30%|███       | 57/187 [00:38<00:26,  5.00it/s]\n",
            " 31%|███       | 58/187 [00:39<00:41,  3.11it/s]\n",
            " 32%|███▏      | 60/187 [00:39<00:24,  5.09it/s]\n",
            " 33%|███▎      | 61/187 [00:39<00:24,  5.05it/s]\n",
            " 33%|███▎      | 62/187 [00:40<00:41,  3.02it/s]\n",
            " 34%|███▍      | 64/187 [00:40<00:25,  4.74it/s]\n",
            " 35%|███▌      | 66/187 [00:41<00:34,  3.52it/s]\n",
            " 37%|███▋      | 69/187 [00:41<00:23,  4.95it/s]\n",
            " 37%|███▋      | 70/187 [00:42<00:29,  3.92it/s]\n",
            " 38%|███▊      | 71/187 [00:42<00:26,  4.46it/s]\n",
            " 39%|███▉      | 73/187 [00:42<00:22,  5.05it/s]\n",
            " 40%|███▉      | 74/187 [00:43<00:31,  3.54it/s]\n",
            " 40%|████      | 75/187 [00:43<00:26,  4.15it/s]\n",
            " 41%|████      | 77/187 [00:43<00:24,  4.43it/s]\n",
            " 42%|████▏     | 78/187 [00:44<00:33,  3.23it/s]\n",
            " 42%|████▏     | 79/187 [00:44<00:28,  3.85it/s]\n",
            " 43%|████▎     | 81/187 [00:44<00:25,  4.23it/s]\n",
            " 44%|████▍     | 82/187 [00:45<00:36,  2.91it/s]\n",
            " 44%|████▍     | 83/187 [00:45<00:29,  3.51it/s]\n",
            " 45%|████▌     | 85/187 [00:45<00:23,  4.35it/s]\n",
            " 46%|████▌     | 86/187 [00:46<00:38,  2.60it/s]\n",
            " 47%|████▋     | 87/187 [00:46<00:31,  3.17it/s]\n",
            " 48%|████▊     | 89/187 [00:47<00:22,  4.40it/s]\n",
            " 48%|████▊     | 90/187 [00:48<00:39,  2.47it/s]\n",
            " 50%|█████     | 94/187 [00:49<00:30,  3.00it/s]\n",
            " 52%|█████▏    | 98/187 [00:50<00:25,  3.50it/s]\n",
            " 54%|█████▍    | 101/187 [00:50<00:17,  4.90it/s]\n",
            " 55%|█████▌    | 103/187 [00:51<00:20,  4.18it/s]\n",
            " 56%|█████▌    | 104/187 [00:51<00:18,  4.56it/s]\n",
            " 56%|█████▌    | 105/187 [00:51<00:16,  5.02it/s]\n",
            " 57%|█████▋    | 106/187 [00:51<00:22,  3.59it/s]\n",
            " 57%|█████▋    | 107/187 [00:51<00:19,  4.16it/s]\n",
            " 58%|█████▊    | 109/187 [00:52<00:13,  5.97it/s]\n",
            " 59%|█████▉    | 111/187 [00:52<00:17,  4.28it/s]\n",
            " 60%|█████▉    | 112/187 [00:52<00:15,  4.84it/s]\n",
            " 61%|██████    | 114/187 [00:53<00:19,  3.84it/s]\n",
            " 61%|██████▏   | 115/187 [00:53<00:16,  4.40it/s]\n",
            " 63%|██████▎   | 117/187 [00:53<00:11,  6.19it/s]\n",
            " 64%|██████▎   | 119/187 [00:54<00:16,  4.07it/s]\n",
            " 64%|██████▍   | 120/187 [00:54<00:14,  4.61it/s]\n",
            " 65%|██████▍   | 121/187 [00:54<00:12,  5.22it/s]\n",
            " 65%|██████▌   | 122/187 [00:55<00:22,  2.95it/s]\n",
            " 66%|██████▋   | 124/187 [00:55<00:13,  4.51it/s]\n",
            " 67%|██████▋   | 126/187 [00:56<00:17,  3.46it/s]\n",
            " 68%|██████▊   | 128/187 [00:56<00:12,  4.84it/s]\n",
            " 70%|██████▉   | 130/187 [00:57<00:16,  3.47it/s]\n",
            " 71%|███████   | 132/187 [00:57<00:11,  4.71it/s]\n",
            " 72%|███████▏  | 134/187 [00:58<00:14,  3.67it/s]\n",
            " 73%|███████▎  | 136/187 [00:58<00:10,  4.91it/s]\n",
            " 74%|███████▍  | 138/187 [01:00<00:18,  2.65it/s]\n",
            " 75%|███████▍  | 140/187 [01:00<00:13,  3.42it/s]\n",
            " 76%|███████▌  | 142/187 [01:01<00:15,  2.91it/s]\n",
            " 76%|███████▋  | 143/187 [01:01<00:13,  3.33it/s]\n",
            " 77%|███████▋  | 144/187 [01:01<00:11,  3.85it/s]\n",
            " 78%|███████▊  | 146/187 [01:02<00:13,  3.02it/s]\n",
            " 79%|███████▊  | 147/187 [01:02<00:12,  3.27it/s]\n",
            " 79%|███████▉  | 148/187 [01:02<00:10,  3.86it/s]\n",
            " 80%|███████▉  | 149/187 [01:02<00:08,  4.54it/s]\n",
            " 80%|████████  | 150/187 [01:03<00:10,  3.40it/s]\n",
            " 81%|████████  | 151/187 [01:03<00:09,  3.71it/s]\n",
            " 81%|████████▏ | 152/187 [01:03<00:08,  3.99it/s]\n",
            " 82%|████████▏ | 154/187 [01:04<00:08,  3.98it/s]\n",
            " 83%|████████▎ | 155/187 [01:04<00:06,  4.65it/s]\n",
            " 83%|████████▎ | 156/187 [01:04<00:06,  4.72it/s]\n",
            " 84%|████████▍ | 158/187 [01:05<00:07,  4.00it/s]\n",
            " 85%|████████▌ | 159/187 [01:05<00:06,  4.64it/s]\n",
            " 86%|████████▌ | 160/187 [01:05<00:05,  4.71it/s]\n",
            " 87%|████████▋ | 162/187 [01:05<00:06,  3.99it/s]\n",
            " 87%|████████▋ | 163/187 [01:06<00:05,  4.18it/s]\n",
            " 88%|████████▊ | 164/187 [01:06<00:05,  4.35it/s]\n",
            " 89%|████████▉ | 166/187 [01:06<00:05,  4.18it/s]\n",
            " 89%|████████▉ | 167/187 [01:07<00:04,  4.33it/s]\n",
            " 90%|████████▉ | 168/187 [01:07<00:05,  3.66it/s]\n",
            " 90%|█████████ | 169/187 [01:07<00:04,  4.38it/s]\n",
            " 91%|█████████ | 170/187 [01:08<00:05,  3.30it/s]\n",
            " 91%|█████████▏| 171/187 [01:08<00:03,  4.05it/s]\n",
            " 92%|█████████▏| 172/187 [01:08<00:03,  4.27it/s]\n",
            " 93%|█████████▎| 173/187 [01:08<00:02,  5.11it/s]\n",
            " 93%|█████████▎| 174/187 [01:08<00:03,  3.50it/s]\n",
            " 94%|█████████▎| 175/187 [01:09<00:02,  4.32it/s]\n",
            " 94%|█████████▍| 176/187 [01:09<00:02,  5.19it/s]\n",
            " 95%|█████████▍| 177/187 [01:09<00:01,  6.04it/s]\n",
            " 95%|█████████▌| 178/187 [01:09<00:02,  3.75it/s]\n",
            " 96%|█████████▌| 179/187 [01:09<00:01,  4.04it/s]\n",
            " 96%|█████████▋| 180/187 [01:10<00:01,  4.91it/s]\n",
            " 97%|█████████▋| 182/187 [01:10<00:01,  4.01it/s]\n",
            " 98%|█████████▊| 183/187 [01:10<00:00,  4.70it/s]\n",
            " 98%|█████████▊| 184/187 [01:10<00:00,  4.77it/s]\n",
            " 99%|█████████▉| 185/187 [01:11<00:00,  5.55it/s]\n",
            " 99%|█████████▉| 186/187 [01:11<00:00,  4.66it/s]\n",
            "100%|██████████| 187/187 [01:11<00:00,  2.62it/s]\n",
            "\n"
          ]
        }
      ]
    },
    {
      "cell_type": "code",
      "source": [
        "!apt-get update -y\n",
        "!apt-get install -y python3-dev python3-pip python3-venv\n",
        "!pip install torch torchvision torchaudio --extra-index-url https://download.pytorch.org/whl/cu118\n"
      ],
      "metadata": {
        "colab": {
          "base_uri": "https://localhost:8080/"
        },
        "id": "F2Jk-p-xauSt",
        "outputId": "0e883f05-3e0b-4788-cd4a-422832bcd8ea"
      },
      "execution_count": 52,
      "outputs": [
        {
          "output_type": "stream",
          "name": "stdout",
          "text": [
            "\r0% [Working]\r            \rGet:1 https://cloud.r-project.org/bin/linux/ubuntu jammy-cran40/ InRelease [3,632 B]\n",
            "\r0% [Connecting to archive.ubuntu.com (185.125.190.83)] [Waiting for headers] [1 InRelease 3,632 B/3,\r0% [Connecting to archive.ubuntu.com (185.125.190.83)] [Waiting for headers] [Connected to r2u.stat.\r                                                                                                    \rHit:2 https://developer.download.nvidia.com/compute/cuda/repos/ubuntu2204/x86_64  InRelease\n",
            "Get:3 http://security.ubuntu.com/ubuntu jammy-security InRelease [129 kB]\n",
            "Hit:4 http://archive.ubuntu.com/ubuntu jammy InRelease\n",
            "Get:5 https://r2u.stat.illinois.edu/ubuntu jammy InRelease [6,555 B]\n",
            "Get:6 http://archive.ubuntu.com/ubuntu jammy-updates InRelease [128 kB]\n",
            "Hit:7 https://ppa.launchpadcontent.net/deadsnakes/ppa/ubuntu jammy InRelease\n",
            "Get:8 https://r2u.stat.illinois.edu/ubuntu jammy/main all Packages [8,767 kB]\n",
            "Hit:9 https://ppa.launchpadcontent.net/graphics-drivers/ppa/ubuntu jammy InRelease\n",
            "Get:10 http://security.ubuntu.com/ubuntu jammy-security/restricted amd64 Packages [3,813 kB]\n",
            "Hit:11 https://ppa.launchpadcontent.net/ubuntugis/ppa/ubuntu jammy InRelease\n",
            "Get:12 http://archive.ubuntu.com/ubuntu jammy-backports InRelease [127 kB]\n",
            "Get:13 http://security.ubuntu.com/ubuntu jammy-security/universe amd64 Packages [1,237 kB]\n",
            "Get:14 http://security.ubuntu.com/ubuntu jammy-security/multiverse amd64 Packages [47.7 kB]\n",
            "Get:15 https://r2u.stat.illinois.edu/ubuntu jammy/main amd64 Packages [2,679 kB]\n",
            "Get:16 http://security.ubuntu.com/ubuntu jammy-security/main amd64 Packages [2,695 kB]\n",
            "Get:17 http://archive.ubuntu.com/ubuntu jammy-updates/main amd64 Packages [3,035 kB]\n",
            "Get:18 http://archive.ubuntu.com/ubuntu jammy-updates/universe amd64 Packages [1,536 kB]\n",
            "Get:19 http://archive.ubuntu.com/ubuntu jammy-updates/restricted amd64 Packages [4,028 kB]\n",
            "Get:20 http://archive.ubuntu.com/ubuntu jammy-updates/multiverse amd64 Packages [55.7 kB]\n",
            "Get:21 http://archive.ubuntu.com/ubuntu jammy-backports/main amd64 Packages [82.7 kB]\n",
            "Get:22 http://archive.ubuntu.com/ubuntu jammy-backports/universe amd64 Packages [35.2 kB]\n",
            "Fetched 28.4 MB in 4s (8,052 kB/s)\n",
            "Reading package lists... Done\n",
            "W: Skipping acquire of configured file 'main/source/Sources' as repository 'https://r2u.stat.illinois.edu/ubuntu jammy InRelease' does not seem to provide it (sources.list entry misspelt?)\n",
            "Reading package lists... Done\n",
            "Building dependency tree... Done\n",
            "Reading state information... Done\n",
            "python3-dev is already the newest version (3.10.6-1~22.04.1).\n",
            "python3-dev set to manually installed.\n",
            "The following additional packages will be installed:\n",
            "  python3-pip-whl python3-setuptools python3-setuptools-whl python3-wheel python3.10-venv\n",
            "Suggested packages:\n",
            "  python-setuptools-doc\n",
            "The following NEW packages will be installed:\n",
            "  python3-pip python3-pip-whl python3-setuptools python3-setuptools-whl python3-venv python3-wheel\n",
            "  python3.10-venv\n",
            "0 upgraded, 7 newly installed, 0 to remove and 31 not upgraded.\n",
            "Need to get 4,152 kB of archives.\n",
            "After this operation, 11.9 MB of additional disk space will be used.\n",
            "Get:1 http://archive.ubuntu.com/ubuntu jammy-updates/main amd64 python3-setuptools all 59.6.0-1.2ubuntu0.22.04.2 [340 kB]\n",
            "Get:2 http://archive.ubuntu.com/ubuntu jammy-updates/universe amd64 python3-wheel all 0.37.1-2ubuntu0.22.04.1 [32.0 kB]\n",
            "Get:3 http://archive.ubuntu.com/ubuntu jammy-updates/universe amd64 python3-pip all 22.0.2+dfsg-1ubuntu0.5 [1,306 kB]\n",
            "Get:4 http://archive.ubuntu.com/ubuntu jammy-updates/universe amd64 python3-pip-whl all 22.0.2+dfsg-1ubuntu0.5 [1,680 kB]\n",
            "Get:5 http://archive.ubuntu.com/ubuntu jammy-updates/universe amd64 python3-setuptools-whl all 59.6.0-1.2ubuntu0.22.04.2 [788 kB]\n",
            "Get:6 http://archive.ubuntu.com/ubuntu jammy-updates/universe amd64 python3.10-venv amd64 3.10.12-1~22.04.9 [5,722 B]\n",
            "Get:7 http://archive.ubuntu.com/ubuntu jammy-updates/universe amd64 python3-venv amd64 3.10.6-1~22.04.1 [1,042 B]\n",
            "Fetched 4,152 kB in 1s (4,427 kB/s)\n",
            "Selecting previously unselected package python3-setuptools.\n",
            "(Reading database ... 126209 files and directories currently installed.)\n",
            "Preparing to unpack .../0-python3-setuptools_59.6.0-1.2ubuntu0.22.04.2_all.deb ...\n",
            "Unpacking python3-setuptools (59.6.0-1.2ubuntu0.22.04.2) ...\n",
            "Selecting previously unselected package python3-wheel.\n",
            "Preparing to unpack .../1-python3-wheel_0.37.1-2ubuntu0.22.04.1_all.deb ...\n",
            "Unpacking python3-wheel (0.37.1-2ubuntu0.22.04.1) ...\n",
            "Selecting previously unselected package python3-pip.\n",
            "Preparing to unpack .../2-python3-pip_22.0.2+dfsg-1ubuntu0.5_all.deb ...\n",
            "Unpacking python3-pip (22.0.2+dfsg-1ubuntu0.5) ...\n",
            "Selecting previously unselected package python3-pip-whl.\n",
            "Preparing to unpack .../3-python3-pip-whl_22.0.2+dfsg-1ubuntu0.5_all.deb ...\n",
            "Unpacking python3-pip-whl (22.0.2+dfsg-1ubuntu0.5) ...\n",
            "Selecting previously unselected package python3-setuptools-whl.\n",
            "Preparing to unpack .../4-python3-setuptools-whl_59.6.0-1.2ubuntu0.22.04.2_all.deb ...\n",
            "Unpacking python3-setuptools-whl (59.6.0-1.2ubuntu0.22.04.2) ...\n",
            "Selecting previously unselected package python3.10-venv.\n",
            "Preparing to unpack .../5-python3.10-venv_3.10.12-1~22.04.9_amd64.deb ...\n",
            "Unpacking python3.10-venv (3.10.12-1~22.04.9) ...\n",
            "Selecting previously unselected package python3-venv.\n",
            "Preparing to unpack .../6-python3-venv_3.10.6-1~22.04.1_amd64.deb ...\n",
            "Unpacking python3-venv (3.10.6-1~22.04.1) ...\n",
            "Setting up python3-setuptools-whl (59.6.0-1.2ubuntu0.22.04.2) ...\n",
            "Setting up python3-setuptools (59.6.0-1.2ubuntu0.22.04.2) ...\n",
            "Setting up python3-pip-whl (22.0.2+dfsg-1ubuntu0.5) ...\n",
            "Setting up python3-wheel (0.37.1-2ubuntu0.22.04.1) ...\n",
            "Setting up python3-pip (22.0.2+dfsg-1ubuntu0.5) ...\n",
            "Setting up python3.10-venv (3.10.12-1~22.04.9) ...\n",
            "Setting up python3-venv (3.10.6-1~22.04.1) ...\n",
            "Processing triggers for man-db (2.10.2-1) ...\n",
            "Looking in indexes: https://pypi.org/simple, https://download.pytorch.org/whl/cu118\n",
            "Requirement already satisfied: torch in /usr/local/lib/python3.11/dist-packages (2.6.0+cu124)\n",
            "Requirement already satisfied: torchvision in /usr/local/lib/python3.11/dist-packages (0.21.0+cu124)\n",
            "Requirement already satisfied: torchaudio in /usr/local/lib/python3.11/dist-packages (2.6.0+cu124)\n",
            "Requirement already satisfied: filelock in /usr/local/lib/python3.11/dist-packages (from torch) (3.18.0)\n",
            "Requirement already satisfied: typing-extensions>=4.10.0 in /usr/local/lib/python3.11/dist-packages (from torch) (4.12.2)\n",
            "Requirement already satisfied: networkx in /usr/local/lib/python3.11/dist-packages (from torch) (3.4.2)\n",
            "Requirement already satisfied: jinja2 in /usr/local/lib/python3.11/dist-packages (from torch) (3.1.6)\n",
            "Requirement already satisfied: fsspec in /usr/local/lib/python3.11/dist-packages (from torch) (2025.3.0)\n",
            "Requirement already satisfied: nvidia-cuda-nvrtc-cu12==12.4.127 in /usr/local/lib/python3.11/dist-packages (from torch) (12.4.127)\n",
            "Requirement already satisfied: nvidia-cuda-runtime-cu12==12.4.127 in /usr/local/lib/python3.11/dist-packages (from torch) (12.4.127)\n",
            "Requirement already satisfied: nvidia-cuda-cupti-cu12==12.4.127 in /usr/local/lib/python3.11/dist-packages (from torch) (12.4.127)\n",
            "Requirement already satisfied: nvidia-cudnn-cu12==9.1.0.70 in /usr/local/lib/python3.11/dist-packages (from torch) (9.1.0.70)\n",
            "Requirement already satisfied: nvidia-cublas-cu12==12.4.5.8 in /usr/local/lib/python3.11/dist-packages (from torch) (12.4.5.8)\n",
            "Requirement already satisfied: nvidia-cufft-cu12==11.2.1.3 in /usr/local/lib/python3.11/dist-packages (from torch) (11.2.1.3)\n",
            "Requirement already satisfied: nvidia-curand-cu12==10.3.5.147 in /usr/local/lib/python3.11/dist-packages (from torch) (10.3.5.147)\n",
            "Requirement already satisfied: nvidia-cusolver-cu12==11.6.1.9 in /usr/local/lib/python3.11/dist-packages (from torch) (11.6.1.9)\n",
            "Requirement already satisfied: nvidia-cusparse-cu12==12.3.1.170 in /usr/local/lib/python3.11/dist-packages (from torch) (12.3.1.170)\n",
            "Requirement already satisfied: nvidia-cusparselt-cu12==0.6.2 in /usr/local/lib/python3.11/dist-packages (from torch) (0.6.2)\n",
            "Requirement already satisfied: nvidia-nccl-cu12==2.21.5 in /usr/local/lib/python3.11/dist-packages (from torch) (2.21.5)\n",
            "Requirement already satisfied: nvidia-nvtx-cu12==12.4.127 in /usr/local/lib/python3.11/dist-packages (from torch) (12.4.127)\n",
            "Requirement already satisfied: nvidia-nvjitlink-cu12==12.4.127 in /usr/local/lib/python3.11/dist-packages (from torch) (12.4.127)\n",
            "Requirement already satisfied: triton==3.2.0 in /usr/local/lib/python3.11/dist-packages (from torch) (3.2.0)\n",
            "Requirement already satisfied: sympy==1.13.1 in /usr/local/lib/python3.11/dist-packages (from torch) (1.13.1)\n",
            "Requirement already satisfied: mpmath<1.4,>=1.1.0 in /usr/local/lib/python3.11/dist-packages (from sympy==1.13.1->torch) (1.3.0)\n",
            "Requirement already satisfied: numpy in /usr/local/lib/python3.11/dist-packages (from torchvision) (2.0.2)\n",
            "Requirement already satisfied: pillow!=8.3.*,>=5.3.0 in /usr/local/lib/python3.11/dist-packages (from torchvision) (11.1.0)\n",
            "Requirement already satisfied: MarkupSafe>=2.0 in /usr/local/lib/python3.11/dist-packages (from jinja2->torch) (3.0.2)\n"
          ]
        }
      ]
    },
    {
      "cell_type": "code",
      "source": [
        "import torch\n",
        "print(\"CUDA Available:\", torch.cuda.is_available())"
      ],
      "metadata": {
        "colab": {
          "base_uri": "https://localhost:8080/"
        },
        "id": "3ILmnosjagkr",
        "outputId": "7356d455-32a9-4e7f-c464-e5393f9301a9"
      },
      "execution_count": 1,
      "outputs": [
        {
          "output_type": "stream",
          "name": "stdout",
          "text": [
            "CUDA Available: True\n"
          ]
        }
      ]
    },
    {
      "cell_type": "code",
      "source": [
        "import os\n",
        "import json\n",
        "import subprocess\n",
        "\n",
        "# Step 5: Train the Model (Fixed missing fold argument)\n",
        "print(\"[INFO] Training nnUNet Model...\")\n",
        "train_command = \"nnUNetv2_train 500 3d_fullres 0\"\n",
        "process = subprocess.run(train_command, shell=True, capture_output=True, text=True)\n",
        "print(\"[INFO] Training Output:\\n\", process.stdout)\n",
        "if process.stderr:\n",
        "    print(\"[ERROR] Training Error:\\n\", process.stderr)\n",
        "    exit(1)\n",
        "\n"
      ],
      "metadata": {
        "colab": {
          "base_uri": "https://localhost:8080/"
        },
        "id": "Pll6xz9pgTD8",
        "outputId": "06d5779e-2208-4d87-f13e-ed9c8cd9a9a5"
      },
      "execution_count": null,
      "outputs": [
        {
          "output_type": "stream",
          "name": "stdout",
          "text": [
            "[INFO] Training nnUNet Model...\n"
          ]
        }
      ]
    },
    {
      "cell_type": "code",
      "source": [
        "\n",
        "# Step 6: Inference (Fixed dataset path)\n",
        "print(\"[INFO] Running Inference...\")\n",
        "predict_command = f\"nnUNetv2_predict -i {IMAGES_TR_PATH} -o {PREDICTIONS_PATH} -d 500 -c 3d_fullres -f 0\"\n",
        "process = subprocess.run(predict_command, shell=True, capture_output=True, text=True)\n",
        "print(\"[INFO] Inference Output:\\n\", process.stdout)\n",
        "if process.stderr:\n",
        "    print(\"[ERROR] Inference Error:\\n\", process.stderr)\n",
        "    exit(1)\n",
        "\n",
        "print(\"[INFO] nnUNet Workflow Completed Successfully!\")"
      ],
      "metadata": {
        "id": "cK3ELs_CZm74"
      },
      "execution_count": null,
      "outputs": []
    },
    {
      "cell_type": "code",
      "source": [
        "import os\n",
        "\n",
        "os.environ[\"nnUNet_raw\"] = \"/content/drive/MyDrive/nnUNet_raw\"\n",
        "os.environ[\"nnUNet_preprocessed\"] = \"/content/drive/MyDrive/nnUNet_preprocessed\"\n",
        "os.environ[\"nnUNet_results\"] = \"/content/drive/MyDrive/nnUNet_results\"\n",
        "\n",
        "# Verify environment variables\n",
        "print(\"[INFO] Environment Variables Set:\")\n",
        "print(\"nnUNet_raw:\", os.environ.get(\"nnUNet_raw\"))\n",
        "print(\"nnUNet_preprocessed:\", os.environ.get(\"nnUNet_preprocessed\"))\n",
        "print(\"nnUNet_results:\", os.environ.get(\"nnUNet_results\"))"
      ],
      "metadata": {
        "colab": {
          "base_uri": "https://localhost:8080/"
        },
        "id": "j5ssKCGcIcpH",
        "outputId": "a5c0ee60-d82b-4b99-ab33-e4a20122187f"
      },
      "execution_count": null,
      "outputs": [
        {
          "output_type": "stream",
          "name": "stdout",
          "text": [
            "[INFO] Environment Variables Set:\n",
            "nnUNet_raw: /content/drive/MyDrive/nnUNet_raw\n",
            "nnUNet_preprocessed: /content/drive/MyDrive/nnUNet_preprocessed\n",
            "nnUNet_results: /content/drive/MyDrive/nnUNet_results\n"
          ]
        }
      ]
    },
    {
      "cell_type": "code",
      "source": [
        "import subprocess\n",
        "\n",
        "# Define paths\n",
        "IMAGES_TR_PATH = \"/content/drive/MyDrive/nnUNet_raw/Task500_ProstateX/imagesTr\"\n",
        "PREDICTION_PATH = \"/content/drive/MyDrive/nnUNet_predictions\"\n",
        "\n",
        "# Ensure output directory exists\n",
        "os.makedirs(PREDICTION_PATH, exist_ok=True)\n",
        "\n",
        "# Run inference command and capture errors\n",
        "inference_command = f\"nnUNetv2_predict -i {IMAGES_TR_PATH} -o {PREDICTION_PATH} -d 500 -c 3d_fullres\"\n",
        "process = subprocess.run(inference_command, shell=True, capture_output=True, text=True)\n",
        "\n",
        "# Print the command output\n",
        "print(\"[INFO] Command Output:\\n\", process.stdout)\n",
        "print(\"[ERROR] Command Error:\\n\", process.stderr)\n",
        "\n",
        "# Check for failure\n",
        "if process.returncode != 0:\n",
        "    print(f\"[ERROR] Inference failed with exit code {process.returncode}. Check the logs above.\")\n"
      ],
      "metadata": {
        "colab": {
          "base_uri": "https://localhost:8080/"
        },
        "id": "XkdIqcA-GsZV",
        "outputId": "a2d325bb-51cf-4800-83ed-3db0f75bda7d"
      },
      "execution_count": null,
      "outputs": [
        {
          "output_type": "stream",
          "name": "stdout",
          "text": [
            "[INFO] Command Output:\n",
            " \n",
            "#######################################################################\n",
            "Please cite the following paper when using nnU-Net:\n",
            "Isensee, F., Jaeger, P. F., Kohl, S. A., Petersen, J., & Maier-Hein, K. H. (2021). nnU-Net: a self-configuring method for deep learning-based biomedical image segmentation. Nature methods, 18(2), 203-211.\n",
            "#######################################################################\n",
            "\n",
            "\n",
            "[ERROR] Command Error:\n",
            " Traceback (most recent call last):\n",
            "  File \"/usr/local/bin/nnUNetv2_predict\", line 8, in <module>\n",
            "    sys.exit(predict_entry_point())\n",
            "             ^^^^^^^^^^^^^^^^^^^^^\n",
            "  File \"/usr/local/lib/python3.11/dist-packages/nnunetv2/inference/predict_from_raw_data.py\", line 948, in predict_entry_point\n",
            "    model_folder = get_output_folder(args.d, args.tr, args.p, args.c)\n",
            "                   ^^^^^^^^^^^^^^^^^^^^^^^^^^^^^^^^^^^^^^^^^^^^^^^^^^\n",
            "  File \"/usr/local/lib/python3.11/dist-packages/nnunetv2/utilities/file_path_utilities.py\", line 22, in get_output_folder\n",
            "    tmp = join(nnUNet_results, maybe_convert_to_dataset_name(dataset_name_or_id),\n",
            "                               ^^^^^^^^^^^^^^^^^^^^^^^^^^^^^^^^^^^^^^^^^^^^^^^^^\n",
            "  File \"/usr/local/lib/python3.11/dist-packages/nnunetv2/utilities/dataset_name_id_conversion.py\", line 74, in maybe_convert_to_dataset_name\n",
            "    return convert_id_to_dataset_name(dataset_name_or_id)\n",
            "           ^^^^^^^^^^^^^^^^^^^^^^^^^^^^^^^^^^^^^^^^^^^^^^\n",
            "  File \"/usr/local/lib/python3.11/dist-packages/nnunetv2/utilities/dataset_name_id_conversion.py\", line 48, in convert_id_to_dataset_name\n",
            "    raise RuntimeError(f\"Could not find a dataset with the ID {dataset_id}. Make sure the requested dataset ID \"\n",
            "RuntimeError: Could not find a dataset with the ID 500. Make sure the requested dataset ID exists and that nnU-Net knows where raw and preprocessed data are located (see Documentation - Installation). Here are your currently defined folders:\n",
            "nnUNet_preprocessed=/content/drive/MyDrive/nnUNet_preprocessed\n",
            "nnUNet_results=/content/drive/MyDrive/nnUNet_results\n",
            "nnUNet_raw=/content/drive/MyDrive/nnUNet_raw\n",
            "If something is not right, adapt your environment variables.\n",
            "\n",
            "[ERROR] Inference failed with exit code 1. Check the logs above.\n"
          ]
        }
      ]
    },
    {
      "cell_type": "code",
      "source": [
        "DATASET_ID = \"002\"\n",
        "inference_command = f\"nnUNetv2_predict -i {IMAGES_TR_PATH} -o {PREDICTION_PATH} -d {DATASET_ID} -c 3d_fullres\"\n"
      ],
      "metadata": {
        "id": "2UuPYFmJI3nY"
      },
      "execution_count": null,
      "outputs": []
    },
    {
      "cell_type": "code",
      "source": [
        "import subprocess\n",
        "\n",
        "# Run inference command\n",
        "inference_command = f\"nnUNetv2_predict -i {IMAGES_TR_PATH} -o {PREDICTION_PATH} -d 500 -c 3d_fullres\"\n",
        "process = subprocess.run(inference_command, shell=True, capture_output=True, text=True)\n",
        "\n",
        "# Print output and error\n",
        "print(\"[INFO] Command Output:\\n\", process.stdout)\n",
        "print(\"[ERROR] Command Error:\\n\", process.stderr)\n"
      ],
      "metadata": {
        "colab": {
          "base_uri": "https://localhost:8080/"
        },
        "id": "UoSip13nK67c",
        "outputId": "27ed4483-3bf6-4b3d-fe92-123767396309"
      },
      "execution_count": null,
      "outputs": [
        {
          "output_type": "stream",
          "name": "stdout",
          "text": [
            "[INFO] Command Output:\n",
            " \n",
            "#######################################################################\n",
            "Please cite the following paper when using nnU-Net:\n",
            "Isensee, F., Jaeger, P. F., Kohl, S. A., Petersen, J., & Maier-Hein, K. H. (2021). nnU-Net: a self-configuring method for deep learning-based biomedical image segmentation. Nature methods, 18(2), 203-211.\n",
            "#######################################################################\n",
            "\n",
            "\n",
            "[ERROR] Command Error:\n",
            " Traceback (most recent call last):\n",
            "  File \"/usr/local/bin/nnUNetv2_predict\", line 8, in <module>\n",
            "    sys.exit(predict_entry_point())\n",
            "             ^^^^^^^^^^^^^^^^^^^^^\n",
            "  File \"/usr/local/lib/python3.11/dist-packages/nnunetv2/inference/predict_from_raw_data.py\", line 948, in predict_entry_point\n",
            "    model_folder = get_output_folder(args.d, args.tr, args.p, args.c)\n",
            "                   ^^^^^^^^^^^^^^^^^^^^^^^^^^^^^^^^^^^^^^^^^^^^^^^^^^\n",
            "  File \"/usr/local/lib/python3.11/dist-packages/nnunetv2/utilities/file_path_utilities.py\", line 22, in get_output_folder\n",
            "    tmp = join(nnUNet_results, maybe_convert_to_dataset_name(dataset_name_or_id),\n",
            "                               ^^^^^^^^^^^^^^^^^^^^^^^^^^^^^^^^^^^^^^^^^^^^^^^^^\n",
            "  File \"/usr/local/lib/python3.11/dist-packages/nnunetv2/utilities/dataset_name_id_conversion.py\", line 74, in maybe_convert_to_dataset_name\n",
            "    return convert_id_to_dataset_name(dataset_name_or_id)\n",
            "           ^^^^^^^^^^^^^^^^^^^^^^^^^^^^^^^^^^^^^^^^^^^^^^\n",
            "  File \"/usr/local/lib/python3.11/dist-packages/nnunetv2/utilities/dataset_name_id_conversion.py\", line 48, in convert_id_to_dataset_name\n",
            "    raise RuntimeError(f\"Could not find a dataset with the ID {dataset_id}. Make sure the requested dataset ID \"\n",
            "RuntimeError: Could not find a dataset with the ID 500. Make sure the requested dataset ID exists and that nnU-Net knows where raw and preprocessed data are located (see Documentation - Installation). Here are your currently defined folders:\n",
            "nnUNet_preprocessed=/content/drive/MyDrive/nnUNet_preprocessed\n",
            "nnUNet_results=/content/drive/MyDrive/nnUNet_results\n",
            "nnUNet_raw=/content/drive/MyDrive/nnUNet_raw\n",
            "If something is not right, adapt your environment variables.\n",
            "\n"
          ]
        }
      ]
    },
    {
      "cell_type": "code",
      "source": [
        "import os\n",
        "\n",
        "nnUNet_preprocessed_path = \"/content/drive/MyDrive/nnUNet_preprocessed\"\n",
        "nnUNet_results_path = \"/content/drive/MyDrive/nnUNet_results\"\n",
        "\n",
        "# List available dataset folders\n",
        "print(\"[INFO] Checking available datasets in nnUNet_preprocessed:\")\n",
        "print(os.listdir(nnUNet_preprocessed_path))\n",
        "\n",
        "print(\"\\n[INFO] Checking available trained models in nnUNet_results:\")\n",
        "print(os.listdir(nnUNet_results_path))\n"
      ],
      "metadata": {
        "colab": {
          "base_uri": "https://localhost:8080/",
          "height": 228
        },
        "id": "hrv8izBwLSEb",
        "outputId": "d25b0897-3677-4c66-eb01-731f2981cd1e"
      },
      "execution_count": null,
      "outputs": [
        {
          "output_type": "stream",
          "name": "stdout",
          "text": [
            "[INFO] Checking available datasets in nnUNet_preprocessed:\n"
          ]
        },
        {
          "output_type": "error",
          "ename": "FileNotFoundError",
          "evalue": "[Errno 2] No such file or directory: '/content/drive/MyDrive/nnUNet_preprocessed'",
          "traceback": [
            "\u001b[0;31m---------------------------------------------------------------------------\u001b[0m",
            "\u001b[0;31mFileNotFoundError\u001b[0m                         Traceback (most recent call last)",
            "\u001b[0;32m<ipython-input-20-b9ec5156a764>\u001b[0m in \u001b[0;36m<cell line: 0>\u001b[0;34m()\u001b[0m\n\u001b[1;32m      6\u001b[0m \u001b[0;31m# List available dataset folders\u001b[0m\u001b[0;34m\u001b[0m\u001b[0;34m\u001b[0m\u001b[0m\n\u001b[1;32m      7\u001b[0m \u001b[0mprint\u001b[0m\u001b[0;34m(\u001b[0m\u001b[0;34m\"[INFO] Checking available datasets in nnUNet_preprocessed:\"\u001b[0m\u001b[0;34m)\u001b[0m\u001b[0;34m\u001b[0m\u001b[0;34m\u001b[0m\u001b[0m\n\u001b[0;32m----> 8\u001b[0;31m \u001b[0mprint\u001b[0m\u001b[0;34m(\u001b[0m\u001b[0mos\u001b[0m\u001b[0;34m.\u001b[0m\u001b[0mlistdir\u001b[0m\u001b[0;34m(\u001b[0m\u001b[0mnnUNet_preprocessed_path\u001b[0m\u001b[0;34m)\u001b[0m\u001b[0;34m)\u001b[0m\u001b[0;34m\u001b[0m\u001b[0;34m\u001b[0m\u001b[0m\n\u001b[0m\u001b[1;32m      9\u001b[0m \u001b[0;34m\u001b[0m\u001b[0m\n\u001b[1;32m     10\u001b[0m \u001b[0mprint\u001b[0m\u001b[0;34m(\u001b[0m\u001b[0;34m\"\\n[INFO] Checking available trained models in nnUNet_results:\"\u001b[0m\u001b[0;34m)\u001b[0m\u001b[0;34m\u001b[0m\u001b[0;34m\u001b[0m\u001b[0m\n",
            "\u001b[0;31mFileNotFoundError\u001b[0m: [Errno 2] No such file or directory: '/content/drive/MyDrive/nnUNet_preprocessed'"
          ]
        }
      ]
    },
    {
      "cell_type": "code",
      "source": [
        "import os\n",
        "\n",
        "# Define paths\n",
        "base_path = \"/content/drive/MyDrive/\"\n",
        "paths = [\"nnUNet_raw\", \"nnUNet_preprocessed\", \"nnUNet_results\"]\n",
        "\n",
        "for path in paths:\n",
        "    full_path = os.path.join(base_path, path)\n",
        "    print(f\"[INFO] Checking path: {full_path}\")\n",
        "    print(\"Exists:\", os.path.exists(full_path))\n",
        "    print(\"Contents:\", os.listdir(full_path) if os.path.exists(full_path) else \"Folder not found\")\n",
        "    print(\"\\n\")\n",
        "\n"
      ],
      "metadata": {
        "colab": {
          "base_uri": "https://localhost:8080/"
        },
        "id": "CZYBrhGJLm-W",
        "outputId": "f8bbb080-dd01-43d3-e65d-508afb900348"
      },
      "execution_count": null,
      "outputs": [
        {
          "output_type": "stream",
          "name": "stdout",
          "text": [
            "[INFO] Checking path: /content/drive/MyDrive/nnUNet_raw\n",
            "Exists: True\n",
            "Contents: ['Task500_ProstateX']\n",
            "\n",
            "\n",
            "[INFO] Checking path: /content/drive/MyDrive/nnUNet_preprocessed\n",
            "Exists: False\n",
            "Contents: Folder not found\n",
            "\n",
            "\n",
            "[INFO] Checking path: /content/drive/MyDrive/nnUNet_results\n",
            "Exists: False\n",
            "Contents: Folder not found\n",
            "\n",
            "\n"
          ]
        }
      ]
    },
    {
      "cell_type": "code",
      "source": [
        "nnUNetv2_plan_and_preprocess -d 500 --verify_dataset_integrity\n"
      ],
      "metadata": {
        "colab": {
          "base_uri": "https://localhost:8080/",
          "height": 106
        },
        "id": "ZGswZWtBLsX9",
        "outputId": "5251953a-41a2-4753-f790-a938a2b6238f"
      },
      "execution_count": null,
      "outputs": [
        {
          "output_type": "error",
          "ename": "SyntaxError",
          "evalue": "invalid syntax (<ipython-input-22-5e82b98bdce9>, line 1)",
          "traceback": [
            "\u001b[0;36m  File \u001b[0;32m\"<ipython-input-22-5e82b98bdce9>\"\u001b[0;36m, line \u001b[0;32m1\u001b[0m\n\u001b[0;31m    nnUNetv2_plan_and_preprocess -d 500 --verify_dataset_integrity\u001b[0m\n\u001b[0m                                    ^\u001b[0m\n\u001b[0;31mSyntaxError\u001b[0m\u001b[0;31m:\u001b[0m invalid syntax\n"
          ]
        }
      ]
    },
    {
      "cell_type": "code",
      "source": [
        "import os\n",
        "import shutil\n",
        "\n",
        "# Define paths\n",
        "TRAINED_MODEL_PATH = \"/content/drive/MyDrive/nnUNet_results/nnUNet/3d_fullres/Task500_ProstateX\"\n",
        "BACKUP_MODEL_PATH = \"/content/drive/MyDrive/nnUNet_trained_model_backup/Task500_ProstateX\"\n",
        "\n",
        "# Ensure backup directory exists\n",
        "os.makedirs(os.path.dirname(BACKUP_MODEL_PATH), exist_ok=True)\n",
        "\n",
        "# Copy the trained model to backup\n",
        "if os.path.exists(TRAINED_MODEL_PATH):\n",
        "    shutil.copytree(TRAINED_MODEL_PATH, BACKUP_MODEL_PATH, dirs_exist_ok=True)\n",
        "    print(f\"[INFO] Trained model successfully backed up to {BACKUP_MODEL_PATH}\")\n",
        "else:\n",
        "    print(\"[ERROR] Trained model not found. Ensure training was completed successfully.\")\n"
      ],
      "metadata": {
        "colab": {
          "base_uri": "https://localhost:8080/"
        },
        "id": "BH6d2SG7Fxon",
        "outputId": "7a958d07-cf1f-4b43-9070-6ea7aa99316e"
      },
      "execution_count": null,
      "outputs": [
        {
          "output_type": "stream",
          "name": "stdout",
          "text": [
            "[ERROR] Trained model not found. Ensure training was completed successfully.\n"
          ]
        }
      ]
    },
    {
      "cell_type": "code",
      "source": [
        "import os\n",
        "import subprocess\n",
        "\n",
        "# Define paths\n",
        "os.environ[\"nnUNet_raw\"] = \"/content/drive/MyDrive/nnUNet_raw\"\n",
        "os.environ[\"nnUNet_preprocessed\"] = \"/content/drive/MyDrive/nnUNet_preprocessed\"\n",
        "os.environ[\"nnUNet_results\"] = \"/content/drive/MyDrive/nnUNet_results\"\n",
        "\n",
        "# Verify environment variables\n",
        "print(\"[INFO] Environment Variables Set:\")\n",
        "print(\"nnUNet_raw:\", os.environ.get(\"nnUNet_raw\"))\n",
        "print(\"nnUNet_preprocessed:\", os.environ.get(\"nnUNet_preprocessed\"))\n",
        "print(\"nnUNet_results:\", os.environ.get(\"nnUNet_results\"))\n",
        "\n",
        "# Run nnU-Net Preprocessing\n",
        "print(\"[INFO] Running nnU-Net Preprocessing...\")\n",
        "preprocess_command = \"nnUNetv2_plan_and_preprocess -d 500 --verify_dataset_integrity\"\n",
        "process = subprocess.run(preprocess_command, shell=True, capture_output=True, text=True)\n",
        "\n",
        "# Print command output\n",
        "print(\"[INFO] Command Output:\\n\", process.stdout)\n",
        "print(\"[ERROR] Command Error:\\n\", process.stderr)\n",
        "\n",
        "# Verify if preprocessing was successful\n",
        "preprocessed_path = \"/content/drive/MyDrive/nnUNet_preprocessed/Task500_ProstateX\"\n",
        "if os.path.exists(preprocessed_path):\n",
        "    print(f\"[SUCCESS] Preprocessing completed! Preprocessed data is in: {preprocessed_path}\")\n",
        "    print(\"Listing preprocessed files:\")\n",
        "    print(os.listdir(preprocessed_path))\n",
        "else:\n",
        "    print(\"[ERROR] Preprocessing failed. Check the error logs above.\")\n"
      ],
      "metadata": {
        "colab": {
          "base_uri": "https://localhost:8080/"
        },
        "id": "30dI63huGrOp",
        "outputId": "254f5b4d-b0d4-4461-e62e-4054eba67ce9"
      },
      "execution_count": null,
      "outputs": [
        {
          "output_type": "stream",
          "name": "stdout",
          "text": [
            "[INFO] Environment Variables Set:\n",
            "nnUNet_raw: /content/drive/MyDrive/nnUNet_raw\n",
            "nnUNet_preprocessed: /content/drive/MyDrive/nnUNet_preprocessed\n",
            "nnUNet_results: /content/drive/MyDrive/nnUNet_results\n",
            "[INFO] Running nnU-Net Preprocessing...\n",
            "[INFO] Command Output:\n",
            " Fingerprint extraction...\n",
            "Dataset500_ProstateX\n",
            "\n",
            "[ERROR] Command Error:\n",
            " Traceback (most recent call last):\n",
            "  File \"/usr/local/bin/nnUNetv2_plan_and_preprocess\", line 8, in <module>\n",
            "    sys.exit(plan_and_preprocess_entry())\n",
            "             ^^^^^^^^^^^^^^^^^^^^^^^^^^^\n",
            "  File \"/usr/local/lib/python3.11/dist-packages/nnunetv2/experiment_planning/plan_and_preprocess_entrypoints.py\", line 180, in plan_and_preprocess_entry\n",
            "    extract_fingerprints(args.d, args.fpe, args.npfp, args.verify_dataset_integrity, args.clean, args.verbose)\n",
            "  File \"/usr/local/lib/python3.11/dist-packages/nnunetv2/experiment_planning/plan_and_preprocess_api.py\", line 47, in extract_fingerprints\n",
            "    extract_fingerprint_dataset(d, fingerprint_extractor_class, num_processes, check_dataset_integrity, clean,\n",
            "  File \"/usr/local/lib/python3.11/dist-packages/nnunetv2/experiment_planning/plan_and_preprocess_api.py\", line 30, in extract_fingerprint_dataset\n",
            "    verify_dataset_integrity(join(nnUNet_raw, dataset_name), num_processes)\n",
            "  File \"/usr/local/lib/python3.11/dist-packages/nnunetv2/experiment_planning/verify_dataset_integrity.py\", line 138, in verify_dataset_integrity\n",
            "    assert all([i in dataset_keys for i in required_keys]), 'not all required keys are present in dataset.json.' \\\n",
            "           ^^^^^^^^^^^^^^^^^^^^^^^^^^^^^^^^^^^^^^^^^^^^^^^\n",
            "AssertionError: not all required keys are present in dataset.json.\n",
            "\n",
            "Required: \n",
            "['labels', 'channel_names', 'numTraining', 'file_ending']\n",
            "\n",
            "Present: \n",
            "['name', 'description', 'tensorImageSize', 'reference', 'licence', 'release', 'modality', 'labels', 'numTraining', 'numTest', 'training', 'test']\n",
            "\n",
            "Missing: \n",
            "['channel_names', 'file_ending']\n",
            "\n",
            "Unused by nnU-Net:\n",
            "['name', 'description', 'tensorImageSize', 'reference', 'licence', 'release', 'modality', 'numTest', 'training', 'test']\n",
            "\n",
            "[ERROR] Preprocessing failed. Check the error logs above.\n"
          ]
        }
      ]
    },
    {
      "cell_type": "code",
      "source": [
        "import os\n",
        "\n",
        "dataset_path = \"/content/drive/MyDrive/nnUNet_raw/Dataset500_ProstateX\"\n",
        "print(\"Dataset exists:\", os.path.exists(dataset_path))\n",
        "print(\"Contents:\", os.listdir(dataset_path) if os.path.exists(dataset_path) else \"Dataset folder missing!\")\n"
      ],
      "metadata": {
        "colab": {
          "base_uri": "https://localhost:8080/"
        },
        "id": "ScFuUSNDCz8K",
        "outputId": "fc391d9e-4246-4e1a-dcf6-b14ecf7bd75f"
      },
      "execution_count": null,
      "outputs": [
        {
          "output_type": "stream",
          "name": "stdout",
          "text": [
            "Dataset exists: True\n",
            "Contents: ['imagesTr', 'labelsTr', 'dataset.json']\n"
          ]
        }
      ]
    },
    {
      "cell_type": "code",
      "source": [
        "import os\n",
        "\n",
        "nnunet_raw_path = \"/content/drive/MyDrive/nnUNet_raw\"\n",
        "if os.path.exists(nnunet_raw_path):\n",
        "    print(\"nnUNet_raw contents:\", os.listdir(nnunet_raw_path))\n",
        "else:\n",
        "    print(\"nnUNet_raw folder is missing!\")\n"
      ],
      "metadata": {
        "colab": {
          "base_uri": "https://localhost:8080/"
        },
        "id": "K2a02LtsOtdV",
        "outputId": "8dcc8fa6-4856-4889-b1fd-6a3a97663ac7"
      },
      "execution_count": null,
      "outputs": [
        {
          "output_type": "stream",
          "name": "stdout",
          "text": [
            "nnUNet_raw contents: ['Dataset500_ProstateX']\n"
          ]
        }
      ]
    },
    {
      "cell_type": "code",
      "source": [
        "import os\n",
        "\n",
        "old_path = \"/content/drive/MyDrive/nnUNet_raw/Task500_ProstateX\"\n",
        "new_path = \"/content/drive/MyDrive/nnUNet_raw/Dataset500_ProstateX\"\n",
        "\n",
        "# Check if the old path exists before renaming\n",
        "if os.path.exists(old_path):\n",
        "    os.rename(old_path, new_path)\n",
        "    print(f\"[SUCCESS] Renamed '{old_path}' to '{new_path}'\")\n",
        "else:\n",
        "    print(\"[ERROR] Task500_ProstateX not found!\")\n"
      ],
      "metadata": {
        "colab": {
          "base_uri": "https://localhost:8080/"
        },
        "id": "zb7nOsAUPE7j",
        "outputId": "2a40dbb1-f456-491f-f485-4791b6bd0c45"
      },
      "execution_count": null,
      "outputs": [
        {
          "output_type": "stream",
          "name": "stdout",
          "text": [
            "[ERROR] Task500_ProstateX not found!\n"
          ]
        }
      ]
    }
  ]
}