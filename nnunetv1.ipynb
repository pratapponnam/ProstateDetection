{
  "nbformat": 4,
  "nbformat_minor": 0,
  "metadata": {
    "colab": {
      "provenance": [],
      "authorship_tag": "ABX9TyNQDaRNKaBkYDDYSgo6ng2T",
      "include_colab_link": true
    },
    "kernelspec": {
      "name": "python3",
      "display_name": "Python 3"
    },
    "language_info": {
      "name": "python"
    }
  },
  "cells": [
    {
      "cell_type": "markdown",
      "metadata": {
        "id": "view-in-github",
        "colab_type": "text"
      },
      "source": [
        "<a href=\"https://colab.research.google.com/github/pratapponnam/ProstateDetection/blob/main/nnunetv1.ipynb\" target=\"_parent\"><img src=\"https://colab.research.google.com/assets/colab-badge.svg\" alt=\"Open In Colab\"/></a>"
      ]
    },
    {
      "cell_type": "code",
      "execution_count": 1,
      "metadata": {
        "colab": {
          "base_uri": "https://localhost:8080/",
          "height": 1000
        },
        "id": "mH1uu-80J-M7",
        "outputId": "32051e6f-61da-4e6f-8106-4f0f9b53d13e"
      },
      "outputs": [
        {
          "output_type": "stream",
          "name": "stdout",
          "text": [
            "Collecting nnunet\n",
            "  Downloading nnunet-1.7.1.tar.gz (276 kB)\n",
            "\u001b[?25l     \u001b[90m━━━━━━━━━━━━━━━━━━━━━━━━━━━━━━━━━━━━━━━━\u001b[0m \u001b[32m0.0/276.6 kB\u001b[0m \u001b[31m?\u001b[0m eta \u001b[36m-:--:--\u001b[0m\r\u001b[2K     \u001b[91m━━━━━━━━━━━━━━━━━━━━━━━━━━━━\u001b[0m\u001b[90m╺\u001b[0m\u001b[90m━━━━━━━━━━━\u001b[0m \u001b[32m194.6/276.6 kB\u001b[0m \u001b[31m6.0 MB/s\u001b[0m eta \u001b[36m0:00:01\u001b[0m\r\u001b[2K     \u001b[90m━━━━━━━━━━━━━━━━━━━━━━━━━━━━━━━━━━━━━━━━\u001b[0m \u001b[32m276.6/276.6 kB\u001b[0m \u001b[31m4.6 MB/s\u001b[0m eta \u001b[36m0:00:00\u001b[0m\n",
            "\u001b[?25h  Preparing metadata (setup.py) ... \u001b[?25l\u001b[?25hdone\n",
            "Requirement already satisfied: torch>1.10.0 in /usr/local/lib/python3.11/dist-packages (from nnunet) (2.5.1+cu124)\n",
            "Requirement already satisfied: tqdm in /usr/local/lib/python3.11/dist-packages (from nnunet) (4.67.1)\n",
            "Collecting dicom2nifti (from nnunet)\n",
            "  Downloading dicom2nifti-2.5.1-py3-none-any.whl.metadata (1.3 kB)\n",
            "Requirement already satisfied: scikit-image>=0.14 in /usr/local/lib/python3.11/dist-packages (from nnunet) (0.25.2)\n",
            "Collecting medpy (from nnunet)\n",
            "  Downloading medpy-0.5.2.tar.gz (156 kB)\n",
            "\u001b[2K     \u001b[90m━━━━━━━━━━━━━━━━━━━━━━━━━━━━━━━━━━━━━━━━\u001b[0m \u001b[32m156.3/156.3 kB\u001b[0m \u001b[31m10.1 MB/s\u001b[0m eta \u001b[36m0:00:00\u001b[0m\n",
            "\u001b[?25h  Preparing metadata (setup.py) ... \u001b[?25l\u001b[?25hdone\n",
            "Requirement already satisfied: scipy in /usr/local/lib/python3.11/dist-packages (from nnunet) (1.14.1)\n",
            "Collecting batchgenerators>=0.23 (from nnunet)\n",
            "  Downloading batchgenerators-0.25.1.tar.gz (76 kB)\n",
            "\u001b[2K     \u001b[90m━━━━━━━━━━━━━━━━━━━━━━━━━━━━━━━━━━━━━━━━\u001b[0m \u001b[32m77.0/77.0 kB\u001b[0m \u001b[31m4.0 MB/s\u001b[0m eta \u001b[36m0:00:00\u001b[0m\n",
            "\u001b[?25h  Preparing metadata (setup.py) ... \u001b[?25l\u001b[?25hdone\n",
            "Requirement already satisfied: numpy in /usr/local/lib/python3.11/dist-packages (from nnunet) (1.26.4)\n",
            "Requirement already satisfied: scikit-learn in /usr/local/lib/python3.11/dist-packages (from nnunet) (1.6.1)\n",
            "Collecting SimpleITK (from nnunet)\n",
            "  Downloading SimpleITK-2.4.1-cp311-abi3-manylinux_2_17_x86_64.manylinux2014_x86_64.whl.metadata (7.9 kB)\n",
            "Requirement already satisfied: pandas in /usr/local/lib/python3.11/dist-packages (from nnunet) (2.2.2)\n",
            "Requirement already satisfied: requests in /usr/local/lib/python3.11/dist-packages (from nnunet) (2.32.3)\n",
            "Requirement already satisfied: nibabel in /usr/local/lib/python3.11/dist-packages (from nnunet) (5.3.2)\n",
            "Requirement already satisfied: tifffile in /usr/local/lib/python3.11/dist-packages (from nnunet) (2025.2.18)\n",
            "Requirement already satisfied: matplotlib in /usr/local/lib/python3.11/dist-packages (from nnunet) (3.10.0)\n",
            "Requirement already satisfied: pillow>=7.1.2 in /usr/local/lib/python3.11/dist-packages (from batchgenerators>=0.23->nnunet) (11.1.0)\n",
            "Requirement already satisfied: future in /usr/local/lib/python3.11/dist-packages (from batchgenerators>=0.23->nnunet) (1.0.0)\n",
            "Collecting unittest2 (from batchgenerators>=0.23->nnunet)\n",
            "  Downloading unittest2-1.1.0-py2.py3-none-any.whl.metadata (15 kB)\n",
            "Requirement already satisfied: threadpoolctl in /usr/local/lib/python3.11/dist-packages (from batchgenerators>=0.23->nnunet) (3.5.0)\n",
            "Requirement already satisfied: networkx>=3.0 in /usr/local/lib/python3.11/dist-packages (from scikit-image>=0.14->nnunet) (3.4.2)\n",
            "Requirement already satisfied: imageio!=2.35.0,>=2.33 in /usr/local/lib/python3.11/dist-packages (from scikit-image>=0.14->nnunet) (2.37.0)\n",
            "Requirement already satisfied: packaging>=21 in /usr/local/lib/python3.11/dist-packages (from scikit-image>=0.14->nnunet) (24.2)\n",
            "Requirement already satisfied: lazy-loader>=0.4 in /usr/local/lib/python3.11/dist-packages (from scikit-image>=0.14->nnunet) (0.4)\n",
            "Requirement already satisfied: filelock in /usr/local/lib/python3.11/dist-packages (from torch>1.10.0->nnunet) (3.17.0)\n",
            "Requirement already satisfied: typing-extensions>=4.8.0 in /usr/local/lib/python3.11/dist-packages (from torch>1.10.0->nnunet) (4.12.2)\n",
            "Requirement already satisfied: jinja2 in /usr/local/lib/python3.11/dist-packages (from torch>1.10.0->nnunet) (3.1.6)\n",
            "Requirement already satisfied: fsspec in /usr/local/lib/python3.11/dist-packages (from torch>1.10.0->nnunet) (2024.10.0)\n",
            "Collecting nvidia-cuda-nvrtc-cu12==12.4.127 (from torch>1.10.0->nnunet)\n",
            "  Downloading nvidia_cuda_nvrtc_cu12-12.4.127-py3-none-manylinux2014_x86_64.whl.metadata (1.5 kB)\n",
            "Collecting nvidia-cuda-runtime-cu12==12.4.127 (from torch>1.10.0->nnunet)\n",
            "  Downloading nvidia_cuda_runtime_cu12-12.4.127-py3-none-manylinux2014_x86_64.whl.metadata (1.5 kB)\n",
            "Collecting nvidia-cuda-cupti-cu12==12.4.127 (from torch>1.10.0->nnunet)\n",
            "  Downloading nvidia_cuda_cupti_cu12-12.4.127-py3-none-manylinux2014_x86_64.whl.metadata (1.6 kB)\n",
            "Collecting nvidia-cudnn-cu12==9.1.0.70 (from torch>1.10.0->nnunet)\n",
            "  Downloading nvidia_cudnn_cu12-9.1.0.70-py3-none-manylinux2014_x86_64.whl.metadata (1.6 kB)\n",
            "Collecting nvidia-cublas-cu12==12.4.5.8 (from torch>1.10.0->nnunet)\n",
            "  Downloading nvidia_cublas_cu12-12.4.5.8-py3-none-manylinux2014_x86_64.whl.metadata (1.5 kB)\n",
            "Collecting nvidia-cufft-cu12==11.2.1.3 (from torch>1.10.0->nnunet)\n",
            "  Downloading nvidia_cufft_cu12-11.2.1.3-py3-none-manylinux2014_x86_64.whl.metadata (1.5 kB)\n",
            "Collecting nvidia-curand-cu12==10.3.5.147 (from torch>1.10.0->nnunet)\n",
            "  Downloading nvidia_curand_cu12-10.3.5.147-py3-none-manylinux2014_x86_64.whl.metadata (1.5 kB)\n",
            "Collecting nvidia-cusolver-cu12==11.6.1.9 (from torch>1.10.0->nnunet)\n",
            "  Downloading nvidia_cusolver_cu12-11.6.1.9-py3-none-manylinux2014_x86_64.whl.metadata (1.6 kB)\n",
            "Collecting nvidia-cusparse-cu12==12.3.1.170 (from torch>1.10.0->nnunet)\n",
            "  Downloading nvidia_cusparse_cu12-12.3.1.170-py3-none-manylinux2014_x86_64.whl.metadata (1.6 kB)\n",
            "Requirement already satisfied: nvidia-nccl-cu12==2.21.5 in /usr/local/lib/python3.11/dist-packages (from torch>1.10.0->nnunet) (2.21.5)\n",
            "Requirement already satisfied: nvidia-nvtx-cu12==12.4.127 in /usr/local/lib/python3.11/dist-packages (from torch>1.10.0->nnunet) (12.4.127)\n",
            "Collecting nvidia-nvjitlink-cu12==12.4.127 (from torch>1.10.0->nnunet)\n",
            "  Downloading nvidia_nvjitlink_cu12-12.4.127-py3-none-manylinux2014_x86_64.whl.metadata (1.5 kB)\n",
            "Requirement already satisfied: triton==3.1.0 in /usr/local/lib/python3.11/dist-packages (from torch>1.10.0->nnunet) (3.1.0)\n",
            "Requirement already satisfied: sympy==1.13.1 in /usr/local/lib/python3.11/dist-packages (from torch>1.10.0->nnunet) (1.13.1)\n",
            "Requirement already satisfied: mpmath<1.4,>=1.1.0 in /usr/local/lib/python3.11/dist-packages (from sympy==1.13.1->torch>1.10.0->nnunet) (1.3.0)\n",
            "Collecting pydicom>=2.2.0 (from dicom2nifti->nnunet)\n",
            "  Downloading pydicom-3.0.1-py3-none-any.whl.metadata (9.4 kB)\n",
            "Collecting python-gdcm (from dicom2nifti->nnunet)\n",
            "  Downloading python_gdcm-3.0.24.1-cp311-cp311-manylinux_2_17_x86_64.manylinux2014_x86_64.whl.metadata (3.7 kB)\n",
            "Requirement already satisfied: contourpy>=1.0.1 in /usr/local/lib/python3.11/dist-packages (from matplotlib->nnunet) (1.3.1)\n",
            "Requirement already satisfied: cycler>=0.10 in /usr/local/lib/python3.11/dist-packages (from matplotlib->nnunet) (0.12.1)\n",
            "Requirement already satisfied: fonttools>=4.22.0 in /usr/local/lib/python3.11/dist-packages (from matplotlib->nnunet) (4.56.0)\n",
            "Requirement already satisfied: kiwisolver>=1.3.1 in /usr/local/lib/python3.11/dist-packages (from matplotlib->nnunet) (1.4.8)\n",
            "Requirement already satisfied: pyparsing>=2.3.1 in /usr/local/lib/python3.11/dist-packages (from matplotlib->nnunet) (3.2.1)\n",
            "Requirement already satisfied: python-dateutil>=2.7 in /usr/local/lib/python3.11/dist-packages (from matplotlib->nnunet) (2.8.2)\n",
            "Requirement already satisfied: importlib-resources>=5.12 in /usr/local/lib/python3.11/dist-packages (from nibabel->nnunet) (6.5.2)\n",
            "Requirement already satisfied: pytz>=2020.1 in /usr/local/lib/python3.11/dist-packages (from pandas->nnunet) (2025.1)\n",
            "Requirement already satisfied: tzdata>=2022.7 in /usr/local/lib/python3.11/dist-packages (from pandas->nnunet) (2025.1)\n",
            "Requirement already satisfied: charset-normalizer<4,>=2 in /usr/local/lib/python3.11/dist-packages (from requests->nnunet) (3.4.1)\n",
            "Requirement already satisfied: idna<4,>=2.5 in /usr/local/lib/python3.11/dist-packages (from requests->nnunet) (3.10)\n",
            "Requirement already satisfied: urllib3<3,>=1.21.1 in /usr/local/lib/python3.11/dist-packages (from requests->nnunet) (2.3.0)\n",
            "Requirement already satisfied: certifi>=2017.4.17 in /usr/local/lib/python3.11/dist-packages (from requests->nnunet) (2025.1.31)\n",
            "Requirement already satisfied: joblib>=1.2.0 in /usr/local/lib/python3.11/dist-packages (from scikit-learn->nnunet) (1.4.2)\n",
            "Requirement already satisfied: six>=1.5 in /usr/local/lib/python3.11/dist-packages (from python-dateutil>=2.7->matplotlib->nnunet) (1.17.0)\n",
            "Requirement already satisfied: MarkupSafe>=2.0 in /usr/local/lib/python3.11/dist-packages (from jinja2->torch>1.10.0->nnunet) (3.0.2)\n",
            "Collecting argparse (from unittest2->batchgenerators>=0.23->nnunet)\n",
            "  Downloading argparse-1.4.0-py2.py3-none-any.whl.metadata (2.8 kB)\n",
            "Collecting traceback2 (from unittest2->batchgenerators>=0.23->nnunet)\n",
            "  Downloading traceback2-1.4.0-py2.py3-none-any.whl.metadata (1.5 kB)\n",
            "Collecting linecache2 (from traceback2->unittest2->batchgenerators>=0.23->nnunet)\n",
            "  Downloading linecache2-1.0.0-py2.py3-none-any.whl.metadata (1000 bytes)\n",
            "Downloading nvidia_cublas_cu12-12.4.5.8-py3-none-manylinux2014_x86_64.whl (363.4 MB)\n",
            "\u001b[2K   \u001b[90m━━━━━━━━━━━━━━━━━━━━━━━━━━━━━━━━━━━━━━━━\u001b[0m \u001b[32m363.4/363.4 MB\u001b[0m \u001b[31m3.4 MB/s\u001b[0m eta \u001b[36m0:00:00\u001b[0m\n",
            "\u001b[?25hDownloading nvidia_cuda_cupti_cu12-12.4.127-py3-none-manylinux2014_x86_64.whl (13.8 MB)\n",
            "\u001b[2K   \u001b[90m━━━━━━━━━━━━━━━━━━━━━━━━━━━━━━━━━━━━━━━━\u001b[0m \u001b[32m13.8/13.8 MB\u001b[0m \u001b[31m41.7 MB/s\u001b[0m eta \u001b[36m0:00:00\u001b[0m\n",
            "\u001b[?25hDownloading nvidia_cuda_nvrtc_cu12-12.4.127-py3-none-manylinux2014_x86_64.whl (24.6 MB)\n",
            "\u001b[2K   \u001b[90m━━━━━━━━━━━━━━━━━━━━━━━━━━━━━━━━━━━━━━━━\u001b[0m \u001b[32m24.6/24.6 MB\u001b[0m \u001b[31m30.6 MB/s\u001b[0m eta \u001b[36m0:00:00\u001b[0m\n",
            "\u001b[?25hDownloading nvidia_cuda_runtime_cu12-12.4.127-py3-none-manylinux2014_x86_64.whl (883 kB)\n",
            "\u001b[2K   \u001b[90m━━━━━━━━━━━━━━━━━━━━━━━━━━━━━━━━━━━━━━━━\u001b[0m \u001b[32m883.7/883.7 kB\u001b[0m \u001b[31m32.5 MB/s\u001b[0m eta \u001b[36m0:00:00\u001b[0m\n",
            "\u001b[?25hDownloading nvidia_cudnn_cu12-9.1.0.70-py3-none-manylinux2014_x86_64.whl (664.8 MB)\n",
            "\u001b[2K   \u001b[90m━━━━━━━━━━━━━━━━━━━━━━━━━━━━━━━━━━━━━━━━\u001b[0m \u001b[32m664.8/664.8 MB\u001b[0m \u001b[31m2.1 MB/s\u001b[0m eta \u001b[36m0:00:00\u001b[0m\n",
            "\u001b[?25hDownloading nvidia_cufft_cu12-11.2.1.3-py3-none-manylinux2014_x86_64.whl (211.5 MB)\n",
            "\u001b[2K   \u001b[90m━━━━━━━━━━━━━━━━━━━━━━━━━━━━━━━━━━━━━━━━\u001b[0m \u001b[32m211.5/211.5 MB\u001b[0m \u001b[31m5.1 MB/s\u001b[0m eta \u001b[36m0:00:00\u001b[0m\n",
            "\u001b[?25hDownloading nvidia_curand_cu12-10.3.5.147-py3-none-manylinux2014_x86_64.whl (56.3 MB)\n",
            "\u001b[2K   \u001b[90m━━━━━━━━━━━━━━━━━━━━━━━━━━━━━━━━━━━━━━━━\u001b[0m \u001b[32m56.3/56.3 MB\u001b[0m \u001b[31m12.2 MB/s\u001b[0m eta \u001b[36m0:00:00\u001b[0m\n",
            "\u001b[?25hDownloading nvidia_cusolver_cu12-11.6.1.9-py3-none-manylinux2014_x86_64.whl (127.9 MB)\n",
            "\u001b[2K   \u001b[90m━━━━━━━━━━━━━━━━━━━━━━━━━━━━━━━━━━━━━━━━\u001b[0m \u001b[32m127.9/127.9 MB\u001b[0m \u001b[31m7.1 MB/s\u001b[0m eta \u001b[36m0:00:00\u001b[0m\n",
            "\u001b[?25hDownloading nvidia_cusparse_cu12-12.3.1.170-py3-none-manylinux2014_x86_64.whl (207.5 MB)\n",
            "\u001b[2K   \u001b[90m━━━━━━━━━━━━━━━━━━━━━━━━━━━━━━━━━━━━━━━━\u001b[0m \u001b[32m207.5/207.5 MB\u001b[0m \u001b[31m5.3 MB/s\u001b[0m eta \u001b[36m0:00:00\u001b[0m\n",
            "\u001b[?25hDownloading nvidia_nvjitlink_cu12-12.4.127-py3-none-manylinux2014_x86_64.whl (21.1 MB)\n",
            "\u001b[2K   \u001b[90m━━━━━━━━━━━━━━━━━━━━━━━━━━━━━━━━━━━━━━━━\u001b[0m \u001b[32m21.1/21.1 MB\u001b[0m \u001b[31m49.9 MB/s\u001b[0m eta \u001b[36m0:00:00\u001b[0m\n",
            "\u001b[?25hDownloading dicom2nifti-2.5.1-py3-none-any.whl (43 kB)\n",
            "\u001b[2K   \u001b[90m━━━━━━━━━━━━━━━━━━━━━━━━━━━━━━━━━━━━━━━━\u001b[0m \u001b[32m43.6/43.6 kB\u001b[0m \u001b[31m2.6 MB/s\u001b[0m eta \u001b[36m0:00:00\u001b[0m\n",
            "\u001b[?25hDownloading SimpleITK-2.4.1-cp311-abi3-manylinux_2_17_x86_64.manylinux2014_x86_64.whl (52.3 MB)\n",
            "\u001b[2K   \u001b[90m━━━━━━━━━━━━━━━━━━━━━━━━━━━━━━━━━━━━━━━━\u001b[0m \u001b[32m52.3/52.3 MB\u001b[0m \u001b[31m10.0 MB/s\u001b[0m eta \u001b[36m0:00:00\u001b[0m\n",
            "\u001b[?25hDownloading pydicom-3.0.1-py3-none-any.whl (2.4 MB)\n",
            "\u001b[2K   \u001b[90m━━━━━━━━━━━━━━━━━━━━━━━━━━━━━━━━━━━━━━━━\u001b[0m \u001b[32m2.4/2.4 MB\u001b[0m \u001b[31m48.7 MB/s\u001b[0m eta \u001b[36m0:00:00\u001b[0m\n",
            "\u001b[?25hDownloading python_gdcm-3.0.24.1-cp311-cp311-manylinux_2_17_x86_64.manylinux2014_x86_64.whl (13.1 MB)\n",
            "\u001b[2K   \u001b[90m━━━━━━━━━━━━━━━━━━━━━━━━━━━━━━━━━━━━━━━━\u001b[0m \u001b[32m13.1/13.1 MB\u001b[0m \u001b[31m47.5 MB/s\u001b[0m eta \u001b[36m0:00:00\u001b[0m\n",
            "\u001b[?25hDownloading unittest2-1.1.0-py2.py3-none-any.whl (96 kB)\n",
            "\u001b[2K   \u001b[90m━━━━━━━━━━━━━━━━━━━━━━━━━━━━━━━━━━━━━━━━\u001b[0m \u001b[32m96.4/96.4 kB\u001b[0m \u001b[31m6.8 MB/s\u001b[0m eta \u001b[36m0:00:00\u001b[0m\n",
            "\u001b[?25hDownloading argparse-1.4.0-py2.py3-none-any.whl (23 kB)\n",
            "Downloading traceback2-1.4.0-py2.py3-none-any.whl (16 kB)\n",
            "Downloading linecache2-1.0.0-py2.py3-none-any.whl (12 kB)\n",
            "Building wheels for collected packages: nnunet, batchgenerators, medpy\n",
            "  Building wheel for nnunet (setup.py) ... \u001b[?25l\u001b[?25hdone\n",
            "  Created wheel for nnunet: filename=nnunet-1.7.1-py3-none-any.whl size=531260 sha256=26e5da1481a57a6933576c827d60c5fd8a6e1c4626c5a2bf22619fd9761420f9\n",
            "  Stored in directory: /root/.cache/pip/wheels/96/24/6f/29ae4df3d7ad633127125dba95ba0e3ef10bfea39da3a0f44c\n",
            "  Building wheel for batchgenerators (setup.py) ... \u001b[?25l\u001b[?25hdone\n",
            "  Created wheel for batchgenerators: filename=batchgenerators-0.25.1-py3-none-any.whl size=93088 sha256=78bf9861eb689e4c3c93856a59ed1ac50d02ad4aba6a14ae47fec4ba61f16c01\n",
            "  Stored in directory: /root/.cache/pip/wheels/56/11/c7/fadca30e054c602093ffe36ba8a2f0a87dd2f86ac75191d3ed\n",
            "  Building wheel for medpy (setup.py) ... \u001b[?25l\u001b[?25hdone\n",
            "  Created wheel for medpy: filename=MedPy-0.5.2-py3-none-any.whl size=224709 sha256=33664f1cdf3986f452d6e04a5d90000f5bbcc5084ca98231d44a8df0450c97a8\n",
            "  Stored in directory: /root/.cache/pip/wheels/d4/33/ed/aaac5a347fb8d41679ca515b8f5c49dfdf49be15bdbb9a905d\n",
            "Successfully built nnunet batchgenerators medpy\n",
            "Installing collected packages: SimpleITK, linecache2, argparse, traceback2, python-gdcm, pydicom, nvidia-nvjitlink-cu12, nvidia-curand-cu12, nvidia-cufft-cu12, nvidia-cuda-runtime-cu12, nvidia-cuda-nvrtc-cu12, nvidia-cuda-cupti-cu12, nvidia-cublas-cu12, unittest2, nvidia-cusparse-cu12, nvidia-cudnn-cu12, medpy, dicom2nifti, nvidia-cusolver-cu12, batchgenerators, nnunet\n",
            "  Attempting uninstall: nvidia-nvjitlink-cu12\n",
            "    Found existing installation: nvidia-nvjitlink-cu12 12.5.82\n",
            "    Uninstalling nvidia-nvjitlink-cu12-12.5.82:\n",
            "      Successfully uninstalled nvidia-nvjitlink-cu12-12.5.82\n",
            "  Attempting uninstall: nvidia-curand-cu12\n",
            "    Found existing installation: nvidia-curand-cu12 10.3.6.82\n",
            "    Uninstalling nvidia-curand-cu12-10.3.6.82:\n",
            "      Successfully uninstalled nvidia-curand-cu12-10.3.6.82\n",
            "  Attempting uninstall: nvidia-cufft-cu12\n",
            "    Found existing installation: nvidia-cufft-cu12 11.2.3.61\n",
            "    Uninstalling nvidia-cufft-cu12-11.2.3.61:\n",
            "      Successfully uninstalled nvidia-cufft-cu12-11.2.3.61\n",
            "  Attempting uninstall: nvidia-cuda-runtime-cu12\n",
            "    Found existing installation: nvidia-cuda-runtime-cu12 12.5.82\n",
            "    Uninstalling nvidia-cuda-runtime-cu12-12.5.82:\n",
            "      Successfully uninstalled nvidia-cuda-runtime-cu12-12.5.82\n",
            "  Attempting uninstall: nvidia-cuda-nvrtc-cu12\n",
            "    Found existing installation: nvidia-cuda-nvrtc-cu12 12.5.82\n",
            "    Uninstalling nvidia-cuda-nvrtc-cu12-12.5.82:\n",
            "      Successfully uninstalled nvidia-cuda-nvrtc-cu12-12.5.82\n",
            "  Attempting uninstall: nvidia-cuda-cupti-cu12\n",
            "    Found existing installation: nvidia-cuda-cupti-cu12 12.5.82\n",
            "    Uninstalling nvidia-cuda-cupti-cu12-12.5.82:\n",
            "      Successfully uninstalled nvidia-cuda-cupti-cu12-12.5.82\n",
            "  Attempting uninstall: nvidia-cublas-cu12\n",
            "    Found existing installation: nvidia-cublas-cu12 12.5.3.2\n",
            "    Uninstalling nvidia-cublas-cu12-12.5.3.2:\n",
            "      Successfully uninstalled nvidia-cublas-cu12-12.5.3.2\n",
            "  Attempting uninstall: nvidia-cusparse-cu12\n",
            "    Found existing installation: nvidia-cusparse-cu12 12.5.1.3\n",
            "    Uninstalling nvidia-cusparse-cu12-12.5.1.3:\n",
            "      Successfully uninstalled nvidia-cusparse-cu12-12.5.1.3\n",
            "  Attempting uninstall: nvidia-cudnn-cu12\n",
            "    Found existing installation: nvidia-cudnn-cu12 9.3.0.75\n",
            "    Uninstalling nvidia-cudnn-cu12-9.3.0.75:\n",
            "      Successfully uninstalled nvidia-cudnn-cu12-9.3.0.75\n",
            "  Attempting uninstall: nvidia-cusolver-cu12\n",
            "    Found existing installation: nvidia-cusolver-cu12 11.6.3.83\n",
            "    Uninstalling nvidia-cusolver-cu12-11.6.3.83:\n",
            "      Successfully uninstalled nvidia-cusolver-cu12-11.6.3.83\n",
            "Successfully installed SimpleITK-2.4.1 argparse-1.4.0 batchgenerators-0.25.1 dicom2nifti-2.5.1 linecache2-1.0.0 medpy-0.5.2 nnunet-1.7.1 nvidia-cublas-cu12-12.4.5.8 nvidia-cuda-cupti-cu12-12.4.127 nvidia-cuda-nvrtc-cu12-12.4.127 nvidia-cuda-runtime-cu12-12.4.127 nvidia-cudnn-cu12-9.1.0.70 nvidia-cufft-cu12-11.2.1.3 nvidia-curand-cu12-10.3.5.147 nvidia-cusolver-cu12-11.6.1.9 nvidia-cusparse-cu12-12.3.1.170 nvidia-nvjitlink-cu12-12.4.127 pydicom-3.0.1 python-gdcm-3.0.24.1 traceback2-1.4.0 unittest2-1.1.0\n"
          ]
        },
        {
          "output_type": "display_data",
          "data": {
            "application/vnd.colab-display-data+json": {
              "pip_warning": {
                "packages": [
                  "argparse"
                ]
              },
              "id": "f9909c5411ae43d6900ef06ea59abf9b"
            }
          },
          "metadata": {}
        }
      ],
      "source": [
        "!pip install nnunet"
      ]
    },
    {
      "cell_type": "code",
      "source": [
        "!pip install torch torchvision torchaudio --index-url https://download.pytorch.org/whl/cu118"
      ],
      "metadata": {
        "colab": {
          "base_uri": "https://localhost:8080/"
        },
        "id": "n4TMqKJVKaVH",
        "outputId": "487de538-b0ad-47de-c42b-3457a7518c8e"
      },
      "execution_count": 1,
      "outputs": [
        {
          "output_type": "stream",
          "name": "stdout",
          "text": [
            "Looking in indexes: https://download.pytorch.org/whl/cu118\n",
            "Requirement already satisfied: torch in /usr/local/lib/python3.11/dist-packages (2.5.1+cu124)\n",
            "Requirement already satisfied: torchvision in /usr/local/lib/python3.11/dist-packages (0.20.1+cu124)\n",
            "Requirement already satisfied: torchaudio in /usr/local/lib/python3.11/dist-packages (2.5.1+cu124)\n",
            "Requirement already satisfied: filelock in /usr/local/lib/python3.11/dist-packages (from torch) (3.17.0)\n",
            "Requirement already satisfied: typing-extensions>=4.8.0 in /usr/local/lib/python3.11/dist-packages (from torch) (4.12.2)\n",
            "Requirement already satisfied: networkx in /usr/local/lib/python3.11/dist-packages (from torch) (3.4.2)\n",
            "Requirement already satisfied: jinja2 in /usr/local/lib/python3.11/dist-packages (from torch) (3.1.6)\n",
            "Requirement already satisfied: fsspec in /usr/local/lib/python3.11/dist-packages (from torch) (2024.10.0)\n",
            "Requirement already satisfied: nvidia-cuda-nvrtc-cu12==12.4.127 in /usr/local/lib/python3.11/dist-packages (from torch) (12.4.127)\n",
            "Requirement already satisfied: nvidia-cuda-runtime-cu12==12.4.127 in /usr/local/lib/python3.11/dist-packages (from torch) (12.4.127)\n",
            "Requirement already satisfied: nvidia-cuda-cupti-cu12==12.4.127 in /usr/local/lib/python3.11/dist-packages (from torch) (12.4.127)\n",
            "Requirement already satisfied: nvidia-cudnn-cu12==9.1.0.70 in /usr/local/lib/python3.11/dist-packages (from torch) (9.1.0.70)\n",
            "Requirement already satisfied: nvidia-cublas-cu12==12.4.5.8 in /usr/local/lib/python3.11/dist-packages (from torch) (12.4.5.8)\n",
            "Requirement already satisfied: nvidia-cufft-cu12==11.2.1.3 in /usr/local/lib/python3.11/dist-packages (from torch) (11.2.1.3)\n",
            "Requirement already satisfied: nvidia-curand-cu12==10.3.5.147 in /usr/local/lib/python3.11/dist-packages (from torch) (10.3.5.147)\n",
            "Requirement already satisfied: nvidia-cusolver-cu12==11.6.1.9 in /usr/local/lib/python3.11/dist-packages (from torch) (11.6.1.9)\n",
            "Requirement already satisfied: nvidia-cusparse-cu12==12.3.1.170 in /usr/local/lib/python3.11/dist-packages (from torch) (12.3.1.170)\n",
            "Requirement already satisfied: nvidia-nccl-cu12==2.21.5 in /usr/local/lib/python3.11/dist-packages (from torch) (2.21.5)\n",
            "Requirement already satisfied: nvidia-nvtx-cu12==12.4.127 in /usr/local/lib/python3.11/dist-packages (from torch) (12.4.127)\n",
            "Requirement already satisfied: nvidia-nvjitlink-cu12==12.4.127 in /usr/local/lib/python3.11/dist-packages (from torch) (12.4.127)\n",
            "Requirement already satisfied: triton==3.1.0 in /usr/local/lib/python3.11/dist-packages (from torch) (3.1.0)\n",
            "Requirement already satisfied: sympy==1.13.1 in /usr/local/lib/python3.11/dist-packages (from torch) (1.13.1)\n",
            "Requirement already satisfied: mpmath<1.4,>=1.1.0 in /usr/local/lib/python3.11/dist-packages (from sympy==1.13.1->torch) (1.3.0)\n",
            "Requirement already satisfied: numpy in /usr/local/lib/python3.11/dist-packages (from torchvision) (1.26.4)\n",
            "Requirement already satisfied: pillow!=8.3.*,>=5.3.0 in /usr/local/lib/python3.11/dist-packages (from torchvision) (11.1.0)\n",
            "Requirement already satisfied: MarkupSafe>=2.0 in /usr/local/lib/python3.11/dist-packages (from jinja2->torch) (3.0.2)\n"
          ]
        }
      ]
    },
    {
      "cell_type": "code",
      "source": [
        "\n",
        "from google.colab import drive\n",
        "drive.mount('/content/drive')"
      ],
      "metadata": {
        "colab": {
          "base_uri": "https://localhost:8080/"
        },
        "id": "w3IkG32pKmCq",
        "outputId": "7a221ac6-c0a6-4f95-ab15-bd9feb51bcb4"
      },
      "execution_count": 2,
      "outputs": [
        {
          "output_type": "stream",
          "name": "stdout",
          "text": [
            "Mounted at /content/drive\n"
          ]
        }
      ]
    },
    {
      "cell_type": "code",
      "source": [
        "pip install nnunetv2\n"
      ],
      "metadata": {
        "colab": {
          "base_uri": "https://localhost:8080/",
          "height": 1000
        },
        "id": "K13JKvnXGRc3",
        "outputId": "b6dd8114-0b8f-43fb-a2fa-aac6e4594cd3"
      },
      "execution_count": 36,
      "outputs": [
        {
          "output_type": "stream",
          "name": "stdout",
          "text": [
            "Collecting nnunetv2\n",
            "  Downloading nnunetv2-2.6.0.tar.gz (206 kB)\n",
            "\u001b[?25l     \u001b[90m━━━━━━━━━━━━━━━━━━━━━━━━━━━━━━━━━━━━━━━━\u001b[0m \u001b[32m0.0/206.3 kB\u001b[0m \u001b[31m?\u001b[0m eta \u001b[36m-:--:--\u001b[0m\r\u001b[2K     \u001b[91m━━━━━━━━━━━━━━━━━━━━━━━━━━━━━━━━━━━━━━━\u001b[0m\u001b[91m╸\u001b[0m \u001b[32m204.8/206.3 kB\u001b[0m \u001b[31m5.9 MB/s\u001b[0m eta \u001b[36m0:00:01\u001b[0m\r\u001b[2K     \u001b[90m━━━━━━━━━━━━━━━━━━━━━━━━━━━━━━━━━━━━━━━━\u001b[0m \u001b[32m206.3/206.3 kB\u001b[0m \u001b[31m4.0 MB/s\u001b[0m eta \u001b[36m0:00:00\u001b[0m\n",
            "\u001b[?25h  Installing build dependencies ... \u001b[?25l\u001b[?25hdone\n",
            "  Getting requirements to build wheel ... \u001b[?25l\u001b[?25hdone\n",
            "  Preparing metadata (pyproject.toml) ... \u001b[?25l\u001b[?25hdone\n",
            "Requirement already satisfied: torch>=2.1.2 in /usr/local/lib/python3.11/dist-packages (from nnunetv2) (2.5.1+cu124)\n",
            "Collecting acvl-utils<0.3,>=0.2.3 (from nnunetv2)\n",
            "  Downloading acvl_utils-0.2.5.tar.gz (29 kB)\n",
            "  Preparing metadata (setup.py) ... \u001b[?25l\u001b[?25hdone\n",
            "Collecting dynamic-network-architectures<0.4,>=0.3.1 (from nnunetv2)\n",
            "  Downloading dynamic_network_architectures-0.3.1.tar.gz (20 kB)\n",
            "  Preparing metadata (setup.py) ... \u001b[?25l\u001b[?25hdone\n",
            "Requirement already satisfied: tqdm in /usr/local/lib/python3.11/dist-packages (from nnunetv2) (4.67.1)\n",
            "Requirement already satisfied: dicom2nifti in /usr/local/lib/python3.11/dist-packages (from nnunetv2) (2.5.1)\n",
            "Requirement already satisfied: scipy in /usr/local/lib/python3.11/dist-packages (from nnunetv2) (1.14.1)\n",
            "Requirement already satisfied: batchgenerators>=0.25.1 in /usr/local/lib/python3.11/dist-packages (from nnunetv2) (0.25.1)\n",
            "Requirement already satisfied: numpy>=1.24 in /usr/local/lib/python3.11/dist-packages (from nnunetv2) (1.26.4)\n",
            "Requirement already satisfied: scikit-learn in /usr/local/lib/python3.11/dist-packages (from nnunetv2) (1.6.1)\n",
            "Requirement already satisfied: scikit-image>=0.19.3 in /usr/local/lib/python3.11/dist-packages (from nnunetv2) (0.25.2)\n",
            "Requirement already satisfied: SimpleITK>=2.2.1 in /usr/local/lib/python3.11/dist-packages (from nnunetv2) (2.4.1)\n",
            "Requirement already satisfied: pandas in /usr/local/lib/python3.11/dist-packages (from nnunetv2) (2.2.2)\n",
            "Requirement already satisfied: graphviz in /usr/local/lib/python3.11/dist-packages (from nnunetv2) (0.20.3)\n",
            "Requirement already satisfied: tifffile in /usr/local/lib/python3.11/dist-packages (from nnunetv2) (2025.2.18)\n",
            "Requirement already satisfied: requests in /usr/local/lib/python3.11/dist-packages (from nnunetv2) (2.32.3)\n",
            "Requirement already satisfied: nibabel in /usr/local/lib/python3.11/dist-packages (from nnunetv2) (5.3.2)\n",
            "Requirement already satisfied: matplotlib in /usr/local/lib/python3.11/dist-packages (from nnunetv2) (3.10.0)\n",
            "Requirement already satisfied: seaborn in /usr/local/lib/python3.11/dist-packages (from nnunetv2) (0.13.2)\n",
            "Collecting imagecodecs (from nnunetv2)\n",
            "  Downloading imagecodecs-2024.12.30-cp311-cp311-manylinux_2_17_x86_64.manylinux2014_x86_64.whl.metadata (19 kB)\n",
            "Collecting yacs (from nnunetv2)\n",
            "  Downloading yacs-0.1.8-py3-none-any.whl.metadata (639 bytes)\n",
            "Collecting batchgeneratorsv2>=0.2 (from nnunetv2)\n",
            "  Downloading batchgeneratorsv2-0.2.3.tar.gz (35 kB)\n",
            "  Installing build dependencies ... \u001b[?25l\u001b[?25hdone\n",
            "  Getting requirements to build wheel ... \u001b[?25l\u001b[?25hdone\n",
            "  Preparing metadata (pyproject.toml) ... \u001b[?25l\u001b[?25hdone\n",
            "Requirement already satisfied: einops in /usr/local/lib/python3.11/dist-packages (from nnunetv2) (0.8.1)\n",
            "Requirement already satisfied: blosc2>=3.0.0b1 in /usr/local/lib/python3.11/dist-packages (from nnunetv2) (3.2.0)\n",
            "Collecting connected-components-3d (from acvl-utils<0.3,>=0.2.3->nnunetv2)\n",
            "  Downloading connected_components_3d-3.23.0-cp311-cp311-manylinux_2_17_x86_64.manylinux2014_x86_64.whl.metadata (32 kB)\n",
            "Requirement already satisfied: pillow>=7.1.2 in /usr/local/lib/python3.11/dist-packages (from batchgenerators>=0.25.1->nnunetv2) (11.1.0)\n",
            "Requirement already satisfied: future in /usr/local/lib/python3.11/dist-packages (from batchgenerators>=0.25.1->nnunetv2) (1.0.0)\n",
            "Requirement already satisfied: unittest2 in /usr/local/lib/python3.11/dist-packages (from batchgenerators>=0.25.1->nnunetv2) (1.1.0)\n",
            "Requirement already satisfied: threadpoolctl in /usr/local/lib/python3.11/dist-packages (from batchgenerators>=0.25.1->nnunetv2) (3.5.0)\n",
            "Collecting fft-conv-pytorch (from batchgeneratorsv2>=0.2->nnunetv2)\n",
            "  Downloading fft_conv_pytorch-1.2.0-py3-none-any.whl.metadata (2.8 kB)\n",
            "Requirement already satisfied: ndindex in /usr/local/lib/python3.11/dist-packages (from blosc2>=3.0.0b1->nnunetv2) (1.9.2)\n",
            "Requirement already satisfied: msgpack in /usr/local/lib/python3.11/dist-packages (from blosc2>=3.0.0b1->nnunetv2) (1.1.0)\n",
            "Requirement already satisfied: platformdirs in /usr/local/lib/python3.11/dist-packages (from blosc2>=3.0.0b1->nnunetv2) (4.3.6)\n",
            "Requirement already satisfied: numexpr in /usr/local/lib/python3.11/dist-packages (from blosc2>=3.0.0b1->nnunetv2) (2.10.2)\n",
            "Requirement already satisfied: py-cpuinfo in /usr/local/lib/python3.11/dist-packages (from blosc2>=3.0.0b1->nnunetv2) (9.0.0)\n",
            "Requirement already satisfied: networkx>=3.0 in /usr/local/lib/python3.11/dist-packages (from scikit-image>=0.19.3->nnunetv2) (3.4.2)\n",
            "Requirement already satisfied: imageio!=2.35.0,>=2.33 in /usr/local/lib/python3.11/dist-packages (from scikit-image>=0.19.3->nnunetv2) (2.37.0)\n",
            "Requirement already satisfied: packaging>=21 in /usr/local/lib/python3.11/dist-packages (from scikit-image>=0.19.3->nnunetv2) (24.2)\n",
            "Requirement already satisfied: lazy-loader>=0.4 in /usr/local/lib/python3.11/dist-packages (from scikit-image>=0.19.3->nnunetv2) (0.4)\n",
            "Requirement already satisfied: filelock in /usr/local/lib/python3.11/dist-packages (from torch>=2.1.2->nnunetv2) (3.17.0)\n",
            "Requirement already satisfied: typing-extensions>=4.8.0 in /usr/local/lib/python3.11/dist-packages (from torch>=2.1.2->nnunetv2) (4.12.2)\n",
            "Requirement already satisfied: jinja2 in /usr/local/lib/python3.11/dist-packages (from torch>=2.1.2->nnunetv2) (3.1.6)\n",
            "Requirement already satisfied: fsspec in /usr/local/lib/python3.11/dist-packages (from torch>=2.1.2->nnunetv2) (2024.10.0)\n",
            "Requirement already satisfied: nvidia-cuda-nvrtc-cu12==12.4.127 in /usr/local/lib/python3.11/dist-packages (from torch>=2.1.2->nnunetv2) (12.4.127)\n",
            "Requirement already satisfied: nvidia-cuda-runtime-cu12==12.4.127 in /usr/local/lib/python3.11/dist-packages (from torch>=2.1.2->nnunetv2) (12.4.127)\n",
            "Requirement already satisfied: nvidia-cuda-cupti-cu12==12.4.127 in /usr/local/lib/python3.11/dist-packages (from torch>=2.1.2->nnunetv2) (12.4.127)\n",
            "Requirement already satisfied: nvidia-cudnn-cu12==9.1.0.70 in /usr/local/lib/python3.11/dist-packages (from torch>=2.1.2->nnunetv2) (9.1.0.70)\n",
            "Requirement already satisfied: nvidia-cublas-cu12==12.4.5.8 in /usr/local/lib/python3.11/dist-packages (from torch>=2.1.2->nnunetv2) (12.4.5.8)\n",
            "Requirement already satisfied: nvidia-cufft-cu12==11.2.1.3 in /usr/local/lib/python3.11/dist-packages (from torch>=2.1.2->nnunetv2) (11.2.1.3)\n",
            "Requirement already satisfied: nvidia-curand-cu12==10.3.5.147 in /usr/local/lib/python3.11/dist-packages (from torch>=2.1.2->nnunetv2) (10.3.5.147)\n",
            "Requirement already satisfied: nvidia-cusolver-cu12==11.6.1.9 in /usr/local/lib/python3.11/dist-packages (from torch>=2.1.2->nnunetv2) (11.6.1.9)\n",
            "Requirement already satisfied: nvidia-cusparse-cu12==12.3.1.170 in /usr/local/lib/python3.11/dist-packages (from torch>=2.1.2->nnunetv2) (12.3.1.170)\n",
            "Requirement already satisfied: nvidia-nccl-cu12==2.21.5 in /usr/local/lib/python3.11/dist-packages (from torch>=2.1.2->nnunetv2) (2.21.5)\n",
            "Requirement already satisfied: nvidia-nvtx-cu12==12.4.127 in /usr/local/lib/python3.11/dist-packages (from torch>=2.1.2->nnunetv2) (12.4.127)\n",
            "Requirement already satisfied: nvidia-nvjitlink-cu12==12.4.127 in /usr/local/lib/python3.11/dist-packages (from torch>=2.1.2->nnunetv2) (12.4.127)\n",
            "Requirement already satisfied: triton==3.1.0 in /usr/local/lib/python3.11/dist-packages (from torch>=2.1.2->nnunetv2) (3.1.0)\n",
            "Requirement already satisfied: sympy==1.13.1 in /usr/local/lib/python3.11/dist-packages (from torch>=2.1.2->nnunetv2) (1.13.1)\n",
            "Requirement already satisfied: mpmath<1.4,>=1.1.0 in /usr/local/lib/python3.11/dist-packages (from sympy==1.13.1->torch>=2.1.2->nnunetv2) (1.3.0)\n",
            "Requirement already satisfied: pydicom>=2.2.0 in /usr/local/lib/python3.11/dist-packages (from dicom2nifti->nnunetv2) (3.0.1)\n",
            "Requirement already satisfied: python-gdcm in /usr/local/lib/python3.11/dist-packages (from dicom2nifti->nnunetv2) (3.0.24.1)\n",
            "Requirement already satisfied: contourpy>=1.0.1 in /usr/local/lib/python3.11/dist-packages (from matplotlib->nnunetv2) (1.3.1)\n",
            "Requirement already satisfied: cycler>=0.10 in /usr/local/lib/python3.11/dist-packages (from matplotlib->nnunetv2) (0.12.1)\n",
            "Requirement already satisfied: fonttools>=4.22.0 in /usr/local/lib/python3.11/dist-packages (from matplotlib->nnunetv2) (4.56.0)\n",
            "Requirement already satisfied: kiwisolver>=1.3.1 in /usr/local/lib/python3.11/dist-packages (from matplotlib->nnunetv2) (1.4.8)\n",
            "Requirement already satisfied: pyparsing>=2.3.1 in /usr/local/lib/python3.11/dist-packages (from matplotlib->nnunetv2) (3.2.1)\n",
            "Requirement already satisfied: python-dateutil>=2.7 in /usr/local/lib/python3.11/dist-packages (from matplotlib->nnunetv2) (2.8.2)\n",
            "Requirement already satisfied: importlib-resources>=5.12 in /usr/local/lib/python3.11/dist-packages (from nibabel->nnunetv2) (6.5.2)\n",
            "Requirement already satisfied: pytz>=2020.1 in /usr/local/lib/python3.11/dist-packages (from pandas->nnunetv2) (2025.1)\n",
            "Requirement already satisfied: tzdata>=2022.7 in /usr/local/lib/python3.11/dist-packages (from pandas->nnunetv2) (2025.1)\n",
            "Requirement already satisfied: charset-normalizer<4,>=2 in /usr/local/lib/python3.11/dist-packages (from requests->nnunetv2) (3.4.1)\n",
            "Requirement already satisfied: idna<4,>=2.5 in /usr/local/lib/python3.11/dist-packages (from requests->nnunetv2) (3.10)\n",
            "Requirement already satisfied: urllib3<3,>=1.21.1 in /usr/local/lib/python3.11/dist-packages (from requests->nnunetv2) (2.3.0)\n",
            "Requirement already satisfied: certifi>=2017.4.17 in /usr/local/lib/python3.11/dist-packages (from requests->nnunetv2) (2025.1.31)\n",
            "Requirement already satisfied: joblib>=1.2.0 in /usr/local/lib/python3.11/dist-packages (from scikit-learn->nnunetv2) (1.4.2)\n",
            "Requirement already satisfied: PyYAML in /usr/local/lib/python3.11/dist-packages (from yacs->nnunetv2) (6.0.2)\n",
            "Requirement already satisfied: six>=1.5 in /usr/local/lib/python3.11/dist-packages (from python-dateutil>=2.7->matplotlib->nnunetv2) (1.17.0)\n",
            "Requirement already satisfied: MarkupSafe>=2.0 in /usr/local/lib/python3.11/dist-packages (from jinja2->torch>=2.1.2->nnunetv2) (3.0.2)\n",
            "Collecting argparse (from unittest2->batchgenerators>=0.25.1->nnunetv2)\n",
            "  Using cached argparse-1.4.0-py2.py3-none-any.whl.metadata (2.8 kB)\n",
            "Requirement already satisfied: traceback2 in /usr/local/lib/python3.11/dist-packages (from unittest2->batchgenerators>=0.25.1->nnunetv2) (1.4.0)\n",
            "Requirement already satisfied: linecache2 in /usr/local/lib/python3.11/dist-packages (from traceback2->unittest2->batchgenerators>=0.25.1->nnunetv2) (1.0.0)\n",
            "Downloading imagecodecs-2024.12.30-cp311-cp311-manylinux_2_17_x86_64.manylinux2014_x86_64.whl (45.5 MB)\n",
            "\u001b[2K   \u001b[90m━━━━━━━━━━━━━━━━━━━━━━━━━━━━━━━━━━━━━━━━\u001b[0m \u001b[32m45.5/45.5 MB\u001b[0m \u001b[31m11.9 MB/s\u001b[0m eta \u001b[36m0:00:00\u001b[0m\n",
            "\u001b[?25hDownloading yacs-0.1.8-py3-none-any.whl (14 kB)\n",
            "Downloading connected_components_3d-3.23.0-cp311-cp311-manylinux_2_17_x86_64.manylinux2014_x86_64.whl (4.3 MB)\n",
            "\u001b[2K   \u001b[90m━━━━━━━━━━━━━━━━━━━━━━━━━━━━━━━━━━━━━━━━\u001b[0m \u001b[32m4.3/4.3 MB\u001b[0m \u001b[31m47.6 MB/s\u001b[0m eta \u001b[36m0:00:00\u001b[0m\n",
            "\u001b[?25hDownloading fft_conv_pytorch-1.2.0-py3-none-any.whl (6.8 kB)\n",
            "Using cached argparse-1.4.0-py2.py3-none-any.whl (23 kB)\n",
            "Building wheels for collected packages: nnunetv2, acvl-utils, batchgeneratorsv2, dynamic-network-architectures\n",
            "  Building wheel for nnunetv2 (pyproject.toml) ... \u001b[?25l\u001b[?25hdone\n",
            "  Created wheel for nnunetv2: filename=nnunetv2-2.6.0-py3-none-any.whl size=276978 sha256=56f8ebeb280b6bfc8c3932bda074852643e9921d0810de3b00e6d33df8fa8f5a\n",
            "  Stored in directory: /root/.cache/pip/wheels/3d/0d/bb/f932cb0032d1aacc2f336de421448313d147db8eed671096e9\n",
            "  Building wheel for acvl-utils (setup.py) ... \u001b[?25l\u001b[?25hdone\n",
            "  Created wheel for acvl-utils: filename=acvl_utils-0.2.5-py3-none-any.whl size=27214 sha256=bfa98424f62c2b18d05f86616856123b006ca7c9a0a319729007099e9d726072\n",
            "  Stored in directory: /root/.cache/pip/wheels/3f/8c/10/dcba79e0b2d1d463605233cec1fc6cfad47af5230b8985e464\n",
            "  Building wheel for batchgeneratorsv2 (pyproject.toml) ... \u001b[?25l\u001b[?25hdone\n",
            "  Created wheel for batchgeneratorsv2: filename=batchgeneratorsv2-0.2.3-py3-none-any.whl size=47527 sha256=2992dc38a1c086abc3defedb43825661a7bf3cbcc60c231259dc8768d9f10631\n",
            "  Stored in directory: /root/.cache/pip/wheels/1f/68/57/3a0eceb67b9c1b630df16113639b66a843dfd6686a4ed5ae1d\n",
            "  Building wheel for dynamic-network-architectures (setup.py) ... \u001b[?25l\u001b[?25hdone\n",
            "  Created wheel for dynamic-network-architectures: filename=dynamic_network_architectures-0.3.1-py3-none-any.whl size=30046 sha256=24dd9f944089896c1e8e5ffe80fa01284452bdccc7687ae4c130fb55d0b84865\n",
            "  Stored in directory: /root/.cache/pip/wheels/d9/8f/23/133ba252665b6f93abdbb294b323cc8fec041be83e4d22b701\n",
            "Successfully built nnunetv2 acvl-utils batchgeneratorsv2 dynamic-network-architectures\n",
            "Installing collected packages: argparse, yacs, imagecodecs, connected-components-3d, fft-conv-pytorch, dynamic-network-architectures, acvl-utils, batchgeneratorsv2, nnunetv2\n",
            "Successfully installed acvl-utils-0.2.5 argparse-1.4.0 batchgeneratorsv2-0.2.3 connected-components-3d-3.23.0 dynamic-network-architectures-0.3.1 fft-conv-pytorch-1.2.0 imagecodecs-2024.12.30 nnunetv2-2.6.0 yacs-0.1.8\n"
          ]
        },
        {
          "output_type": "display_data",
          "data": {
            "application/vnd.colab-display-data+json": {
              "pip_warning": {
                "packages": [
                  "argparse"
                ]
              },
              "id": "70bff79e04d147bf984ff0d0ac42e4a0"
            }
          },
          "metadata": {}
        }
      ]
    },
    {
      "cell_type": "code",
      "source": [
        "import os\n",
        "import glob\n",
        "import numpy as np\n",
        "import nibabel as nib\n",
        "import pydicom\n",
        "import tensorflow as tf\n",
        "import json\n",
        "import pandas as pd\n",
        "from tqdm import tqdm\n"
      ],
      "metadata": {
        "id": "lqnGbJJTHkiA"
      },
      "execution_count": 2,
      "outputs": []
    },
    {
      "cell_type": "code",
      "source": [
        "\n",
        "# Paths\n",
        "BASE_PATH = \"/content/drive/MyDrive/\"\n",
        "DATASET_PATH = os.path.join(BASE_PATH, \"Prostate\")  # Already extracted\n",
        "NIFTI_SAVE_PATH = os.path.join(BASE_PATH, \"Prostate_NIfTI_Cache\")  # Cache location\n",
        "NNUNET_RAW_PATH = os.path.join(BASE_PATH, \"nnUNet_raw/Task500_ProstateX\")\n",
        "IMAGES_TR_PATH = os.path.join(NNUNET_RAW_PATH, \"imagesTr\")\n",
        "LABELS_TR_PATH = os.path.join(NNUNET_RAW_PATH, \"labelsTr\")\n",
        "\n",
        "# Ensure directories exist\n",
        "os.makedirs(IMAGES_TR_PATH, exist_ok=True)\n",
        "os.makedirs(LABELS_TR_PATH, exist_ok=True)\n",
        "os.makedirs(NIFTI_SAVE_PATH, exist_ok=True)\n",
        "\n",
        "# Load CSV files\n",
        "image_train_file = \"/content/drive/MyDrive/ProstateX-Images-Train1.csv\"\n",
        "findings_train_file = \"/content/drive/MyDrive/ProstateX-Findings-Train1.csv\"\n",
        "\n",
        "if not os.path.exists(image_train_file) or not os.path.exists(findings_train_file):\n",
        "    print(\"[ERROR] One or both CSV files are missing. Check the paths.\")\n",
        "    exit(1)\n",
        "\n",
        "# Load data\n",
        "image_train_df = pd.read_csv(image_train_file)\n",
        "findings_train_df = pd.read_csv(findings_train_file)\n",
        "\n",
        "# Print column names to check\n",
        "print(\"[INFO] ImageTrain Columns:\", image_train_df.columns)\n",
        "print(\"[INFO] FindingsTrain Columns:\", findings_train_df.columns)\n",
        "\n",
        "# Ensure 'ProxID' and 'fid' exist in both CSVs\n",
        "required_columns = [\"ProxID\", \"fid\"]\n",
        "for col in required_columns:\n",
        "    if col not in image_train_df.columns or col not in findings_train_df.columns:\n",
        "        print(f\"[ERROR] Column '{col}' not found in both CSV files.\")\n",
        "        exit(1)\n",
        "\n",
        "# Merge both datasets on 'ProxID' and 'fid'\n",
        "merged_df = pd.merge(image_train_df, findings_train_df, on=[\"ProxID\", \"fid\"], how=\"inner\")\n",
        "\n",
        "print(f\"[INFO] Successfully merged! Total records: {len(merged_df)}\")\n",
        "\n",
        "# Correct column names\n",
        "SERIES_DESC_COL = \"DCMSerDescr\"  # Column with Series Description\n",
        "SERIES_NUM_COL = \"DCMSerNum\"  # Column with Series Number\n",
        "LABEL_COL = \"ClinSig\"  # Column with Label\n",
        "\n",
        "# Function to load or convert DICOM images\n",
        "def load_or_convert_dicom_images(dicom_dir, merged_df, img_size=(128, 128)):\n",
        "    images = []\n",
        "    labels = []\n",
        "    matched_records = 0\n",
        "\n",
        "    dicom_files = glob.glob(os.path.join(dicom_dir, \"**/*.dcm\"), recursive=True)\n",
        "    print(f\"Found {len(dicom_files)} DICOM files.\")\n",
        "\n",
        "    if len(dicom_files) == 0:\n",
        "        print(\"[ERROR] No DICOM files found. Check the directory path.\")\n",
        "        return [], []\n",
        "\n",
        "    for idx, row in merged_df.iterrows():\n",
        "        series_desc = row[SERIES_DESC_COL]\n",
        "        series_num = row[SERIES_NUM_COL]\n",
        "        label = row[LABEL_COL]\n",
        "\n",
        "        nifti_file_path = os.path.join(NIFTI_SAVE_PATH, f\"prostate_{idx:04d}.nii.gz\")\n",
        "\n",
        "        # If NIfTI already exists, use cached version\n",
        "        if os.path.exists(nifti_file_path):\n",
        "            print(f\"[INFO] Using cached NIfTI: {nifti_file_path}\")\n",
        "            image = nib.load(nifti_file_path).get_fdata()\n",
        "            images.append(image)\n",
        "            labels.append(label)\n",
        "            matched_records += 1\n",
        "            continue  # Skip reprocessing\n",
        "\n",
        "        matched = False\n",
        "        for dicom_path in dicom_files:\n",
        "            dicom = pydicom.dcmread(dicom_path)\n",
        "\n",
        "            if dicom.SeriesNumber == series_num and series_desc in dicom.SeriesDescription:\n",
        "                img = dicom.pixel_array.astype(np.float32)\n",
        "                img = (img - np.min(img)) / (np.max(img) - np.min(img))  # Normalize\n",
        "                img = np.expand_dims(img, axis=-1)  # Ensure 3D format (H, W, 1)\n",
        "                img = tf.image.resize(img, img_size)  # Resize to (128, 128)\n",
        "\n",
        "                images.append(img.numpy())\n",
        "                labels.append(label)\n",
        "                matched_records += 1\n",
        "                matched = True\n",
        "\n",
        "                # Save NIfTI in cache\n",
        "                nifti_img = nib.Nifti1Image(img.numpy().squeeze(), np.eye(4))\n",
        "                nib.save(nifti_img, nifti_file_path)\n",
        "                print(f\"[INFO] Saved NIfTI: {nifti_file_path}\")\n",
        "\n",
        "                break  # Stop checking once a match is found\n",
        "\n",
        "        if not matched:\n",
        "            print(f\"[WARNING] No match found for SeriesNumber {series_num} and Description {series_desc}\")\n",
        "\n",
        "    print(f\"[INFO] Total matched records: {matched_records}\")\n",
        "    return images, labels\n",
        "\n",
        "# Convert/load images & labels\n",
        "images, labels = load_or_convert_dicom_images(DATASET_PATH, merged_df)\n",
        "\n"
      ],
      "metadata": {
        "colab": {
          "base_uri": "https://localhost:8080/"
        },
        "id": "TLNfB9Xi1krZ",
        "outputId": "8a2dfa5e-00e0-4235-d6a9-83a992b855d1"
      },
      "execution_count": 4,
      "outputs": [
        {
          "output_type": "stream",
          "name": "stdout",
          "text": [
            "[INFO] ImageTrain Columns: Index(['ProxID', 'Name', 'fid', 'pos', 'WorldMatrix', 'ijk', 'TopLevel',\n",
            "       'SpacingBetweenSlices', 'VoxelSpacing', 'Dim', 'DCMSerDescr',\n",
            "       'DCMSerNum'],\n",
            "      dtype='object')\n",
            "[INFO] FindingsTrain Columns: Index(['ProxID', 'fid', 'pos', 'zone', 'ClinSig'], dtype='object')\n",
            "[INFO] Successfully merged! Total records: 187\n",
            "Found 9988 DICOM files.\n",
            "[INFO] Using cached NIfTI: /content/drive/MyDrive/Prostate_NIfTI_Cache/prostate_0000.nii.gz\n",
            "[INFO] Using cached NIfTI: /content/drive/MyDrive/Prostate_NIfTI_Cache/prostate_0001.nii.gz\n",
            "[INFO] Using cached NIfTI: /content/drive/MyDrive/Prostate_NIfTI_Cache/prostate_0002.nii.gz\n",
            "[INFO] Using cached NIfTI: /content/drive/MyDrive/Prostate_NIfTI_Cache/prostate_0003.nii.gz\n",
            "[INFO] Using cached NIfTI: /content/drive/MyDrive/Prostate_NIfTI_Cache/prostate_0004.nii.gz\n",
            "[INFO] Using cached NIfTI: /content/drive/MyDrive/Prostate_NIfTI_Cache/prostate_0005.nii.gz\n",
            "[INFO] Using cached NIfTI: /content/drive/MyDrive/Prostate_NIfTI_Cache/prostate_0006.nii.gz\n",
            "[INFO] Using cached NIfTI: /content/drive/MyDrive/Prostate_NIfTI_Cache/prostate_0007.nii.gz\n",
            "[INFO] Using cached NIfTI: /content/drive/MyDrive/Prostate_NIfTI_Cache/prostate_0008.nii.gz\n",
            "[INFO] Using cached NIfTI: /content/drive/MyDrive/Prostate_NIfTI_Cache/prostate_0009.nii.gz\n",
            "[INFO] Using cached NIfTI: /content/drive/MyDrive/Prostate_NIfTI_Cache/prostate_0010.nii.gz\n",
            "[INFO] Using cached NIfTI: /content/drive/MyDrive/Prostate_NIfTI_Cache/prostate_0011.nii.gz\n",
            "[INFO] Using cached NIfTI: /content/drive/MyDrive/Prostate_NIfTI_Cache/prostate_0012.nii.gz\n",
            "[INFO] Using cached NIfTI: /content/drive/MyDrive/Prostate_NIfTI_Cache/prostate_0013.nii.gz\n",
            "[INFO] Using cached NIfTI: /content/drive/MyDrive/Prostate_NIfTI_Cache/prostate_0014.nii.gz\n",
            "[INFO] Using cached NIfTI: /content/drive/MyDrive/Prostate_NIfTI_Cache/prostate_0015.nii.gz\n",
            "[INFO] Using cached NIfTI: /content/drive/MyDrive/Prostate_NIfTI_Cache/prostate_0016.nii.gz\n",
            "[INFO] Using cached NIfTI: /content/drive/MyDrive/Prostate_NIfTI_Cache/prostate_0017.nii.gz\n",
            "[INFO] Using cached NIfTI: /content/drive/MyDrive/Prostate_NIfTI_Cache/prostate_0018.nii.gz\n",
            "[INFO] Using cached NIfTI: /content/drive/MyDrive/Prostate_NIfTI_Cache/prostate_0019.nii.gz\n",
            "[INFO] Using cached NIfTI: /content/drive/MyDrive/Prostate_NIfTI_Cache/prostate_0020.nii.gz\n",
            "[INFO] Using cached NIfTI: /content/drive/MyDrive/Prostate_NIfTI_Cache/prostate_0021.nii.gz\n",
            "[INFO] Using cached NIfTI: /content/drive/MyDrive/Prostate_NIfTI_Cache/prostate_0022.nii.gz\n",
            "[INFO] Using cached NIfTI: /content/drive/MyDrive/Prostate_NIfTI_Cache/prostate_0023.nii.gz\n",
            "[INFO] Using cached NIfTI: /content/drive/MyDrive/Prostate_NIfTI_Cache/prostate_0024.nii.gz\n",
            "[INFO] Using cached NIfTI: /content/drive/MyDrive/Prostate_NIfTI_Cache/prostate_0025.nii.gz\n",
            "[INFO] Using cached NIfTI: /content/drive/MyDrive/Prostate_NIfTI_Cache/prostate_0026.nii.gz\n",
            "[INFO] Using cached NIfTI: /content/drive/MyDrive/Prostate_NIfTI_Cache/prostate_0027.nii.gz\n",
            "[INFO] Using cached NIfTI: /content/drive/MyDrive/Prostate_NIfTI_Cache/prostate_0028.nii.gz\n",
            "[INFO] Using cached NIfTI: /content/drive/MyDrive/Prostate_NIfTI_Cache/prostate_0029.nii.gz\n",
            "[INFO] Using cached NIfTI: /content/drive/MyDrive/Prostate_NIfTI_Cache/prostate_0030.nii.gz\n",
            "[INFO] Using cached NIfTI: /content/drive/MyDrive/Prostate_NIfTI_Cache/prostate_0031.nii.gz\n",
            "[INFO] Using cached NIfTI: /content/drive/MyDrive/Prostate_NIfTI_Cache/prostate_0032.nii.gz\n",
            "[INFO] Using cached NIfTI: /content/drive/MyDrive/Prostate_NIfTI_Cache/prostate_0033.nii.gz\n",
            "[INFO] Using cached NIfTI: /content/drive/MyDrive/Prostate_NIfTI_Cache/prostate_0034.nii.gz\n",
            "[INFO] Using cached NIfTI: /content/drive/MyDrive/Prostate_NIfTI_Cache/prostate_0035.nii.gz\n",
            "[INFO] Using cached NIfTI: /content/drive/MyDrive/Prostate_NIfTI_Cache/prostate_0036.nii.gz\n",
            "[INFO] Using cached NIfTI: /content/drive/MyDrive/Prostate_NIfTI_Cache/prostate_0037.nii.gz\n",
            "[INFO] Using cached NIfTI: /content/drive/MyDrive/Prostate_NIfTI_Cache/prostate_0038.nii.gz\n",
            "[INFO] Using cached NIfTI: /content/drive/MyDrive/Prostate_NIfTI_Cache/prostate_0039.nii.gz\n",
            "[INFO] Using cached NIfTI: /content/drive/MyDrive/Prostate_NIfTI_Cache/prostate_0040.nii.gz\n",
            "[INFO] Using cached NIfTI: /content/drive/MyDrive/Prostate_NIfTI_Cache/prostate_0041.nii.gz\n",
            "[INFO] Using cached NIfTI: /content/drive/MyDrive/Prostate_NIfTI_Cache/prostate_0042.nii.gz\n",
            "[INFO] Using cached NIfTI: /content/drive/MyDrive/Prostate_NIfTI_Cache/prostate_0043.nii.gz\n",
            "[INFO] Using cached NIfTI: /content/drive/MyDrive/Prostate_NIfTI_Cache/prostate_0044.nii.gz\n",
            "[INFO] Using cached NIfTI: /content/drive/MyDrive/Prostate_NIfTI_Cache/prostate_0045.nii.gz\n",
            "[INFO] Using cached NIfTI: /content/drive/MyDrive/Prostate_NIfTI_Cache/prostate_0046.nii.gz\n",
            "[INFO] Using cached NIfTI: /content/drive/MyDrive/Prostate_NIfTI_Cache/prostate_0047.nii.gz\n",
            "[INFO] Using cached NIfTI: /content/drive/MyDrive/Prostate_NIfTI_Cache/prostate_0048.nii.gz\n",
            "[INFO] Using cached NIfTI: /content/drive/MyDrive/Prostate_NIfTI_Cache/prostate_0049.nii.gz\n",
            "[INFO] Using cached NIfTI: /content/drive/MyDrive/Prostate_NIfTI_Cache/prostate_0050.nii.gz\n",
            "[INFO] Using cached NIfTI: /content/drive/MyDrive/Prostate_NIfTI_Cache/prostate_0051.nii.gz\n",
            "[INFO] Using cached NIfTI: /content/drive/MyDrive/Prostate_NIfTI_Cache/prostate_0052.nii.gz\n",
            "[INFO] Using cached NIfTI: /content/drive/MyDrive/Prostate_NIfTI_Cache/prostate_0053.nii.gz\n",
            "[INFO] Using cached NIfTI: /content/drive/MyDrive/Prostate_NIfTI_Cache/prostate_0054.nii.gz\n",
            "[INFO] Using cached NIfTI: /content/drive/MyDrive/Prostate_NIfTI_Cache/prostate_0055.nii.gz\n",
            "[INFO] Using cached NIfTI: /content/drive/MyDrive/Prostate_NIfTI_Cache/prostate_0056.nii.gz\n",
            "[INFO] Using cached NIfTI: /content/drive/MyDrive/Prostate_NIfTI_Cache/prostate_0057.nii.gz\n",
            "[INFO] Using cached NIfTI: /content/drive/MyDrive/Prostate_NIfTI_Cache/prostate_0058.nii.gz\n",
            "[INFO] Using cached NIfTI: /content/drive/MyDrive/Prostate_NIfTI_Cache/prostate_0059.nii.gz\n",
            "[INFO] Using cached NIfTI: /content/drive/MyDrive/Prostate_NIfTI_Cache/prostate_0060.nii.gz\n",
            "[INFO] Using cached NIfTI: /content/drive/MyDrive/Prostate_NIfTI_Cache/prostate_0061.nii.gz\n",
            "[INFO] Using cached NIfTI: /content/drive/MyDrive/Prostate_NIfTI_Cache/prostate_0062.nii.gz\n",
            "[INFO] Using cached NIfTI: /content/drive/MyDrive/Prostate_NIfTI_Cache/prostate_0063.nii.gz\n",
            "[INFO] Using cached NIfTI: /content/drive/MyDrive/Prostate_NIfTI_Cache/prostate_0064.nii.gz\n",
            "[INFO] Using cached NIfTI: /content/drive/MyDrive/Prostate_NIfTI_Cache/prostate_0065.nii.gz\n",
            "[INFO] Using cached NIfTI: /content/drive/MyDrive/Prostate_NIfTI_Cache/prostate_0066.nii.gz\n",
            "[INFO] Using cached NIfTI: /content/drive/MyDrive/Prostate_NIfTI_Cache/prostate_0067.nii.gz\n",
            "[INFO] Using cached NIfTI: /content/drive/MyDrive/Prostate_NIfTI_Cache/prostate_0068.nii.gz\n",
            "[INFO] Using cached NIfTI: /content/drive/MyDrive/Prostate_NIfTI_Cache/prostate_0069.nii.gz\n",
            "[INFO] Using cached NIfTI: /content/drive/MyDrive/Prostate_NIfTI_Cache/prostate_0070.nii.gz\n",
            "[INFO] Using cached NIfTI: /content/drive/MyDrive/Prostate_NIfTI_Cache/prostate_0071.nii.gz\n",
            "[INFO] Using cached NIfTI: /content/drive/MyDrive/Prostate_NIfTI_Cache/prostate_0072.nii.gz\n",
            "[INFO] Using cached NIfTI: /content/drive/MyDrive/Prostate_NIfTI_Cache/prostate_0073.nii.gz\n",
            "[INFO] Using cached NIfTI: /content/drive/MyDrive/Prostate_NIfTI_Cache/prostate_0074.nii.gz\n",
            "[INFO] Using cached NIfTI: /content/drive/MyDrive/Prostate_NIfTI_Cache/prostate_0075.nii.gz\n",
            "[INFO] Using cached NIfTI: /content/drive/MyDrive/Prostate_NIfTI_Cache/prostate_0076.nii.gz\n",
            "[INFO] Using cached NIfTI: /content/drive/MyDrive/Prostate_NIfTI_Cache/prostate_0077.nii.gz\n",
            "[INFO] Using cached NIfTI: /content/drive/MyDrive/Prostate_NIfTI_Cache/prostate_0078.nii.gz\n",
            "[INFO] Using cached NIfTI: /content/drive/MyDrive/Prostate_NIfTI_Cache/prostate_0079.nii.gz\n",
            "[INFO] Using cached NIfTI: /content/drive/MyDrive/Prostate_NIfTI_Cache/prostate_0080.nii.gz\n",
            "[INFO] Using cached NIfTI: /content/drive/MyDrive/Prostate_NIfTI_Cache/prostate_0081.nii.gz\n",
            "[INFO] Using cached NIfTI: /content/drive/MyDrive/Prostate_NIfTI_Cache/prostate_0082.nii.gz\n",
            "[INFO] Using cached NIfTI: /content/drive/MyDrive/Prostate_NIfTI_Cache/prostate_0083.nii.gz\n",
            "[INFO] Using cached NIfTI: /content/drive/MyDrive/Prostate_NIfTI_Cache/prostate_0084.nii.gz\n",
            "[INFO] Using cached NIfTI: /content/drive/MyDrive/Prostate_NIfTI_Cache/prostate_0085.nii.gz\n",
            "[INFO] Using cached NIfTI: /content/drive/MyDrive/Prostate_NIfTI_Cache/prostate_0086.nii.gz\n",
            "[INFO] Using cached NIfTI: /content/drive/MyDrive/Prostate_NIfTI_Cache/prostate_0087.nii.gz\n",
            "[INFO] Using cached NIfTI: /content/drive/MyDrive/Prostate_NIfTI_Cache/prostate_0088.nii.gz\n",
            "[INFO] Using cached NIfTI: /content/drive/MyDrive/Prostate_NIfTI_Cache/prostate_0089.nii.gz\n",
            "[INFO] Using cached NIfTI: /content/drive/MyDrive/Prostate_NIfTI_Cache/prostate_0090.nii.gz\n",
            "[INFO] Using cached NIfTI: /content/drive/MyDrive/Prostate_NIfTI_Cache/prostate_0091.nii.gz\n",
            "[INFO] Using cached NIfTI: /content/drive/MyDrive/Prostate_NIfTI_Cache/prostate_0092.nii.gz\n",
            "[INFO] Using cached NIfTI: /content/drive/MyDrive/Prostate_NIfTI_Cache/prostate_0093.nii.gz\n",
            "[INFO] Using cached NIfTI: /content/drive/MyDrive/Prostate_NIfTI_Cache/prostate_0094.nii.gz\n",
            "[INFO] Using cached NIfTI: /content/drive/MyDrive/Prostate_NIfTI_Cache/prostate_0095.nii.gz\n",
            "[INFO] Using cached NIfTI: /content/drive/MyDrive/Prostate_NIfTI_Cache/prostate_0096.nii.gz\n",
            "[INFO] Using cached NIfTI: /content/drive/MyDrive/Prostate_NIfTI_Cache/prostate_0097.nii.gz\n",
            "[INFO] Using cached NIfTI: /content/drive/MyDrive/Prostate_NIfTI_Cache/prostate_0098.nii.gz\n",
            "[INFO] Using cached NIfTI: /content/drive/MyDrive/Prostate_NIfTI_Cache/prostate_0099.nii.gz\n",
            "[INFO] Using cached NIfTI: /content/drive/MyDrive/Prostate_NIfTI_Cache/prostate_0100.nii.gz\n",
            "[INFO] Using cached NIfTI: /content/drive/MyDrive/Prostate_NIfTI_Cache/prostate_0101.nii.gz\n",
            "[INFO] Using cached NIfTI: /content/drive/MyDrive/Prostate_NIfTI_Cache/prostate_0102.nii.gz\n",
            "[INFO] Using cached NIfTI: /content/drive/MyDrive/Prostate_NIfTI_Cache/prostate_0103.nii.gz\n",
            "[INFO] Using cached NIfTI: /content/drive/MyDrive/Prostate_NIfTI_Cache/prostate_0104.nii.gz\n",
            "[INFO] Using cached NIfTI: /content/drive/MyDrive/Prostate_NIfTI_Cache/prostate_0105.nii.gz\n",
            "[INFO] Using cached NIfTI: /content/drive/MyDrive/Prostate_NIfTI_Cache/prostate_0106.nii.gz\n",
            "[INFO] Using cached NIfTI: /content/drive/MyDrive/Prostate_NIfTI_Cache/prostate_0107.nii.gz\n",
            "[INFO] Using cached NIfTI: /content/drive/MyDrive/Prostate_NIfTI_Cache/prostate_0108.nii.gz\n",
            "[INFO] Using cached NIfTI: /content/drive/MyDrive/Prostate_NIfTI_Cache/prostate_0109.nii.gz\n",
            "[INFO] Using cached NIfTI: /content/drive/MyDrive/Prostate_NIfTI_Cache/prostate_0110.nii.gz\n",
            "[INFO] Using cached NIfTI: /content/drive/MyDrive/Prostate_NIfTI_Cache/prostate_0111.nii.gz\n",
            "[INFO] Using cached NIfTI: /content/drive/MyDrive/Prostate_NIfTI_Cache/prostate_0112.nii.gz\n",
            "[INFO] Using cached NIfTI: /content/drive/MyDrive/Prostate_NIfTI_Cache/prostate_0113.nii.gz\n",
            "[INFO] Using cached NIfTI: /content/drive/MyDrive/Prostate_NIfTI_Cache/prostate_0114.nii.gz\n",
            "[INFO] Using cached NIfTI: /content/drive/MyDrive/Prostate_NIfTI_Cache/prostate_0115.nii.gz\n",
            "[INFO] Using cached NIfTI: /content/drive/MyDrive/Prostate_NIfTI_Cache/prostate_0116.nii.gz\n",
            "[INFO] Using cached NIfTI: /content/drive/MyDrive/Prostate_NIfTI_Cache/prostate_0117.nii.gz\n",
            "[INFO] Using cached NIfTI: /content/drive/MyDrive/Prostate_NIfTI_Cache/prostate_0118.nii.gz\n",
            "[INFO] Using cached NIfTI: /content/drive/MyDrive/Prostate_NIfTI_Cache/prostate_0119.nii.gz\n",
            "[INFO] Using cached NIfTI: /content/drive/MyDrive/Prostate_NIfTI_Cache/prostate_0120.nii.gz\n",
            "[INFO] Using cached NIfTI: /content/drive/MyDrive/Prostate_NIfTI_Cache/prostate_0121.nii.gz\n",
            "[INFO] Using cached NIfTI: /content/drive/MyDrive/Prostate_NIfTI_Cache/prostate_0122.nii.gz\n",
            "[INFO] Using cached NIfTI: /content/drive/MyDrive/Prostate_NIfTI_Cache/prostate_0123.nii.gz\n",
            "[INFO] Using cached NIfTI: /content/drive/MyDrive/Prostate_NIfTI_Cache/prostate_0124.nii.gz\n",
            "[INFO] Using cached NIfTI: /content/drive/MyDrive/Prostate_NIfTI_Cache/prostate_0125.nii.gz\n",
            "[INFO] Using cached NIfTI: /content/drive/MyDrive/Prostate_NIfTI_Cache/prostate_0126.nii.gz\n",
            "[INFO] Using cached NIfTI: /content/drive/MyDrive/Prostate_NIfTI_Cache/prostate_0127.nii.gz\n",
            "[INFO] Using cached NIfTI: /content/drive/MyDrive/Prostate_NIfTI_Cache/prostate_0128.nii.gz\n",
            "[INFO] Using cached NIfTI: /content/drive/MyDrive/Prostate_NIfTI_Cache/prostate_0129.nii.gz\n",
            "[INFO] Using cached NIfTI: /content/drive/MyDrive/Prostate_NIfTI_Cache/prostate_0130.nii.gz\n",
            "[INFO] Using cached NIfTI: /content/drive/MyDrive/Prostate_NIfTI_Cache/prostate_0131.nii.gz\n",
            "[INFO] Using cached NIfTI: /content/drive/MyDrive/Prostate_NIfTI_Cache/prostate_0132.nii.gz\n",
            "[INFO] Using cached NIfTI: /content/drive/MyDrive/Prostate_NIfTI_Cache/prostate_0133.nii.gz\n",
            "[INFO] Using cached NIfTI: /content/drive/MyDrive/Prostate_NIfTI_Cache/prostate_0134.nii.gz\n",
            "[INFO] Using cached NIfTI: /content/drive/MyDrive/Prostate_NIfTI_Cache/prostate_0135.nii.gz\n",
            "[INFO] Using cached NIfTI: /content/drive/MyDrive/Prostate_NIfTI_Cache/prostate_0136.nii.gz\n",
            "[INFO] Using cached NIfTI: /content/drive/MyDrive/Prostate_NIfTI_Cache/prostate_0137.nii.gz\n",
            "[INFO] Using cached NIfTI: /content/drive/MyDrive/Prostate_NIfTI_Cache/prostate_0138.nii.gz\n",
            "[INFO] Using cached NIfTI: /content/drive/MyDrive/Prostate_NIfTI_Cache/prostate_0139.nii.gz\n",
            "[INFO] Using cached NIfTI: /content/drive/MyDrive/Prostate_NIfTI_Cache/prostate_0140.nii.gz\n",
            "[INFO] Using cached NIfTI: /content/drive/MyDrive/Prostate_NIfTI_Cache/prostate_0141.nii.gz\n",
            "[INFO] Using cached NIfTI: /content/drive/MyDrive/Prostate_NIfTI_Cache/prostate_0142.nii.gz\n",
            "[INFO] Using cached NIfTI: /content/drive/MyDrive/Prostate_NIfTI_Cache/prostate_0143.nii.gz\n",
            "[INFO] Using cached NIfTI: /content/drive/MyDrive/Prostate_NIfTI_Cache/prostate_0144.nii.gz\n",
            "[INFO] Using cached NIfTI: /content/drive/MyDrive/Prostate_NIfTI_Cache/prostate_0145.nii.gz\n",
            "[INFO] Using cached NIfTI: /content/drive/MyDrive/Prostate_NIfTI_Cache/prostate_0146.nii.gz\n",
            "[INFO] Using cached NIfTI: /content/drive/MyDrive/Prostate_NIfTI_Cache/prostate_0147.nii.gz\n",
            "[INFO] Using cached NIfTI: /content/drive/MyDrive/Prostate_NIfTI_Cache/prostate_0148.nii.gz\n",
            "[INFO] Using cached NIfTI: /content/drive/MyDrive/Prostate_NIfTI_Cache/prostate_0149.nii.gz\n",
            "[INFO] Using cached NIfTI: /content/drive/MyDrive/Prostate_NIfTI_Cache/prostate_0150.nii.gz\n",
            "[INFO] Using cached NIfTI: /content/drive/MyDrive/Prostate_NIfTI_Cache/prostate_0151.nii.gz\n",
            "[INFO] Using cached NIfTI: /content/drive/MyDrive/Prostate_NIfTI_Cache/prostate_0152.nii.gz\n",
            "[INFO] Using cached NIfTI: /content/drive/MyDrive/Prostate_NIfTI_Cache/prostate_0153.nii.gz\n",
            "[INFO] Using cached NIfTI: /content/drive/MyDrive/Prostate_NIfTI_Cache/prostate_0154.nii.gz\n",
            "[INFO] Using cached NIfTI: /content/drive/MyDrive/Prostate_NIfTI_Cache/prostate_0155.nii.gz\n",
            "[INFO] Using cached NIfTI: /content/drive/MyDrive/Prostate_NIfTI_Cache/prostate_0156.nii.gz\n",
            "[INFO] Using cached NIfTI: /content/drive/MyDrive/Prostate_NIfTI_Cache/prostate_0157.nii.gz\n",
            "[INFO] Using cached NIfTI: /content/drive/MyDrive/Prostate_NIfTI_Cache/prostate_0158.nii.gz\n",
            "[INFO] Using cached NIfTI: /content/drive/MyDrive/Prostate_NIfTI_Cache/prostate_0159.nii.gz\n",
            "[INFO] Using cached NIfTI: /content/drive/MyDrive/Prostate_NIfTI_Cache/prostate_0160.nii.gz\n",
            "[INFO] Using cached NIfTI: /content/drive/MyDrive/Prostate_NIfTI_Cache/prostate_0161.nii.gz\n",
            "[INFO] Using cached NIfTI: /content/drive/MyDrive/Prostate_NIfTI_Cache/prostate_0162.nii.gz\n",
            "[INFO] Using cached NIfTI: /content/drive/MyDrive/Prostate_NIfTI_Cache/prostate_0163.nii.gz\n",
            "[INFO] Using cached NIfTI: /content/drive/MyDrive/Prostate_NIfTI_Cache/prostate_0164.nii.gz\n",
            "[INFO] Using cached NIfTI: /content/drive/MyDrive/Prostate_NIfTI_Cache/prostate_0165.nii.gz\n",
            "[INFO] Using cached NIfTI: /content/drive/MyDrive/Prostate_NIfTI_Cache/prostate_0166.nii.gz\n",
            "[INFO] Using cached NIfTI: /content/drive/MyDrive/Prostate_NIfTI_Cache/prostate_0167.nii.gz\n",
            "[INFO] Using cached NIfTI: /content/drive/MyDrive/Prostate_NIfTI_Cache/prostate_0168.nii.gz\n",
            "[INFO] Using cached NIfTI: /content/drive/MyDrive/Prostate_NIfTI_Cache/prostate_0169.nii.gz\n",
            "[INFO] Using cached NIfTI: /content/drive/MyDrive/Prostate_NIfTI_Cache/prostate_0170.nii.gz\n",
            "[INFO] Using cached NIfTI: /content/drive/MyDrive/Prostate_NIfTI_Cache/prostate_0171.nii.gz\n",
            "[INFO] Using cached NIfTI: /content/drive/MyDrive/Prostate_NIfTI_Cache/prostate_0172.nii.gz\n",
            "[INFO] Using cached NIfTI: /content/drive/MyDrive/Prostate_NIfTI_Cache/prostate_0173.nii.gz\n",
            "[INFO] Using cached NIfTI: /content/drive/MyDrive/Prostate_NIfTI_Cache/prostate_0174.nii.gz\n",
            "[INFO] Using cached NIfTI: /content/drive/MyDrive/Prostate_NIfTI_Cache/prostate_0175.nii.gz\n",
            "[INFO] Using cached NIfTI: /content/drive/MyDrive/Prostate_NIfTI_Cache/prostate_0176.nii.gz\n",
            "[INFO] Using cached NIfTI: /content/drive/MyDrive/Prostate_NIfTI_Cache/prostate_0177.nii.gz\n",
            "[INFO] Using cached NIfTI: /content/drive/MyDrive/Prostate_NIfTI_Cache/prostate_0178.nii.gz\n",
            "[INFO] Using cached NIfTI: /content/drive/MyDrive/Prostate_NIfTI_Cache/prostate_0179.nii.gz\n",
            "[INFO] Using cached NIfTI: /content/drive/MyDrive/Prostate_NIfTI_Cache/prostate_0180.nii.gz\n",
            "[INFO] Using cached NIfTI: /content/drive/MyDrive/Prostate_NIfTI_Cache/prostate_0181.nii.gz\n",
            "[INFO] Using cached NIfTI: /content/drive/MyDrive/Prostate_NIfTI_Cache/prostate_0182.nii.gz\n",
            "[INFO] Using cached NIfTI: /content/drive/MyDrive/Prostate_NIfTI_Cache/prostate_0183.nii.gz\n",
            "[INFO] Using cached NIfTI: /content/drive/MyDrive/Prostate_NIfTI_Cache/prostate_0184.nii.gz\n",
            "[INFO] Using cached NIfTI: /content/drive/MyDrive/Prostate_NIfTI_Cache/prostate_0185.nii.gz\n",
            "[INFO] Using cached NIfTI: /content/drive/MyDrive/Prostate_NIfTI_Cache/prostate_0186.nii.gz\n",
            "[INFO] Total matched records: 187\n"
          ]
        }
      ]
    },
    {
      "cell_type": "code",
      "source": [
        "# Save images & labels as NIfTI in nnUNet format\n",
        "for idx, (image, label) in enumerate(tqdm(zip(images, labels), desc=\"Saving NIfTI files\", total=len(images))):\n",
        "    image_nifti = nib.Nifti1Image(image.squeeze(), np.eye(4))\n",
        "    nib.save(image_nifti, os.path.join(IMAGES_TR_PATH, f\"prostate_{idx:04d}_0000.nii.gz\"))\n",
        "\n",
        "    #Convert `label` to an integer to fix dtype issue\n",
        "    label_nifti = nib.Nifti1Image(np.array([[int(label)]], dtype=np.int16), np.eye(4))  # Convert to int16\n",
        "    nib.save(label_nifti, os.path.join(LABELS_TR_PATH, f\"prostate_{idx:04d}.nii.gz\"))"
      ],
      "metadata": {
        "colab": {
          "base_uri": "https://localhost:8080/"
        },
        "id": "kP8Vth0ODylj",
        "outputId": "49d829ca-58a1-46f1-88dc-15b287d431a6"
      },
      "execution_count": 5,
      "outputs": [
        {
          "output_type": "stream",
          "name": "stderr",
          "text": [
            "Saving NIfTI files: 100%|██████████| 187/187 [00:05<00:00, 36.40it/s]\n"
          ]
        }
      ]
    },
    {
      "cell_type": "code",
      "source": [
        "\n",
        "# Generate dataset.json\n",
        "dataset_json = {\n",
        "    \"name\": \"ProstateX\",\n",
        "    \"description\": \"ProstateX dataset for nnU-Net training\",\n",
        "    \"tensorImageSize\": \"3D\",\n",
        "    \"reference\": \"\",\n",
        "    \"licence\": \"\",\n",
        "    \"release\": \"1.0\",\n",
        "    \"modality\": {\"0\": \"MRI\"},\n",
        "    \"labels\": {\"0\": \"background\", \"1\": \"tumor\"},\n",
        "    \"numTraining\": len(images),\n",
        "    \"numTest\": 0,\n",
        "    \"training\": [{\"image\": f\"./imagesTr/prostate_{idx:04d}_0000.nii.gz\", \"label\": f\"./labelsTr/prostate_{idx:04d}.nii.gz\"} for idx in range(len(images))],\n",
        "    \"test\": []\n",
        "}\n",
        "\n",
        "json_path = os.path.join(NNUNET_RAW_PATH, \"dataset.json\")\n",
        "with open(json_path, \"w\") as f:\n",
        "    json.dump(dataset_json, f, indent=4)\n",
        "\n",
        "print(\"[INFO] Dataset preparation complete!\")\n",
        "\n",
        "# Step 4: Preprocess the Data\n",
        "print(\"[INFO] Running nnUNet Preprocessing...\")\n",
        "os.system(f\"nnUNetv2_plan_and_preprocess -d 500 --verify_dataset_integrity\")\n",
        "\n",
        "# Step 5: Train the Model\n",
        "print(\"[INFO] Training nnUNet Model...\")\n",
        "os.system(f\"nnUNetv2_train -d 500 -c 3d_fullres -f 0\")\n",
        "\n",
        "# Step 6: Inference\n",
        "print(\"[INFO] Running Inference...\")\n",
        "os.system(f\"nnUNetv2_predict -i {IMAGES_TR_PATH} -o /content/drive/MyDrive/nnUNet_predictions -d 500 -c 3d_fullres\")\n",
        "\n"
      ],
      "metadata": {
        "colab": {
          "base_uri": "https://localhost:8080/"
        },
        "id": "1SJNSd30Emic",
        "outputId": "36ec36d9-435e-4e8a-c64c-8045e90bac1a"
      },
      "execution_count": 13,
      "outputs": [
        {
          "output_type": "stream",
          "name": "stdout",
          "text": [
            "[INFO] Dataset preparation complete!\n",
            "[INFO] Running nnUNet Preprocessing...\n",
            "[INFO] Training nnUNet Model...\n",
            "[INFO] Running Inference...\n"
          ]
        },
        {
          "output_type": "execute_result",
          "data": {
            "text/plain": [
              "256"
            ]
          },
          "metadata": {},
          "execution_count": 13
        }
      ]
    },
    {
      "cell_type": "code",
      "source": [
        "import os\n",
        "\n",
        "os.environ[\"nnUNet_raw\"] = \"/content/drive/MyDrive/nnUNet_raw\"\n",
        "os.environ[\"nnUNet_preprocessed\"] = \"/content/drive/MyDrive/nnUNet_preprocessed\"\n",
        "os.environ[\"nnUNet_results\"] = \"/content/drive/MyDrive/nnUNet_results\"\n",
        "\n",
        "# Verify environment variables\n",
        "print(\"[INFO] Environment Variables Set:\")\n",
        "print(\"nnUNet_raw:\", os.environ.get(\"nnUNet_raw\"))\n",
        "print(\"nnUNet_preprocessed:\", os.environ.get(\"nnUNet_preprocessed\"))\n",
        "print(\"nnUNet_results:\", os.environ.get(\"nnUNet_results\"))"
      ],
      "metadata": {
        "colab": {
          "base_uri": "https://localhost:8080/"
        },
        "id": "j5ssKCGcIcpH",
        "outputId": "7d1b530e-4c7b-4878-cbc2-2e477da55536"
      },
      "execution_count": 18,
      "outputs": [
        {
          "output_type": "stream",
          "name": "stdout",
          "text": [
            "[INFO] Environment Variables Set:\n",
            "nnUNet_raw: /content/drive/MyDrive/nnUNet_raw\n",
            "nnUNet_preprocessed: /content/drive/MyDrive/nnUNet_preprocessed\n",
            "nnUNet_results: /content/drive/MyDrive/nnUNet_results\n"
          ]
        }
      ]
    },
    {
      "cell_type": "code",
      "source": [
        "import subprocess\n",
        "\n",
        "# Define paths\n",
        "IMAGES_TR_PATH = \"/content/drive/MyDrive/nnUNet_raw/Task500_ProstateX/imagesTr\"\n",
        "PREDICTION_PATH = \"/content/drive/MyDrive/nnUNet_predictions\"\n",
        "\n",
        "# Ensure output directory exists\n",
        "os.makedirs(PREDICTION_PATH, exist_ok=True)\n",
        "\n",
        "# Run inference command and capture errors\n",
        "inference_command = f\"nnUNetv2_predict -i {IMAGES_TR_PATH} -o {PREDICTION_PATH} -d 500 -c 3d_fullres\"\n",
        "process = subprocess.run(inference_command, shell=True, capture_output=True, text=True)\n",
        "\n",
        "# Print the command output\n",
        "print(\"[INFO] Command Output:\\n\", process.stdout)\n",
        "print(\"[ERROR] Command Error:\\n\", process.stderr)\n",
        "\n",
        "# Check for failure\n",
        "if process.returncode != 0:\n",
        "    print(f\"[ERROR] Inference failed with exit code {process.returncode}. Check the logs above.\")\n"
      ],
      "metadata": {
        "colab": {
          "base_uri": "https://localhost:8080/"
        },
        "id": "XkdIqcA-GsZV",
        "outputId": "94e9a05a-e1a6-4f0d-bdf8-b8ed64e8dc1a"
      },
      "execution_count": 14,
      "outputs": [
        {
          "output_type": "stream",
          "name": "stdout",
          "text": [
            "[INFO] Command Output:\n",
            " \n",
            "#######################################################################\n",
            "Please cite the following paper when using nnU-Net:\n",
            "Isensee, F., Jaeger, P. F., Kohl, S. A., Petersen, J., & Maier-Hein, K. H. (2021). nnU-Net: a self-configuring method for deep learning-based biomedical image segmentation. Nature methods, 18(2), 203-211.\n",
            "#######################################################################\n",
            "\n",
            "\n",
            "[ERROR] Command Error:\n",
            " Traceback (most recent call last):\n",
            "  File \"/usr/local/bin/nnUNetv2_predict\", line 8, in <module>\n",
            "    sys.exit(predict_entry_point())\n",
            "             ^^^^^^^^^^^^^^^^^^^^^\n",
            "  File \"/usr/local/lib/python3.11/dist-packages/nnunetv2/inference/predict_from_raw_data.py\", line 948, in predict_entry_point\n",
            "    model_folder = get_output_folder(args.d, args.tr, args.p, args.c)\n",
            "                   ^^^^^^^^^^^^^^^^^^^^^^^^^^^^^^^^^^^^^^^^^^^^^^^^^^\n",
            "  File \"/usr/local/lib/python3.11/dist-packages/nnunetv2/utilities/file_path_utilities.py\", line 22, in get_output_folder\n",
            "    tmp = join(nnUNet_results, maybe_convert_to_dataset_name(dataset_name_or_id),\n",
            "                               ^^^^^^^^^^^^^^^^^^^^^^^^^^^^^^^^^^^^^^^^^^^^^^^^^\n",
            "  File \"/usr/local/lib/python3.11/dist-packages/nnunetv2/utilities/dataset_name_id_conversion.py\", line 74, in maybe_convert_to_dataset_name\n",
            "    return convert_id_to_dataset_name(dataset_name_or_id)\n",
            "           ^^^^^^^^^^^^^^^^^^^^^^^^^^^^^^^^^^^^^^^^^^^^^^\n",
            "  File \"/usr/local/lib/python3.11/dist-packages/nnunetv2/utilities/dataset_name_id_conversion.py\", line 48, in convert_id_to_dataset_name\n",
            "    raise RuntimeError(f\"Could not find a dataset with the ID {dataset_id}. Make sure the requested dataset ID \"\n",
            "RuntimeError: Could not find a dataset with the ID 500. Make sure the requested dataset ID exists and that nnU-Net knows where raw and preprocessed data are located (see Documentation - Installation). Here are your currently defined folders:\n",
            "nnUNet_preprocessed=/content/drive/MyDrive/nnUNet_preprocessed\n",
            "nnUNet_results=/content/drive/MyDrive/nnUNet_results\n",
            "nnUNet_raw=/content/drive/MyDrive/nnUNet_raw\n",
            "If something is not right, adapt your environment variables.\n",
            "\n",
            "[ERROR] Inference failed with exit code 1. Check the logs above.\n"
          ]
        }
      ]
    },
    {
      "cell_type": "code",
      "source": [
        "DATASET_ID = \"002\"\n",
        "inference_command = f\"nnUNetv2_predict -i {IMAGES_TR_PATH} -o {PREDICTION_PATH} -d {DATASET_ID} -c 3d_fullres\"\n"
      ],
      "metadata": {
        "id": "2UuPYFmJI3nY"
      },
      "execution_count": 15,
      "outputs": []
    },
    {
      "cell_type": "code",
      "source": [
        "import subprocess\n",
        "\n",
        "# Run inference command\n",
        "inference_command = f\"nnUNetv2_predict -i {IMAGES_TR_PATH} -o {PREDICTION_PATH} -d 500 -c 3d_fullres\"\n",
        "process = subprocess.run(inference_command, shell=True, capture_output=True, text=True)\n",
        "\n",
        "# Print output and error\n",
        "print(\"[INFO] Command Output:\\n\", process.stdout)\n",
        "print(\"[ERROR] Command Error:\\n\", process.stderr)\n"
      ],
      "metadata": {
        "colab": {
          "base_uri": "https://localhost:8080/"
        },
        "id": "UoSip13nK67c",
        "outputId": "aefe6088-44f3-4ea1-d0b5-dad8a606eff6"
      },
      "execution_count": 19,
      "outputs": [
        {
          "output_type": "stream",
          "name": "stdout",
          "text": [
            "[INFO] Command Output:\n",
            " \n",
            "#######################################################################\n",
            "Please cite the following paper when using nnU-Net:\n",
            "Isensee, F., Jaeger, P. F., Kohl, S. A., Petersen, J., & Maier-Hein, K. H. (2021). nnU-Net: a self-configuring method for deep learning-based biomedical image segmentation. Nature methods, 18(2), 203-211.\n",
            "#######################################################################\n",
            "\n",
            "\n",
            "[ERROR] Command Error:\n",
            " Traceback (most recent call last):\n",
            "  File \"/usr/local/bin/nnUNetv2_predict\", line 8, in <module>\n",
            "    sys.exit(predict_entry_point())\n",
            "             ^^^^^^^^^^^^^^^^^^^^^\n",
            "  File \"/usr/local/lib/python3.11/dist-packages/nnunetv2/inference/predict_from_raw_data.py\", line 948, in predict_entry_point\n",
            "    model_folder = get_output_folder(args.d, args.tr, args.p, args.c)\n",
            "                   ^^^^^^^^^^^^^^^^^^^^^^^^^^^^^^^^^^^^^^^^^^^^^^^^^^\n",
            "  File \"/usr/local/lib/python3.11/dist-packages/nnunetv2/utilities/file_path_utilities.py\", line 22, in get_output_folder\n",
            "    tmp = join(nnUNet_results, maybe_convert_to_dataset_name(dataset_name_or_id),\n",
            "                               ^^^^^^^^^^^^^^^^^^^^^^^^^^^^^^^^^^^^^^^^^^^^^^^^^\n",
            "  File \"/usr/local/lib/python3.11/dist-packages/nnunetv2/utilities/dataset_name_id_conversion.py\", line 74, in maybe_convert_to_dataset_name\n",
            "    return convert_id_to_dataset_name(dataset_name_or_id)\n",
            "           ^^^^^^^^^^^^^^^^^^^^^^^^^^^^^^^^^^^^^^^^^^^^^^\n",
            "  File \"/usr/local/lib/python3.11/dist-packages/nnunetv2/utilities/dataset_name_id_conversion.py\", line 48, in convert_id_to_dataset_name\n",
            "    raise RuntimeError(f\"Could not find a dataset with the ID {dataset_id}. Make sure the requested dataset ID \"\n",
            "RuntimeError: Could not find a dataset with the ID 500. Make sure the requested dataset ID exists and that nnU-Net knows where raw and preprocessed data are located (see Documentation - Installation). Here are your currently defined folders:\n",
            "nnUNet_preprocessed=/content/drive/MyDrive/nnUNet_preprocessed\n",
            "nnUNet_results=/content/drive/MyDrive/nnUNet_results\n",
            "nnUNet_raw=/content/drive/MyDrive/nnUNet_raw\n",
            "If something is not right, adapt your environment variables.\n",
            "\n"
          ]
        }
      ]
    },
    {
      "cell_type": "code",
      "source": [
        "import os\n",
        "\n",
        "nnUNet_preprocessed_path = \"/content/drive/MyDrive/nnUNet_preprocessed\"\n",
        "nnUNet_results_path = \"/content/drive/MyDrive/nnUNet_results\"\n",
        "\n",
        "# List available dataset folders\n",
        "print(\"[INFO] Checking available datasets in nnUNet_preprocessed:\")\n",
        "print(os.listdir(nnUNet_preprocessed_path))\n",
        "\n",
        "print(\"\\n[INFO] Checking available trained models in nnUNet_results:\")\n",
        "print(os.listdir(nnUNet_results_path))\n"
      ],
      "metadata": {
        "colab": {
          "base_uri": "https://localhost:8080/",
          "height": 228
        },
        "id": "hrv8izBwLSEb",
        "outputId": "d25b0897-3677-4c66-eb01-731f2981cd1e"
      },
      "execution_count": 20,
      "outputs": [
        {
          "output_type": "stream",
          "name": "stdout",
          "text": [
            "[INFO] Checking available datasets in nnUNet_preprocessed:\n"
          ]
        },
        {
          "output_type": "error",
          "ename": "FileNotFoundError",
          "evalue": "[Errno 2] No such file or directory: '/content/drive/MyDrive/nnUNet_preprocessed'",
          "traceback": [
            "\u001b[0;31m---------------------------------------------------------------------------\u001b[0m",
            "\u001b[0;31mFileNotFoundError\u001b[0m                         Traceback (most recent call last)",
            "\u001b[0;32m<ipython-input-20-b9ec5156a764>\u001b[0m in \u001b[0;36m<cell line: 0>\u001b[0;34m()\u001b[0m\n\u001b[1;32m      6\u001b[0m \u001b[0;31m# List available dataset folders\u001b[0m\u001b[0;34m\u001b[0m\u001b[0;34m\u001b[0m\u001b[0m\n\u001b[1;32m      7\u001b[0m \u001b[0mprint\u001b[0m\u001b[0;34m(\u001b[0m\u001b[0;34m\"[INFO] Checking available datasets in nnUNet_preprocessed:\"\u001b[0m\u001b[0;34m)\u001b[0m\u001b[0;34m\u001b[0m\u001b[0;34m\u001b[0m\u001b[0m\n\u001b[0;32m----> 8\u001b[0;31m \u001b[0mprint\u001b[0m\u001b[0;34m(\u001b[0m\u001b[0mos\u001b[0m\u001b[0;34m.\u001b[0m\u001b[0mlistdir\u001b[0m\u001b[0;34m(\u001b[0m\u001b[0mnnUNet_preprocessed_path\u001b[0m\u001b[0;34m)\u001b[0m\u001b[0;34m)\u001b[0m\u001b[0;34m\u001b[0m\u001b[0;34m\u001b[0m\u001b[0m\n\u001b[0m\u001b[1;32m      9\u001b[0m \u001b[0;34m\u001b[0m\u001b[0m\n\u001b[1;32m     10\u001b[0m \u001b[0mprint\u001b[0m\u001b[0;34m(\u001b[0m\u001b[0;34m\"\\n[INFO] Checking available trained models in nnUNet_results:\"\u001b[0m\u001b[0;34m)\u001b[0m\u001b[0;34m\u001b[0m\u001b[0;34m\u001b[0m\u001b[0m\n",
            "\u001b[0;31mFileNotFoundError\u001b[0m: [Errno 2] No such file or directory: '/content/drive/MyDrive/nnUNet_preprocessed'"
          ]
        }
      ]
    },
    {
      "cell_type": "code",
      "source": [
        "import os\n",
        "\n",
        "# Define paths\n",
        "base_path = \"/content/drive/MyDrive/\"\n",
        "paths = [\"nnUNet_raw\", \"nnUNet_preprocessed\", \"nnUNet_results\"]\n",
        "\n",
        "for path in paths:\n",
        "    full_path = os.path.join(base_path, path)\n",
        "    print(f\"[INFO] Checking path: {full_path}\")\n",
        "    print(\"Exists:\", os.path.exists(full_path))\n",
        "    print(\"Contents:\", os.listdir(full_path) if os.path.exists(full_path) else \"Folder not found\")\n",
        "    print(\"\\n\")\n",
        "\n"
      ],
      "metadata": {
        "colab": {
          "base_uri": "https://localhost:8080/"
        },
        "id": "CZYBrhGJLm-W",
        "outputId": "f8bbb080-dd01-43d3-e65d-508afb900348"
      },
      "execution_count": 21,
      "outputs": [
        {
          "output_type": "stream",
          "name": "stdout",
          "text": [
            "[INFO] Checking path: /content/drive/MyDrive/nnUNet_raw\n",
            "Exists: True\n",
            "Contents: ['Task500_ProstateX']\n",
            "\n",
            "\n",
            "[INFO] Checking path: /content/drive/MyDrive/nnUNet_preprocessed\n",
            "Exists: False\n",
            "Contents: Folder not found\n",
            "\n",
            "\n",
            "[INFO] Checking path: /content/drive/MyDrive/nnUNet_results\n",
            "Exists: False\n",
            "Contents: Folder not found\n",
            "\n",
            "\n"
          ]
        }
      ]
    },
    {
      "cell_type": "code",
      "source": [
        "nnUNetv2_plan_and_preprocess -d 500 --verify_dataset_integrity\n"
      ],
      "metadata": {
        "colab": {
          "base_uri": "https://localhost:8080/",
          "height": 106
        },
        "id": "ZGswZWtBLsX9",
        "outputId": "5251953a-41a2-4753-f790-a938a2b6238f"
      },
      "execution_count": 22,
      "outputs": [
        {
          "output_type": "error",
          "ename": "SyntaxError",
          "evalue": "invalid syntax (<ipython-input-22-5e82b98bdce9>, line 1)",
          "traceback": [
            "\u001b[0;36m  File \u001b[0;32m\"<ipython-input-22-5e82b98bdce9>\"\u001b[0;36m, line \u001b[0;32m1\u001b[0m\n\u001b[0;31m    nnUNetv2_plan_and_preprocess -d 500 --verify_dataset_integrity\u001b[0m\n\u001b[0m                                    ^\u001b[0m\n\u001b[0;31mSyntaxError\u001b[0m\u001b[0;31m:\u001b[0m invalid syntax\n"
          ]
        }
      ]
    },
    {
      "cell_type": "code",
      "source": [
        "import os\n",
        "import shutil\n",
        "\n",
        "# Define paths\n",
        "TRAINED_MODEL_PATH = \"/content/drive/MyDrive/nnUNet_results/nnUNet/3d_fullres/Task500_ProstateX\"\n",
        "BACKUP_MODEL_PATH = \"/content/drive/MyDrive/nnUNet_trained_model_backup/Task500_ProstateX\"\n",
        "\n",
        "# Ensure backup directory exists\n",
        "os.makedirs(os.path.dirname(BACKUP_MODEL_PATH), exist_ok=True)\n",
        "\n",
        "# Copy the trained model to backup\n",
        "if os.path.exists(TRAINED_MODEL_PATH):\n",
        "    shutil.copytree(TRAINED_MODEL_PATH, BACKUP_MODEL_PATH, dirs_exist_ok=True)\n",
        "    print(f\"[INFO] Trained model successfully backed up to {BACKUP_MODEL_PATH}\")\n",
        "else:\n",
        "    print(\"[ERROR] Trained model not found. Ensure training was completed successfully.\")\n"
      ],
      "metadata": {
        "colab": {
          "base_uri": "https://localhost:8080/"
        },
        "id": "BH6d2SG7Fxon",
        "outputId": "7a958d07-cf1f-4b43-9070-6ea7aa99316e"
      },
      "execution_count": 16,
      "outputs": [
        {
          "output_type": "stream",
          "name": "stdout",
          "text": [
            "[ERROR] Trained model not found. Ensure training was completed successfully.\n"
          ]
        }
      ]
    },
    {
      "cell_type": "code",
      "source": [
        "import os\n",
        "import subprocess\n",
        "\n",
        "# Define paths\n",
        "os.environ[\"nnUNet_raw\"] = \"/content/drive/MyDrive/nnUNet_raw\"\n",
        "os.environ[\"nnUNet_preprocessed\"] = \"/content/drive/MyDrive/nnUNet_preprocessed\"\n",
        "os.environ[\"nnUNet_results\"] = \"/content/drive/MyDrive/nnUNet_results\"\n",
        "\n",
        "# Verify environment variables\n",
        "print(\"[INFO] Environment Variables Set:\")\n",
        "print(\"nnUNet_raw:\", os.environ.get(\"nnUNet_raw\"))\n",
        "print(\"nnUNet_preprocessed:\", os.environ.get(\"nnUNet_preprocessed\"))\n",
        "print(\"nnUNet_results:\", os.environ.get(\"nnUNet_results\"))\n",
        "\n",
        "# Run nnU-Net Preprocessing\n",
        "print(\"[INFO] Running nnU-Net Preprocessing...\")\n",
        "preprocess_command = \"nnUNetv2_plan_and_preprocess -d 500 --verify_dataset_integrity\"\n",
        "process = subprocess.run(preprocess_command, shell=True, capture_output=True, text=True)\n",
        "\n",
        "# Print command output\n",
        "print(\"[INFO] Command Output:\\n\", process.stdout)\n",
        "print(\"[ERROR] Command Error:\\n\", process.stderr)\n",
        "\n",
        "# Verify if preprocessing was successful\n",
        "preprocessed_path = \"/content/drive/MyDrive/nnUNet_preprocessed/Task500_ProstateX\"\n",
        "if os.path.exists(preprocessed_path):\n",
        "    print(f\"[SUCCESS] Preprocessing completed! Preprocessed data is in: {preprocessed_path}\")\n",
        "    print(\"Listing preprocessed files:\")\n",
        "    print(os.listdir(preprocessed_path))\n",
        "else:\n",
        "    print(\"[ERROR] Preprocessing failed. Check the error logs above.\")\n"
      ],
      "metadata": {
        "colab": {
          "base_uri": "https://localhost:8080/"
        },
        "id": "30dI63huGrOp",
        "outputId": "14db8f9a-79dd-4dd2-e39d-303c4f4222db"
      },
      "execution_count": 23,
      "outputs": [
        {
          "output_type": "stream",
          "name": "stdout",
          "text": [
            "[INFO] Environment Variables Set:\n",
            "nnUNet_raw: /content/drive/MyDrive/nnUNet_raw\n",
            "nnUNet_preprocessed: /content/drive/MyDrive/nnUNet_preprocessed\n",
            "nnUNet_results: /content/drive/MyDrive/nnUNet_results\n",
            "[INFO] Running nnU-Net Preprocessing...\n",
            "[INFO] Command Output:\n",
            " Fingerprint extraction...\n",
            "\n",
            "[ERROR] Command Error:\n",
            " Traceback (most recent call last):\n",
            "  File \"/usr/local/bin/nnUNetv2_plan_and_preprocess\", line 8, in <module>\n",
            "    sys.exit(plan_and_preprocess_entry())\n",
            "             ^^^^^^^^^^^^^^^^^^^^^^^^^^^\n",
            "  File \"/usr/local/lib/python3.11/dist-packages/nnunetv2/experiment_planning/plan_and_preprocess_entrypoints.py\", line 180, in plan_and_preprocess_entry\n",
            "    extract_fingerprints(args.d, args.fpe, args.npfp, args.verify_dataset_integrity, args.clean, args.verbose)\n",
            "  File \"/usr/local/lib/python3.11/dist-packages/nnunetv2/experiment_planning/plan_and_preprocess_api.py\", line 47, in extract_fingerprints\n",
            "    extract_fingerprint_dataset(d, fingerprint_extractor_class, num_processes, check_dataset_integrity, clean,\n",
            "  File \"/usr/local/lib/python3.11/dist-packages/nnunetv2/experiment_planning/plan_and_preprocess_api.py\", line 26, in extract_fingerprint_dataset\n",
            "    dataset_name = convert_id_to_dataset_name(dataset_id)\n",
            "                   ^^^^^^^^^^^^^^^^^^^^^^^^^^^^^^^^^^^^^^\n",
            "  File \"/usr/local/lib/python3.11/dist-packages/nnunetv2/utilities/dataset_name_id_conversion.py\", line 48, in convert_id_to_dataset_name\n",
            "    raise RuntimeError(f\"Could not find a dataset with the ID {dataset_id}. Make sure the requested dataset ID \"\n",
            "RuntimeError: Could not find a dataset with the ID 500. Make sure the requested dataset ID exists and that nnU-Net knows where raw and preprocessed data are located (see Documentation - Installation). Here are your currently defined folders:\n",
            "nnUNet_preprocessed=/content/drive/MyDrive/nnUNet_preprocessed\n",
            "nnUNet_results=/content/drive/MyDrive/nnUNet_results\n",
            "nnUNet_raw=/content/drive/MyDrive/nnUNet_raw\n",
            "If something is not right, adapt your environment variables.\n",
            "\n",
            "[ERROR] Preprocessing failed. Check the error logs above.\n"
          ]
        }
      ]
    }
  ]
}