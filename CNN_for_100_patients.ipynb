{
 "cells": [
  {
   "cell_type": "markdown",
   "metadata": {
    "colab_type": "text",
    "id": "view-in-github"
   },
   "source": [
    "<a href=\"https://colab.research.google.com/github/pratapponnam/ProstateDetection/blob/main/CNN_for_10_patients.ipynb\" target=\"_parent\"><img src=\"https://colab.research.google.com/assets/colab-badge.svg\" alt=\"Open In Colab\"/></a>"
   ]
  },
  {
   "cell_type": "code",
   "execution_count": 2,
   "metadata": {
    "colab": {
     "base_uri": "https://localhost:8080/"
    },
    "id": "yIBU2Sz99L8X",
    "outputId": "6e619a03-6eeb-4d44-d6b6-a90260273330"
   },
   "outputs": [
    {
     "name": "stdout",
     "output_type": "stream",
     "text": [
      "Requirement already satisfied: pydicom in c:\\users\\anude\\anaconda3\\lib\\site-packages (3.0.1)\n"
     ]
    }
   ],
   "source": [
    "!pip install pydicom"
   ]
  },
  {
   "cell_type": "code",
   "execution_count": 3,
   "metadata": {
    "id": "h_u9JQul9hDk"
   },
   "outputs": [],
   "source": [
    "import os\n",
    "import pydicom\n",
    "import numpy as np\n",
    "import pandas as pd\n",
    "import tensorflow as tf\n",
    "from tensorflow import keras\n",
    "from tensorflow.keras import layers\n",
    "from sklearn.model_selection import train_test_split\n",
    "from tensorflow.keras.utils import to_categorical\n",
    "import matplotlib.pyplot as plt"
   ]
  },
  {
   "cell_type": "code",
   "execution_count": 4,
   "metadata": {
    "id": "4LbiNeltpxtg"
   },
   "outputs": [],
   "source": [
    "# --- File Paths ---\n",
    "findings_train_path = r\"C:/Users/anude/OneDrive/Desktop/project/ProstateX-Findings-Train100.csv\"\n",
    "images_train_path = r\"C:/Users/anude/OneDrive/Desktop/project/ProstateX-Images-Train100.csv\"\n",
    "dicom_dir = r\"C:/Users/anude/OneDrive/Desktop/project\"\n",
    "\n",
    "# Load CSV files\n",
    "findings_df = pd.read_csv(findings_train_path)\n",
    "images_df = pd.read_csv(images_train_path)\n",
    "\n",
    "# Merge the Findings and Images data\n",
    "merged_df = pd.merge(images_df, findings_df, on=[\"ProxID\", \"fid\"], how=\"inner\")\n",
    "\n",
    "# Select relevant columns\n",
    "merged_df = merged_df[[\"ProxID\", \"fid\", \"DCMSerDescr\", \"DCMSerNum\", \"ijk\", \"ClinSig\"]]\n",
    "merged_df[\"ClinSig\"] = merged_df[\"ClinSig\"].fillna(0).astype(int)\n"
   ]
  },
  {
   "cell_type": "code",
   "execution_count": 5,
   "metadata": {
    "id": "AQybrsnjDpZu"
   },
   "outputs": [],
   "source": [
    "import glob\n",
    "# Function to load DICOM images based on matched series descriptions\n",
    "def load_relevant_dicom_images(dicom_dir, merged_df, img_size=(128, 128)):\n",
    "    images = []\n",
    "    labels = []\n",
    "    matched_records = 0\n",
    "\n",
    "    # Get all DICOM file paths using glob\n",
    "    dicom_files = glob.glob(os.path.join(dicom_dir, \"**/*.dcm\"), recursive=True)\n",
    "    print(f\"Found {len(dicom_files)} DICOM files.\")\n",
    "    if len(dicom_files) == 0:\n",
    "        print(\"No DICOM files found. Check the directory path.\")\n",
    "        return np.array(images), np.array(labels)\n",
    "\n",
    "    for _, row in merged_df.iterrows():\n",
    "        series_desc = row[\"DCMSerDescr\"]\n",
    "        series_num = row[\"DCMSerNum\"]\n",
    "        label = row[\"ClinSig\"]\n",
    "\n",
    "        matched = False  # Flag to prevent unnecessary looping\n",
    "        for dicom_path in dicom_files:\n",
    "            dicom = pydicom.dcmread(dicom_path)\n",
    "\n",
    "            if dicom.SeriesNumber == series_num and series_desc in dicom.SeriesDescription:\n",
    "                img = dicom.pixel_array\n",
    "                img = img.astype(np.float32)\n",
    "                img = (img - np.min(img)) / (np.max(img) - np.min(img))\n",
    "                img = np.expand_dims(img, axis=-1)  # Ensure 3D format (H, W, 1)\n",
    "                img = tf.image.resize(img, img_size)\n",
    "\n",
    "                images.append(img.numpy())\n",
    "                labels.append(label)\n",
    "                matched_records += 1\n",
    "                matched = True\n",
    "                break  # Stop checking once a match is found\n",
    "\n",
    "        if not matched:\n",
    "            print(f\"No match found for SeriesNumber {series_num} and Description {series_desc}\")\n",
    "\n",
    "    print(f\"Total matched records: {matched_records}\")\n",
    "    return np.array(images), np.array(labels)"
   ]
  },
  {
   "cell_type": "code",
   "execution_count": 6,
   "metadata": {
    "colab": {
     "base_uri": "https://localhost:8080/"
    },
    "id": "J93Dt72iJAYk",
    "outputId": "1424c603-b12e-406a-f129-2932a8e1a6db"
   },
   "outputs": [
    {
     "name": "stdout",
     "output_type": "stream",
     "text": [
      "Found 92829 DICOM files.\n"
     ]
    },
    {
     "name": "stderr",
     "output_type": "stream",
     "text": [
      "\n",
      "KeyboardInterrupt\n",
      "\n"
     ]
    }
   ],
   "source": [
    "\n",
    "# Load dataset\n",
    "img_size = (128, 128)\n",
    "X, y = load_relevant_dicom_images(dicom_dir, merged_df, img_size)"
   ]
  },
  {
   "cell_type": "code",
   "execution_count": null,
   "metadata": {},
   "outputs": [],
   "source": [
    "print(f\"Number of samples in X: {len(X)}\")\n",
    "print(f\"Number of labels in y: {len(y)}\")\n"
   ]
  },
  {
   "cell_type": "code",
   "execution_count": null,
   "metadata": {
    "colab": {
     "base_uri": "https://localhost:8080/",
     "height": 891
    },
    "id": "CJu3vbMD8mfm",
    "outputId": "3239b242-1f29-447d-96c8-6bf6effe973e"
   },
   "outputs": [],
   "source": [
    "# One-hot encode labels\n",
    "y = to_categorical(y, 2)\n",
    "\n",
    "# Split into train and test sets\n",
    "X_train, X_test, y_train, y_test = train_test_split(X, y, test_size=0.2, random_state=42)\n",
    "\n",
    "# CNN Model\n",
    "def build_cnn_model(input_shape, num_classes):\n",
    "    model = keras.Sequential([\n",
    "        layers.Conv2D(32, (3,3), activation='relu', input_shape=input_shape),\n",
    "        layers.MaxPooling2D((2,2)),\n",
    "        layers.Conv2D(64, (3,3), activation='relu'),\n",
    "        layers.MaxPooling2D((2,2)),\n",
    "        layers.Conv2D(128, (3,3), activation='relu'),\n",
    "        layers.MaxPooling2D((2,2)),\n",
    "        layers.Flatten(),\n",
    "        layers.Dense(128, activation='relu'),\n",
    "        layers.Dropout(0.5),\n",
    "        layers.Dense(num_classes, activation='softmax')\n",
    "    ])\n",
    "\n",
    "    model.compile(optimizer='adam',\n",
    "                  loss='categorical_crossentropy',\n",
    "                  metrics=['accuracy'])\n",
    "    return model\n",
    "\n",
    "# Build and train CNN model\n",
    "model = build_cnn_model(input_shape=(128, 128, 1), num_classes=2)\n",
    "\n",
    "history = model.fit(X_train, y_train, epochs=20, validation_data=(X_test, y_test), batch_size=16)\n",
    "\n",
    "# Plot training history\n",
    "plt.plot(history.history['accuracy'], label='Train Accuracy')\n",
    "plt.plot(history.history['val_accuracy'], label='Validation Accuracy')\n",
    "plt.legend()\n",
    "plt.xlabel(\"Epochs\")\n",
    "plt.ylabel(\"Accuracy\")\n",
    "plt.title(\"CNN Model Performance\")\n",
    "plt.show()\n",
    "\n",
    "# Save the model\n",
    "model.save(r\"C:/Users/anude/OneDrive/Desktop/project/dicom_cnn_model.h5\")\n"
   ]
  },
  {
   "cell_type": "code",
   "execution_count": null,
   "metadata": {
    "colab": {
     "base_uri": "https://localhost:8080/"
    },
    "id": "6g3wPwRlvcgP",
    "outputId": "fcbc9184-7562-40bb-892f-ae833bd43b51"
   },
   "outputs": [],
   "source": [
    "from tensorflow.keras.models import load_model\n",
    "\n",
    "# Load the trained model\n",
    "model = load_model(r\"C:/Users/anude/OneDrive/Desktop/project/dicom_cnn_model.h5\")\n",
    "print(\"Model loaded successfully!\")"
   ]
  },
  {
   "cell_type": "code",
   "execution_count": null,
   "metadata": {
    "id": "hqn5PI5fviRT"
   },
   "outputs": [],
   "source": [
    "import pydicom\n",
    "import numpy as np\n",
    "import tensorflow as tf\n",
    "\n",
    "def preprocess_dicom(dicom_path, img_size=(128, 128)):\n",
    "    dicom = pydicom.dcmread(dicom_path)\n",
    "    img = dicom.pixel_array\n",
    "\n",
    "    # Normalize pixel values\n",
    "    img = img.astype(np.float32)\n",
    "    img = (img - np.min(img)) / (np.max(img) - np.min(img))\n",
    "\n",
    "    # Add channel dimension before resizing\n",
    "    img = np.expand_dims(img, axis=-1)\n",
    "\n",
    "    # Resize image\n",
    "    img = tf.image.resize(img, img_size).numpy()\n",
    "\n",
    "    # Expand dimensions for CNN input format (batch, height, width, channels)\n",
    "    img = np.expand_dims(img, axis=0)   # Add batch dimension\n",
    "\n",
    "    return img\n",
    "\n",
    "# Example usage with a test DICOM file\n",
    "test_dicom_path = r\"C:/Users/anude/OneDrive/Desktop/project/ProstateX-0027/10-28-2011-NA-MR prostaat kanker detectie NDmc MCAPRODETN-35489/3.000000-t2tsesag-55714/1-01.dcm\"\n",
    "test_image = preprocess_dicom(test_dicom_path)\n"
   ]
  },
  {
   "cell_type": "code",
   "execution_count": null,
   "metadata": {
    "colab": {
     "base_uri": "https://localhost:8080/"
    },
    "id": "QYz2T3-zwn9f",
    "outputId": "2b806dee-2cd0-4ce4-9452-caf0763781db"
   },
   "outputs": [],
   "source": [
    "# Make prediction\n",
    "predictions = model.predict(test_image)\n",
    "\n",
    "# Get predicted class (0 = Not Clinically Significant, 1 = Clinically Significant)\n",
    "predicted_class = np.argmax(predictions)\n",
    "\n",
    "# Print results\n",
    "print(f\"Predicted class: {predicted_class}\")\n",
    "print(f\"Prediction confidence: {predictions}\")\n"
   ]
  }
 ],
 "metadata": {
  "colab": {
   "authorship_tag": "ABX9TyN1+N4Sfd7cBdg2U8im0DTt",
   "include_colab_link": true,
   "provenance": []
  },
  "kernelspec": {
   "display_name": "Python [conda env:base] *",
   "language": "python",
   "name": "conda-base-py"
  },
  "language_info": {
   "codemirror_mode": {
    "name": "ipython",
    "version": 3
   },
   "file_extension": ".py",
   "mimetype": "text/x-python",
   "name": "python",
   "nbconvert_exporter": "python",
   "pygments_lexer": "ipython3",
   "version": "3.12.7"
  }
 },
 "nbformat": 4,
 "nbformat_minor": 4
}
