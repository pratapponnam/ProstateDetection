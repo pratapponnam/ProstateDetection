{
 "cells": [
  {
   "cell_type": "code",
   "execution_count": 1,
   "id": "6a3fd6d5-d1d4-452a-a622-ef2df851398b",
   "metadata": {},
   "outputs": [],
   "source": [
    "import os\n",
    "import pydicom\n",
    "import SimpleITK as sitk\n",
    "import pandas as pd\n",
    "import numpy as np\n",
    "from tqdm import tqdm"
   ]
  },
  {
   "cell_type": "markdown",
   "id": "53e8d991-a42b-4b0a-af33-15bd42feac17",
   "metadata": {},
   "source": [
    "Set up paths for loading DICOM images, Ktrans volumes, and findings metadata from the ProstateX dataset"
   ]
  },
  {
   "cell_type": "code",
   "execution_count": 3,
   "id": "53647636-a045-447e-954d-52bb6e53b212",
   "metadata": {},
   "outputs": [],
   "source": [
    "\n",
    "DICOM_ROOT = r\"C:\\Users\\anude\\Downloads\\project\"\n",
    "KTRANS_DIR = r\"C:\\Users\\anude\\Downloads\\ProstateXKtrains-train-fixed\"\n",
    "FINDINGS_CSV = r\"C:\\Users\\anude\\Downloads\\project\\ProstateX-Findings-Train.csv\"\n",
    "OUTPUT_DIR = r\"C:\\Users\\anude\\Downloads\\processed_data\"\n",
    "os.makedirs(OUTPUT_DIR, exist_ok=True)\n",
    "\n",
    "findings_df = pd.read_csv(FINDINGS_CSV)\n",
    "\n",
    "findings_df['ProxID'] = findings_df['ProxID'].astype(str)\n",
    "\n",
    "# Keywords for modality matching\n",
    "modality_keywords = {\n",
    "    \"T2\": [\"t2\", \"t2w\"],\n",
    "    \"ADC\": [\"adc\"],\n",
    "    \"DWI\": [\"dwi\", \"diffusion\", \"ep2d_diff\", \"ep2d\"]\n",
    "}\n"
   ]
  },
  {
   "cell_type": "code",
   "execution_count": 4,
   "id": "f3912d60-02d3-4fff-9254-5539ec7c54a4",
   "metadata": {},
   "outputs": [],
   "source": [
    "\n",
    "# --- Functions ---\n",
    "def match_series_description(description, keywords):\n",
    "    \"\"\"\n",
    "    Checks if any keyword is present in the series description.\n",
    "    \"\"\"\n",
    "    description = description.lower()\n",
    "    return any(kw in description for kw in keywords)\n",
    "\n",
    "def find_series_by_modality(patient_folder, keywords):\n",
    "    \"\"\"\n",
    "    Walks through the patient folder to find a DICOM series matching specified keywords in SeriesDescription.\n",
    "    Returns the series as a SimpleITK image.\n",
    "    \"\"\"\n",
    "    for root, dirs, files in os.walk(patient_folder):\n",
    "        dcm_files = [f for f in files if f.endswith('.dcm')]\n",
    "        if not dcm_files:\n",
    "            continue\n",
    "        try:\n",
    "            sample_dcm = pydicom.dcmread(os.path.join(root, dcm_files[0]), stop_before_pixels=True)\n",
    "            if hasattr(sample_dcm, 'SeriesDescription'):\n",
    "                if match_series_description(sample_dcm.SeriesDescription, keywords):\n",
    "                    # Load full series as SimpleITK image\n",
    "                    series_paths = [os.path.join(root, f) for f in dcm_files]\n",
    "                    reader = sitk.ImageSeriesReader()\n",
    "                    reader.SetFileNames(series_paths)\n",
    "                    return reader.Execute()\n",
    "        except Exception:\n",
    "            continue\n",
    "    return None\n",
    "\n",
    "def load_ktrans_volume(ktrans_dir, proxid):\n",
    "    \"\"\"\n",
    "    Loads the Ktrans .mhd image for a given ProxID.\n",
    "    \"\"\"\n",
    "    for root, dirs, files in os.walk(ktrans_dir):\n",
    "        for file in files:\n",
    "            if file.endswith(\".mhd\") and proxid in file:\n",
    "                return sitk.ReadImage(os.path.join(root, file))\n",
    "    return None\n",
    "\n",
    "\n",
    "def normalize(vol):\n",
    "    \"\"\"\n",
    "    Normalizes a SimpleITK volume to the range [0, 1].\n",
    "    \"\"\"\n",
    "    arr = sitk.GetArrayFromImage(vol).astype(np.float32)\n",
    "    return (arr - arr.min()) / (arr.max() - arr.min() + 1e-5)"
   ]
  },
  {
   "cell_type": "markdown",
   "id": "9cbdcd8e-9dae-4632-b823-3a08f08af936",
   "metadata": {},
   "source": [
    "<h2> Data Preprocessing: </h2>\n",
    "Processes each patient in the ProstateX dataset by loading T2, ADC, and Ktrans images.Then, normalising and stacking them into a single 3D array. Later, the result is saved as a .npy file for each patient."
   ]
  },
  {
   "cell_type": "code",
   "execution_count": 11,
   "id": "7d82ef78-38f3-463f-b92d-d45cbf4239a7",
   "metadata": {},
   "outputs": [
    {
     "name": "stderr",
     "output_type": "stream",
     "text": [
      "100%|██████████| 204/204 [00:54<00:00,  3.75it/s]"
     ]
    },
    {
     "name": "stdout",
     "output_type": "stream",
     "text": [
      "\n",
      " Finished. Processed 204 patient volumes.\n"
     ]
    },
    {
     "name": "stderr",
     "output_type": "stream",
     "text": [
      "\n"
     ]
    }
   ],
   "source": [
    "# --- Data Preprocessing ---\n",
    "processed = 0\n",
    "for proxid in tqdm(findings_df['ProxID'].unique()):\n",
    "    patient_folder = os.path.join(DICOM_ROOT, proxid)\n",
    "    if not os.path.isdir(patient_folder):\n",
    "        print(f\"[SKIP] Folder not found: ProstateX-{proxid}\")\n",
    "        continue\n",
    "\n",
    "    try:\n",
    "        t2 = find_series_by_modality(patient_folder, modality_keywords[\"T2\"])\n",
    "        adc = find_series_by_modality(patient_folder, modality_keywords[\"ADC\"])\n",
    "        ktrans = load_ktrans_volume(KTRANS_DIR, proxid)\n",
    "\n",
    "        if None in [t2, adc, ktrans]:\n",
    "            print(f\"[WARN] Missing one or more modalities for {proxid}\")\n",
    "            continue\n",
    "\n",
    "        # Resample adc and ktrans to match t2\n",
    "        resampler = sitk.ResampleImageFilter()\n",
    "        resampler.SetReferenceImage(t2)\n",
    "        adc = resampler.Execute(adc)\n",
    "        ktrans = resampler.Execute(ktrans)\n",
    "\n",
    "        t2_arr = normalize(t2)\n",
    "        adc_arr = normalize(adc)\n",
    "        ktrans_arr = normalize(ktrans)\n",
    "\n",
    "        stacked = np.stack([t2_arr, adc_arr, ktrans_arr], axis=0)  # [C, D, H, W]\n",
    "        np.save(os.path.join(OUTPUT_DIR, f\"{proxid}.npy\"), stacked)\n",
    "        processed += 1\n",
    "\n",
    "    except Exception as e:\n",
    "        print(f\"[ERROR] {proxid}: {e}\")\n",
    "\n",
    "print(f\"\\n Finished. Processed {processed} patient volumes.\")\n"
   ]
  }
 ],
 "metadata": {
  "kernelspec": {
   "display_name": "Python [conda env:base] *",
   "language": "python",
   "name": "conda-base-py"
  },
  "language_info": {
   "codemirror_mode": {
    "name": "ipython",
    "version": 3
   },
   "file_extension": ".py",
   "mimetype": "text/x-python",
   "name": "python",
   "nbconvert_exporter": "python",
   "pygments_lexer": "ipython3",
   "version": "3.12.7"
  }
 },
 "nbformat": 4,
 "nbformat_minor": 5
}
