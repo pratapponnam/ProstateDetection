{
 "cells": [
  {
   "cell_type": "code",
   "execution_count": 2,
   "id": "d1c8d266-3552-4447-864e-e9bfd4446eef",
   "metadata": {},
   "outputs": [],
   "source": [
    "import os\n",
    "import glob\n",
    "import numpy as np\n",
    "import pandas as pd\n",
    "import torch\n",
    "import SimpleITK as sitk\n",
    "from tqdm import tqdm\n",
    "from monai.networks.nets import BasicUNet\n",
    "from monai.losses import DiceCELoss\n",
    "from monai.data import Dataset, DataLoader\n",
    "from monai.transforms import (\n",
    "    Compose, EnsureChannelFirstd, ScaleIntensityd, ToTensord, ResizeWithPadOrCropd\n",
    ")\n",
    "from torch.nn.functional import one_hot\n",
    "from torch.optim import Adam\n",
    "\n",
    "# ==== USER PATHS ====\n",
    "KTRANS_DIR = r\"C:\\Users\\anude\\Downloads\\ProstateXKtrains-train-fixed\"\n",
    "DICOM_ROOT = r\"C:\\Users\\anude\\Downloads\\project\"\n",
    "FINDINGS_CSV = r\"C:\\Users\\anude\\Downloads\\project\\ProstateX-Findings-Train100.csv\"\n",
    "IMAGES_CSV = r\"C:\\Users\\anude\\Downloads\\project\\ProstateX-Images-Train100.csv\"\n"
   ]
  },
  {
   "cell_type": "code",
   "execution_count": 3,
   "id": "dce44798-6727-45fa-811b-0dcea5be47fd",
   "metadata": {},
   "outputs": [
    {
     "name": "stdout",
     "output_type": "stream",
     "text": [
      "Loading metadata CSVs...\n",
      "Metadata loaded and merged.\n"
     ]
    }
   ],
   "source": [
    "# ==== READ CSVs ====\n",
    "print(\"Loading metadata CSVs...\")\n",
    "findings_df = pd.read_csv(FINDINGS_CSV)\n",
    "images_df = pd.read_csv(IMAGES_CSV)\n",
    "meta_df = pd.merge(images_df, findings_df, on=[\"ProxID\", \"fid\"])\n",
    "print(\"Metadata loaded and merged.\")\n"
   ]
  },
  {
   "cell_type": "code",
   "execution_count": 4,
   "id": "f7eed86a-0875-49f7-a3a2-24db0beb8a92",
   "metadata": {},
   "outputs": [],
   "source": [
    "# ==== UTILS ====\n",
    "def load_dicom_volume(proxid, series_description=\"ADC\"):\n",
    "    patient_dir = os.path.join(DICOM_ROOT, proxid)\n",
    "    found_dicom_files = []\n",
    "    for root, dirs, files in os.walk(patient_dir):\n",
    "        if series_description.lower() in root.lower():\n",
    "            dicom_files = sorted(glob.glob(os.path.join(root, \"*.dcm\")))\n",
    "            if dicom_files:\n",
    "                found_dicom_files = dicom_files\n",
    "                break\n",
    "    if not found_dicom_files:\n",
    "        raise RuntimeError(f\"No DICOM series found for {proxid} matching '{series_description}'\")\n",
    "    reader = sitk.ImageSeriesReader()\n",
    "    reader.SetFileNames(found_dicom_files)\n",
    "    return reader.Execute()\n",
    "\n",
    "def load_ktrans(proxid):\n",
    "    ktrans_path = os.path.join(KTRANS_DIR, proxid, f\"{proxid}-Ktrans.mhd\")\n",
    "    if not os.path.exists(ktrans_path):\n",
    "        raise FileNotFoundError(f\"Ktrans not found at {ktrans_path}\")\n",
    "    return sitk.ReadImage(ktrans_path)\n",
    "\n",
    "def generate_label_mask(image, ijk_list):\n",
    "    label = np.zeros(sitk.GetArrayFromImage(image).shape, dtype=np.uint8)\n",
    "    for i, j, k in ijk_list:\n",
    "        try:\n",
    "            label[int(k), int(j), int(i)] = 1\n",
    "        except:\n",
    "            continue\n",
    "    label_image = sitk.GetImageFromArray(label)\n",
    "    label_image.CopyInformation(image)\n",
    "    return label_image\n",
    "\n",
    "def parse_ijk(ijk_str):\n",
    "    try:\n",
    "        parts = ijk_str.strip().replace(\",\", \" \").split()\n",
    "        if len(parts) != 3:\n",
    "            raise ValueError(\"Invalid IJK format\")\n",
    "        i, j, k = map(int, parts)\n",
    "        return i, j, k\n",
    "    except Exception as e:\n",
    "        print(f\"\\u26a0\\ufe0f  Skipping bad ijk string: {ijk_str} — Reason: {e}\")\n",
    "        return None\n"
   ]
  },
  {
   "cell_type": "code",
   "execution_count": 5,
   "id": "7e7eccb1-0c0b-40a8-a9bb-385f6985fbd4",
   "metadata": {},
   "outputs": [],
   "source": [
    "\n",
    "# ==== CREATE OUTPUT FOLDERS ====\n",
    "os.makedirs(\"images\", exist_ok=True)\n",
    "os.makedirs(\"labels\", exist_ok=True)"
   ]
  },
  {
   "cell_type": "code",
   "execution_count": 6,
   "id": "563f2372-fcb1-4620-a42b-4447afd49b88",
   "metadata": {},
   "outputs": [
    {
     "name": "stdout",
     "output_type": "stream",
     "text": [
      "\n",
      "📦 Building dataset...\n",
      "\n"
     ]
    },
    {
     "name": "stderr",
     "output_type": "stream",
     "text": [
      "  0%|          | 0/101 [00:00<?, ?it/s]"
     ]
    },
    {
     "name": "stdout",
     "output_type": "stream",
     "text": [
      "\n",
      "🔍 Processing: ProstateX-0000\n"
     ]
    },
    {
     "name": "stderr",
     "output_type": "stream",
     "text": [
      "  1%|          | 1/101 [00:00<00:29,  3.39it/s]"
     ]
    },
    {
     "name": "stdout",
     "output_type": "stream",
     "text": [
      "✅ ADC loaded\n",
      "✅ Ktrans loaded and resampled\n",
      "✅ Lesions found: 9\n",
      "✅ Added ProstateX-0000 to training set.\n",
      "\n",
      "🔍 Processing: ProstateX-0001\n"
     ]
    },
    {
     "name": "stderr",
     "output_type": "stream",
     "text": [
      "  2%|▏         | 2/101 [00:00<00:29,  3.41it/s]"
     ]
    },
    {
     "name": "stdout",
     "output_type": "stream",
     "text": [
      "✅ ADC loaded\n",
      "✅ Ktrans loaded and resampled\n",
      "✅ Lesions found: 13\n",
      "✅ Added ProstateX-0001 to training set.\n",
      "\n",
      "🔍 Processing: ProstateX-0002\n"
     ]
    },
    {
     "name": "stderr",
     "output_type": "stream",
     "text": [
      "  3%|▎         | 3/101 [00:00<00:28,  3.42it/s]"
     ]
    },
    {
     "name": "stdout",
     "output_type": "stream",
     "text": [
      "✅ ADC loaded\n",
      "✅ Ktrans loaded and resampled\n",
      "✅ Lesions found: 22\n",
      "✅ Added ProstateX-0002 to training set.\n",
      "\n",
      "🔍 Processing: ProstateX-0003\n"
     ]
    },
    {
     "name": "stderr",
     "output_type": "stream",
     "text": [
      "  4%|▍         | 4/101 [00:01<00:28,  3.41it/s]"
     ]
    },
    {
     "name": "stdout",
     "output_type": "stream",
     "text": [
      "✅ ADC loaded\n",
      "✅ Ktrans loaded and resampled\n",
      "✅ Lesions found: 20\n",
      "✅ Added ProstateX-0003 to training set.\n",
      "\n",
      "🔍 Processing: ProstateX-0004\n"
     ]
    },
    {
     "name": "stderr",
     "output_type": "stream",
     "text": [
      "  5%|▍         | 5/101 [00:01<00:26,  3.65it/s]"
     ]
    },
    {
     "name": "stdout",
     "output_type": "stream",
     "text": [
      "✅ ADC loaded\n",
      "✅ Ktrans loaded and resampled\n",
      "✅ Lesions found: 9\n",
      "✅ Added ProstateX-0004 to training set.\n",
      "\n",
      "🔍 Processing: ProstateX-0005\n",
      "✅ ADC loaded\n"
     ]
    },
    {
     "name": "stderr",
     "output_type": "stream",
     "text": [
      "  6%|▌         | 6/101 [00:01<00:24,  3.92it/s]"
     ]
    },
    {
     "name": "stdout",
     "output_type": "stream",
     "text": [
      "✅ Ktrans loaded and resampled\n",
      "✅ Lesions found: 45\n",
      "✅ Added ProstateX-0005 to training set.\n",
      "\n",
      "🔍 Processing: ProstateX-0006\n",
      "✅ ADC loaded\n"
     ]
    },
    {
     "name": "stderr",
     "output_type": "stream",
     "text": [
      "  7%|▋         | 7/101 [00:01<00:22,  4.10it/s]"
     ]
    },
    {
     "name": "stdout",
     "output_type": "stream",
     "text": [
      "✅ Ktrans loaded and resampled\n",
      "✅ Lesions found: 22\n",
      "✅ Added ProstateX-0006 to training set.\n",
      "\n",
      "🔍 Processing: ProstateX-0007\n",
      "✅ ADC loaded\n"
     ]
    },
    {
     "name": "stderr",
     "output_type": "stream",
     "text": [
      "  8%|▊         | 8/101 [00:02<00:22,  4.16it/s]"
     ]
    },
    {
     "name": "stdout",
     "output_type": "stream",
     "text": [
      "✅ Ktrans loaded and resampled\n",
      "✅ Lesions found: 12\n",
      "✅ Added ProstateX-0007 to training set.\n",
      "\n",
      "🔍 Processing: ProstateX-0008\n"
     ]
    },
    {
     "name": "stderr",
     "output_type": "stream",
     "text": [
      "  9%|▉         | 9/101 [00:02<00:23,  3.83it/s]"
     ]
    },
    {
     "name": "stdout",
     "output_type": "stream",
     "text": [
      "✅ ADC loaded\n",
      "✅ Ktrans loaded and resampled\n",
      "✅ Lesions found: 12\n",
      "✅ Added ProstateX-0008 to training set.\n",
      "\n",
      "🔍 Processing: ProstateX-0009\n"
     ]
    },
    {
     "name": "stderr",
     "output_type": "stream",
     "text": [
      " 10%|▉         | 10/101 [00:02<00:23,  3.90it/s]"
     ]
    },
    {
     "name": "stdout",
     "output_type": "stream",
     "text": [
      "✅ ADC loaded\n",
      "✅ Ktrans loaded and resampled\n",
      "✅ Lesions found: 11\n",
      "✅ Added ProstateX-0009 to training set.\n",
      "\n",
      "🔍 Processing: ProstateX-0010\n"
     ]
    },
    {
     "name": "stderr",
     "output_type": "stream",
     "text": [
      " 11%|█         | 11/101 [00:02<00:22,  3.96it/s]"
     ]
    },
    {
     "name": "stdout",
     "output_type": "stream",
     "text": [
      "✅ ADC loaded\n",
      "✅ Ktrans loaded and resampled\n",
      "✅ Lesions found: 12\n",
      "✅ Added ProstateX-0010 to training set.\n",
      "\n",
      "🔍 Processing: ProstateX-0011\n"
     ]
    },
    {
     "name": "stderr",
     "output_type": "stream",
     "text": [
      " 12%|█▏        | 12/101 [00:03<00:22,  3.94it/s]"
     ]
    },
    {
     "name": "stdout",
     "output_type": "stream",
     "text": [
      "✅ ADC loaded\n",
      "✅ Ktrans loaded and resampled\n",
      "✅ Lesions found: 10\n",
      "✅ Added ProstateX-0011 to training set.\n",
      "\n",
      "🔍 Processing: ProstateX-0012\n"
     ]
    },
    {
     "name": "stderr",
     "output_type": "stream",
     "text": [
      " 13%|█▎        | 13/101 [00:03<00:22,  3.83it/s]"
     ]
    },
    {
     "name": "stdout",
     "output_type": "stream",
     "text": [
      "✅ ADC loaded\n",
      "✅ Ktrans loaded and resampled\n",
      "✅ Lesions found: 24\n",
      "✅ Added ProstateX-0012 to training set.\n",
      "\n",
      "🔍 Processing: ProstateX-0013\n"
     ]
    },
    {
     "name": "stderr",
     "output_type": "stream",
     "text": [
      " 14%|█▍        | 14/101 [00:03<00:23,  3.73it/s]"
     ]
    },
    {
     "name": "stdout",
     "output_type": "stream",
     "text": [
      "✅ ADC loaded\n",
      "✅ Ktrans loaded and resampled\n",
      "✅ Lesions found: 11\n",
      "✅ Added ProstateX-0013 to training set.\n",
      "\n",
      "🔍 Processing: ProstateX-0014\n"
     ]
    },
    {
     "name": "stderr",
     "output_type": "stream",
     "text": [
      " 15%|█▍        | 15/101 [00:03<00:23,  3.65it/s]"
     ]
    },
    {
     "name": "stdout",
     "output_type": "stream",
     "text": [
      "✅ ADC loaded\n",
      "✅ Ktrans loaded and resampled\n",
      "✅ Lesions found: 9\n",
      "✅ Added ProstateX-0014 to training set.\n",
      "\n",
      "🔍 Processing: ProstateX-0015\n"
     ]
    },
    {
     "name": "stderr",
     "output_type": "stream",
     "text": [
      " 16%|█▌        | 16/101 [00:04<00:23,  3.69it/s]"
     ]
    },
    {
     "name": "stdout",
     "output_type": "stream",
     "text": [
      "✅ ADC loaded\n",
      "✅ Ktrans loaded and resampled\n",
      "✅ Lesions found: 9\n",
      "✅ Added ProstateX-0015 to training set.\n",
      "\n",
      "🔍 Processing: ProstateX-0016\n"
     ]
    },
    {
     "name": "stderr",
     "output_type": "stream",
     "text": [
      " 17%|█▋        | 17/101 [00:04<00:22,  3.72it/s]"
     ]
    },
    {
     "name": "stdout",
     "output_type": "stream",
     "text": [
      "✅ ADC loaded\n",
      "✅ Ktrans loaded and resampled\n",
      "✅ Lesions found: 11\n",
      "✅ Added ProstateX-0016 to training set.\n",
      "\n",
      "🔍 Processing: ProstateX-0017\n"
     ]
    },
    {
     "name": "stderr",
     "output_type": "stream",
     "text": [
      " 18%|█▊        | 18/101 [00:04<00:22,  3.67it/s]"
     ]
    },
    {
     "name": "stdout",
     "output_type": "stream",
     "text": [
      "✅ ADC loaded\n",
      "✅ Ktrans loaded and resampled\n",
      "✅ Lesions found: 11\n",
      "✅ Added ProstateX-0017 to training set.\n",
      "\n",
      "🔍 Processing: ProstateX-0018\n"
     ]
    },
    {
     "name": "stderr",
     "output_type": "stream",
     "text": [
      " 19%|█▉        | 19/101 [00:05<00:21,  3.85it/s]"
     ]
    },
    {
     "name": "stdout",
     "output_type": "stream",
     "text": [
      "✅ ADC loaded\n",
      "✅ Ktrans loaded and resampled\n",
      "✅ Lesions found: 11\n",
      "✅ Added ProstateX-0018 to training set.\n",
      "\n",
      "🔍 Processing: ProstateX-0019\n"
     ]
    },
    {
     "name": "stderr",
     "output_type": "stream",
     "text": [
      " 20%|█▉        | 20/101 [00:05<00:20,  3.89it/s]"
     ]
    },
    {
     "name": "stdout",
     "output_type": "stream",
     "text": [
      "✅ ADC loaded\n",
      "✅ Ktrans loaded and resampled\n",
      "✅ Lesions found: 12\n",
      "✅ Added ProstateX-0019 to training set.\n",
      "\n",
      "🔍 Processing: ProstateX-0020\n"
     ]
    },
    {
     "name": "stderr",
     "output_type": "stream",
     "text": [
      " 21%|██        | 21/101 [00:05<00:21,  3.81it/s]"
     ]
    },
    {
     "name": "stdout",
     "output_type": "stream",
     "text": [
      "✅ ADC loaded\n",
      "✅ Ktrans loaded and resampled\n",
      "✅ Lesions found: 9\n",
      "✅ Added ProstateX-0020 to training set.\n",
      "\n",
      "🔍 Processing: ProstateX-0021\n"
     ]
    },
    {
     "name": "stderr",
     "output_type": "stream",
     "text": [
      " 22%|██▏       | 22/101 [00:05<00:20,  3.78it/s]"
     ]
    },
    {
     "name": "stdout",
     "output_type": "stream",
     "text": [
      "✅ ADC loaded\n",
      "✅ Ktrans loaded and resampled\n",
      "✅ Lesions found: 20\n",
      "✅ Added ProstateX-0021 to training set.\n",
      "\n",
      "🔍 Processing: ProstateX-0022\n"
     ]
    },
    {
     "name": "stderr",
     "output_type": "stream",
     "text": [
      " 23%|██▎       | 23/101 [00:06<00:20,  3.78it/s]"
     ]
    },
    {
     "name": "stdout",
     "output_type": "stream",
     "text": [
      "✅ ADC loaded\n",
      "✅ Ktrans loaded and resampled\n",
      "✅ Lesions found: 10\n",
      "✅ Added ProstateX-0022 to training set.\n",
      "\n",
      "🔍 Processing: ProstateX-0023\n"
     ]
    },
    {
     "name": "stderr",
     "output_type": "stream",
     "text": [
      " 24%|██▍       | 24/101 [00:06<00:20,  3.71it/s]"
     ]
    },
    {
     "name": "stdout",
     "output_type": "stream",
     "text": [
      "✅ ADC loaded\n",
      "✅ Ktrans loaded and resampled\n",
      "✅ Lesions found: 22\n",
      "✅ Added ProstateX-0023 to training set.\n",
      "\n",
      "🔍 Processing: ProstateX-0024\n"
     ]
    },
    {
     "name": "stderr",
     "output_type": "stream",
     "text": [
      " 25%|██▍       | 25/101 [00:06<00:20,  3.66it/s]"
     ]
    },
    {
     "name": "stdout",
     "output_type": "stream",
     "text": [
      "✅ ADC loaded\n",
      "✅ Ktrans loaded and resampled\n",
      "✅ Lesions found: 11\n",
      "✅ Added ProstateX-0024 to training set.\n",
      "\n",
      "🔍 Processing: ProstateX-0025\n"
     ]
    },
    {
     "name": "stderr",
     "output_type": "stream",
     "text": [
      " 26%|██▌       | 26/101 [00:06<00:20,  3.69it/s]"
     ]
    },
    {
     "name": "stdout",
     "output_type": "stream",
     "text": [
      "✅ ADC loaded\n",
      "✅ Ktrans loaded and resampled\n",
      "✅ Lesions found: 126\n",
      "✅ Added ProstateX-0025 to training set.\n",
      "\n",
      "🔍 Processing: ProstateX-0026\n"
     ]
    },
    {
     "name": "stderr",
     "output_type": "stream",
     "text": [
      " 27%|██▋       | 27/101 [00:07<00:19,  3.84it/s]"
     ]
    },
    {
     "name": "stdout",
     "output_type": "stream",
     "text": [
      "✅ ADC loaded\n",
      "✅ Ktrans loaded and resampled\n",
      "✅ Lesions found: 9\n",
      "✅ Added ProstateX-0026 to training set.\n",
      "\n",
      "🔍 Processing: ProstateX-0027\n"
     ]
    },
    {
     "name": "stderr",
     "output_type": "stream",
     "text": [
      " 28%|██▊       | 28/101 [00:07<00:19,  3.84it/s]"
     ]
    },
    {
     "name": "stdout",
     "output_type": "stream",
     "text": [
      "✅ ADC loaded\n",
      "✅ Ktrans loaded and resampled\n",
      "✅ Lesions found: 9\n",
      "✅ Added ProstateX-0027 to training set.\n",
      "\n",
      "🔍 Processing: ProstateX-0028\n"
     ]
    },
    {
     "name": "stderr",
     "output_type": "stream",
     "text": [
      " 29%|██▊       | 29/101 [00:07<00:18,  3.85it/s]"
     ]
    },
    {
     "name": "stdout",
     "output_type": "stream",
     "text": [
      "✅ ADC loaded\n",
      "✅ Ktrans loaded and resampled\n",
      "✅ Lesions found: 18\n",
      "✅ Added ProstateX-0028 to training set.\n",
      "\n",
      "🔍 Processing: ProstateX-0029\n"
     ]
    },
    {
     "name": "stderr",
     "output_type": "stream",
     "text": [
      " 30%|██▉       | 30/101 [00:07<00:18,  3.75it/s]"
     ]
    },
    {
     "name": "stdout",
     "output_type": "stream",
     "text": [
      "✅ ADC loaded\n",
      "✅ Ktrans loaded and resampled\n",
      "✅ Lesions found: 9\n",
      "✅ Added ProstateX-0029 to training set.\n",
      "\n",
      "🔍 Processing: ProstateX-0030\n"
     ]
    },
    {
     "name": "stderr",
     "output_type": "stream",
     "text": [
      " 31%|███       | 31/101 [00:08<00:18,  3.79it/s]"
     ]
    },
    {
     "name": "stdout",
     "output_type": "stream",
     "text": [
      "✅ ADC loaded\n",
      "✅ Ktrans loaded and resampled\n",
      "✅ Lesions found: 9\n",
      "✅ Added ProstateX-0030 to training set.\n",
      "\n",
      "🔍 Processing: ProstateX-0031\n"
     ]
    },
    {
     "name": "stderr",
     "output_type": "stream",
     "text": [
      " 32%|███▏      | 32/101 [00:08<00:18,  3.72it/s]"
     ]
    },
    {
     "name": "stdout",
     "output_type": "stream",
     "text": [
      "✅ ADC loaded\n",
      "✅ Ktrans loaded and resampled\n",
      "✅ Lesions found: 34\n",
      "✅ Added ProstateX-0031 to training set.\n",
      "\n",
      "🔍 Processing: ProstateX-0032\n"
     ]
    },
    {
     "name": "stderr",
     "output_type": "stream",
     "text": [
      " 33%|███▎      | 33/101 [00:08<00:17,  3.79it/s]"
     ]
    },
    {
     "name": "stdout",
     "output_type": "stream",
     "text": [
      "✅ ADC loaded\n",
      "✅ Ktrans loaded and resampled\n",
      "✅ Lesions found: 10\n",
      "✅ Added ProstateX-0032 to training set.\n",
      "\n",
      "🔍 Processing: ProstateX-0033\n",
      "✅ ADC loaded\n"
     ]
    },
    {
     "name": "stderr",
     "output_type": "stream",
     "text": [
      " 34%|███▎      | 34/101 [00:08<00:16,  4.01it/s]"
     ]
    },
    {
     "name": "stdout",
     "output_type": "stream",
     "text": [
      "✅ Ktrans loaded and resampled\n",
      "✅ Lesions found: 18\n",
      "✅ Added ProstateX-0033 to training set.\n",
      "\n",
      "🔍 Processing: ProstateX-0034\n"
     ]
    },
    {
     "name": "stderr",
     "output_type": "stream",
     "text": [
      " 35%|███▍      | 35/101 [00:09<00:16,  3.95it/s]"
     ]
    },
    {
     "name": "stdout",
     "output_type": "stream",
     "text": [
      "✅ ADC loaded\n",
      "✅ Ktrans loaded and resampled\n",
      "✅ Lesions found: 12\n",
      "✅ Added ProstateX-0034 to training set.\n",
      "\n",
      "🔍 Processing: ProstateX-0035\n"
     ]
    },
    {
     "name": "stderr",
     "output_type": "stream",
     "text": [
      " 36%|███▌      | 36/101 [00:09<00:16,  4.03it/s]"
     ]
    },
    {
     "name": "stdout",
     "output_type": "stream",
     "text": [
      "✅ ADC loaded\n",
      "✅ Ktrans loaded and resampled\n",
      "✅ Lesions found: 20\n",
      "✅ Added ProstateX-0035 to training set.\n",
      "\n",
      "🔍 Processing: ProstateX-0036\n"
     ]
    },
    {
     "name": "stderr",
     "output_type": "stream",
     "text": [
      " 37%|███▋      | 37/101 [00:09<00:15,  4.12it/s]"
     ]
    },
    {
     "name": "stdout",
     "output_type": "stream",
     "text": [
      "✅ ADC loaded\n",
      "✅ Ktrans loaded and resampled\n",
      "✅ Lesions found: 9\n",
      "✅ Added ProstateX-0036 to training set.\n",
      "\n",
      "🔍 Processing: ProstateX-0037\n"
     ]
    },
    {
     "name": "stderr",
     "output_type": "stream",
     "text": [
      " 38%|███▊      | 38/101 [00:09<00:14,  4.23it/s]"
     ]
    },
    {
     "name": "stdout",
     "output_type": "stream",
     "text": [
      "✅ ADC loaded\n",
      "✅ Ktrans loaded and resampled\n",
      "✅ Lesions found: 18\n",
      "✅ Added ProstateX-0037 to training set.\n",
      "\n",
      "🔍 Processing: ProstateX-0038\n"
     ]
    },
    {
     "name": "stderr",
     "output_type": "stream",
     "text": [
      " 39%|███▊      | 39/101 [00:10<00:14,  4.25it/s]"
     ]
    },
    {
     "name": "stdout",
     "output_type": "stream",
     "text": [
      "✅ ADC loaded\n",
      "✅ Ktrans loaded and resampled\n",
      "✅ Lesions found: 33\n",
      "✅ Added ProstateX-0038 to training set.\n",
      "\n",
      "🔍 Processing: ProstateX-0039\n"
     ]
    },
    {
     "name": "stderr",
     "output_type": "stream",
     "text": [
      " 40%|███▉      | 40/101 [00:10<00:14,  4.13it/s]"
     ]
    },
    {
     "name": "stdout",
     "output_type": "stream",
     "text": [
      "✅ ADC loaded\n",
      "✅ Ktrans loaded and resampled\n",
      "✅ Lesions found: 11\n",
      "✅ Added ProstateX-0039 to training set.\n",
      "\n",
      "🔍 Processing: ProstateX-0040\n"
     ]
    },
    {
     "name": "stderr",
     "output_type": "stream",
     "text": [
      " 41%|████      | 41/101 [00:10<00:14,  4.20it/s]"
     ]
    },
    {
     "name": "stdout",
     "output_type": "stream",
     "text": [
      "✅ ADC loaded\n",
      "✅ Ktrans loaded and resampled\n",
      "✅ Lesions found: 27\n",
      "✅ Added ProstateX-0040 to training set.\n",
      "\n",
      "🔍 Processing: ProstateX-0041\n"
     ]
    },
    {
     "name": "stderr",
     "output_type": "stream",
     "text": [
      " 42%|████▏     | 42/101 [00:10<00:13,  4.28it/s]"
     ]
    },
    {
     "name": "stdout",
     "output_type": "stream",
     "text": [
      "✅ ADC loaded\n",
      "✅ Ktrans loaded and resampled\n",
      "✅ Lesions found: 9\n",
      "✅ Added ProstateX-0041 to training set.\n",
      "\n",
      "🔍 Processing: ProstateX-0042\n"
     ]
    },
    {
     "name": "stderr",
     "output_type": "stream",
     "text": [
      " 43%|████▎     | 43/101 [00:11<00:14,  4.10it/s]"
     ]
    },
    {
     "name": "stdout",
     "output_type": "stream",
     "text": [
      "✅ ADC loaded\n",
      "✅ Ktrans loaded and resampled\n",
      "✅ Lesions found: 10\n",
      "✅ Added ProstateX-0042 to training set.\n",
      "\n",
      "🔍 Processing: ProstateX-0043\n"
     ]
    },
    {
     "name": "stderr",
     "output_type": "stream",
     "text": [
      " 44%|████▎     | 44/101 [00:11<00:13,  4.23it/s]"
     ]
    },
    {
     "name": "stdout",
     "output_type": "stream",
     "text": [
      "✅ ADC loaded\n",
      "✅ Ktrans loaded and resampled\n",
      "✅ Lesions found: 9\n",
      "✅ Added ProstateX-0043 to training set.\n",
      "\n",
      "🔍 Processing: ProstateX-0044\n"
     ]
    },
    {
     "name": "stderr",
     "output_type": "stream",
     "text": [
      " 45%|████▍     | 45/101 [00:11<00:12,  4.42it/s]"
     ]
    },
    {
     "name": "stdout",
     "output_type": "stream",
     "text": [
      "✅ ADC loaded\n",
      "✅ Ktrans loaded and resampled\n",
      "✅ Lesions found: 9\n",
      "✅ Added ProstateX-0044 to training set.\n",
      "\n",
      "🔍 Processing: ProstateX-0045\n"
     ]
    },
    {
     "name": "stderr",
     "output_type": "stream",
     "text": [
      " 46%|████▌     | 46/101 [00:11<00:12,  4.36it/s]"
     ]
    },
    {
     "name": "stdout",
     "output_type": "stream",
     "text": [
      "✅ ADC loaded\n",
      "✅ Ktrans loaded and resampled\n",
      "✅ Lesions found: 11\n",
      "✅ Added ProstateX-0045 to training set.\n",
      "\n",
      "🔍 Processing: ProstateX-0046\n"
     ]
    },
    {
     "name": "stderr",
     "output_type": "stream",
     "text": [
      " 47%|████▋     | 47/101 [00:11<00:12,  4.43it/s]"
     ]
    },
    {
     "name": "stdout",
     "output_type": "stream",
     "text": [
      "✅ ADC loaded\n",
      "✅ Ktrans loaded and resampled\n",
      "✅ Lesions found: 22\n",
      "✅ Added ProstateX-0046 to training set.\n",
      "\n",
      "🔍 Processing: ProstateX-0047\n"
     ]
    },
    {
     "name": "stderr",
     "output_type": "stream",
     "text": [
      " 48%|████▊     | 48/101 [00:12<00:11,  4.53it/s]"
     ]
    },
    {
     "name": "stdout",
     "output_type": "stream",
     "text": [
      "✅ ADC loaded\n",
      "✅ Ktrans loaded and resampled\n",
      "✅ Lesions found: 11\n",
      "✅ Added ProstateX-0047 to training set.\n",
      "\n",
      "🔍 Processing: ProstateX-0048\n"
     ]
    },
    {
     "name": "stderr",
     "output_type": "stream",
     "text": [
      " 49%|████▊     | 49/101 [00:12<00:11,  4.49it/s]"
     ]
    },
    {
     "name": "stdout",
     "output_type": "stream",
     "text": [
      "✅ ADC loaded\n",
      "✅ Ktrans loaded and resampled\n",
      "✅ Lesions found: 11\n",
      "✅ Added ProstateX-0048 to training set.\n",
      "\n",
      "🔍 Processing: ProstateX-0049\n"
     ]
    },
    {
     "name": "stderr",
     "output_type": "stream",
     "text": [
      " 50%|████▉     | 50/101 [00:12<00:11,  4.54it/s]"
     ]
    },
    {
     "name": "stdout",
     "output_type": "stream",
     "text": [
      "✅ ADC loaded\n",
      "✅ Ktrans loaded and resampled\n",
      "✅ Lesions found: 9\n",
      "✅ Added ProstateX-0049 to training set.\n",
      "\n",
      "🔍 Processing: ProstateX-0050\n"
     ]
    },
    {
     "name": "stderr",
     "output_type": "stream",
     "text": [
      " 50%|█████     | 51/101 [00:12<00:11,  4.32it/s]"
     ]
    },
    {
     "name": "stdout",
     "output_type": "stream",
     "text": [
      "✅ ADC loaded\n",
      "✅ Ktrans loaded and resampled\n",
      "✅ Lesions found: 11\n",
      "✅ Added ProstateX-0050 to training set.\n",
      "\n",
      "🔍 Processing: ProstateX-0051\n"
     ]
    },
    {
     "name": "stderr",
     "output_type": "stream",
     "text": [
      " 51%|█████▏    | 52/101 [00:13<00:11,  4.25it/s]"
     ]
    },
    {
     "name": "stdout",
     "output_type": "stream",
     "text": [
      "✅ ADC loaded\n",
      "✅ Ktrans loaded and resampled\n",
      "✅ Lesions found: 9\n",
      "✅ Added ProstateX-0051 to training set.\n",
      "\n",
      "🔍 Processing: ProstateX-0052\n"
     ]
    },
    {
     "name": "stderr",
     "output_type": "stream",
     "text": [
      " 52%|█████▏    | 53/101 [00:13<00:11,  4.33it/s]"
     ]
    },
    {
     "name": "stdout",
     "output_type": "stream",
     "text": [
      "✅ ADC loaded\n",
      "✅ Ktrans loaded and resampled\n",
      "✅ Lesions found: 10\n",
      "✅ Added ProstateX-0052 to training set.\n",
      "\n",
      "🔍 Processing: ProstateX-0053\n"
     ]
    },
    {
     "name": "stderr",
     "output_type": "stream",
     "text": [
      " 53%|█████▎    | 54/101 [00:13<00:10,  4.35it/s]"
     ]
    },
    {
     "name": "stdout",
     "output_type": "stream",
     "text": [
      "✅ ADC loaded\n",
      "✅ Ktrans loaded and resampled\n",
      "✅ Lesions found: 9\n",
      "✅ Added ProstateX-0053 to training set.\n",
      "\n",
      "🔍 Processing: ProstateX-0054\n",
      "✅ ADC loaded\n"
     ]
    },
    {
     "name": "stderr",
     "output_type": "stream",
     "text": [
      " 54%|█████▍    | 55/101 [00:13<00:10,  4.53it/s]"
     ]
    },
    {
     "name": "stdout",
     "output_type": "stream",
     "text": [
      "✅ Ktrans loaded and resampled\n",
      "✅ Lesions found: 20\n",
      "✅ Added ProstateX-0054 to training set.\n",
      "\n",
      "🔍 Processing: ProstateX-0055\n",
      "✅ ADC loaded\n"
     ]
    },
    {
     "name": "stderr",
     "output_type": "stream",
     "text": [
      " 55%|█████▌    | 56/101 [00:14<00:09,  4.53it/s]"
     ]
    },
    {
     "name": "stdout",
     "output_type": "stream",
     "text": [
      "✅ Ktrans loaded and resampled\n",
      "✅ Lesions found: 9\n",
      "✅ Added ProstateX-0055 to training set.\n",
      "\n",
      "🔍 Processing: ProstateX-0056\n",
      "✅ ADC loaded\n"
     ]
    },
    {
     "name": "stderr",
     "output_type": "stream",
     "text": [
      " 56%|█████▋    | 57/101 [00:14<00:09,  4.53it/s]"
     ]
    },
    {
     "name": "stdout",
     "output_type": "stream",
     "text": [
      "✅ Ktrans loaded and resampled\n",
      "✅ Lesions found: 9\n",
      "✅ Added ProstateX-0056 to training set.\n",
      "\n",
      "🔍 Processing: ProstateX-0057\n",
      "✅ ADC loaded\n"
     ]
    },
    {
     "name": "stderr",
     "output_type": "stream",
     "text": [
      " 57%|█████▋    | 58/101 [00:14<00:09,  4.55it/s]"
     ]
    },
    {
     "name": "stdout",
     "output_type": "stream",
     "text": [
      "✅ Ktrans loaded and resampled\n",
      "✅ Lesions found: 20\n",
      "✅ Added ProstateX-0057 to training set.\n",
      "\n",
      "🔍 Processing: ProstateX-0058\n",
      "✅ ADC loaded\n"
     ]
    },
    {
     "name": "stderr",
     "output_type": "stream",
     "text": [
      " 58%|█████▊    | 59/101 [00:14<00:09,  4.47it/s]"
     ]
    },
    {
     "name": "stdout",
     "output_type": "stream",
     "text": [
      "✅ Ktrans loaded and resampled\n",
      "✅ Lesions found: 9\n",
      "✅ Added ProstateX-0058 to training set.\n",
      "\n",
      "🔍 Processing: ProstateX-0059\n",
      "✅ ADC loaded\n"
     ]
    },
    {
     "name": "stderr",
     "output_type": "stream",
     "text": [
      " 59%|█████▉    | 60/101 [00:14<00:09,  4.45it/s]"
     ]
    },
    {
     "name": "stdout",
     "output_type": "stream",
     "text": [
      "✅ Ktrans loaded and resampled\n",
      "✅ Lesions found: 10\n",
      "✅ Added ProstateX-0059 to training set.\n",
      "\n",
      "🔍 Processing: ProstateX-0060\n",
      "✅ ADC loaded\n"
     ]
    },
    {
     "name": "stderr",
     "output_type": "stream",
     "text": [
      " 60%|██████    | 61/101 [00:15<00:09,  4.37it/s]"
     ]
    },
    {
     "name": "stdout",
     "output_type": "stream",
     "text": [
      "✅ Ktrans loaded and resampled\n",
      "✅ Lesions found: 9\n",
      "✅ Added ProstateX-0060 to training set.\n",
      "\n",
      "🔍 Processing: ProstateX-0061\n",
      "✅ ADC loaded\n"
     ]
    },
    {
     "name": "stderr",
     "output_type": "stream",
     "text": [
      " 62%|██████▏   | 63/101 [00:15<00:08,  4.63it/s]"
     ]
    },
    {
     "name": "stdout",
     "output_type": "stream",
     "text": [
      "✅ Ktrans loaded and resampled\n",
      "✅ Lesions found: 12\n",
      "✅ Added ProstateX-0061 to training set.\n",
      "\n",
      "🔍 Processing: ProstateX-0062\n",
      "✅ ADC loaded\n",
      "✅ Ktrans loaded and resampled\n",
      "✅ Lesions found: 9\n",
      "✅ Added ProstateX-0062 to training set.\n",
      "\n",
      "🔍 Processing: ProstateX-0063\n"
     ]
    },
    {
     "name": "stderr",
     "output_type": "stream",
     "text": [
      " 63%|██████▎   | 64/101 [00:15<00:07,  4.67it/s]"
     ]
    },
    {
     "name": "stdout",
     "output_type": "stream",
     "text": [
      "✅ ADC loaded\n",
      "✅ Ktrans loaded and resampled\n",
      "✅ Lesions found: 10\n",
      "✅ Added ProstateX-0063 to training set.\n",
      "\n",
      "🔍 Processing: ProstateX-0064\n"
     ]
    },
    {
     "name": "stderr",
     "output_type": "stream",
     "text": [
      " 64%|██████▍   | 65/101 [00:15<00:07,  4.63it/s]"
     ]
    },
    {
     "name": "stdout",
     "output_type": "stream",
     "text": [
      "✅ ADC loaded\n",
      "✅ Ktrans loaded and resampled\n",
      "✅ Lesions found: 9\n",
      "✅ Added ProstateX-0064 to training set.\n",
      "\n",
      "🔍 Processing: ProstateX-0065\n"
     ]
    },
    {
     "name": "stderr",
     "output_type": "stream",
     "text": [
      " 65%|██████▌   | 66/101 [00:16<00:07,  4.58it/s]"
     ]
    },
    {
     "name": "stdout",
     "output_type": "stream",
     "text": [
      "✅ ADC loaded\n",
      "✅ Ktrans loaded and resampled\n",
      "✅ Lesions found: 18\n",
      "✅ Added ProstateX-0065 to training set.\n",
      "\n",
      "🔍 Processing: ProstateX-0066\n",
      "✅ ADC loaded\n"
     ]
    },
    {
     "name": "stderr",
     "output_type": "stream",
     "text": [
      " 66%|██████▋   | 67/101 [00:16<00:07,  4.67it/s]"
     ]
    },
    {
     "name": "stdout",
     "output_type": "stream",
     "text": [
      "✅ Ktrans loaded and resampled\n",
      "✅ Lesions found: 11\n",
      "✅ Added ProstateX-0066 to training set.\n",
      "\n",
      "🔍 Processing: ProstateX-0067\n",
      "✅ ADC loaded\n",
      "✅ Ktrans loaded and resampled\n",
      "✅ Lesions found: 33\n"
     ]
    },
    {
     "name": "stderr",
     "output_type": "stream",
     "text": [
      " 68%|██████▊   | 69/101 [00:16<00:06,  4.80it/s]"
     ]
    },
    {
     "name": "stdout",
     "output_type": "stream",
     "text": [
      "✅ Added ProstateX-0067 to training set.\n",
      "\n",
      "🔍 Processing: ProstateX-0068\n",
      "✅ ADC loaded\n",
      "✅ Ktrans loaded and resampled\n",
      "✅ Lesions found: 27\n",
      "✅ Added ProstateX-0068 to training set.\n"
     ]
    },
    {
     "name": "stderr",
     "output_type": "stream",
     "text": [
      " 69%|██████▉   | 70/101 [00:17<00:06,  4.81it/s]"
     ]
    },
    {
     "name": "stdout",
     "output_type": "stream",
     "text": [
      "\n",
      "🔍 Processing: ProstateX-0069\n",
      "✅ ADC loaded\n",
      "✅ Ktrans loaded and resampled\n",
      "✅ Lesions found: 11\n",
      "✅ Added ProstateX-0069 to training set.\n",
      "\n",
      "🔍 Processing: ProstateX-0070\n"
     ]
    },
    {
     "name": "stderr",
     "output_type": "stream",
     "text": [
      " 70%|███████   | 71/101 [00:17<00:06,  4.66it/s]"
     ]
    },
    {
     "name": "stdout",
     "output_type": "stream",
     "text": [
      "✅ ADC loaded\n",
      "✅ Ktrans loaded and resampled\n",
      "✅ Lesions found: 18\n",
      "✅ Added ProstateX-0070 to training set.\n",
      "\n",
      "🔍 Processing: ProstateX-0071\n"
     ]
    },
    {
     "name": "stderr",
     "output_type": "stream",
     "text": [
      " 71%|███████▏  | 72/101 [00:17<00:06,  4.61it/s]"
     ]
    },
    {
     "name": "stdout",
     "output_type": "stream",
     "text": [
      "✅ ADC loaded\n",
      "✅ Ktrans loaded and resampled\n",
      "✅ Lesions found: 9\n",
      "✅ Added ProstateX-0071 to training set.\n",
      "\n",
      "🔍 Processing: ProstateX-0072\n"
     ]
    },
    {
     "name": "stderr",
     "output_type": "stream",
     "text": [
      " 72%|███████▏  | 73/101 [00:17<00:06,  4.49it/s]"
     ]
    },
    {
     "name": "stdout",
     "output_type": "stream",
     "text": [
      "✅ ADC loaded\n",
      "✅ Ktrans loaded and resampled\n",
      "✅ Lesions found: 9\n",
      "✅ Added ProstateX-0072 to training set.\n",
      "\n",
      "🔍 Processing: ProstateX-0073\n"
     ]
    },
    {
     "name": "stderr",
     "output_type": "stream",
     "text": [
      " 73%|███████▎  | 74/101 [00:17<00:06,  4.34it/s]"
     ]
    },
    {
     "name": "stdout",
     "output_type": "stream",
     "text": [
      "✅ ADC loaded\n",
      "✅ Ktrans loaded and resampled\n",
      "✅ Lesions found: 11\n",
      "✅ Added ProstateX-0073 to training set.\n",
      "\n",
      "🔍 Processing: ProstateX-0074\n"
     ]
    },
    {
     "name": "stderr",
     "output_type": "stream",
     "text": [
      " 74%|███████▍  | 75/101 [00:18<00:05,  4.48it/s]"
     ]
    },
    {
     "name": "stdout",
     "output_type": "stream",
     "text": [
      "✅ ADC loaded\n",
      "✅ Ktrans loaded and resampled\n",
      "✅ Lesions found: 11\n",
      "✅ Added ProstateX-0074 to training set.\n",
      "\n",
      "🔍 Processing: ProstateX-0075\n"
     ]
    },
    {
     "name": "stderr",
     "output_type": "stream",
     "text": [
      " 75%|███████▌  | 76/101 [00:18<00:05,  4.51it/s]"
     ]
    },
    {
     "name": "stdout",
     "output_type": "stream",
     "text": [
      "✅ ADC loaded\n",
      "✅ Ktrans loaded and resampled\n",
      "✅ Lesions found: 9\n",
      "✅ Added ProstateX-0075 to training set.\n",
      "\n",
      "🔍 Processing: ProstateX-0076\n"
     ]
    },
    {
     "name": "stderr",
     "output_type": "stream",
     "text": [
      " 76%|███████▌  | 77/101 [00:18<00:05,  4.53it/s]"
     ]
    },
    {
     "name": "stdout",
     "output_type": "stream",
     "text": [
      "✅ ADC loaded\n",
      "✅ Ktrans loaded and resampled\n",
      "✅ Lesions found: 11\n",
      "✅ Added ProstateX-0076 to training set.\n",
      "\n",
      "🔍 Processing: ProstateX-0077\n"
     ]
    },
    {
     "name": "stderr",
     "output_type": "stream",
     "text": [
      " 77%|███████▋  | 78/101 [00:18<00:05,  4.56it/s]"
     ]
    },
    {
     "name": "stdout",
     "output_type": "stream",
     "text": [
      "✅ ADC loaded\n",
      "✅ Ktrans loaded and resampled\n",
      "✅ Lesions found: 12\n",
      "✅ Added ProstateX-0077 to training set.\n",
      "\n",
      "🔍 Processing: ProstateX-0078\n",
      "✅ ADC loaded\n"
     ]
    },
    {
     "name": "stderr",
     "output_type": "stream",
     "text": [
      " 78%|███████▊  | 79/101 [00:19<00:04,  4.68it/s]"
     ]
    },
    {
     "name": "stdout",
     "output_type": "stream",
     "text": [
      "✅ Ktrans loaded and resampled\n",
      "✅ Lesions found: 9\n",
      "✅ Added ProstateX-0078 to training set.\n",
      "\n",
      "🔍 Processing: ProstateX-0079\n",
      "✅ ADC loaded\n",
      "✅ Ktrans loaded and resampled\n",
      "✅ Lesions found: 12\n"
     ]
    },
    {
     "name": "stderr",
     "output_type": "stream",
     "text": [
      " 79%|███████▉  | 80/101 [00:19<00:04,  4.64it/s]"
     ]
    },
    {
     "name": "stdout",
     "output_type": "stream",
     "text": [
      "✅ Added ProstateX-0079 to training set.\n",
      "\n",
      "🔍 Processing: ProstateX-0080\n",
      "✅ ADC loaded\n"
     ]
    },
    {
     "name": "stderr",
     "output_type": "stream",
     "text": [
      " 80%|████████  | 81/101 [00:19<00:04,  4.68it/s]"
     ]
    },
    {
     "name": "stdout",
     "output_type": "stream",
     "text": [
      "✅ Ktrans loaded and resampled\n",
      "✅ Lesions found: 9\n",
      "✅ Added ProstateX-0080 to training set.\n",
      "\n",
      "🔍 Processing: ProstateX-0081\n",
      "✅ ADC loaded\n"
     ]
    },
    {
     "name": "stderr",
     "output_type": "stream",
     "text": [
      " 81%|████████  | 82/101 [00:19<00:04,  4.58it/s]"
     ]
    },
    {
     "name": "stdout",
     "output_type": "stream",
     "text": [
      "✅ Ktrans loaded and resampled\n",
      "✅ Lesions found: 9\n",
      "✅ Added ProstateX-0081 to training set.\n",
      "\n",
      "🔍 Processing: ProstateX-0082\n"
     ]
    },
    {
     "name": "stderr",
     "output_type": "stream",
     "text": [
      " 82%|████████▏ | 83/101 [00:19<00:04,  4.18it/s]"
     ]
    },
    {
     "name": "stdout",
     "output_type": "stream",
     "text": [
      "✅ ADC loaded\n",
      "✅ Ktrans loaded and resampled\n",
      "✅ Lesions found: 11\n",
      "✅ Added ProstateX-0082 to training set.\n",
      "\n",
      "🔍 Processing: ProstateX-0083\n"
     ]
    },
    {
     "name": "stderr",
     "output_type": "stream",
     "text": [
      " 83%|████████▎ | 84/101 [00:20<00:04,  3.79it/s]"
     ]
    },
    {
     "name": "stdout",
     "output_type": "stream",
     "text": [
      "✅ ADC loaded\n",
      "✅ Ktrans loaded and resampled\n",
      "✅ Lesions found: 22\n",
      "✅ Added ProstateX-0083 to training set.\n",
      "\n",
      "🔍 Processing: ProstateX-0084\n"
     ]
    },
    {
     "name": "stderr",
     "output_type": "stream",
     "text": [
      " 84%|████████▍ | 85/101 [00:20<00:04,  3.74it/s]"
     ]
    },
    {
     "name": "stdout",
     "output_type": "stream",
     "text": [
      "✅ ADC loaded\n",
      "✅ Ktrans loaded and resampled\n",
      "✅ Lesions found: 22\n",
      "✅ Added ProstateX-0084 to training set.\n",
      "\n",
      "🔍 Processing: ProstateX-0085\n"
     ]
    },
    {
     "name": "stderr",
     "output_type": "stream",
     "text": [
      " 85%|████████▌ | 86/101 [00:20<00:04,  3.31it/s]"
     ]
    },
    {
     "name": "stdout",
     "output_type": "stream",
     "text": [
      "✅ ADC loaded\n",
      "✅ Ktrans loaded and resampled\n",
      "✅ Lesions found: 44\n",
      "✅ Added ProstateX-0085 to training set.\n",
      "\n",
      "🔍 Processing: ProstateX-0086\n"
     ]
    },
    {
     "name": "stderr",
     "output_type": "stream",
     "text": [
      " 86%|████████▌ | 87/101 [00:21<00:04,  3.28it/s]"
     ]
    },
    {
     "name": "stdout",
     "output_type": "stream",
     "text": [
      "✅ ADC loaded\n",
      "✅ Ktrans loaded and resampled\n",
      "✅ Lesions found: 24\n",
      "✅ Added ProstateX-0086 to training set.\n",
      "\n",
      "🔍 Processing: ProstateX-0087\n"
     ]
    },
    {
     "name": "stderr",
     "output_type": "stream",
     "text": [
      " 87%|████████▋ | 88/101 [00:21<00:03,  3.62it/s]"
     ]
    },
    {
     "name": "stdout",
     "output_type": "stream",
     "text": [
      "✅ ADC loaded\n",
      "✅ Ktrans loaded and resampled\n",
      "✅ Lesions found: 18\n",
      "✅ Added ProstateX-0087 to training set.\n",
      "\n",
      "🔍 Processing: ProstateX-0088\n"
     ]
    },
    {
     "name": "stderr",
     "output_type": "stream",
     "text": [
      " 88%|████████▊ | 89/101 [00:21<00:03,  3.95it/s]"
     ]
    },
    {
     "name": "stdout",
     "output_type": "stream",
     "text": [
      "✅ ADC loaded\n",
      "✅ Ktrans loaded and resampled\n",
      "✅ Lesions found: 20\n",
      "✅ Added ProstateX-0088 to training set.\n",
      "\n",
      "🔍 Processing: ProstateX-0089\n"
     ]
    },
    {
     "name": "stderr",
     "output_type": "stream",
     "text": [
      " 89%|████████▉ | 90/101 [00:21<00:02,  3.94it/s]"
     ]
    },
    {
     "name": "stdout",
     "output_type": "stream",
     "text": [
      "✅ ADC loaded\n",
      "✅ Ktrans loaded and resampled\n",
      "✅ Lesions found: 9\n",
      "✅ Added ProstateX-0089 to training set.\n",
      "\n",
      "🔍 Processing: ProstateX-0090\n",
      "✅ ADC loaded\n"
     ]
    },
    {
     "name": "stderr",
     "output_type": "stream",
     "text": [
      " 90%|█████████ | 91/101 [00:22<00:02,  4.19it/s]"
     ]
    },
    {
     "name": "stdout",
     "output_type": "stream",
     "text": [
      "✅ Ktrans loaded and resampled\n",
      "✅ Lesions found: 11\n",
      "✅ Added ProstateX-0090 to training set.\n",
      "\n",
      "🔍 Processing: ProstateX-0091\n",
      "✅ ADC loaded\n",
      "✅ Ktrans loaded and resampled\n",
      "✅ Lesions found: 10\n"
     ]
    },
    {
     "name": "stderr",
     "output_type": "stream",
     "text": [
      " 92%|█████████▏| 93/101 [00:22<00:01,  4.60it/s]"
     ]
    },
    {
     "name": "stdout",
     "output_type": "stream",
     "text": [
      "✅ Added ProstateX-0091 to training set.\n",
      "\n",
      "🔍 Processing: ProstateX-0092\n",
      "✅ ADC loaded\n",
      "✅ Ktrans loaded and resampled\n",
      "✅ Lesions found: 10\n",
      "✅ Added ProstateX-0092 to training set.\n",
      "\n",
      "🔍 Processing: ProstateX-0093\n"
     ]
    },
    {
     "name": "stderr",
     "output_type": "stream",
     "text": [
      " 93%|█████████▎| 94/101 [00:22<00:01,  4.76it/s]"
     ]
    },
    {
     "name": "stdout",
     "output_type": "stream",
     "text": [
      "✅ ADC loaded\n",
      "✅ Ktrans loaded and resampled\n",
      "✅ Lesions found: 27\n",
      "✅ Added ProstateX-0093 to training set.\n",
      "\n",
      "🔍 Processing: ProstateX-0094\n"
     ]
    },
    {
     "name": "stderr",
     "output_type": "stream",
     "text": [
      " 94%|█████████▍| 95/101 [00:22<00:01,  4.60it/s]"
     ]
    },
    {
     "name": "stdout",
     "output_type": "stream",
     "text": [
      "✅ ADC loaded\n",
      "✅ Ktrans loaded and resampled\n",
      "✅ Lesions found: 11\n",
      "✅ Added ProstateX-0094 to training set.\n",
      "\n",
      "🔍 Processing: ProstateX-0095\n"
     ]
    },
    {
     "name": "stderr",
     "output_type": "stream",
     "text": [
      " 95%|█████████▌| 96/101 [00:23<00:01,  4.51it/s]"
     ]
    },
    {
     "name": "stdout",
     "output_type": "stream",
     "text": [
      "✅ ADC loaded\n",
      "✅ Ktrans loaded and resampled\n",
      "✅ Lesions found: 24\n",
      "✅ Added ProstateX-0095 to training set.\n",
      "\n",
      "🔍 Processing: ProstateX-0096\n"
     ]
    },
    {
     "name": "stderr",
     "output_type": "stream",
     "text": [
      " 96%|█████████▌| 97/101 [00:23<00:00,  4.40it/s]"
     ]
    },
    {
     "name": "stdout",
     "output_type": "stream",
     "text": [
      "✅ ADC loaded\n",
      "✅ Ktrans loaded and resampled\n",
      "✅ Lesions found: 11\n",
      "✅ Added ProstateX-0096 to training set.\n",
      "\n",
      "🔍 Processing: ProstateX-0097\n"
     ]
    },
    {
     "name": "stderr",
     "output_type": "stream",
     "text": [
      " 97%|█████████▋| 98/101 [00:23<00:00,  4.42it/s]"
     ]
    },
    {
     "name": "stdout",
     "output_type": "stream",
     "text": [
      "✅ ADC loaded\n",
      "✅ Ktrans loaded and resampled\n",
      "✅ Lesions found: 10\n",
      "✅ Added ProstateX-0097 to training set.\n",
      "\n",
      "🔍 Processing: ProstateX-0098\n"
     ]
    },
    {
     "name": "stderr",
     "output_type": "stream",
     "text": [
      " 98%|█████████▊| 99/101 [00:23<00:00,  4.15it/s]"
     ]
    },
    {
     "name": "stdout",
     "output_type": "stream",
     "text": [
      "✅ ADC loaded\n",
      "✅ Ktrans loaded and resampled\n",
      "✅ Lesions found: 12\n",
      "✅ Added ProstateX-0098 to training set.\n",
      "\n",
      "🔍 Processing: ProstateX-0099\n"
     ]
    },
    {
     "name": "stderr",
     "output_type": "stream",
     "text": [
      " 99%|█████████▉| 100/101 [00:24<00:00,  3.96it/s]"
     ]
    },
    {
     "name": "stdout",
     "output_type": "stream",
     "text": [
      "✅ ADC loaded\n",
      "✅ Ktrans loaded and resampled\n",
      "✅ Lesions found: 20\n",
      "✅ Added ProstateX-0099 to training set.\n",
      "\n",
      "🔍 Processing: ProstateX-0100\n"
     ]
    },
    {
     "name": "stderr",
     "output_type": "stream",
     "text": [
      "100%|██████████| 101/101 [00:24<00:00,  4.12it/s]"
     ]
    },
    {
     "name": "stdout",
     "output_type": "stream",
     "text": [
      "✅ ADC loaded\n",
      "✅ Ktrans loaded and resampled\n",
      "✅ Lesions found: 27\n",
      "✅ Added ProstateX-0100 to training set.\n",
      "\n",
      "✅ Total usable training samples: 101\n",
      "\n"
     ]
    },
    {
     "name": "stderr",
     "output_type": "stream",
     "text": [
      "\n"
     ]
    }
   ],
   "source": [
    "# ==== BUILD DATA ====\n",
    "data = []\n",
    "print(\"\\n📦 Building dataset...\\n\")\n",
    "for proxid in tqdm(meta_df[\"ProxID\"].unique()):\n",
    "    try:\n",
    "        print(f\"\\n🔍 Processing: {proxid}\")\n",
    "        adc_image = load_dicom_volume(proxid, series_description=\"ADC\")\n",
    "        print(\"✅ ADC loaded\")\n",
    "\n",
    "        ktrans_image = load_ktrans(proxid)\n",
    "        if ktrans_image is None:\n",
    "            raise ValueError(\"Missing Ktrans\")\n",
    "\n",
    "        ktrans_resampled = sitk.Resample(ktrans_image, adc_image)\n",
    "        print(\"✅ Ktrans loaded and resampled\")\n",
    "\n",
    "        lesions = meta_df[meta_df[\"ProxID\"] == proxid]\n",
    "        ijk_coords = [\n",
    "                        parse_ijk(ijk) for ijk in lesions[\"ijk\"].dropna().tolist()\n",
    "                     ]\n",
    "        ijk_coords = [coord for coord in ijk_coords if coord is not None]\n",
    "        if not ijk_coords:\n",
    "            raise ValueError(\"No lesion ijk coordinates found\")\n",
    "\n",
    "        print(f\"✅ Lesions found: {len(ijk_coords)}\")\n",
    "        label_image = generate_label_mask(adc_image, ijk_coords)\n",
    "\n",
    "        # Save Nifti for MONAI\n",
    "        adc_path = f\"images/{proxid}_adc.nii.gz\"\n",
    "        ktrans_path = f\"images/{proxid}_ktrans.nii.gz\"\n",
    "        label_path = f\"labels/{proxid}_label.nii.gz\"\n",
    "\n",
    "        sitk.WriteImage(adc_image, adc_path)\n",
    "        sitk.WriteImage(ktrans_resampled, ktrans_path)\n",
    "        sitk.WriteImage(label_image, label_path)\n",
    "\n",
    "        data.append({\n",
    "            \"image\": [adc_path, ktrans_path],\n",
    "            \"label\": label_path\n",
    "        })\n",
    "        print(f\"✅ Added {proxid} to training set.\")\n",
    "\n",
    "    except Exception as e:\n",
    "        print(f\"❌ Failed on {proxid}: {str(e)}\")\n",
    "\n",
    "# ==== CHECK IF DATASET IS READY ====\n",
    "print(f\"\\n✅ Total usable training samples: {len(data)}\\n\")\n",
    "if len(data) == 0:\n",
    "    raise ValueError(\"❌ No usable training data was found. Please check preprocessing steps.\")"
   ]
  },
  {
   "cell_type": "code",
   "execution_count": 7,
   "id": "a22d6779-1f13-4309-be6c-ef5399bd1fd8",
   "metadata": {},
   "outputs": [
    {
     "ename": "SyntaxError",
     "evalue": "incomplete input (3004016649.py, line 1)",
     "output_type": "error",
     "traceback": [
      "\u001b[1;36m  Cell \u001b[1;32mIn[7], line 1\u001b[1;36m\u001b[0m\n\u001b[1;33m    \"\"\"# ==== MONAI TRANSFORMS ====\u001b[0m\n\u001b[1;37m    ^\u001b[0m\n\u001b[1;31mSyntaxError\u001b[0m\u001b[1;31m:\u001b[0m incomplete input\n"
     ]
    }
   ],
   "source": [
    "\"\"\"# ==== MONAI TRANSFORMS ====\n",
    "print(\"Setting up transforms...\")\n",
    "train_transforms = Compose([\n",
    "    EnsureChannelFirstd(keys=\"label\", channel_dim=0),\n",
    "    ScaleIntensityd(keys=\"image\"),\n",
    "    ResizeWithPadOrCropd(keys=[\"image\", \"label\"], spatial_size=(128, 128, 64)),\n",
    "    ToTensord(keys=[\"image\", \"label\"])\n",
    "])"
   ]
  },
  {
   "cell_type": "code",
   "execution_count": 11,
   "id": "1e7f8a4b-52b8-45b7-96d0-e6928ca9ed7e",
   "metadata": {},
   "outputs": [],
   "source": [
    "from monai.transforms import LoadImaged\n",
    "\n",
    "train_transforms = Compose([\n",
    "    LoadImaged(keys=[\"image\", \"label\"]),\n",
    "    EnsureChannelFirstd(keys=[\"image\", \"label\"]),\n",
    "    ScaleIntensityd(keys=\"image\"),\n",
    "    ResizeWithPadOrCropd(keys=[\"image\", \"label\"], spatial_size=(128, 128, 64)),\n",
    "    ToTensord(keys=[\"image\", \"label\"])\n",
    "])\n"
   ]
  },
  {
   "cell_type": "code",
   "execution_count": 13,
   "id": "f9c79df9-cff5-4b93-8260-87707f5b482d",
   "metadata": {},
   "outputs": [
    {
     "name": "stdout",
     "output_type": "stream",
     "text": [
      "Initializing data loader...\n",
      "Data loader ready.\n",
      "Using device: cuda\n",
      "BasicUNet features: (32, 32, 64, 128, 256, 32).\n",
      "Model initialized.\n"
     ]
    }
   ],
   "source": [
    "# ==== DATA LOADER ====\n",
    "print(\"Initializing data loader...\")\n",
    "train_ds = Dataset(data=data, transform=train_transforms)\n",
    "train_loader = DataLoader(train_ds, batch_size=1, shuffle=True)\n",
    "print(\"Data loader ready.\")\n",
    "\n",
    "# ==== MODEL ====\n",
    "device = torch.device(\"cuda\" if torch.cuda.is_available() else \"cpu\")\n",
    "print(f\"Using device: {device}\")\n",
    "model = BasicUNet(spatial_dims=3, in_channels=2, out_channels=2).to(device)\n",
    "loss_fn = DiceCELoss(to_onehot_y=True, softmax=True)\n",
    "optimizer = Adam(model.parameters(), lr=1e-4)\n",
    "print(\"Model initialized.\")\n"
   ]
  },
  {
   "cell_type": "code",
   "execution_count": 15,
   "id": "425aab22-d672-4c81-b95b-a7f5ee1d1c34",
   "metadata": {},
   "outputs": [
    {
     "ename": "TypeError",
     "evalue": "cat() received an invalid combination of arguments - got (MetaTensor, dim=int), but expected one of:\n * (tuple of Tensors tensors, int dim = 0, *, Tensor out = None)\n * (tuple of Tensors tensors, name dim, *, Tensor out = None)\n",
     "output_type": "error",
     "traceback": [
      "\u001b[1;31m---------------------------------------------------------------------------\u001b[0m",
      "\u001b[1;31mTypeError\u001b[0m                                 Traceback (most recent call last)",
      "Cell \u001b[1;32mIn[15], line 9\u001b[0m\n\u001b[0;32m      7\u001b[0m \u001b[38;5;28;01mfor\u001b[39;00m batch_idx, batch \u001b[38;5;129;01min\u001b[39;00m \u001b[38;5;28menumerate\u001b[39m(train_loader):\n\u001b[0;32m      8\u001b[0m     \u001b[38;5;28mprint\u001b[39m(\u001b[38;5;124mf\u001b[39m\u001b[38;5;124m\"\u001b[39m\u001b[38;5;130;01m\\U0001F4CB\u001b[39;00m\u001b[38;5;124m Batch \u001b[39m\u001b[38;5;132;01m{\u001b[39;00mbatch_idx\u001b[38;5;241m+\u001b[39m\u001b[38;5;241m1\u001b[39m\u001b[38;5;132;01m}\u001b[39;00m\u001b[38;5;124m\"\u001b[39m)\n\u001b[1;32m----> 9\u001b[0m     images \u001b[38;5;241m=\u001b[39m torch\u001b[38;5;241m.\u001b[39mcat(batch[\u001b[38;5;124m\"\u001b[39m\u001b[38;5;124mimage\u001b[39m\u001b[38;5;124m\"\u001b[39m], dim\u001b[38;5;241m=\u001b[39m\u001b[38;5;241m1\u001b[39m)\u001b[38;5;241m.\u001b[39mto(device)\n\u001b[0;32m     10\u001b[0m     labels \u001b[38;5;241m=\u001b[39m batch[\u001b[38;5;124m\"\u001b[39m\u001b[38;5;124mlabel\u001b[39m\u001b[38;5;124m\"\u001b[39m]\u001b[38;5;241m.\u001b[39mto(device)\n\u001b[0;32m     11\u001b[0m     optimizer\u001b[38;5;241m.\u001b[39mzero_grad()\n",
      "\u001b[1;31mTypeError\u001b[0m: cat() received an invalid combination of arguments - got (MetaTensor, dim=int), but expected one of:\n * (tuple of Tensors tensors, int dim = 0, *, Tensor out = None)\n * (tuple of Tensors tensors, name dim, *, Tensor out = None)\n"
     ]
    }
   ],
   "source": [
    "# ==== TRAINING ====\n",
    "print(\"\\n\\ud83d\\ude80 Starting training...\\n\")\n",
    "for epoch in range(10):\n",
    "    print(f\"\\n--- Epoch {epoch+1} ---\")\n",
    "    model.train()\n",
    "    epoch_loss = 0\n",
    "    for batch_idx, batch in enumerate(train_loader):\n",
    "        print(f\"\\U0001F4CB Batch {batch_idx+1}\")\n",
    "        images = torch.cat(batch[\"image\"], dim=1).to(device)\n",
    "        labels = batch[\"label\"].to(device)\n",
    "        optimizer.zero_grad()\n",
    "        outputs = model(images)\n",
    "        loss = loss_fn(outputs, labels)\n",
    "        loss.backward()\n",
    "        optimizer.step()\n",
    "        print(f\"Loss: {loss.item():.4f}\")\n",
    "        epoch_loss += loss.item()\n",
    "    print(f\"[Epoch {epoch+1}] Avg Loss: {epoch_loss:.4f}\")\n",
    "\n",
    "# ==== SAVE MODEL ====\n",
    "torch.save(model.state_dict(), \"prostate_seg_model.pth\")\n",
    "print(\"\\n\\u2705 Model saved as 'prostate_seg_model.pth'\")\n"
   ]
  },
  {
   "cell_type": "code",
   "execution_count": 17,
   "id": "9339bb30-85c6-4808-9d44-67d15dae5f6c",
   "metadata": {},
   "outputs": [],
   "source": [
    "import os\n",
    "os.environ[\"PYTORCH_CUDA_ALLOC_CONF\"] = \"expandable_segments:True\"\n"
   ]
  },
  {
   "cell_type": "code",
   "execution_count": 19,
   "id": "13a12ddf-2aa8-4f14-b304-d472fb702095",
   "metadata": {},
   "outputs": [
    {
     "name": "stdout",
     "output_type": "stream",
     "text": [
      "\n",
      "🚀 Starting training...\n",
      "\n",
      "\n",
      "--- Epoch 1 ---\n",
      "📦 Batch 10/101 — Loss: 1.2813\n",
      "📦 Batch 20/101 — Loss: 1.2290\n",
      "📦 Batch 30/101 — Loss: 1.1769\n",
      "📦 Batch 40/101 — Loss: 1.1301\n",
      "📦 Batch 50/101 — Loss: 1.0783\n",
      "📦 Batch 60/101 — Loss: 1.0384\n",
      "📦 Batch 70/101 — Loss: 1.0195\n",
      "📦 Batch 80/101 — Loss: 0.9974\n",
      "📦 Batch 90/101 — Loss: 0.9791\n",
      "📦 Batch 100/101 — Loss: 0.9726\n",
      "📦 Batch 101/101 — Loss: 0.9706\n",
      "✅ Epoch 1 completed — Avg Loss: 112.0996 — ⏱ 44.38 sec\n",
      "\n",
      "--- Epoch 2 ---\n",
      "📦 Batch 10/101 — Loss: 0.9611\n",
      "📦 Batch 20/101 — Loss: 0.9421\n",
      "📦 Batch 30/101 — Loss: 0.9358\n",
      "📦 Batch 40/101 — Loss: 0.9175\n",
      "📦 Batch 50/101 — Loss: 0.9087\n",
      "📦 Batch 60/101 — Loss: 0.9031\n",
      "📦 Batch 70/101 — Loss: 0.8956\n",
      "📦 Batch 80/101 — Loss: 0.8840\n",
      "📦 Batch 90/101 — Loss: 0.8798\n",
      "📦 Batch 100/101 — Loss: 0.8673\n",
      "📦 Batch 101/101 — Loss: 0.8695\n",
      "✅ Epoch 2 completed — Avg Loss: 92.3045 — ⏱ 33.71 sec\n",
      "\n",
      "--- Epoch 3 ---\n",
      "📦 Batch 10/101 — Loss: 0.8581\n",
      "📦 Batch 20/101 — Loss: 0.8487\n",
      "📦 Batch 30/101 — Loss: 0.8429\n",
      "📦 Batch 40/101 — Loss: 0.8379\n",
      "📦 Batch 50/101 — Loss: 0.8289\n",
      "📦 Batch 60/101 — Loss: 0.8226\n",
      "📦 Batch 70/101 — Loss: 0.8153\n",
      "📦 Batch 80/101 — Loss: 0.8073\n",
      "📦 Batch 90/101 — Loss: 0.8011\n",
      "📦 Batch 100/101 — Loss: 0.7952\n",
      "📦 Batch 101/101 — Loss: 0.7936\n",
      "✅ Epoch 3 completed — Avg Loss: 83.7360 — ⏱ 33.68 sec\n",
      "\n",
      "--- Epoch 4 ---\n",
      "📦 Batch 10/101 — Loss: 0.7883\n",
      "📦 Batch 20/101 — Loss: 0.7820\n",
      "📦 Batch 30/101 — Loss: 0.7758\n",
      "📦 Batch 40/101 — Loss: 0.7713\n",
      "📦 Batch 50/101 — Loss: 0.7658\n",
      "📦 Batch 60/101 — Loss: 0.7579\n",
      "📦 Batch 70/101 — Loss: 0.7539\n",
      "📦 Batch 80/101 — Loss: 0.7475\n",
      "📦 Batch 90/101 — Loss: 0.7447\n",
      "📦 Batch 100/101 — Loss: 0.7391\n",
      "📦 Batch 101/101 — Loss: 0.7378\n",
      "✅ Epoch 4 completed — Avg Loss: 77.2883 — ⏱ 33.68 sec\n",
      "\n",
      "--- Epoch 5 ---\n",
      "📦 Batch 10/101 — Loss: 0.7332\n",
      "📦 Batch 20/101 — Loss: 0.7279\n",
      "📦 Batch 30/101 — Loss: 0.7260\n",
      "📦 Batch 40/101 — Loss: 0.7212\n",
      "📦 Batch 50/101 — Loss: 0.7166\n",
      "📦 Batch 60/101 — Loss: 0.7113\n",
      "📦 Batch 70/101 — Loss: 0.7085\n",
      "📦 Batch 80/101 — Loss: 0.7045\n",
      "📦 Batch 90/101 — Loss: 0.7000\n",
      "📦 Batch 100/101 — Loss: 0.6960\n",
      "📦 Batch 101/101 — Loss: 0.6960\n",
      "✅ Epoch 5 completed — Avg Loss: 72.3527 — ⏱ 33.93 sec\n",
      "\n",
      "--- Epoch 6 ---\n",
      "📦 Batch 10/101 — Loss: 0.6929\n",
      "📦 Batch 20/101 — Loss: 0.6876\n",
      "📦 Batch 30/101 — Loss: 0.6846\n",
      "📦 Batch 40/101 — Loss: 0.6826\n",
      "📦 Batch 50/101 — Loss: 0.6779\n",
      "📦 Batch 60/101 — Loss: 0.6744\n",
      "📦 Batch 70/101 — Loss: 0.6724\n",
      "📦 Batch 80/101 — Loss: 0.6684\n",
      "📦 Batch 90/101 — Loss: 0.6654\n",
      "📦 Batch 100/101 — Loss: 0.6630\n",
      "📦 Batch 101/101 — Loss: 0.6620\n",
      "✅ Epoch 6 completed — Avg Loss: 68.5217 — ⏱ 34.14 sec\n",
      "\n",
      "--- Epoch 7 ---\n",
      "📦 Batch 10/101 — Loss: 0.6635\n",
      "📦 Batch 20/101 — Loss: 0.6561\n",
      "📦 Batch 30/101 — Loss: 0.6539\n",
      "📦 Batch 40/101 — Loss: 0.6511\n",
      "📦 Batch 50/101 — Loss: 0.6490\n",
      "📦 Batch 60/101 — Loss: 0.6460\n",
      "📦 Batch 70/101 — Loss: 0.6435\n",
      "📦 Batch 80/101 — Loss: 0.6419\n",
      "📦 Batch 90/101 — Loss: 0.6388\n",
      "📦 Batch 100/101 — Loss: 0.6373\n",
      "📦 Batch 101/101 — Loss: 0.6364\n",
      "✅ Epoch 7 completed — Avg Loss: 65.5463 — ⏱ 34.09 sec\n",
      "\n",
      "--- Epoch 8 ---\n",
      "📦 Batch 10/101 — Loss: 0.6365\n",
      "📦 Batch 20/101 — Loss: 0.6324\n",
      "📦 Batch 30/101 — Loss: 0.6293\n",
      "📦 Batch 40/101 — Loss: 0.6274\n",
      "📦 Batch 50/101 — Loss: 0.6251\n",
      "📦 Batch 60/101 — Loss: 0.6243\n",
      "📦 Batch 70/101 — Loss: 0.6211\n",
      "📦 Batch 80/101 — Loss: 0.6198\n",
      "📦 Batch 90/101 — Loss: 0.6173\n",
      "📦 Batch 100/101 — Loss: 0.6152\n",
      "📦 Batch 101/101 — Loss: 0.6153\n",
      "✅ Epoch 8 completed — Avg Loss: 63.1761 — ⏱ 33.89 sec\n",
      "\n",
      "--- Epoch 9 ---\n",
      "📦 Batch 10/101 — Loss: 0.6133\n",
      "📦 Batch 20/101 — Loss: 0.6124\n",
      "📦 Batch 30/101 — Loss: 0.6103\n",
      "📦 Batch 40/101 — Loss: 0.6088\n",
      "📦 Batch 50/101 — Loss: 0.6070\n",
      "📦 Batch 60/101 — Loss: 0.6047\n",
      "📦 Batch 70/101 — Loss: 0.6035\n",
      "📦 Batch 80/101 — Loss: 0.6021\n",
      "📦 Batch 90/101 — Loss: 0.6001\n",
      "📦 Batch 100/101 — Loss: 0.5986\n",
      "📦 Batch 101/101 — Loss: 0.5983\n",
      "✅ Epoch 9 completed — Avg Loss: 61.2778 — ⏱ 34.09 sec\n",
      "\n",
      "--- Epoch 10 ---\n",
      "📦 Batch 10/101 — Loss: 0.5967\n",
      "📦 Batch 20/101 — Loss: 0.5959\n",
      "📦 Batch 30/101 — Loss: 0.5939\n",
      "📦 Batch 40/101 — Loss: 0.5927\n",
      "📦 Batch 50/101 — Loss: 0.5917\n",
      "📦 Batch 60/101 — Loss: 0.5904\n",
      "📦 Batch 70/101 — Loss: 0.5891\n",
      "📦 Batch 80/101 — Loss: 0.5879\n",
      "📦 Batch 90/101 — Loss: 0.5861\n",
      "📦 Batch 100/101 — Loss: 0.5860\n",
      "📦 Batch 101/101 — Loss: 0.5848\n",
      "✅ Epoch 10 completed — Avg Loss: 59.7313 — ⏱ 33.90 sec\n",
      "\n",
      "✅ Model saved as 'prostate_seg_model.pth'\n"
     ]
    }
   ],
   "source": [
    "import time\n",
    "import torch\n",
    "\n",
    "print(\"\\n🚀 Starting training...\\n\")\n",
    "for epoch in range(10):\n",
    "    print(f\"\\n--- Epoch {epoch + 1} ---\")\n",
    "    model.train()\n",
    "    epoch_loss = 0\n",
    "    start_time = time.time()\n",
    "\n",
    "    for batch_idx, batch in enumerate(train_loader):\n",
    "        images = batch[\"image\"].to(device)\n",
    "        labels = batch[\"label\"].to(device)\n",
    "\n",
    "        optimizer.zero_grad()\n",
    "        outputs = model(images)\n",
    "        loss = loss_fn(outputs, labels)\n",
    "        loss.backward()\n",
    "        optimizer.step()\n",
    "\n",
    "        # 🧹 Clear GPU memory after each batch\n",
    "        torch.cuda.empty_cache()\n",
    "\n",
    "        epoch_loss += loss.item()\n",
    "\n",
    "        if (batch_idx + 1) % 10 == 0 or (batch_idx + 1) == len(train_loader):\n",
    "            print(f\"📦 Batch {batch_idx + 1}/{len(train_loader)} — Loss: {loss.item():.4f}\")\n",
    "\n",
    "    elapsed = time.time() - start_time\n",
    "    print(f\"✅ Epoch {epoch + 1} completed — Avg Loss: {epoch_loss:.4f} — ⏱ {elapsed:.2f} sec\")\n",
    "\n",
    "torch.save(model.state_dict(), \"prostate_seg_model.pth\")\n",
    "print(\"\\n✅ Model saved as 'prostate_seg_model.pth'\")\n"
   ]
  },
  {
   "cell_type": "code",
   "execution_count": 43,
   "id": "b34c8659-7c17-4e33-83f0-fbcda0fdc878",
   "metadata": {},
   "outputs": [],
   "source": [
    "from monai.metrics import ConfusionMatrixMetric\n",
    "\n",
    "metric = ConfusionMatrixMetric(include_background=True, metric_name=\"accuracy\", reduction=\"mean\")\n",
    "\n",
    "# Convert to predicted class (argmax)\n",
    "y_pred_labels = torch.argmax(outputs, dim=1, keepdim=True)  # Shape: [1, 1, D, H, W]\n",
    "\n",
    "# Ensure label shape matches\n",
    "if labels.shape[1] != 1:\n",
    "    labels = labels[:, :1]\n",
    "\n",
    "# Now metric will work\n",
    "metric(y_pred=y_pred_labels, y=labels)\n",
    "#accuracy = metric.aggregate().item()\n",
    "accuracy = metric.aggregate()\n",
    "accuracy_scalar = accuracy[0].item()  # Take the first value from the list\n"
   ]
  }
 ],
 "metadata": {
  "kernelspec": {
   "display_name": "Python [conda env:base] *",
   "language": "python",
   "name": "conda-base-py"
  },
  "language_info": {
   "codemirror_mode": {
    "name": "ipython",
    "version": 3
   },
   "file_extension": ".py",
   "mimetype": "text/x-python",
   "name": "python",
   "nbconvert_exporter": "python",
   "pygments_lexer": "ipython3",
   "version": "3.12.7"
  }
 },
 "nbformat": 4,
 "nbformat_minor": 5
}
