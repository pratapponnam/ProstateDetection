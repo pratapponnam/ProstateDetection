{
 "cells": [
  {
   "cell_type": "code",
   "execution_count": 1,
   "id": "70aed60f-4ceb-4219-b71a-714460109e98",
   "metadata": {},
   "outputs": [
    {
     "name": "stderr",
     "output_type": "stream",
     "text": [
      "100%|██████████| 101/101 [01:32<00:00,  1.09it/s]"
     ]
    },
    {
     "name": "stdout",
     "output_type": "stream",
     "text": [
      "\n",
      "✅ Finished. Processed 101 patient volumes.\n"
     ]
    },
    {
     "name": "stderr",
     "output_type": "stream",
     "text": [
      "\n"
     ]
    }
   ],
   "source": [
    "import os\n",
    "import pydicom\n",
    "import SimpleITK as sitk\n",
    "import pandas as pd\n",
    "import numpy as np\n",
    "from tqdm import tqdm\n",
    "\n",
    "# --- Config ---\n",
    "DICOM_ROOT = r\"C:\\Users\\anude\\Downloads\\project\"\n",
    "KTRANS_DIR = r\"C:\\Users\\anude\\Downloads\\ProstateXKtrains-train-fixed\"\n",
    "FINDINGS_CSV = r\"C:\\Users\\anude\\Downloads\\project\\ProstateX-Findings-Train100.csv\"\n",
    "OUTPUT_DIR = r\"C:\\Users\\anude\\Downloads\\processed_data\"\n",
    "os.makedirs(OUTPUT_DIR, exist_ok=True)\n",
    "\n",
    "findings_df = pd.read_csv(FINDINGS_CSV)\n",
    "findings_df['ProxID'] = findings_df['ProxID'].astype(str)\n",
    "\n",
    "# Keywords for modality matching\n",
    "modality_keywords = {\n",
    "    \"T2\": [\"t2\", \"t2w\"],\n",
    "    \"ADC\": [\"adc\"],\n",
    "    \"DWI\": [\"dwi\", \"diffusion\", \"ep2d_diff\", \"ep2d\"]\n",
    "}\n",
    "\n",
    "# --- Functions ---\n",
    "def match_series_description(description, keywords):\n",
    "    description = description.lower()\n",
    "    return any(kw in description for kw in keywords)\n",
    "\n",
    "def find_series_by_modality(patient_folder, keywords):\n",
    "    for root, dirs, files in os.walk(patient_folder):\n",
    "        dcm_files = [f for f in files if f.endswith('.dcm')]\n",
    "        if not dcm_files:\n",
    "            continue\n",
    "        try:\n",
    "            sample_dcm = pydicom.dcmread(os.path.join(root, dcm_files[0]), stop_before_pixels=True)\n",
    "            if hasattr(sample_dcm, 'SeriesDescription'):\n",
    "                if match_series_description(sample_dcm.SeriesDescription, keywords):\n",
    "                    # Load full series as SimpleITK image\n",
    "                    series_paths = [os.path.join(root, f) for f in dcm_files]\n",
    "                    reader = sitk.ImageSeriesReader()\n",
    "                    reader.SetFileNames(series_paths)\n",
    "                    return reader.Execute()\n",
    "        except Exception:\n",
    "            continue\n",
    "    return None\n",
    "\n",
    "def load_ktrans_volume(ktrans_dir, proxid):\n",
    "    for root, dirs, files in os.walk(ktrans_dir):\n",
    "        for file in files:\n",
    "            if file.endswith(\".mhd\") and proxid in file:\n",
    "                return sitk.ReadImage(os.path.join(root, file))\n",
    "    return None\n",
    "\n",
    "\n",
    "def normalize(vol):\n",
    "    arr = sitk.GetArrayFromImage(vol).astype(np.float32)\n",
    "    return (arr - arr.min()) / (arr.max() - arr.min() + 1e-5)\n",
    "\n",
    "# --- Data Preprocessing ---\n",
    "processed = 0\n",
    "for proxid in tqdm(findings_df['ProxID'].unique()):\n",
    "    patient_folder = os.path.join(DICOM_ROOT, proxid)\n",
    "    if not os.path.isdir(patient_folder):\n",
    "        print(f\"[SKIP] Folder not found: ProstateX-{proxid}\")\n",
    "        continue\n",
    "\n",
    "    try:\n",
    "        t2 = find_series_by_modality(patient_folder, modality_keywords[\"T2\"])\n",
    "        adc = find_series_by_modality(patient_folder, modality_keywords[\"ADC\"])\n",
    "        ktrans = load_ktrans_volume(KTRANS_DIR, proxid)\n",
    "\n",
    "        if None in [t2, adc, ktrans]:\n",
    "            print(f\"[WARN] Missing one or more modalities for {proxid}\")\n",
    "            continue\n",
    "\n",
    "        # Resample adc and ktrans to match t2\n",
    "        resampler = sitk.ResampleImageFilter()\n",
    "        resampler.SetReferenceImage(t2)\n",
    "        adc = resampler.Execute(adc)\n",
    "        ktrans = resampler.Execute(ktrans)\n",
    "\n",
    "        t2_arr = normalize(t2)\n",
    "        adc_arr = normalize(adc)\n",
    "        ktrans_arr = normalize(ktrans)\n",
    "\n",
    "        stacked = np.stack([t2_arr, adc_arr, ktrans_arr], axis=0)  # [C, D, H, W]\n",
    "        np.save(os.path.join(OUTPUT_DIR, f\"{proxid}.npy\"), stacked)\n",
    "        processed += 1\n",
    "\n",
    "    except Exception as e:\n",
    "        print(f\"[ERROR] {proxid}: {e}\")\n",
    "\n",
    "print(f\"\\n✅ Finished. Processed {processed} patient volumes.\")\n"
   ]
  },
  {
   "cell_type": "code",
   "execution_count": 25,
   "id": "2fb5433d-a8c9-49b4-b4c4-3030bb97ba9b",
   "metadata": {},
   "outputs": [
    {
     "name": "stderr",
     "output_type": "stream",
     "text": [
      "Epoch 1/10: 100%|██████████| 29/29 [00:00<00:00, 46.67it/s]\n"
     ]
    },
    {
     "name": "stdout",
     "output_type": "stream",
     "text": [
      "Epoch 1 - Loss: 15.1699\n"
     ]
    },
    {
     "name": "stderr",
     "output_type": "stream",
     "text": [
      "Epoch 2/10: 100%|██████████| 29/29 [00:00<00:00, 47.42it/s]\n"
     ]
    },
    {
     "name": "stdout",
     "output_type": "stream",
     "text": [
      "Epoch 2 - Loss: 14.4958\n"
     ]
    },
    {
     "name": "stderr",
     "output_type": "stream",
     "text": [
      "Epoch 3/10: 100%|██████████| 29/29 [00:00<00:00, 45.29it/s]\n"
     ]
    },
    {
     "name": "stdout",
     "output_type": "stream",
     "text": [
      "Epoch 3 - Loss: 14.1417\n"
     ]
    },
    {
     "name": "stderr",
     "output_type": "stream",
     "text": [
      "Epoch 4/10: 100%|██████████| 29/29 [00:00<00:00, 47.65it/s]\n"
     ]
    },
    {
     "name": "stdout",
     "output_type": "stream",
     "text": [
      "Epoch 4 - Loss: 13.2095\n"
     ]
    },
    {
     "name": "stderr",
     "output_type": "stream",
     "text": [
      "Epoch 5/10: 100%|██████████| 29/29 [00:00<00:00, 47.34it/s]\n"
     ]
    },
    {
     "name": "stdout",
     "output_type": "stream",
     "text": [
      "Epoch 5 - Loss: 13.4180\n"
     ]
    },
    {
     "name": "stderr",
     "output_type": "stream",
     "text": [
      "Epoch 6/10: 100%|██████████| 29/29 [00:00<00:00, 47.84it/s]\n"
     ]
    },
    {
     "name": "stdout",
     "output_type": "stream",
     "text": [
      "Epoch 6 - Loss: 12.5728\n"
     ]
    },
    {
     "name": "stderr",
     "output_type": "stream",
     "text": [
      "Epoch 7/10: 100%|██████████| 29/29 [00:00<00:00, 47.96it/s]\n"
     ]
    },
    {
     "name": "stdout",
     "output_type": "stream",
     "text": [
      "Epoch 7 - Loss: 12.2436\n"
     ]
    },
    {
     "name": "stderr",
     "output_type": "stream",
     "text": [
      "Epoch 8/10: 100%|██████████| 29/29 [00:00<00:00, 48.80it/s]\n"
     ]
    },
    {
     "name": "stdout",
     "output_type": "stream",
     "text": [
      "Epoch 8 - Loss: 11.8945\n"
     ]
    },
    {
     "name": "stderr",
     "output_type": "stream",
     "text": [
      "Epoch 9/10: 100%|██████████| 29/29 [00:00<00:00, 48.22it/s]\n"
     ]
    },
    {
     "name": "stdout",
     "output_type": "stream",
     "text": [
      "Epoch 9 - Loss: 10.9986\n"
     ]
    },
    {
     "name": "stderr",
     "output_type": "stream",
     "text": [
      "Epoch 10/10: 100%|██████████| 29/29 [00:00<00:00, 48.56it/s]\n"
     ]
    },
    {
     "name": "stdout",
     "output_type": "stream",
     "text": [
      "Epoch 10 - Loss: 10.9985\n",
      "\n",
      "📊 Evaluation Report:\n",
      "              precision    recall  f1-score   support\n",
      "\n",
      " Not ClinSig       0.79      0.96      0.86        23\n",
      "     ClinSig       0.00      0.00      0.00         6\n",
      "\n",
      "    accuracy                           0.76        29\n",
      "   macro avg       0.39      0.48      0.43        29\n",
      "weighted avg       0.62      0.76      0.68        29\n",
      "\n"
     ]
    }
   ],
   "source": [
    "import os\n",
    "import numpy as np\n",
    "import torch\n",
    "import torch.nn.functional as F\n",
    "from torch import nn, optim\n",
    "from torch.utils.data import DataLoader, TensorDataset\n",
    "import pandas as pd\n",
    "from sklearn.model_selection import train_test_split\n",
    "from sklearn.metrics import classification_report\n",
    "from tqdm import tqdm\n",
    "\n",
    "# === Config ===\n",
    "DATA_DIR = r\"C:\\Users\\anude\\Downloads\\processed_data\"\n",
    "FINDINGS_CSV = r\"C:\\Users\\anude\\Downloads\\project\\ProstateX-Findings-Train100.csv\"\n",
    "BATCH_SIZE = 4\n",
    "EPOCHS = 10\n",
    "LR = 1e-4\n",
    "DEVICE = torch.device(\"cuda\" if torch.cuda.is_available() else \"cpu\")\n",
    "\n",
    "# === Load labels and volume paths ===\n",
    "df = pd.read_csv(FINDINGS_CSV)\n",
    "df = df.dropna(subset=['ClinSig'])\n",
    "df['ProxID'] = df['ProxID'].astype(str)\n",
    "df['ClinSig'] = df['ClinSig'].astype(int)\n",
    "\n",
    "# Only use IDs that have .npy files\n",
    "available_ids = {f.replace(\".npy\", \"\") for f in os.listdir(DATA_DIR)}\n",
    "df = df[df['ProxID'].isin(available_ids)]\n",
    "\n",
    "# Split into train/val\n",
    "train_df, val_df = train_test_split(df, test_size=0.2, stratify=df['ClinSig'], random_state=42)\n",
    "def resize_volume(vol, target_shape=(3, 64, 64, 64)):\n",
    "    c, d, h, w = vol.shape\n",
    "    tc, td, th, tw = target_shape\n",
    "    padded = np.zeros(target_shape, dtype=np.float32)\n",
    "    \n",
    "    # Crop if too big\n",
    "    d = min(d, td)\n",
    "    h = min(h, th)\n",
    "    w = min(w, tw)\n",
    "\n",
    "    padded[:c, :d, :h, :w] = vol[:c, :d, :h, :w]\n",
    "    return padded\n",
    "\n",
    "def load_tensor_dataset(dataframe, target_shape=(3, 64, 64, 64)):\n",
    "    x_list, y_list = [], []\n",
    "    for _, row in dataframe.iterrows():\n",
    "        try:\n",
    "            vol = np.load(os.path.join(DATA_DIR, f\"{row['ProxID']}.npy\")).astype(np.float32)\n",
    "            vol = resize_volume(vol, target_shape)\n",
    "            x_list.append(vol)\n",
    "            y_list.append(row['ClinSig'])\n",
    "        except Exception as e:\n",
    "            print(f\"[ERROR] Skipping {row['ProxID']}: {e}\")\n",
    "    x_tensor = torch.tensor(np.stack(x_list))  # [N, 3, 64, 64, 64]\n",
    "    y_tensor = torch.tensor(y_list, dtype=torch.float32)\n",
    "    return TensorDataset(x_tensor, y_tensor)\n",
    "\n",
    "train_data = load_tensor_dataset(train_df)\n",
    "val_data = load_tensor_dataset(val_df)\n",
    "\n",
    "train_loader = DataLoader(train_data, batch_size=BATCH_SIZE, shuffle=True)\n",
    "val_loader = DataLoader(val_data, batch_size=BATCH_SIZE, shuffle=False)\n",
    "\n",
    "# === Define model ===\n",
    "model = nn.Sequential(\n",
    "    nn.Conv3d(3, 16, kernel_size=3, padding=1),\n",
    "    nn.ReLU(),\n",
    "    nn.MaxPool3d(2),\n",
    "    nn.Conv3d(16, 32, kernel_size=3, padding=1),\n",
    "    nn.ReLU(),\n",
    "    nn.MaxPool3d(2),\n",
    "    nn.Flatten(),\n",
    "    nn.Linear(32 * 16 * 16 * 16, 128),  # adjust if input shape is different\n",
    "    nn.ReLU(),\n",
    "    nn.Linear(128, 1),\n",
    "    nn.Sigmoid()\n",
    ").to(DEVICE)\n",
    "\n",
    "# === Training ===\n",
    "optimizer = optim.Adam(model.parameters(), lr=LR)\n",
    "loss_fn = nn.BCELoss()\n",
    "\n",
    "for epoch in range(EPOCHS):\n",
    "    model.train()\n",
    "    total_loss = 0\n",
    "    for x_batch, y_batch in tqdm(train_loader, desc=f\"Epoch {epoch+1}/{EPOCHS}\"):\n",
    "        x_batch, y_batch = x_batch.to(DEVICE), y_batch.to(DEVICE)\n",
    "        optimizer.zero_grad()\n",
    "        outputs = model(x_batch).squeeze()\n",
    "        loss = loss_fn(outputs, y_batch)\n",
    "        loss.backward()\n",
    "        optimizer.step()\n",
    "        total_loss += loss.item()\n",
    "    print(f\"Epoch {epoch+1} - Loss: {total_loss:.4f}\")\n",
    "\n",
    "# === Evaluation ===\n",
    "model.eval()\n",
    "all_preds, all_labels = [], []\n",
    "with torch.no_grad():\n",
    "    for x_batch, y_batch in val_loader:\n",
    "        x_batch = x_batch.to(DEVICE)\n",
    "        preds = model(x_batch).squeeze().cpu().numpy()\n",
    "        preds = (preds > 0.5).astype(int)\n",
    "        all_preds += [int(preds)] if np.isscalar(preds) else preds.tolist()\n",
    "        all_labels += [int(y_batch)] if torch.numel(y_batch) == 1 else y_batch.numpy().tolist()\n",
    "\n",
    "print(\"\\n📊 Evaluation Report:\")\n",
    "print(classification_report(all_labels, all_preds, target_names=[\"Not ClinSig\", \"ClinSig\"]))\n"
   ]
  },
  {
   "cell_type": "code",
   "execution_count": 27,
   "id": "2a651a13-960a-487a-8738-e90ef1301d27",
   "metadata": {},
   "outputs": [
    {
     "name": "stdout",
     "output_type": "stream",
     "text": [
      "📊 Train Class Distribution:\n",
      "ClinSig\n",
      "0    94\n",
      "1    22\n",
      "Name: count, dtype: int64\n",
      "📊 Val Class Distribution:\n",
      "ClinSig\n",
      "0    23\n",
      "1     6\n",
      "Name: count, dtype: int64\n",
      "🧠 Using pos_weight=5.27\n"
     ]
    },
    {
     "name": "stderr",
     "output_type": "stream",
     "text": [
      "Epoch 1/10: 100%|██████████| 29/29 [00:00<00:00, 43.71it/s]\n"
     ]
    },
    {
     "name": "stdout",
     "output_type": "stream",
     "text": [
      "Epoch 1 - Loss: 37.5389\n"
     ]
    },
    {
     "name": "stderr",
     "output_type": "stream",
     "text": [
      "Epoch 2/10: 100%|██████████| 29/29 [00:00<00:00, 46.90it/s]\n"
     ]
    },
    {
     "name": "stdout",
     "output_type": "stream",
     "text": [
      "Epoch 2 - Loss: 36.4940\n"
     ]
    },
    {
     "name": "stderr",
     "output_type": "stream",
     "text": [
      "Epoch 3/10: 100%|██████████| 29/29 [00:00<00:00, 46.88it/s]\n"
     ]
    },
    {
     "name": "stdout",
     "output_type": "stream",
     "text": [
      "Epoch 3 - Loss: 36.5147\n"
     ]
    },
    {
     "name": "stderr",
     "output_type": "stream",
     "text": [
      "Epoch 4/10: 100%|██████████| 29/29 [00:00<00:00, 46.30it/s]\n"
     ]
    },
    {
     "name": "stdout",
     "output_type": "stream",
     "text": [
      "Epoch 4 - Loss: 36.5655\n"
     ]
    },
    {
     "name": "stderr",
     "output_type": "stream",
     "text": [
      "Epoch 5/10: 100%|██████████| 29/29 [00:00<00:00, 47.82it/s]\n"
     ]
    },
    {
     "name": "stdout",
     "output_type": "stream",
     "text": [
      "Epoch 5 - Loss: 36.4950\n"
     ]
    },
    {
     "name": "stderr",
     "output_type": "stream",
     "text": [
      "Epoch 6/10: 100%|██████████| 29/29 [00:00<00:00, 47.93it/s]\n"
     ]
    },
    {
     "name": "stdout",
     "output_type": "stream",
     "text": [
      "Epoch 6 - Loss: 36.3846\n"
     ]
    },
    {
     "name": "stderr",
     "output_type": "stream",
     "text": [
      "Epoch 7/10: 100%|██████████| 29/29 [00:00<00:00, 46.97it/s]\n"
     ]
    },
    {
     "name": "stdout",
     "output_type": "stream",
     "text": [
      "Epoch 7 - Loss: 36.1832\n"
     ]
    },
    {
     "name": "stderr",
     "output_type": "stream",
     "text": [
      "Epoch 8/10: 100%|██████████| 29/29 [00:00<00:00, 47.11it/s]\n"
     ]
    },
    {
     "name": "stdout",
     "output_type": "stream",
     "text": [
      "Epoch 8 - Loss: 36.1991\n"
     ]
    },
    {
     "name": "stderr",
     "output_type": "stream",
     "text": [
      "Epoch 9/10: 100%|██████████| 29/29 [00:00<00:00, 46.95it/s]\n"
     ]
    },
    {
     "name": "stdout",
     "output_type": "stream",
     "text": [
      "Epoch 9 - Loss: 36.2701\n"
     ]
    },
    {
     "name": "stderr",
     "output_type": "stream",
     "text": [
      "Epoch 10/10: 100%|██████████| 29/29 [00:00<00:00, 47.89it/s]\n"
     ]
    },
    {
     "name": "stdout",
     "output_type": "stream",
     "text": [
      "Epoch 10 - Loss: 36.1233\n",
      "\n",
      "📊 Final Evaluation Report:\n",
      "              precision    recall  f1-score   support\n",
      "\n",
      " Not ClinSig       1.00      0.04      0.08        23\n",
      "     ClinSig       0.21      1.00      0.35         6\n",
      "\n",
      "    accuracy                           0.24        29\n",
      "   macro avg       0.61      0.52      0.22        29\n",
      "weighted avg       0.84      0.24      0.14        29\n",
      "\n"
     ]
    }
   ],
   "source": [
    "import os\n",
    "import numpy as np\n",
    "import torch\n",
    "import torch.nn.functional as F\n",
    "from torch import nn, optim\n",
    "from torch.utils.data import DataLoader, TensorDataset\n",
    "import pandas as pd\n",
    "from sklearn.model_selection import train_test_split\n",
    "from sklearn.metrics import classification_report\n",
    "from tqdm import tqdm\n",
    "\n",
    "# === Config ===\n",
    "DATA_DIR = r\"C:\\Users\\anude\\Downloads\\processed_data\"\n",
    "FINDINGS_CSV = r\"C:\\Users\\anude\\Downloads\\project\\ProstateX-Findings-Train100.csv\"\n",
    "BATCH_SIZE = 4\n",
    "EPOCHS = 10\n",
    "LR = 1e-4\n",
    "TARGET_SHAPE = (3, 64, 64, 64)\n",
    "DEVICE = torch.device(\"cuda\" if torch.cuda.is_available() else \"cpu\")\n",
    "\n",
    "# === Load and Clean Labels ===\n",
    "df = pd.read_csv(FINDINGS_CSV)\n",
    "df = df.dropna(subset=['ClinSig'])\n",
    "df['ProxID'] = df['ProxID'].astype(str)\n",
    "df['ClinSig'] = df['ClinSig'].astype(int)\n",
    "\n",
    "# Fix double-prefix naming (if needed)\n",
    "df['ProxID'] = df['ProxID'].apply(lambda x: x if x.startswith(\"ProstateX-\") else f\"ProstateX-{x}\")\n",
    "available_ids = {f.replace(\".npy\", \"\") for f in os.listdir(DATA_DIR)}\n",
    "df = df[df['ProxID'].isin(available_ids)]\n",
    "\n",
    "# === Split ===\n",
    "train_df, val_df = train_test_split(df, test_size=0.2, stratify=df['ClinSig'], random_state=42)\n",
    "\n",
    "# === Utility: Resize to target shape ===\n",
    "def resize_volume(vol, target_shape):\n",
    "    c, d, h, w = vol.shape\n",
    "    tc, td, th, tw = target_shape\n",
    "    padded = np.zeros(target_shape, dtype=np.float32)\n",
    "    d = min(d, td)\n",
    "    h = min(h, th)\n",
    "    w = min(w, tw)\n",
    "    padded[:c, :d, :h, :w] = vol[:c, :d, :h, :w]\n",
    "    return padded\n",
    "\n",
    "# === Utility: Load volumes ===\n",
    "def load_tensor_dataset(dataframe, shape=TARGET_SHAPE):\n",
    "    x_list, y_list = [], []\n",
    "    for _, row in dataframe.iterrows():\n",
    "        try:\n",
    "            vol = np.load(os.path.join(DATA_DIR, f\"{row['ProxID']}.npy\")).astype(np.float32)\n",
    "            vol = resize_volume(vol, shape)\n",
    "            x_list.append(vol)\n",
    "            y_list.append(row['ClinSig'])\n",
    "        except Exception as e:\n",
    "            print(f\"[ERROR] Skipping {row['ProxID']}: {e}\")\n",
    "    x_tensor = torch.tensor(np.stack(x_list))\n",
    "    y_tensor = torch.tensor(y_list, dtype=torch.float32)\n",
    "    return TensorDataset(x_tensor, y_tensor)\n",
    "\n",
    "# === Load Datasets and Dataloaders ===\n",
    "train_data = load_tensor_dataset(train_df)\n",
    "val_data = load_tensor_dataset(val_df)\n",
    "train_loader = DataLoader(train_data, batch_size=BATCH_SIZE, shuffle=True)\n",
    "val_loader = DataLoader(val_data, batch_size=BATCH_SIZE, shuffle=False)\n",
    "\n",
    "# === Define 3D CNN ===\n",
    "model = nn.Sequential(\n",
    "    nn.Conv3d(3, 16, kernel_size=3, padding=1),\n",
    "    nn.ReLU(),\n",
    "    nn.MaxPool3d(2),\n",
    "    nn.Conv3d(16, 32, kernel_size=3, padding=1),\n",
    "    nn.ReLU(),\n",
    "    nn.MaxPool3d(2),\n",
    "    nn.Flatten(),\n",
    "    nn.Linear(32 * 16 * 16 * 16, 128),\n",
    "    nn.ReLU(),\n",
    "    nn.Linear(128, 1)  # <- No sigmoid here!\n",
    ").to(DEVICE)\n",
    "\n",
    "# === Balanced Loss Function ===\n",
    "pos_weight_val = len(train_df) / train_df['ClinSig'].sum()\n",
    "loss_fn = nn.BCEWithLogitsLoss(pos_weight=torch.tensor([pos_weight_val]).to(DEVICE))\n",
    "optimizer = optim.Adam(model.parameters(), lr=LR)\n",
    "\n",
    "print(f\"📊 Train Class Distribution:\\n{train_df['ClinSig'].value_counts()}\")\n",
    "print(f\"📊 Val Class Distribution:\\n{val_df['ClinSig'].value_counts()}\")\n",
    "print(f\"🧠 Using pos_weight={pos_weight_val:.2f}\")\n",
    "\n",
    "# === Training ===\n",
    "for epoch in range(EPOCHS):\n",
    "    model.train()\n",
    "    total_loss = 0\n",
    "    for x_batch, y_batch in tqdm(train_loader, desc=f\"Epoch {epoch+1}/{EPOCHS}\"):\n",
    "        x_batch, y_batch = x_batch.to(DEVICE), y_batch.to(DEVICE)\n",
    "        optimizer.zero_grad()\n",
    "        logits = model(x_batch).squeeze()\n",
    "        loss = loss_fn(logits, y_batch)\n",
    "        loss.backward()\n",
    "        optimizer.step()\n",
    "        total_loss += loss.item()\n",
    "    print(f\"Epoch {epoch+1} - Loss: {total_loss:.4f}\")\n",
    "\n",
    "# === Evaluation ===\n",
    "model.eval()\n",
    "all_preds, all_labels = [], []\n",
    "with torch.no_grad():\n",
    "    for x_batch, y_batch in val_loader:\n",
    "        x_batch = x_batch.to(DEVICE)\n",
    "        logits = model(x_batch).squeeze()\n",
    "        probs = torch.sigmoid(logits).cpu().numpy()\n",
    "        preds = (probs > 0.5).astype(int)\n",
    "        all_preds += preds.tolist() if not np.isscalar(preds) else [int(preds)]\n",
    "        all_labels += y_batch.numpy().tolist() if y_batch.ndim > 0 else [float(y_batch)]\n",
    "\n",
    "# === Report ===\n",
    "print(\"\\n📊 Final Evaluation Report:\")\n",
    "print(classification_report(all_labels, all_preds, target_names=[\"Not ClinSig\", \"ClinSig\"]))\n"
   ]
  },
  {
   "cell_type": "code",
   "execution_count": 2,
   "id": "17ebec12-e67e-4a87-9443-1f2cfbdaee5d",
   "metadata": {},
   "outputs": [
    {
     "name": "stdout",
     "output_type": "stream",
     "text": [
      "📊 Train class distribution:\n",
      " ClinSig\n",
      "0    94\n",
      "1    44\n",
      "Name: count, dtype: int64\n",
      "📊 Val class distribution:\n",
      " ClinSig\n",
      "0    23\n",
      "1     6\n",
      "Name: count, dtype: int64\n"
     ]
    },
    {
     "name": "stderr",
     "output_type": "stream",
     "text": [
      "Epoch 1/30: 100%|██████████| 35/35 [00:10<00:00,  3.23it/s]\n"
     ]
    },
    {
     "name": "stdout",
     "output_type": "stream",
     "text": [
      "Epoch 1 - Loss: 47.0493\n"
     ]
    },
    {
     "name": "stderr",
     "output_type": "stream",
     "text": [
      "Epoch 2/30: 100%|██████████| 35/35 [00:03<00:00, 11.04it/s]\n"
     ]
    },
    {
     "name": "stdout",
     "output_type": "stream",
     "text": [
      "Epoch 2 - Loss: 22.9375\n"
     ]
    },
    {
     "name": "stderr",
     "output_type": "stream",
     "text": [
      "Epoch 3/30: 100%|██████████| 35/35 [00:03<00:00, 11.27it/s]\n"
     ]
    },
    {
     "name": "stdout",
     "output_type": "stream",
     "text": [
      "Epoch 3 - Loss: 20.6285\n"
     ]
    },
    {
     "name": "stderr",
     "output_type": "stream",
     "text": [
      "Epoch 4/30: 100%|██████████| 35/35 [00:03<00:00, 11.39it/s]\n"
     ]
    },
    {
     "name": "stdout",
     "output_type": "stream",
     "text": [
      "Epoch 4 - Loss: 13.8662\n"
     ]
    },
    {
     "name": "stderr",
     "output_type": "stream",
     "text": [
      "Epoch 5/30: 100%|██████████| 35/35 [00:03<00:00, 11.24it/s]\n"
     ]
    },
    {
     "name": "stdout",
     "output_type": "stream",
     "text": [
      "Epoch 5 - Loss: 10.1938\n"
     ]
    },
    {
     "name": "stderr",
     "output_type": "stream",
     "text": [
      "Epoch 6/30: 100%|██████████| 35/35 [00:03<00:00, 11.33it/s]\n"
     ]
    },
    {
     "name": "stdout",
     "output_type": "stream",
     "text": [
      "Epoch 6 - Loss: 10.3677\n"
     ]
    },
    {
     "name": "stderr",
     "output_type": "stream",
     "text": [
      "Epoch 7/30: 100%|██████████| 35/35 [00:03<00:00, 11.38it/s]\n"
     ]
    },
    {
     "name": "stdout",
     "output_type": "stream",
     "text": [
      "Epoch 7 - Loss: 3.0000\n"
     ]
    },
    {
     "name": "stderr",
     "output_type": "stream",
     "text": [
      "Epoch 8/30: 100%|██████████| 35/35 [00:03<00:00, 10.89it/s]\n"
     ]
    },
    {
     "name": "stdout",
     "output_type": "stream",
     "text": [
      "Epoch 8 - Loss: 4.1359\n"
     ]
    },
    {
     "name": "stderr",
     "output_type": "stream",
     "text": [
      "Epoch 9/30: 100%|██████████| 35/35 [00:03<00:00, 11.09it/s]\n"
     ]
    },
    {
     "name": "stdout",
     "output_type": "stream",
     "text": [
      "Epoch 9 - Loss: 5.2895\n"
     ]
    },
    {
     "name": "stderr",
     "output_type": "stream",
     "text": [
      "Epoch 10/30: 100%|██████████| 35/35 [00:03<00:00, 11.12it/s]\n"
     ]
    },
    {
     "name": "stdout",
     "output_type": "stream",
     "text": [
      "Epoch 10 - Loss: 3.3963\n"
     ]
    },
    {
     "name": "stderr",
     "output_type": "stream",
     "text": [
      "Epoch 11/30: 100%|██████████| 35/35 [00:03<00:00, 11.08it/s]\n"
     ]
    },
    {
     "name": "stdout",
     "output_type": "stream",
     "text": [
      "Epoch 11 - Loss: 1.8101\n"
     ]
    },
    {
     "name": "stderr",
     "output_type": "stream",
     "text": [
      "Epoch 12/30: 100%|██████████| 35/35 [00:03<00:00, 11.10it/s]\n"
     ]
    },
    {
     "name": "stdout",
     "output_type": "stream",
     "text": [
      "Epoch 12 - Loss: 0.6904\n"
     ]
    },
    {
     "name": "stderr",
     "output_type": "stream",
     "text": [
      "Epoch 13/30: 100%|██████████| 35/35 [00:03<00:00, 10.85it/s]\n"
     ]
    },
    {
     "name": "stdout",
     "output_type": "stream",
     "text": [
      "Epoch 13 - Loss: 1.4547\n"
     ]
    },
    {
     "name": "stderr",
     "output_type": "stream",
     "text": [
      "Epoch 14/30: 100%|██████████| 35/35 [00:03<00:00, 11.20it/s]\n"
     ]
    },
    {
     "name": "stdout",
     "output_type": "stream",
     "text": [
      "Epoch 14 - Loss: 0.9169\n"
     ]
    },
    {
     "name": "stderr",
     "output_type": "stream",
     "text": [
      "Epoch 15/30: 100%|██████████| 35/35 [00:03<00:00, 11.26it/s]\n"
     ]
    },
    {
     "name": "stdout",
     "output_type": "stream",
     "text": [
      "Epoch 15 - Loss: 1.4194\n"
     ]
    },
    {
     "name": "stderr",
     "output_type": "stream",
     "text": [
      "Epoch 16/30: 100%|██████████| 35/35 [00:03<00:00, 11.42it/s]\n"
     ]
    },
    {
     "name": "stdout",
     "output_type": "stream",
     "text": [
      "Epoch 16 - Loss: 0.7510\n"
     ]
    },
    {
     "name": "stderr",
     "output_type": "stream",
     "text": [
      "Epoch 17/30: 100%|██████████| 35/35 [00:03<00:00, 11.46it/s]\n"
     ]
    },
    {
     "name": "stdout",
     "output_type": "stream",
     "text": [
      "Epoch 17 - Loss: 1.0909\n"
     ]
    },
    {
     "name": "stderr",
     "output_type": "stream",
     "text": [
      "Epoch 18/30: 100%|██████████| 35/35 [00:03<00:00, 11.26it/s]\n"
     ]
    },
    {
     "name": "stdout",
     "output_type": "stream",
     "text": [
      "Epoch 18 - Loss: 0.4858\n"
     ]
    },
    {
     "name": "stderr",
     "output_type": "stream",
     "text": [
      "Epoch 19/30: 100%|██████████| 35/35 [00:03<00:00, 11.23it/s]\n"
     ]
    },
    {
     "name": "stdout",
     "output_type": "stream",
     "text": [
      "Epoch 19 - Loss: 0.1918\n"
     ]
    },
    {
     "name": "stderr",
     "output_type": "stream",
     "text": [
      "Epoch 20/30: 100%|██████████| 35/35 [00:03<00:00, 11.34it/s]\n"
     ]
    },
    {
     "name": "stdout",
     "output_type": "stream",
     "text": [
      "Epoch 20 - Loss: 0.2493\n"
     ]
    },
    {
     "name": "stderr",
     "output_type": "stream",
     "text": [
      "Epoch 21/30: 100%|██████████| 35/35 [00:03<00:00, 11.39it/s]\n"
     ]
    },
    {
     "name": "stdout",
     "output_type": "stream",
     "text": [
      "Epoch 21 - Loss: 0.4357\n"
     ]
    },
    {
     "name": "stderr",
     "output_type": "stream",
     "text": [
      "Epoch 22/30: 100%|██████████| 35/35 [00:03<00:00, 11.30it/s]\n"
     ]
    },
    {
     "name": "stdout",
     "output_type": "stream",
     "text": [
      "Epoch 22 - Loss: 0.1847\n"
     ]
    },
    {
     "name": "stderr",
     "output_type": "stream",
     "text": [
      "Epoch 23/30: 100%|██████████| 35/35 [00:03<00:00, 11.23it/s]\n"
     ]
    },
    {
     "name": "stdout",
     "output_type": "stream",
     "text": [
      "Epoch 23 - Loss: 0.2358\n"
     ]
    },
    {
     "name": "stderr",
     "output_type": "stream",
     "text": [
      "Epoch 24/30: 100%|██████████| 35/35 [00:03<00:00, 11.32it/s]\n"
     ]
    },
    {
     "name": "stdout",
     "output_type": "stream",
     "text": [
      "Epoch 24 - Loss: 0.3810\n"
     ]
    },
    {
     "name": "stderr",
     "output_type": "stream",
     "text": [
      "Epoch 25/30: 100%|██████████| 35/35 [00:03<00:00, 11.36it/s]\n"
     ]
    },
    {
     "name": "stdout",
     "output_type": "stream",
     "text": [
      "Epoch 25 - Loss: 1.1357\n"
     ]
    },
    {
     "name": "stderr",
     "output_type": "stream",
     "text": [
      "Epoch 26/30: 100%|██████████| 35/35 [00:03<00:00, 11.42it/s]\n"
     ]
    },
    {
     "name": "stdout",
     "output_type": "stream",
     "text": [
      "Epoch 26 - Loss: 0.9633\n"
     ]
    },
    {
     "name": "stderr",
     "output_type": "stream",
     "text": [
      "Epoch 27/30: 100%|██████████| 35/35 [00:03<00:00, 11.43it/s]\n"
     ]
    },
    {
     "name": "stdout",
     "output_type": "stream",
     "text": [
      "Epoch 27 - Loss: 0.2797\n"
     ]
    },
    {
     "name": "stderr",
     "output_type": "stream",
     "text": [
      "Epoch 28/30: 100%|██████████| 35/35 [00:03<00:00, 11.29it/s]\n"
     ]
    },
    {
     "name": "stdout",
     "output_type": "stream",
     "text": [
      "Epoch 28 - Loss: 0.1981\n"
     ]
    },
    {
     "name": "stderr",
     "output_type": "stream",
     "text": [
      "Epoch 29/30: 100%|██████████| 35/35 [00:03<00:00, 11.26it/s]\n"
     ]
    },
    {
     "name": "stdout",
     "output_type": "stream",
     "text": [
      "Epoch 29 - Loss: 0.6357\n"
     ]
    },
    {
     "name": "stderr",
     "output_type": "stream",
     "text": [
      "Epoch 30/30: 100%|██████████| 35/35 [00:03<00:00, 11.23it/s]\n"
     ]
    },
    {
     "name": "stdout",
     "output_type": "stream",
     "text": [
      "Epoch 30 - Loss: 0.1501\n",
      "\n",
      "📊 Final Evaluation Report:\n",
      "              precision    recall  f1-score   support\n",
      "\n",
      " Not ClinSig       0.77      0.74      0.76        23\n",
      "     ClinSig       0.14      0.17      0.15         6\n",
      "\n",
      "    accuracy                           0.62        29\n",
      "   macro avg       0.46      0.45      0.45        29\n",
      "weighted avg       0.64      0.62      0.63        29\n",
      "\n",
      "\n",
      "🧠 Sample Predictions:\n",
      "ProstateX-0026: Predicted=1, Actual=1\n",
      "ProstateX-0045: Predicted=0, Actual=0\n",
      "ProstateX-0072: Predicted=1, Actual=0\n",
      "ProstateX-0084: Predicted=0, Actual=0\n",
      "ProstateX-0022: Predicted=1, Actual=0\n",
      "ProstateX-0054: Predicted=0, Actual=0\n",
      "ProstateX-0091: Predicted=1, Actual=0\n",
      "ProstateX-0100: Predicted=0, Actual=0\n",
      "ProstateX-0046: Predicted=0, Actual=0\n",
      "ProstateX-0076: Predicted=0, Actual=0\n"
     ]
    },
    {
     "data": {
      "text/plain": [
       "<Figure size 500x400 with 0 Axes>"
      ]
     },
     "metadata": {},
     "output_type": "display_data"
    },
    {
     "data": {
      "image/png": "[encoded data removed]",
      "text/plain": [
       "<Figure size 640x480 with 2 Axes>"
      ]
     },
     "metadata": {},
     "output_type": "display_data"
    }
   ],
   "source": [
    "import os\n",
    "import numpy as np\n",
    "import torch\n",
    "import torch.nn.functional as F\n",
    "from torch import nn, optim\n",
    "from torch.utils.data import DataLoader, TensorDataset\n",
    "import pandas as pd\n",
    "from sklearn.model_selection import train_test_split\n",
    "from sklearn.metrics import classification_report, confusion_matrix, ConfusionMatrixDisplay\n",
    "from tqdm import tqdm\n",
    "import matplotlib.pyplot as plt\n",
    "import random\n",
    "\n",
    "# === Config ===\n",
    "DATA_DIR = r\"C:\\Users\\anude\\Downloads\\processed_data\"\n",
    "FINDINGS_CSV = r\"C:\\Users\\anude\\Downloads\\project\\ProstateX-Findings-Train100.csv\"\n",
    "BATCH_SIZE = 4\n",
    "EPOCHS = 30\n",
    "LR = 1e-4\n",
    "GAMMA = 3.0\n",
    "THRESHOLD = 0.5\n",
    "TARGET_SHAPE = (3, 64, 64, 64)\n",
    "DEVICE = torch.device(\"cuda\" if torch.cuda.is_available() else \"cpu\")\n",
    "\n",
    "# === Focal Loss ===\n",
    "def focal_loss(logits, targets, gamma=GAMMA):\n",
    "    bce = F.binary_cross_entropy_with_logits(logits, targets, reduction='none')\n",
    "    pt = torch.exp(-bce)\n",
    "    return ((1 - pt) ** gamma * bce).mean()\n",
    "\n",
    "# === Augmentation ===\n",
    "def augment(volume):\n",
    "    if random.random() < 0.5:\n",
    "        volume = np.flip(volume, axis=2)  # Horizontal\n",
    "    if random.random() < 0.5:\n",
    "        volume = np.flip(volume, axis=3)  # Vertical\n",
    "    if random.random() < 0.5:\n",
    "        k = random.choice([1, 2, 3])\n",
    "        volume = np.rot90(volume, k, axes=(2, 3)).copy()\n",
    "    return volume\n",
    "\n",
    "# === Resize + optional augment ===\n",
    "def resize_volume(vol, target_shape, augment_flag=False):\n",
    "    if augment_flag:\n",
    "        vol = augment(vol)\n",
    "    c, d, h, w = vol.shape\n",
    "    tc, td, th, tw = target_shape\n",
    "    padded = np.zeros(target_shape, dtype=np.float32)\n",
    "    d, h, w = min(d, td), min(h, th), min(w, tw)\n",
    "    padded[:c, :d, :h, :w] = vol[:c, :d, :h, :w]\n",
    "    return padded\n",
    "\n",
    "# === Data loader with augment for ClinSig ===\n",
    "def load_tensor_dataset(df, shape=TARGET_SHAPE, augment_clinsig=False):\n",
    "    x_list, y_list, ids = [], [], []\n",
    "    for _, row in df.iterrows():\n",
    "        try:\n",
    "            vol = np.load(os.path.join(DATA_DIR, f\"{row['ProxID']}.npy\")).astype(np.float32)\n",
    "            is_clinsig = row['ClinSig'] == 1\n",
    "            vol = resize_volume(vol, shape, augment_flag=augment_clinsig and is_clinsig)\n",
    "            x_list.append(vol)\n",
    "            y_list.append(row['ClinSig'])\n",
    "            ids.append(row['ProxID'])\n",
    "        except Exception as e:\n",
    "            print(f\"[ERROR] Skipping {row['ProxID']}: {e}\")\n",
    "    x_tensor = torch.tensor(np.stack(x_list))\n",
    "    y_tensor = torch.tensor(y_list, dtype=torch.float32)\n",
    "    return TensorDataset(x_tensor, y_tensor), ids\n",
    "\n",
    "# === Data prep ===\n",
    "df = pd.read_csv(FINDINGS_CSV)\n",
    "df = df.dropna(subset=['ClinSig'])\n",
    "df['ProxID'] = df['ProxID'].astype(str)\n",
    "df['ClinSig'] = df['ClinSig'].astype(int)\n",
    "df['ProxID'] = df['ProxID'].apply(lambda x: x if x.startswith(\"ProstateX-\") else f\"ProstateX-{x}\")\n",
    "available_ids = {f.replace(\".npy\", \"\") for f in os.listdir(DATA_DIR)}\n",
    "df = df[df['ProxID'].isin(available_ids)]\n",
    "\n",
    "# === Train/val split + duplicate ClinSig once ===\n",
    "train_df, val_df = train_test_split(df, test_size=0.2, stratify=df['ClinSig'], random_state=42)\n",
    "clinsig_df = train_df[train_df['ClinSig'] == 1]\n",
    "train_df = pd.concat([train_df, clinsig_df], ignore_index=True)\n",
    "\n",
    "# === Display counts ===\n",
    "print(\"📊 Train class distribution:\\n\", train_df['ClinSig'].value_counts())\n",
    "print(\"📊 Val class distribution:\\n\", val_df['ClinSig'].value_counts())\n",
    "\n",
    "# === Load Datasets ===\n",
    "train_data, _ = load_tensor_dataset(train_df, augment_clinsig=True)\n",
    "val_data, val_ids = load_tensor_dataset(val_df)\n",
    "train_loader = DataLoader(train_data, batch_size=BATCH_SIZE, shuffle=True)\n",
    "val_loader = DataLoader(val_data, batch_size=BATCH_SIZE, shuffle=False)\n",
    "\n",
    "# === Deep CNN Model ===\n",
    "model = nn.Sequential(\n",
    "    nn.Conv3d(3, 16, 3, padding=1), nn.BatchNorm3d(16), nn.LeakyReLU(),\n",
    "    nn.Conv3d(16, 32, 3, padding=1), nn.BatchNorm3d(32), nn.LeakyReLU(),\n",
    "    nn.MaxPool3d(2),\n",
    "    nn.Conv3d(32, 64, 3, padding=1), nn.BatchNorm3d(64), nn.LeakyReLU(),\n",
    "    nn.MaxPool3d(2),\n",
    "    nn.Flatten(),\n",
    "    nn.Dropout(0.2),\n",
    "    nn.Linear(64 * 16 * 16 * 16, 256), nn.LeakyReLU(),\n",
    "    nn.Dropout(0.2),\n",
    "    nn.Linear(256, 1)\n",
    ").to(DEVICE)\n",
    "\n",
    "optimizer = optim.Adam(model.parameters(), lr=LR)\n",
    "scheduler = optim.lr_scheduler.ReduceLROnPlateau(optimizer, mode='min', patience=2, factor=0.5)\n",
    "\n",
    "# === Training Loop ===\n",
    "for epoch in range(EPOCHS):\n",
    "    model.train()\n",
    "    total_loss = 0\n",
    "    for x_batch, y_batch in tqdm(train_loader, desc=f\"Epoch {epoch+1}/{EPOCHS}\"):\n",
    "        x_batch, y_batch = x_batch.to(DEVICE), y_batch.to(DEVICE)\n",
    "        optimizer.zero_grad()\n",
    "        logits = model(x_batch).squeeze()\n",
    "        loss = focal_loss(logits, y_batch)\n",
    "        loss.backward()\n",
    "        optimizer.step()\n",
    "        total_loss += loss.item()\n",
    "    print(f\"Epoch {epoch+1} - Loss: {total_loss:.4f}\")\n",
    "    scheduler.step(total_loss)\n",
    "\n",
    "# === Evaluation ===\n",
    "model.eval()\n",
    "all_preds, all_labels, all_proxids = [], [], []\n",
    "index = 0\n",
    "\n",
    "with torch.no_grad():\n",
    "    for x_batch, y_batch in val_loader:\n",
    "        x_batch = x_batch.to(DEVICE)\n",
    "        logits = model(x_batch).squeeze()\n",
    "        probs = torch.sigmoid(logits).cpu().numpy()\n",
    "        preds = (probs > THRESHOLD).astype(int)\n",
    "        preds = np.atleast_1d(preds)\n",
    "        y_batch = y_batch.numpy()\n",
    "        for i in range(len(preds)):\n",
    "            prox_id = val_ids[index]\n",
    "            all_proxids.append(prox_id)\n",
    "            all_preds.append(int(preds[i]))\n",
    "            all_labels.append(int(y_batch[i]))\n",
    "            index += 1\n",
    "\n",
    "# === Report ===\n",
    "print(\"\\n📊 Final Evaluation Report:\")\n",
    "print(classification_report(all_labels, all_preds, target_names=[\"Not ClinSig\", \"ClinSig\"], zero_division=0))\n",
    "\n",
    "print(\"\\n🧠 Sample Predictions:\")\n",
    "for pid, pred, label in zip(all_proxids[:10], all_preds[:10], all_labels[:10]):\n",
    "    print(f\"{pid}: Predicted={pred}, Actual={label}\")\n",
    "\n",
    "# === Confusion Matrix ===\n",
    "cm = confusion_matrix(all_labels, all_preds, labels=[0, 1])\n",
    "disp = ConfusionMatrixDisplay(confusion_matrix=cm, display_labels=[\"Not ClinSig\", \"ClinSig\"])\n",
    "plt.figure(figsize=(5, 4))\n",
    "disp.plot(cmap=plt.cm.Blues, values_format='d')\n",
    "plt.title(\"Confusion Matrix\")\n",
    "plt.tight_layout()\n",
    "plt.show()\n"
   ]
  },
  {
   "cell_type": "code",
   "execution_count": 37,
   "id": "96103eb7-6394-432a-a17d-697cf6e86975",
   "metadata": {},
   "outputs": [
    {
     "name": "stdout",
     "output_type": "stream",
     "text": [
      "📊 Train class distribution:\n",
      " ClinSig\n",
      "0    94\n",
      "1    44\n",
      "Name: count, dtype: int64\n",
      "📊 Val class distribution:\n",
      " ClinSig\n",
      "0    23\n",
      "1     6\n",
      "Name: count, dtype: int64\n"
     ]
    },
    {
     "name": "stderr",
     "output_type": "stream",
     "text": [
      "Epoch 1/30: 100%|██████████| 35/35 [00:03<00:00, 11.52it/s]\n"
     ]
    },
    {
     "name": "stdout",
     "output_type": "stream",
     "text": [
      "Epoch 1 - Loss: 59.5957\n"
     ]
    },
    {
     "name": "stderr",
     "output_type": "stream",
     "text": [
      "Epoch 2/30: 100%|██████████| 35/35 [00:03<00:00, 11.40it/s]\n"
     ]
    },
    {
     "name": "stdout",
     "output_type": "stream",
     "text": [
      "Epoch 2 - Loss: 23.9127\n"
     ]
    },
    {
     "name": "stderr",
     "output_type": "stream",
     "text": [
      "Epoch 3/30: 100%|██████████| 35/35 [00:02<00:00, 11.69it/s]\n"
     ]
    },
    {
     "name": "stdout",
     "output_type": "stream",
     "text": [
      "Epoch 3 - Loss: 29.3511\n"
     ]
    },
    {
     "name": "stderr",
     "output_type": "stream",
     "text": [
      "Epoch 4/30: 100%|██████████| 35/35 [00:03<00:00, 11.64it/s]\n"
     ]
    },
    {
     "name": "stdout",
     "output_type": "stream",
     "text": [
      "Epoch 4 - Loss: 17.2489\n"
     ]
    },
    {
     "name": "stderr",
     "output_type": "stream",
     "text": [
      "Epoch 5/30: 100%|██████████| 35/35 [00:03<00:00, 11.53it/s]\n"
     ]
    },
    {
     "name": "stdout",
     "output_type": "stream",
     "text": [
      "Epoch 5 - Loss: 9.8323\n"
     ]
    },
    {
     "name": "stderr",
     "output_type": "stream",
     "text": [
      "Epoch 6/30: 100%|██████████| 35/35 [00:03<00:00, 11.54it/s]\n"
     ]
    },
    {
     "name": "stdout",
     "output_type": "stream",
     "text": [
      "Epoch 6 - Loss: 3.0905\n"
     ]
    },
    {
     "name": "stderr",
     "output_type": "stream",
     "text": [
      "Epoch 7/30: 100%|██████████| 35/35 [00:03<00:00, 11.42it/s]\n"
     ]
    },
    {
     "name": "stdout",
     "output_type": "stream",
     "text": [
      "Epoch 7 - Loss: 3.7106\n"
     ]
    },
    {
     "name": "stderr",
     "output_type": "stream",
     "text": [
      "Epoch 8/30: 100%|██████████| 35/35 [00:03<00:00, 11.45it/s]\n"
     ]
    },
    {
     "name": "stdout",
     "output_type": "stream",
     "text": [
      "Epoch 8 - Loss: 7.0994\n"
     ]
    },
    {
     "name": "stderr",
     "output_type": "stream",
     "text": [
      "Epoch 9/30: 100%|██████████| 35/35 [00:03<00:00, 11.57it/s]\n"
     ]
    },
    {
     "name": "stdout",
     "output_type": "stream",
     "text": [
      "Epoch 9 - Loss: 2.4752\n"
     ]
    },
    {
     "name": "stderr",
     "output_type": "stream",
     "text": [
      "Epoch 10/30: 100%|██████████| 35/35 [00:03<00:00, 11.36it/s]\n"
     ]
    },
    {
     "name": "stdout",
     "output_type": "stream",
     "text": [
      "Epoch 10 - Loss: 4.7508\n"
     ]
    },
    {
     "name": "stderr",
     "output_type": "stream",
     "text": [
      "Epoch 11/30: 100%|██████████| 35/35 [00:03<00:00, 11.52it/s]\n"
     ]
    },
    {
     "name": "stdout",
     "output_type": "stream",
     "text": [
      "Epoch 11 - Loss: 5.6577\n"
     ]
    },
    {
     "name": "stderr",
     "output_type": "stream",
     "text": [
      "Epoch 12/30: 100%|██████████| 35/35 [00:03<00:00, 11.58it/s]\n"
     ]
    },
    {
     "name": "stdout",
     "output_type": "stream",
     "text": [
      "Epoch 12 - Loss: 1.9095\n"
     ]
    },
    {
     "name": "stderr",
     "output_type": "stream",
     "text": [
      "Epoch 13/30: 100%|██████████| 35/35 [00:03<00:00, 11.40it/s]\n"
     ]
    },
    {
     "name": "stdout",
     "output_type": "stream",
     "text": [
      "Epoch 13 - Loss: 2.6641\n"
     ]
    },
    {
     "name": "stderr",
     "output_type": "stream",
     "text": [
      "Epoch 14/30: 100%|██████████| 35/35 [00:03<00:00, 11.35it/s]\n"
     ]
    },
    {
     "name": "stdout",
     "output_type": "stream",
     "text": [
      "Epoch 14 - Loss: 5.5289\n"
     ]
    },
    {
     "name": "stderr",
     "output_type": "stream",
     "text": [
      "Epoch 15/30: 100%|██████████| 35/35 [00:03<00:00, 11.42it/s]\n"
     ]
    },
    {
     "name": "stdout",
     "output_type": "stream",
     "text": [
      "Epoch 15 - Loss: 6.7989\n"
     ]
    },
    {
     "name": "stderr",
     "output_type": "stream",
     "text": [
      "Epoch 16/30: 100%|██████████| 35/35 [00:03<00:00, 11.46it/s]\n"
     ]
    },
    {
     "name": "stdout",
     "output_type": "stream",
     "text": [
      "Epoch 16 - Loss: 2.2078\n"
     ]
    },
    {
     "name": "stderr",
     "output_type": "stream",
     "text": [
      "Epoch 17/30: 100%|██████████| 35/35 [00:03<00:00, 11.51it/s]\n"
     ]
    },
    {
     "name": "stdout",
     "output_type": "stream",
     "text": [
      "Epoch 17 - Loss: 2.0110\n"
     ]
    },
    {
     "name": "stderr",
     "output_type": "stream",
     "text": [
      "Epoch 18/30: 100%|██████████| 35/35 [00:03<00:00, 11.36it/s]\n"
     ]
    },
    {
     "name": "stdout",
     "output_type": "stream",
     "text": [
      "Epoch 18 - Loss: 1.3117\n"
     ]
    },
    {
     "name": "stderr",
     "output_type": "stream",
     "text": [
      "Epoch 19/30: 100%|██████████| 35/35 [00:03<00:00, 11.43it/s]\n"
     ]
    },
    {
     "name": "stdout",
     "output_type": "stream",
     "text": [
      "Epoch 19 - Loss: 0.7694\n"
     ]
    },
    {
     "name": "stderr",
     "output_type": "stream",
     "text": [
      "Epoch 20/30: 100%|██████████| 35/35 [00:03<00:00, 11.51it/s]\n"
     ]
    },
    {
     "name": "stdout",
     "output_type": "stream",
     "text": [
      "Epoch 20 - Loss: 0.5123\n"
     ]
    },
    {
     "name": "stderr",
     "output_type": "stream",
     "text": [
      "Epoch 21/30: 100%|██████████| 35/35 [00:03<00:00, 11.58it/s]\n"
     ]
    },
    {
     "name": "stdout",
     "output_type": "stream",
     "text": [
      "Epoch 21 - Loss: 0.4750\n"
     ]
    },
    {
     "name": "stderr",
     "output_type": "stream",
     "text": [
      "Epoch 22/30: 100%|██████████| 35/35 [00:03<00:00, 11.46it/s]\n"
     ]
    },
    {
     "name": "stdout",
     "output_type": "stream",
     "text": [
      "Epoch 22 - Loss: 0.4454\n"
     ]
    },
    {
     "name": "stderr",
     "output_type": "stream",
     "text": [
      "Epoch 23/30: 100%|██████████| 35/35 [00:03<00:00, 11.38it/s]\n"
     ]
    },
    {
     "name": "stdout",
     "output_type": "stream",
     "text": [
      "Epoch 23 - Loss: 0.5568\n"
     ]
    },
    {
     "name": "stderr",
     "output_type": "stream",
     "text": [
      "Epoch 24/30: 100%|██████████| 35/35 [00:03<00:00, 11.44it/s]\n"
     ]
    },
    {
     "name": "stdout",
     "output_type": "stream",
     "text": [
      "Epoch 24 - Loss: 0.7683\n"
     ]
    },
    {
     "name": "stderr",
     "output_type": "stream",
     "text": [
      "Epoch 25/30: 100%|██████████| 35/35 [00:03<00:00, 11.42it/s]\n"
     ]
    },
    {
     "name": "stdout",
     "output_type": "stream",
     "text": [
      "Epoch 25 - Loss: 0.4998\n"
     ]
    },
    {
     "name": "stderr",
     "output_type": "stream",
     "text": [
      "Epoch 26/30: 100%|██████████| 35/35 [00:03<00:00, 11.44it/s]\n"
     ]
    },
    {
     "name": "stdout",
     "output_type": "stream",
     "text": [
      "Epoch 26 - Loss: 0.5002\n"
     ]
    },
    {
     "name": "stderr",
     "output_type": "stream",
     "text": [
      "Epoch 27/30: 100%|██████████| 35/35 [00:03<00:00, 11.42it/s]\n"
     ]
    },
    {
     "name": "stdout",
     "output_type": "stream",
     "text": [
      "Epoch 27 - Loss: 1.0041\n"
     ]
    },
    {
     "name": "stderr",
     "output_type": "stream",
     "text": [
      "Epoch 28/30: 100%|██████████| 35/35 [00:03<00:00, 11.40it/s]\n"
     ]
    },
    {
     "name": "stdout",
     "output_type": "stream",
     "text": [
      "Epoch 28 - Loss: 0.4866\n"
     ]
    },
    {
     "name": "stderr",
     "output_type": "stream",
     "text": [
      "Epoch 29/30: 100%|██████████| 35/35 [00:03<00:00, 11.27it/s]\n"
     ]
    },
    {
     "name": "stdout",
     "output_type": "stream",
     "text": [
      "Epoch 29 - Loss: 0.3943\n"
     ]
    },
    {
     "name": "stderr",
     "output_type": "stream",
     "text": [
      "Epoch 30/30: 100%|██████████| 35/35 [00:03<00:00, 11.36it/s]\n"
     ]
    },
    {
     "name": "stdout",
     "output_type": "stream",
     "text": [
      "Epoch 30 - Loss: 0.5450\n",
      "\n",
      "📊 Final Evaluation Report:\n",
      "              precision    recall  f1-score   support\n",
      "\n",
      " Not ClinSig       0.79      0.83      0.81        23\n",
      "     ClinSig       0.20      0.17      0.18         6\n",
      "\n",
      "    accuracy                           0.69        29\n",
      "   macro avg       0.50      0.50      0.50        29\n",
      "weighted avg       0.67      0.69      0.68        29\n",
      "\n",
      "\n",
      "🧠 Sample Predictions:\n",
      "ProstateX-0026: Predicted=1, Actual=1\n",
      "ProstateX-0045: Predicted=0, Actual=0\n",
      "ProstateX-0072: Predicted=0, Actual=0\n",
      "ProstateX-0084: Predicted=0, Actual=0\n",
      "ProstateX-0022: Predicted=1, Actual=0\n",
      "ProstateX-0054: Predicted=0, Actual=0\n",
      "ProstateX-0091: Predicted=1, Actual=0\n",
      "ProstateX-0100: Predicted=0, Actual=0\n",
      "ProstateX-0046: Predicted=0, Actual=0\n",
      "ProstateX-0076: Predicted=0, Actual=0\n"
     ]
    },
    {
     "data": {
      "text/plain": [
       "<Figure size 500x400 with 0 Axes>"
      ]
     },
     "metadata": {},
     "output_type": "display_data"
    },
    {
     "data": {
      "image/png": "[encoded data removed]",
      "text/plain": [
       "<Figure size 640x480 with 2 Axes>"
      ]
     },
     "metadata": {},
     "output_type": "display_data"
    }
   ],
   "source": [
    "import os\n",
    "import numpy as np\n",
    "import torch\n",
    "import torch.nn.functional as F\n",
    "from torch import nn, optim\n",
    "from torch.utils.data import DataLoader, TensorDataset\n",
    "import pandas as pd\n",
    "from sklearn.model_selection import train_test_split\n",
    "from sklearn.metrics import classification_report, confusion_matrix, ConfusionMatrixDisplay\n",
    "from tqdm import tqdm\n",
    "import matplotlib.pyplot as plt\n",
    "import random\n",
    "\n",
    "# === Config ===\n",
    "DATA_DIR = r\"C:\\Users\\anude\\Downloads\\processed_data\"\n",
    "FINDINGS_CSV = r\"C:\\Users\\anude\\Downloads\\project\\ProstateX-Findings-Train100.csv\"\n",
    "BATCH_SIZE = 4\n",
    "EPOCHS = 30\n",
    "LR = 1e-4\n",
    "GAMMA = 3.0\n",
    "THRESHOLD = 0.5\n",
    "TARGET_SHAPE = (3, 64, 64, 64)\n",
    "DEVICE = torch.device(\"cuda\" if torch.cuda.is_available() else \"cpu\")\n",
    "\n",
    "# === Focal Loss ===\n",
    "def focal_loss(logits, targets, gamma=GAMMA):\n",
    "    bce = F.binary_cross_entropy_with_logits(logits, targets, reduction='none')\n",
    "    pt = torch.exp(-bce)\n",
    "    return ((1 - pt) ** gamma * bce).mean()\n",
    "\n",
    "# === Augmentation ===\n",
    "def augment(volume):\n",
    "    if random.random() < 0.5:\n",
    "        volume = np.flip(volume, axis=2)  # Horizontal\n",
    "    if random.random() < 0.5:\n",
    "        volume = np.flip(volume, axis=3)  # Vertical\n",
    "    if random.random() < 0.5:\n",
    "        k = random.choice([1, 2, 3])\n",
    "        volume = np.rot90(volume, k, axes=(2, 3)).copy()\n",
    "    return volume\n",
    "\n",
    "# === Resize + optional augment ===\n",
    "def resize_volume(vol, target_shape, augment_flag=False):\n",
    "    if augment_flag:\n",
    "        vol = augment(vol)\n",
    "    c, d, h, w = vol.shape\n",
    "    tc, td, th, tw = target_shape\n",
    "    padded = np.zeros(target_shape, dtype=np.float32)\n",
    "    d, h, w = min(d, td), min(h, th), min(w, tw)\n",
    "    padded[:c, :d, :h, :w] = vol[:c, :d, :h, :w]\n",
    "    return padded\n",
    "\n",
    "# === Data loader with augment for ClinSig ===\n",
    "def load_tensor_dataset(df, shape=TARGET_SHAPE, augment_clinsig=False):\n",
    "    x_list, y_list, ids = [], [], []\n",
    "    for _, row in df.iterrows():\n",
    "        try:\n",
    "            vol = np.load(os.path.join(DATA_DIR, f\"{row['ProxID']}.npy\")).astype(np.float32)\n",
    "            is_clinsig = row['ClinSig'] == 1\n",
    "            vol = resize_volume(vol, shape, augment_flag=augment_clinsig and is_clinsig)\n",
    "            x_list.append(vol)\n",
    "            y_list.append(row['ClinSig'])\n",
    "            ids.append(row['ProxID'])\n",
    "        except Exception as e:\n",
    "            print(f\"[ERROR] Skipping {row['ProxID']}: {e}\")\n",
    "    x_tensor = torch.tensor(np.stack(x_list))\n",
    "    y_tensor = torch.tensor(y_list, dtype=torch.float32)\n",
    "    return TensorDataset(x_tensor, y_tensor), ids\n",
    "\n",
    "# === Data prep ===\n",
    "df = pd.read_csv(FINDINGS_CSV)\n",
    "df = df.dropna(subset=['ClinSig'])\n",
    "df['ProxID'] = df['ProxID'].astype(str)\n",
    "df['ClinSig'] = df['ClinSig'].astype(int)\n",
    "df['ProxID'] = df['ProxID'].apply(lambda x: x if x.startswith(\"ProstateX-\") else f\"ProstateX-{x}\")\n",
    "available_ids = {f.replace(\".npy\", \"\") for f in os.listdir(DATA_DIR)}\n",
    "df = df[df['ProxID'].isin(available_ids)]\n",
    "\n",
    "# === Train/val split + duplicate ClinSig once ===\n",
    "train_df, val_df = train_test_split(df, test_size=0.2, stratify=df['ClinSig'], random_state=42)\n",
    "clinsig_df = train_df[train_df['ClinSig'] == 1]\n",
    "train_df = pd.concat([train_df, clinsig_df], ignore_index=True)\n",
    "\n",
    "# === Display counts ===\n",
    "print(\"📊 Train class distribution:\\n\", train_df['ClinSig'].value_counts())\n",
    "print(\"📊 Val class distribution:\\n\", val_df['ClinSig'].value_counts())\n",
    "\n",
    "# === Load Datasets ===\n",
    "train_data, _ = load_tensor_dataset(train_df, augment_clinsig=True)\n",
    "val_data, val_ids = load_tensor_dataset(val_df)\n",
    "train_loader = DataLoader(train_data, batch_size=BATCH_SIZE, shuffle=True)\n",
    "val_loader = DataLoader(val_data, batch_size=BATCH_SIZE, shuffle=False)\n",
    "\n",
    "# === Deep CNN Model ===\n",
    "model = nn.Sequential(\n",
    "    nn.Conv3d(3, 16, 3, padding=1), nn.BatchNorm3d(16), nn.LeakyReLU(),\n",
    "    nn.Conv3d(16, 32, 3, padding=1), nn.BatchNorm3d(32), nn.LeakyReLU(),\n",
    "    nn.MaxPool3d(2),\n",
    "    nn.Conv3d(32, 64, 3, padding=1), nn.BatchNorm3d(64), nn.LeakyReLU(),\n",
    "    nn.MaxPool3d(2),\n",
    "    nn.Flatten(),\n",
    "    nn.Dropout(0.2),\n",
    "    nn.Linear(64 * 16 * 16 * 16, 256), nn.LeakyReLU(),\n",
    "    nn.Dropout(0.2),\n",
    "    nn.Linear(256, 1)\n",
    ").to(DEVICE)\n",
    "\n",
    "optimizer = optim.Adam(model.parameters(), lr=LR)\n",
    "scheduler = optim.lr_scheduler.ReduceLROnPlateau(optimizer, mode='min', patience=2, factor=0.5)\n",
    "\n",
    "# === Training Loop ===\n",
    "for epoch in range(EPOCHS):\n",
    "    model.train()\n",
    "    total_loss = 0\n",
    "    for x_batch, y_batch in tqdm(train_loader, desc=f\"Epoch {epoch+1}/{EPOCHS}\"):\n",
    "        x_batch, y_batch = x_batch.to(DEVICE), y_batch.to(DEVICE)\n",
    "        optimizer.zero_grad()\n",
    "        logits = model(x_batch).squeeze()\n",
    "        loss = focal_loss(logits, y_batch)\n",
    "        loss.backward()\n",
    "        optimizer.step()\n",
    "        total_loss += loss.item()\n",
    "    print(f\"Epoch {epoch+1} - Loss: {total_loss:.4f}\")\n",
    "    scheduler.step(total_loss)\n",
    "\n",
    "\n",
    "\n",
    "# === Evaluation ===\n",
    "model.eval()\n",
    "all_preds, all_labels, all_proxids = [], [], []\n",
    "index = 0\n",
    "\n",
    "with torch.no_grad():\n",
    "    for x_batch, y_batch in val_loader:\n",
    "        x_batch = x_batch.to(DEVICE)\n",
    "        logits = model(x_batch).squeeze()\n",
    "        probs = torch.sigmoid(logits).cpu().numpy()\n",
    "        preds = (probs > THRESHOLD).astype(int)\n",
    "        preds = np.atleast_1d(preds)\n",
    "        y_batch = y_batch.numpy()\n",
    "        for i in range(len(preds)):\n",
    "            prox_id = val_ids[index]\n",
    "            all_proxids.append(prox_id)\n",
    "            all_preds.append(int(preds[i]))\n",
    "            all_labels.append(int(y_batch[i]))\n",
    "            index += 1\n",
    "\n",
    "# === Report ===\n",
    "print(\"\\n📊 Final Evaluation Report:\")\n",
    "print(classification_report(all_labels, all_preds, target_names=[\"Not ClinSig\", \"ClinSig\"], zero_division=0))\n",
    "\n",
    "print(\"\\n🧠 Sample Predictions:\")\n",
    "for pid, pred, label in zip(all_proxids[:10], all_preds[:10], all_labels[:10]):\n",
    "    print(f\"{pid}: Predicted={pred}, Actual={label}\")\n",
    "\n",
    "# === Confusion Matrix ===\n",
    "cm = confusion_matrix(all_labels, all_preds, labels=[0, 1])\n",
    "disp = ConfusionMatrixDisplay(confusion_matrix=cm, display_labels=[\"Not ClinSig\", \"ClinSig\"])\n",
    "plt.figure(figsize=(5, 4))\n",
    "disp.plot(cmap=plt.cm.Blues, values_format='d')\n",
    "plt.title(\"Confusion Matrix\")\n",
    "plt.tight_layout()\n",
    "plt.show()\n"
   ]
  },
  {
   "cell_type": "code",
   "execution_count": 9,
   "id": "cb2d434b-3d3a-4029-89d8-9f62bf98de56",
   "metadata": {},
   "outputs": [
    {
     "name": "stdout",
     "output_type": "stream",
     "text": [
      "\n",
      "📊 Final Evaluation Report:\n",
      "              precision    recall  f1-score   support\n",
      "\n",
      " Not ClinSig       0.74      0.74      0.74        23\n",
      "     ClinSig       0.00      0.00      0.00         6\n",
      "\n",
      "    accuracy                           0.59        29\n",
      "   macro avg       0.37      0.37      0.37        29\n",
      "weighted avg       0.59      0.59      0.59        29\n",
      "\n",
      "\n",
      "🧠 Sample Predictions:\n",
      "ProstateX-0026: Predicted=0, Actual=1\n",
      "ProstateX-0045: Predicted=0, Actual=0\n",
      "ProstateX-0072: Predicted=0, Actual=0\n",
      "ProstateX-0084: Predicted=0, Actual=0\n",
      "ProstateX-0022: Predicted=1, Actual=0\n",
      "ProstateX-0054: Predicted=1, Actual=0\n",
      "ProstateX-0091: Predicted=1, Actual=0\n",
      "ProstateX-0100: Predicted=0, Actual=0\n",
      "ProstateX-0046: Predicted=0, Actual=0\n",
      "ProstateX-0076: Predicted=0, Actual=0\n"
     ]
    },
    {
     "data": {
      "text/plain": [
       "<Figure size 500x400 with 0 Axes>"
      ]
     },
     "metadata": {},
     "output_type": "display_data"
    },
    {
     "data": {
      "image/png": "[encoded data removed]",
      "text/plain": [
       "<Figure size 640x480 with 2 Axes>"
      ]
     },
     "metadata": {},
     "output_type": "display_data"
    },
    {
     "name": "stdout",
     "output_type": "stream",
     "text": [
      "\n",
      "📊 Threshold Sweep:\n",
      "Threshold 0.30 → Precision: 0.15, Recall: 0.67\n",
      "Threshold 0.35 → Precision: 0.16, Recall: 0.50\n",
      "Threshold 0.40 → Precision: 0.23, Recall: 0.50\n",
      "Threshold 0.45 → Precision: 0.11, Recall: 0.17\n",
      "Threshold 0.50 → Precision: 0.00, Recall: 0.00\n",
      "Threshold 0.55 → Precision: 0.00, Recall: 0.00\n",
      "Threshold 0.60 → Precision: 0.00, Recall: 0.00\n",
      "Threshold 0.65 → Precision: 0.00, Recall: 0.00\n",
      "Threshold 0.70 → Precision: 0.00, Recall: 0.00\n",
      "Threshold 0.75 → Precision: 0.00, Recall: 0.00\n",
      "Threshold 0.80 → Precision: 0.00, Recall: 0.00\n"
     ]
    }
   ],
   "source": [
    "\n",
    "# === Evaluate ===\n",
    "model.eval()\n",
    "all_preds, all_labels, all_proxids, all_probs = [], [], [], []\n",
    "index = 0\n",
    "with torch.no_grad():\n",
    "    for x_batch, y_batch in val_loader:\n",
    "        x_batch = x_batch.to(DEVICE)\n",
    "        logits = model(x_batch).squeeze()\n",
    "        probs = torch.sigmoid(logits).cpu().numpy()\n",
    "        preds = (probs > THRESHOLD).astype(int)\n",
    "        all_probs.extend(np.atleast_1d(probs).tolist())\n",
    "        preds = np.atleast_1d(preds); y_batch = y_batch.numpy()\n",
    "        for i in range(len(preds)):\n",
    "            all_proxids.append(val_ids[index])\n",
    "            all_preds.append(int(preds[i]))\n",
    "            all_labels.append(int(y_batch[i]))\n",
    "            index += 1\n",
    "\n",
    "print(\"\\n📊 Final Evaluation Report:\")\n",
    "print(classification_report(all_labels, all_preds, target_names=[\"Not ClinSig\", \"ClinSig\"], zero_division=0))\n",
    "print(\"\\n🧠 Sample Predictions:\")\n",
    "for pid, pred, label in zip(all_proxids[:10], all_preds[:10], all_labels[:10]):\n",
    "    print(f\"{pid}: Predicted={pred}, Actual={label}\")\n",
    "\n",
    "cm = confusion_matrix(all_labels, all_preds, labels=[0, 1])\n",
    "disp = ConfusionMatrixDisplay(confusion_matrix=cm, display_labels=[\"Not ClinSig\", \"ClinSig\"])\n",
    "plt.figure(figsize=(5, 4))\n",
    "disp.plot(cmap=plt.cm.Blues, values_format='d')\n",
    "plt.title(\"Confusion Matrix\"); plt.tight_layout(); plt.show()\n",
    "\n",
    "# === Threshold Sweep ===\n",
    "print(\"\\n📊 Threshold Sweep:\")\n",
    "for t in np.arange(0.3, 0.81, 0.05):\n",
    "    test_preds = (np.array(all_probs) > t).astype(int)\n",
    "    p = precision_score(all_labels, test_preds, zero_division=0)\n",
    "    r = recall_score(all_labels, test_preds, zero_division=0)\n",
    "    print(f\"Threshold {t:.2f} → Precision: {p:.2f}, Recall: {r:.2f}\")\n"
   ]
  },
  {
   "cell_type": "code",
   "execution_count": 11,
   "id": "72335ec6-1e02-4123-b2b1-e5fb67f53662",
   "metadata": {},
   "outputs": [
    {
     "name": "stdout",
     "output_type": "stream",
     "text": [
      "\n",
      "🔍 Dynamic Threshold Search (Optimising F1 Score):\n",
      "Thresh   Prec     Rec      F1      \n",
      "0.10     0.21     1.00     0.34\n",
      "0.11     0.21     1.00     0.34\n",
      "0.12     0.21     1.00     0.34\n",
      "0.13     0.21     1.00     0.34\n",
      "0.14     0.21     1.00     0.34\n",
      "0.15     0.21     1.00     0.34\n",
      "0.16     0.21     1.00     0.34\n",
      "0.17     0.21     1.00     0.34\n",
      "0.18     0.21     1.00     0.34\n",
      "0.19     0.21     1.00     0.34\n",
      "0.20     0.21     1.00     0.34\n",
      "0.21     0.21     1.00     0.34\n",
      "0.22     0.21     1.00     0.34\n",
      "0.23     0.21     1.00     0.34\n",
      "0.24     0.21     1.00     0.34\n",
      "0.25     0.21     1.00     0.34\n",
      "0.26     0.18     0.83     0.29\n",
      "0.27     0.18     0.83     0.29\n",
      "0.28     0.18     0.83     0.29\n",
      "0.29     0.15     0.67     0.24\n",
      "0.30     0.15     0.67     0.24\n",
      "0.31     0.12     0.50     0.19\n",
      "0.32     0.12     0.50     0.20\n",
      "0.33     0.14     0.50     0.21\n",
      "0.34     0.15     0.50     0.23\n",
      "0.35     0.16     0.50     0.24\n",
      "0.36     0.16     0.50     0.24\n",
      "0.37     0.16     0.50     0.24\n",
      "0.38     0.17     0.50     0.25\n",
      "0.39     0.20     0.50     0.29\n",
      "0.40     0.23     0.50     0.32\n",
      "0.41     0.18     0.33     0.24\n",
      "0.42     0.18     0.33     0.24\n",
      "0.43     0.10     0.17     0.12\n",
      "0.44     0.10     0.17     0.12\n",
      "0.45     0.11     0.17     0.13\n",
      "0.46     0.11     0.17     0.13\n",
      "0.47     0.12     0.17     0.14\n",
      "0.48     0.00     0.00     0.00\n",
      "0.49     0.00     0.00     0.00\n",
      "0.50     0.00     0.00     0.00\n",
      "0.51     0.00     0.00     0.00\n",
      "0.52     0.00     0.00     0.00\n",
      "0.53     0.00     0.00     0.00\n",
      "0.54     0.00     0.00     0.00\n",
      "0.55     0.00     0.00     0.00\n",
      "0.56     0.00     0.00     0.00\n",
      "0.57     0.00     0.00     0.00\n",
      "0.58     0.00     0.00     0.00\n",
      "0.59     0.00     0.00     0.00\n",
      "0.60     0.00     0.00     0.00\n",
      "0.61     0.00     0.00     0.00\n",
      "0.62     0.00     0.00     0.00\n",
      "0.63     0.00     0.00     0.00\n",
      "0.64     0.00     0.00     0.00\n",
      "0.65     0.00     0.00     0.00\n",
      "0.66     0.00     0.00     0.00\n",
      "0.67     0.00     0.00     0.00\n",
      "0.68     0.00     0.00     0.00\n",
      "0.69     0.00     0.00     0.00\n",
      "0.70     0.00     0.00     0.00\n",
      "0.71     0.00     0.00     0.00\n",
      "0.72     0.00     0.00     0.00\n",
      "0.73     0.00     0.00     0.00\n",
      "0.74     0.00     0.00     0.00\n",
      "0.75     0.00     0.00     0.00\n",
      "0.76     0.00     0.00     0.00\n",
      "0.77     0.00     0.00     0.00\n",
      "0.78     0.00     0.00     0.00\n",
      "0.79     0.00     0.00     0.00\n",
      "0.80     0.00     0.00     0.00\n",
      "\n",
      "✅ Best Threshold: 0.10 with F1 Score: 0.34\n",
      "\n",
      "📊 Classification Report at Best Threshold:\n",
      "              precision    recall  f1-score   support\n",
      "\n",
      " Not ClinSig       0.00      0.00      0.00        23\n",
      "     ClinSig       0.21      1.00      0.34         6\n",
      "\n",
      "    accuracy                           0.21        29\n",
      "   macro avg       0.10      0.50      0.17        29\n",
      "weighted avg       0.04      0.21      0.07        29\n",
      "\n"
     ]
    },
    {
     "data": {
      "text/plain": [
       "<Figure size 500x400 with 0 Axes>"
      ]
     },
     "metadata": {},
     "output_type": "display_data"
    },
    {
     "data": {
      "image/png": "[encoded data removed]",
      "text/plain": [
       "<Figure size 640x480 with 2 Axes>"
      ]
     },
     "metadata": {},
     "output_type": "display_data"
    }
   ],
   "source": [
    "from sklearn.metrics import f1_score, precision_score, recall_score\n",
    "\n",
    "# === Dynamic Threshold Optimisation ===\n",
    "best_threshold = 0.5\n",
    "best_f1 = 0.0\n",
    "\n",
    "print(\"\\n🔍 Dynamic Threshold Search (Optimising F1 Score):\")\n",
    "print(f\"{'Thresh':<8} {'Prec':<8} {'Rec':<8} {'F1':<8}\")\n",
    "for t in np.arange(0.1, 0.81, 0.01):\n",
    "    test_preds = (np.array(all_probs) > t).astype(int)\n",
    "    prec = precision_score(all_labels, test_preds, zero_division=0)\n",
    "    rec = recall_score(all_labels, test_preds, zero_division=0)\n",
    "    f1 = f1_score(all_labels, test_preds, zero_division=0)\n",
    "    print(f\"{t:.2f}     {prec:.2f}     {rec:.2f}     {f1:.2f}\")\n",
    "    if f1 > best_f1:\n",
    "        best_f1 = f1\n",
    "        best_threshold = t\n",
    "\n",
    "print(f\"\\n✅ Best Threshold: {best_threshold:.2f} with F1 Score: {best_f1:.2f}\")\n",
    "\n",
    "# === Final Report with Best Threshold ===\n",
    "final_preds = (np.array(all_probs) > best_threshold).astype(int)\n",
    "print(\"\\n📊 Classification Report at Best Threshold:\")\n",
    "print(classification_report(all_labels, final_preds, target_names=[\"Not ClinSig\", \"ClinSig\"], zero_division=0))\n",
    "\n",
    "# === Updated Confusion Matrix ===\n",
    "cm_best = confusion_matrix(all_labels, final_preds, labels=[0, 1])\n",
    "disp = ConfusionMatrixDisplay(confusion_matrix=cm_best, display_labels=[\"Not ClinSig\", \"ClinSig\"])\n",
    "plt.figure(figsize=(5, 4))\n",
    "disp.plot(cmap=plt.cm.Blues, values_format='d')\n",
    "plt.title(f\"Confusion Matrix @ Threshold = {best_threshold:.2f}\")\n",
    "plt.tight_layout()\n",
    "plt.show()\n"
   ]
  },
  {
   "cell_type": "code",
   "execution_count": 13,
   "id": "a56dbddd-25bf-481d-bdde-677053e5e5a3",
   "metadata": {},
   "outputs": [
    {
     "name": "stdout",
     "output_type": "stream",
     "text": [
      "📊 Train class distribution:\n",
      " ClinSig\n",
      "0    94\n",
      "1    44\n",
      "Name: count, dtype: int64\n",
      "📊 Val class distribution:\n",
      " ClinSig\n",
      "0    23\n",
      "1     6\n",
      "Name: count, dtype: int64\n"
     ]
    },
    {
     "name": "stderr",
     "output_type": "stream",
     "text": [
      "Epoch 1/30: 100%|██████████| 35/35 [00:02<00:00, 14.49it/s]\n"
     ]
    },
    {
     "name": "stdout",
     "output_type": "stream",
     "text": [
      "Epoch 1 - Loss: 3.0881\n"
     ]
    },
    {
     "name": "stderr",
     "output_type": "stream",
     "text": [
      "Epoch 2/30: 100%|██████████| 35/35 [00:02<00:00, 14.38it/s]\n"
     ]
    },
    {
     "name": "stdout",
     "output_type": "stream",
     "text": [
      "Epoch 2 - Loss: 2.5116\n"
     ]
    },
    {
     "name": "stderr",
     "output_type": "stream",
     "text": [
      "Epoch 3/30: 100%|██████████| 35/35 [00:02<00:00, 14.30it/s]\n"
     ]
    },
    {
     "name": "stdout",
     "output_type": "stream",
     "text": [
      "Epoch 3 - Loss: 2.4834\n"
     ]
    },
    {
     "name": "stderr",
     "output_type": "stream",
     "text": [
      "Epoch 4/30: 100%|██████████| 35/35 [00:02<00:00, 14.48it/s]\n"
     ]
    },
    {
     "name": "stdout",
     "output_type": "stream",
     "text": [
      "Epoch 4 - Loss: 2.3563\n"
     ]
    },
    {
     "name": "stderr",
     "output_type": "stream",
     "text": [
      "Epoch 5/30: 100%|██████████| 35/35 [00:02<00:00, 14.46it/s]\n"
     ]
    },
    {
     "name": "stdout",
     "output_type": "stream",
     "text": [
      "Epoch 5 - Loss: 2.2605\n"
     ]
    },
    {
     "name": "stderr",
     "output_type": "stream",
     "text": [
      "Epoch 6/30: 100%|██████████| 35/35 [00:02<00:00, 14.53it/s]\n"
     ]
    },
    {
     "name": "stdout",
     "output_type": "stream",
     "text": [
      "Epoch 6 - Loss: 2.0482\n"
     ]
    },
    {
     "name": "stderr",
     "output_type": "stream",
     "text": [
      "Epoch 7/30: 100%|██████████| 35/35 [00:02<00:00, 14.59it/s]\n"
     ]
    },
    {
     "name": "stdout",
     "output_type": "stream",
     "text": [
      "Epoch 7 - Loss: 1.9578\n"
     ]
    },
    {
     "name": "stderr",
     "output_type": "stream",
     "text": [
      "Epoch 8/30: 100%|██████████| 35/35 [00:02<00:00, 14.46it/s]\n"
     ]
    },
    {
     "name": "stdout",
     "output_type": "stream",
     "text": [
      "Epoch 8 - Loss: 2.0088\n"
     ]
    },
    {
     "name": "stderr",
     "output_type": "stream",
     "text": [
      "Epoch 9/30: 100%|██████████| 35/35 [00:02<00:00, 14.18it/s]\n"
     ]
    },
    {
     "name": "stdout",
     "output_type": "stream",
     "text": [
      "Epoch 9 - Loss: 1.9087\n"
     ]
    },
    {
     "name": "stderr",
     "output_type": "stream",
     "text": [
      "Epoch 10/30: 100%|██████████| 35/35 [00:02<00:00, 14.45it/s]\n"
     ]
    },
    {
     "name": "stdout",
     "output_type": "stream",
     "text": [
      "Epoch 10 - Loss: 1.8686\n"
     ]
    },
    {
     "name": "stderr",
     "output_type": "stream",
     "text": [
      "Epoch 11/30: 100%|██████████| 35/35 [00:02<00:00, 14.04it/s]\n"
     ]
    },
    {
     "name": "stdout",
     "output_type": "stream",
     "text": [
      "Epoch 11 - Loss: 2.1207\n"
     ]
    },
    {
     "name": "stderr",
     "output_type": "stream",
     "text": [
      "Epoch 12/30: 100%|██████████| 35/35 [00:02<00:00, 14.10it/s]\n"
     ]
    },
    {
     "name": "stdout",
     "output_type": "stream",
     "text": [
      "Epoch 12 - Loss: 1.8288\n"
     ]
    },
    {
     "name": "stderr",
     "output_type": "stream",
     "text": [
      "Epoch 13/30: 100%|██████████| 35/35 [00:02<00:00, 14.25it/s]\n"
     ]
    },
    {
     "name": "stdout",
     "output_type": "stream",
     "text": [
      "Epoch 13 - Loss: 1.9432\n"
     ]
    },
    {
     "name": "stderr",
     "output_type": "stream",
     "text": [
      "Epoch 14/30: 100%|██████████| 35/35 [00:02<00:00, 14.33it/s]\n"
     ]
    },
    {
     "name": "stdout",
     "output_type": "stream",
     "text": [
      "Epoch 14 - Loss: 1.6961\n"
     ]
    },
    {
     "name": "stderr",
     "output_type": "stream",
     "text": [
      "Epoch 15/30: 100%|██████████| 35/35 [00:02<00:00, 14.21it/s]\n"
     ]
    },
    {
     "name": "stdout",
     "output_type": "stream",
     "text": [
      "Epoch 15 - Loss: 1.6682\n"
     ]
    },
    {
     "name": "stderr",
     "output_type": "stream",
     "text": [
      "Epoch 16/30: 100%|██████████| 35/35 [00:02<00:00, 14.20it/s]\n"
     ]
    },
    {
     "name": "stdout",
     "output_type": "stream",
     "text": [
      "Epoch 16 - Loss: 1.4630\n"
     ]
    },
    {
     "name": "stderr",
     "output_type": "stream",
     "text": [
      "Epoch 17/30: 100%|██████████| 35/35 [00:02<00:00, 14.46it/s]\n"
     ]
    },
    {
     "name": "stdout",
     "output_type": "stream",
     "text": [
      "Epoch 17 - Loss: 1.3897\n"
     ]
    },
    {
     "name": "stderr",
     "output_type": "stream",
     "text": [
      "Epoch 18/30: 100%|██████████| 35/35 [00:02<00:00, 14.36it/s]\n"
     ]
    },
    {
     "name": "stdout",
     "output_type": "stream",
     "text": [
      "Epoch 18 - Loss: 1.8812\n"
     ]
    },
    {
     "name": "stderr",
     "output_type": "stream",
     "text": [
      "Epoch 19/30: 100%|██████████| 35/35 [00:02<00:00, 14.43it/s]\n"
     ]
    },
    {
     "name": "stdout",
     "output_type": "stream",
     "text": [
      "Epoch 19 - Loss: 1.5777\n"
     ]
    },
    {
     "name": "stderr",
     "output_type": "stream",
     "text": [
      "Epoch 20/30: 100%|██████████| 35/35 [00:02<00:00, 14.44it/s]\n"
     ]
    },
    {
     "name": "stdout",
     "output_type": "stream",
     "text": [
      "Epoch 20 - Loss: 1.3841\n"
     ]
    },
    {
     "name": "stderr",
     "output_type": "stream",
     "text": [
      "Epoch 21/30: 100%|██████████| 35/35 [00:02<00:00, 14.35it/s]\n"
     ]
    },
    {
     "name": "stdout",
     "output_type": "stream",
     "text": [
      "Epoch 21 - Loss: 1.3520\n"
     ]
    },
    {
     "name": "stderr",
     "output_type": "stream",
     "text": [
      "Epoch 22/30: 100%|██████████| 35/35 [00:02<00:00, 13.98it/s]\n"
     ]
    },
    {
     "name": "stdout",
     "output_type": "stream",
     "text": [
      "Epoch 22 - Loss: 1.3287\n"
     ]
    },
    {
     "name": "stderr",
     "output_type": "stream",
     "text": [
      "Epoch 23/30: 100%|██████████| 35/35 [00:02<00:00, 14.18it/s]\n"
     ]
    },
    {
     "name": "stdout",
     "output_type": "stream",
     "text": [
      "Epoch 23 - Loss: 1.4042\n"
     ]
    },
    {
     "name": "stderr",
     "output_type": "stream",
     "text": [
      "Epoch 24/30: 100%|██████████| 35/35 [00:02<00:00, 14.26it/s]\n"
     ]
    },
    {
     "name": "stdout",
     "output_type": "stream",
     "text": [
      "Epoch 24 - Loss: 1.4086\n"
     ]
    },
    {
     "name": "stderr",
     "output_type": "stream",
     "text": [
      "Epoch 25/30: 100%|██████████| 35/35 [00:02<00:00, 14.28it/s]\n"
     ]
    },
    {
     "name": "stdout",
     "output_type": "stream",
     "text": [
      "Epoch 25 - Loss: 1.3395\n"
     ]
    },
    {
     "name": "stderr",
     "output_type": "stream",
     "text": [
      "Epoch 26/30: 100%|██████████| 35/35 [00:02<00:00, 14.27it/s]\n"
     ]
    },
    {
     "name": "stdout",
     "output_type": "stream",
     "text": [
      "Epoch 26 - Loss: 1.1168\n"
     ]
    },
    {
     "name": "stderr",
     "output_type": "stream",
     "text": [
      "Epoch 27/30: 100%|██████████| 35/35 [00:02<00:00, 14.26it/s]\n"
     ]
    },
    {
     "name": "stdout",
     "output_type": "stream",
     "text": [
      "Epoch 27 - Loss: 1.4877\n"
     ]
    },
    {
     "name": "stderr",
     "output_type": "stream",
     "text": [
      "Epoch 28/30: 100%|██████████| 35/35 [00:02<00:00, 14.16it/s]\n"
     ]
    },
    {
     "name": "stdout",
     "output_type": "stream",
     "text": [
      "Epoch 28 - Loss: 1.1875\n"
     ]
    },
    {
     "name": "stderr",
     "output_type": "stream",
     "text": [
      "Epoch 29/30: 100%|██████████| 35/35 [00:02<00:00, 14.21it/s]\n"
     ]
    },
    {
     "name": "stdout",
     "output_type": "stream",
     "text": [
      "Epoch 29 - Loss: 1.0074\n"
     ]
    },
    {
     "name": "stderr",
     "output_type": "stream",
     "text": [
      "Epoch 30/30: 100%|██████████| 35/35 [00:02<00:00, 14.24it/s]\n"
     ]
    },
    {
     "name": "stdout",
     "output_type": "stream",
     "text": [
      "Epoch 30 - Loss: 1.2360\n",
      "\n",
      "🔍 Dynamic Threshold Search (Optimising F1 Score):\n",
      "Thresh   Prec     Rec      F1      \n",
      "0.10     0.21     1.00     0.34\n",
      "0.11     0.21     1.00     0.34\n",
      "0.12     0.21     1.00     0.34\n",
      "0.13     0.21     1.00     0.35\n",
      "0.14     0.19     0.83     0.30\n",
      "0.15     0.19     0.83     0.30\n",
      "0.16     0.19     0.83     0.30\n",
      "0.17     0.19     0.83     0.30\n",
      "0.18     0.19     0.83     0.30\n",
      "0.19     0.16     0.67     0.26\n",
      "0.20     0.16     0.67     0.26\n",
      "0.21     0.12     0.50     0.20\n",
      "0.22     0.13     0.50     0.21\n",
      "0.23     0.13     0.50     0.21\n",
      "0.24     0.13     0.50     0.21\n",
      "0.25     0.13     0.50     0.21\n",
      "0.26     0.13     0.50     0.21\n",
      "0.27     0.14     0.50     0.21\n",
      "0.28     0.14     0.50     0.21\n",
      "0.29     0.15     0.50     0.23\n",
      "0.30     0.15     0.50     0.23\n",
      "0.31     0.11     0.33     0.16\n",
      "0.32     0.11     0.33     0.17\n",
      "0.33     0.11     0.33     0.17\n",
      "0.34     0.12     0.33     0.17\n",
      "0.35     0.12     0.33     0.17\n",
      "0.36     0.13     0.33     0.19\n",
      "0.37     0.14     0.33     0.20\n",
      "0.38     0.15     0.33     0.21\n",
      "0.39     0.15     0.33     0.21\n",
      "0.40     0.18     0.33     0.24\n",
      "0.41     0.10     0.17     0.12\n",
      "0.42     0.10     0.17     0.12\n",
      "0.43     0.11     0.17     0.13\n",
      "0.44     0.11     0.17     0.13\n",
      "0.45     0.11     0.17     0.13\n",
      "0.46     0.14     0.17     0.15\n",
      "0.47     0.14     0.17     0.15\n",
      "0.48     0.14     0.17     0.15\n",
      "0.49     0.14     0.17     0.15\n",
      "0.50     0.14     0.17     0.15\n",
      "0.51     0.14     0.17     0.15\n",
      "0.52     0.14     0.17     0.15\n",
      "0.53     0.14     0.17     0.15\n",
      "0.54     0.14     0.17     0.15\n",
      "0.55     0.14     0.17     0.15\n",
      "0.56     0.00     0.00     0.00\n",
      "0.57     0.00     0.00     0.00\n",
      "0.58     0.00     0.00     0.00\n",
      "0.59     0.00     0.00     0.00\n",
      "0.60     0.00     0.00     0.00\n",
      "0.61     0.00     0.00     0.00\n",
      "0.62     0.00     0.00     0.00\n",
      "0.63     0.00     0.00     0.00\n",
      "0.64     0.00     0.00     0.00\n",
      "0.65     0.00     0.00     0.00\n",
      "0.66     0.00     0.00     0.00\n",
      "0.67     0.00     0.00     0.00\n",
      "0.68     0.00     0.00     0.00\n",
      "0.69     0.00     0.00     0.00\n",
      "0.70     0.00     0.00     0.00\n",
      "0.71     0.00     0.00     0.00\n",
      "0.72     0.00     0.00     0.00\n",
      "0.73     0.00     0.00     0.00\n",
      "0.74     0.00     0.00     0.00\n",
      "0.75     0.00     0.00     0.00\n",
      "0.76     0.00     0.00     0.00\n",
      "0.77     0.00     0.00     0.00\n",
      "0.78     0.00     0.00     0.00\n",
      "0.79     0.00     0.00     0.00\n",
      "0.80     0.00     0.00     0.00\n",
      "\n",
      "✅ Best Threshold: 0.13 with F1 Score: 0.35\n",
      "\n",
      "📊 Classification Report at Best Threshold:\n",
      "              precision    recall  f1-score   support\n",
      "\n",
      " Not ClinSig       1.00      0.04      0.08        23\n",
      "     ClinSig       0.21      1.00      0.35         6\n",
      "\n",
      "    accuracy                           0.24        29\n",
      "   macro avg       0.61      0.52      0.22        29\n",
      "weighted avg       0.84      0.24      0.14        29\n",
      "\n"
     ]
    },
    {
     "data": {
      "text/plain": [
       "<Figure size 500x400 with 0 Axes>"
      ]
     },
     "metadata": {},
     "output_type": "display_data"
    },
    {
     "data": {
      "image/png": "[encoded data removed]",
      "text/plain": [
       "<Figure size 640x480 with 2 Axes>"
      ]
     },
     "metadata": {},
     "output_type": "display_data"
    }
   ],
   "source": [
    "import os, random, numpy as np, pandas as pd, matplotlib.pyplot as plt\n",
    "import torch, torch.nn.functional as F\n",
    "from torch import nn, optim\n",
    "from torch.utils.data import DataLoader, TensorDataset\n",
    "from sklearn.model_selection import train_test_split\n",
    "from sklearn.metrics import classification_report, confusion_matrix, ConfusionMatrixDisplay, precision_score, recall_score, f1_score\n",
    "from tqdm import tqdm\n",
    "\n",
    "# === Config ===\n",
    "DATA_DIR = r\"C:\\Users\\anude\\Downloads\\processed_data\"\n",
    "FINDINGS_CSV = r\"C:\\Users\\anude\\Downloads\\project\\ProstateX-Findings-Train100.csv\"\n",
    "BATCH_SIZE, EPOCHS, LR = 4, 30, 1e-4\n",
    "THRESHOLD = 0.5  # used for final evaluation, will be tuned dynamically\n",
    "GAMMA = 3.0\n",
    "TARGET_SHAPE = (3, 64, 64, 64)\n",
    "DEVICE = torch.device(\"cuda\" if torch.cuda.is_available() else \"cpu\")\n",
    "\n",
    "# === Focal loss ===\n",
    "def focal_loss(logits, targets, gamma=GAMMA):\n",
    "    bce = F.binary_cross_entropy_with_logits(logits, targets, reduction='none')\n",
    "    pt = torch.exp(-bce)\n",
    "    return ((1 - pt) ** gamma * bce).mean()\n",
    "\n",
    "# === Augmentation (reduced) ===\n",
    "def augment(volume):\n",
    "    if random.random() < 0.5: volume = np.flip(volume, axis=2)\n",
    "    if random.random() < 0.5: volume = np.flip(volume, axis=3)\n",
    "    return volume\n",
    "\n",
    "# === Resize + augment\n",
    "def resize_volume(vol, target_shape, augment_flag=False):\n",
    "    if augment_flag: vol = augment(vol)\n",
    "    c, d, h, w = vol.shape\n",
    "    padded = np.zeros(target_shape, dtype=np.float32)\n",
    "    d, h, w = min(d, target_shape[1]), min(h, target_shape[2]), min(w, target_shape[3])\n",
    "    padded[:c, :d, :h, :w] = vol[:c, :d, :h, :w]\n",
    "    return padded\n",
    "\n",
    "# === Dataset loader\n",
    "def load_tensor_dataset(df, shape=TARGET_SHAPE, augment_clinsig=False):\n",
    "    x_list, y_list, ids = [], [], []\n",
    "    for _, row in df.iterrows():\n",
    "        try:\n",
    "            vol = np.load(os.path.join(DATA_DIR, f\"{row['ProxID']}.npy\")).astype(np.float32)\n",
    "            vol = resize_volume(vol, shape, augment_flag=(augment_clinsig and row['ClinSig'] == 1))\n",
    "            x_list.append(vol); y_list.append(row['ClinSig']); ids.append(row['ProxID'])\n",
    "        except Exception as e:\n",
    "            print(f\"[ERROR] {row['ProxID']}: {e}\")\n",
    "    return TensorDataset(torch.tensor(np.stack(x_list)), torch.tensor(y_list, dtype=torch.float32)), ids\n",
    "\n",
    "# === Load CSV\n",
    "df = pd.read_csv(FINDINGS_CSV).dropna(subset=['ClinSig'])\n",
    "df['ProxID'] = df['ProxID'].astype(str).apply(lambda x: f\"ProstateX-{x}\" if not x.startswith(\"ProstateX-\") else x)\n",
    "df['ClinSig'] = df['ClinSig'].astype(int)\n",
    "available_ids = {f.replace(\".npy\", \"\") for f in os.listdir(DATA_DIR)}\n",
    "df = df[df['ProxID'].isin(available_ids)]\n",
    "\n",
    "# === Split + oversample ClinSig once\n",
    "train_df, val_df = train_test_split(df, test_size=0.2, stratify=df['ClinSig'], random_state=42)\n",
    "train_df = pd.concat([train_df, train_df[train_df['ClinSig'] == 1]], ignore_index=True)\n",
    "\n",
    "print(\"📊 Train class distribution:\\n\", train_df['ClinSig'].value_counts())\n",
    "print(\"📊 Val class distribution:\\n\", val_df['ClinSig'].value_counts())\n",
    "\n",
    "train_data, _ = load_tensor_dataset(train_df, augment_clinsig=True)\n",
    "val_data, val_ids = load_tensor_dataset(val_df)\n",
    "train_loader = DataLoader(train_data, batch_size=BATCH_SIZE, shuffle=True)\n",
    "val_loader = DataLoader(val_data, batch_size=BATCH_SIZE, shuffle=False)\n",
    "\n",
    "# === Deep CNN with GAP\n",
    "model = nn.Sequential(\n",
    "    nn.Conv3d(3, 16, 3, padding=1), nn.BatchNorm3d(16), nn.LeakyReLU(),\n",
    "    nn.Conv3d(16, 32, 3, padding=1), nn.BatchNorm3d(32), nn.LeakyReLU(),\n",
    "    nn.MaxPool3d(2),\n",
    "    nn.Conv3d(32, 64, 3, padding=1), nn.BatchNorm3d(64), nn.LeakyReLU(),\n",
    "    nn.MaxPool3d(2),\n",
    "    nn.Conv3d(64, 128, 3, padding=1), nn.BatchNorm3d(128), nn.LeakyReLU(),\n",
    "    nn.AdaptiveAvgPool3d(1),\n",
    "    nn.Flatten(),\n",
    "    nn.Dropout(0.2),\n",
    "    nn.Linear(128, 1)\n",
    ").to(DEVICE)\n",
    "\n",
    "optimizer = optim.Adam(model.parameters(), lr=LR, weight_decay=1e-4)\n",
    "scheduler = optim.lr_scheduler.ReduceLROnPlateau(optimizer, mode='min', patience=2, factor=0.5)\n",
    "\n",
    "# === Train\n",
    "for epoch in range(EPOCHS):\n",
    "    model.train(); total_loss = 0\n",
    "    for x_batch, y_batch in tqdm(train_loader, desc=f\"Epoch {epoch+1}/{EPOCHS}\"):\n",
    "        x_batch, y_batch = x_batch.to(DEVICE), y_batch.to(DEVICE)\n",
    "        optimizer.zero_grad()\n",
    "        logits = model(x_batch).squeeze()\n",
    "        # === Label smoothing\n",
    "        y_smoothed = y_batch * 0.9 + 0.05\n",
    "        loss = focal_loss(logits, y_smoothed)\n",
    "        loss.backward(); optimizer.step()\n",
    "        total_loss += loss.item()\n",
    "    print(f\"Epoch {epoch+1} - Loss: {total_loss:.4f}\")\n",
    "    scheduler.step(total_loss)\n",
    "\n",
    "# === Evaluate\n",
    "model.eval()\n",
    "all_preds, all_labels, all_probs, all_proxids = [], [], [], []\n",
    "index = 0\n",
    "with torch.no_grad():\n",
    "    for x_batch, y_batch in val_loader:\n",
    "        x_batch = x_batch.to(DEVICE)\n",
    "        logits = model(x_batch).squeeze()\n",
    "        probs = torch.sigmoid(logits).cpu().numpy()\n",
    "        probs = np.atleast_1d(probs)\n",
    "        preds = (probs > THRESHOLD).astype(int)\n",
    "        all_probs.extend(probs.tolist())\n",
    "        y_batch = y_batch.numpy()\n",
    "        for i in range(len(preds)):\n",
    "            all_proxids.append(val_ids[index])\n",
    "            all_preds.append(int(preds[i]))\n",
    "            all_labels.append(int(y_batch[i]))\n",
    "            index += 1\n",
    "\n",
    "# === F1 Threshold Sweep\n",
    "best_threshold, best_f1 = 0.5, 0.0\n",
    "print(\"\\n🔍 Dynamic Threshold Search (Optimising F1 Score):\")\n",
    "print(f\"{'Thresh':<8} {'Prec':<8} {'Rec':<8} {'F1':<8}\")\n",
    "for t in np.arange(0.1, 0.81, 0.01):\n",
    "    test_preds = (np.array(all_probs) > t).astype(int)\n",
    "    p = precision_score(all_labels, test_preds, zero_division=0)\n",
    "    r = recall_score(all_labels, test_preds, zero_division=0)\n",
    "    f1 = f1_score(all_labels, test_preds, zero_division=0)\n",
    "    print(f\"{t:.2f}     {p:.2f}     {r:.2f}     {f1:.2f}\")\n",
    "    if f1 > best_f1:\n",
    "        best_f1 = f1\n",
    "        best_threshold = t\n",
    "\n",
    "# === Final eval at best threshold\n",
    "print(f\"\\n✅ Best Threshold: {best_threshold:.2f} with F1 Score: {best_f1:.2f}\")\n",
    "final_preds = (np.array(all_probs) > best_threshold).astype(int)\n",
    "print(\"\\n📊 Classification Report at Best Threshold:\")\n",
    "print(classification_report(all_labels, final_preds, target_names=[\"Not ClinSig\", \"ClinSig\"], zero_division=0))\n",
    "\n",
    "# === Confusion Matrix\n",
    "cm = confusion_matrix(all_labels, final_preds, labels=[0, 1])\n",
    "disp = ConfusionMatrixDisplay(confusion_matrix=cm, display_labels=[\"Not ClinSig\", \"ClinSig\"])\n",
    "plt.figure(figsize=(5, 4))\n",
    "disp.plot(cmap=plt.cm.Blues, values_format='d')\n",
    "plt.title(f\"Confusion Matrix @ Threshold = {best_threshold:.2f}\")\n",
    "plt.tight_layout()\n",
    "plt.show()\n"
   ]
  },
  {
   "cell_type": "code",
   "execution_count": 15,
   "id": "17a1674b-1ed3-4856-9808-e9e3d919c24c",
   "metadata": {},
   "outputs": [
    {
     "name": "stdout",
     "output_type": "stream",
     "text": [
      "📊 Train class distribution:\n",
      " ClinSig\n",
      "0    94\n",
      "1    44\n",
      "Name: count, dtype: int64\n",
      "📊 Val class distribution:\n",
      " ClinSig\n",
      "0    23\n",
      "1     6\n",
      "Name: count, dtype: int64\n"
     ]
    },
    {
     "name": "stderr",
     "output_type": "stream",
     "text": [
      "Epoch 1/30: 100%|██████████| 35/35 [00:03<00:00,  9.67it/s]\n"
     ]
    },
    {
     "name": "stdout",
     "output_type": "stream",
     "text": [
      "Epoch 1 - Loss: 41.6973\n"
     ]
    },
    {
     "name": "stderr",
     "output_type": "stream",
     "text": [
      "Epoch 2/30: 100%|██████████| 35/35 [00:03<00:00,  9.87it/s]\n"
     ]
    },
    {
     "name": "stdout",
     "output_type": "stream",
     "text": [
      "Epoch 2 - Loss: 14.8099\n"
     ]
    },
    {
     "name": "stderr",
     "output_type": "stream",
     "text": [
      "Epoch 3/30: 100%|██████████| 35/35 [00:03<00:00,  9.64it/s]\n"
     ]
    },
    {
     "name": "stdout",
     "output_type": "stream",
     "text": [
      "Epoch 3 - Loss: 7.2774\n"
     ]
    },
    {
     "name": "stderr",
     "output_type": "stream",
     "text": [
      "Epoch 4/30: 100%|██████████| 35/35 [00:03<00:00,  9.68it/s]\n"
     ]
    },
    {
     "name": "stdout",
     "output_type": "stream",
     "text": [
      "Epoch 4 - Loss: 3.6672\n"
     ]
    },
    {
     "name": "stderr",
     "output_type": "stream",
     "text": [
      "Epoch 5/30: 100%|██████████| 35/35 [00:03<00:00,  9.72it/s]\n"
     ]
    },
    {
     "name": "stdout",
     "output_type": "stream",
     "text": [
      "Epoch 5 - Loss: 3.6199\n"
     ]
    },
    {
     "name": "stderr",
     "output_type": "stream",
     "text": [
      "Epoch 6/30: 100%|██████████| 35/35 [00:03<00:00,  9.64it/s]\n"
     ]
    },
    {
     "name": "stdout",
     "output_type": "stream",
     "text": [
      "Epoch 6 - Loss: 2.5151\n"
     ]
    },
    {
     "name": "stderr",
     "output_type": "stream",
     "text": [
      "Epoch 7/30: 100%|██████████| 35/35 [00:03<00:00,  9.61it/s]\n"
     ]
    },
    {
     "name": "stdout",
     "output_type": "stream",
     "text": [
      "Epoch 7 - Loss: 2.1291\n"
     ]
    },
    {
     "name": "stderr",
     "output_type": "stream",
     "text": [
      "Epoch 8/30: 100%|██████████| 35/35 [00:03<00:00,  9.50it/s]\n"
     ]
    },
    {
     "name": "stdout",
     "output_type": "stream",
     "text": [
      "Epoch 8 - Loss: 2.1664\n"
     ]
    },
    {
     "name": "stderr",
     "output_type": "stream",
     "text": [
      "Epoch 9/30: 100%|██████████| 35/35 [00:03<00:00,  9.55it/s]\n"
     ]
    },
    {
     "name": "stdout",
     "output_type": "stream",
     "text": [
      "Epoch 9 - Loss: 2.1275\n"
     ]
    },
    {
     "name": "stderr",
     "output_type": "stream",
     "text": [
      "Epoch 10/30: 100%|██████████| 35/35 [00:03<00:00,  9.62it/s]\n"
     ]
    },
    {
     "name": "stdout",
     "output_type": "stream",
     "text": [
      "Epoch 10 - Loss: 1.8126\n"
     ]
    },
    {
     "name": "stderr",
     "output_type": "stream",
     "text": [
      "Epoch 11/30: 100%|██████████| 35/35 [00:03<00:00,  9.61it/s]\n"
     ]
    },
    {
     "name": "stdout",
     "output_type": "stream",
     "text": [
      "Epoch 11 - Loss: 1.5319\n"
     ]
    },
    {
     "name": "stderr",
     "output_type": "stream",
     "text": [
      "Epoch 12/30: 100%|██████████| 35/35 [00:03<00:00,  9.47it/s]\n"
     ]
    },
    {
     "name": "stdout",
     "output_type": "stream",
     "text": [
      "Epoch 12 - Loss: 1.7263\n"
     ]
    },
    {
     "name": "stderr",
     "output_type": "stream",
     "text": [
      "Epoch 13/30: 100%|██████████| 35/35 [00:03<00:00,  9.64it/s]\n"
     ]
    },
    {
     "name": "stdout",
     "output_type": "stream",
     "text": [
      "Epoch 13 - Loss: 1.5791\n"
     ]
    },
    {
     "name": "stderr",
     "output_type": "stream",
     "text": [
      "Epoch 14/30: 100%|██████████| 35/35 [00:03<00:00,  9.66it/s]\n"
     ]
    },
    {
     "name": "stdout",
     "output_type": "stream",
     "text": [
      "Epoch 14 - Loss: 1.4352\n"
     ]
    },
    {
     "name": "stderr",
     "output_type": "stream",
     "text": [
      "Epoch 15/30: 100%|██████████| 35/35 [00:03<00:00,  9.63it/s]\n"
     ]
    },
    {
     "name": "stdout",
     "output_type": "stream",
     "text": [
      "Epoch 15 - Loss: 1.1258\n"
     ]
    },
    {
     "name": "stderr",
     "output_type": "stream",
     "text": [
      "Epoch 16/30: 100%|██████████| 35/35 [00:03<00:00,  9.55it/s]\n"
     ]
    },
    {
     "name": "stdout",
     "output_type": "stream",
     "text": [
      "Epoch 16 - Loss: 2.0412\n"
     ]
    },
    {
     "name": "stderr",
     "output_type": "stream",
     "text": [
      "Epoch 17/30: 100%|██████████| 35/35 [00:03<00:00,  9.55it/s]\n"
     ]
    },
    {
     "name": "stdout",
     "output_type": "stream",
     "text": [
      "Epoch 17 - Loss: 1.4861\n"
     ]
    },
    {
     "name": "stderr",
     "output_type": "stream",
     "text": [
      "Epoch 18/30: 100%|██████████| 35/35 [00:03<00:00,  9.54it/s]\n"
     ]
    },
    {
     "name": "stdout",
     "output_type": "stream",
     "text": [
      "Epoch 18 - Loss: 1.1625\n"
     ]
    },
    {
     "name": "stderr",
     "output_type": "stream",
     "text": [
      "Epoch 19/30: 100%|██████████| 35/35 [00:03<00:00,  9.56it/s]\n"
     ]
    },
    {
     "name": "stdout",
     "output_type": "stream",
     "text": [
      "Epoch 19 - Loss: 1.6974\n"
     ]
    },
    {
     "name": "stderr",
     "output_type": "stream",
     "text": [
      "Epoch 20/30: 100%|██████████| 35/35 [00:03<00:00,  9.56it/s]\n"
     ]
    },
    {
     "name": "stdout",
     "output_type": "stream",
     "text": [
      "Epoch 20 - Loss: 1.0560\n"
     ]
    },
    {
     "name": "stderr",
     "output_type": "stream",
     "text": [
      "Epoch 21/30: 100%|██████████| 35/35 [00:03<00:00,  9.49it/s]\n"
     ]
    },
    {
     "name": "stdout",
     "output_type": "stream",
     "text": [
      "Epoch 21 - Loss: 1.0486\n"
     ]
    },
    {
     "name": "stderr",
     "output_type": "stream",
     "text": [
      "Epoch 22/30: 100%|██████████| 35/35 [00:03<00:00,  9.55it/s]\n"
     ]
    },
    {
     "name": "stdout",
     "output_type": "stream",
     "text": [
      "Epoch 22 - Loss: 1.1949\n"
     ]
    },
    {
     "name": "stderr",
     "output_type": "stream",
     "text": [
      "Epoch 23/30: 100%|██████████| 35/35 [00:03<00:00,  9.63it/s]\n"
     ]
    },
    {
     "name": "stdout",
     "output_type": "stream",
     "text": [
      "Epoch 23 - Loss: 1.0107\n"
     ]
    },
    {
     "name": "stderr",
     "output_type": "stream",
     "text": [
      "Epoch 24/30: 100%|██████████| 35/35 [00:03<00:00,  9.55it/s]\n"
     ]
    },
    {
     "name": "stdout",
     "output_type": "stream",
     "text": [
      "Epoch 24 - Loss: 0.9951\n"
     ]
    },
    {
     "name": "stderr",
     "output_type": "stream",
     "text": [
      "Epoch 25/30: 100%|██████████| 35/35 [00:03<00:00,  9.43it/s]\n"
     ]
    },
    {
     "name": "stdout",
     "output_type": "stream",
     "text": [
      "Epoch 25 - Loss: 1.0178\n"
     ]
    },
    {
     "name": "stderr",
     "output_type": "stream",
     "text": [
      "Epoch 26/30: 100%|██████████| 35/35 [00:03<00:00,  9.49it/s]\n"
     ]
    },
    {
     "name": "stdout",
     "output_type": "stream",
     "text": [
      "Epoch 26 - Loss: 0.8443\n"
     ]
    },
    {
     "name": "stderr",
     "output_type": "stream",
     "text": [
      "Epoch 27/30: 100%|██████████| 35/35 [00:03<00:00,  9.63it/s]\n"
     ]
    },
    {
     "name": "stdout",
     "output_type": "stream",
     "text": [
      "Epoch 27 - Loss: 0.8376\n"
     ]
    },
    {
     "name": "stderr",
     "output_type": "stream",
     "text": [
      "Epoch 28/30: 100%|██████████| 35/35 [00:03<00:00,  9.54it/s]\n"
     ]
    },
    {
     "name": "stdout",
     "output_type": "stream",
     "text": [
      "Epoch 28 - Loss: 0.7459\n"
     ]
    },
    {
     "name": "stderr",
     "output_type": "stream",
     "text": [
      "Epoch 29/30: 100%|██████████| 35/35 [00:03<00:00,  9.56it/s]\n"
     ]
    },
    {
     "name": "stdout",
     "output_type": "stream",
     "text": [
      "Epoch 29 - Loss: 0.7499\n"
     ]
    },
    {
     "name": "stderr",
     "output_type": "stream",
     "text": [
      "Epoch 30/30: 100%|██████████| 35/35 [00:03<00:00,  9.48it/s]\n"
     ]
    },
    {
     "name": "stdout",
     "output_type": "stream",
     "text": [
      "Epoch 30 - Loss: 0.7078\n",
      "\n",
      "🔍 Dynamic Threshold Search (Optimising F1 Score):\n",
      "Thresh   Prec     Rec      F1      \n",
      "0.10     0.21     1.00     0.35\n",
      "0.11     0.21     1.00     0.35\n",
      "0.12     0.19     0.83     0.30\n",
      "0.13     0.19     0.83     0.30\n",
      "0.14     0.19     0.83     0.30\n",
      "0.15     0.19     0.83     0.30\n",
      "0.16     0.19     0.83     0.31\n",
      "0.17     0.17     0.67     0.27\n",
      "0.18     0.17     0.67     0.28\n",
      "0.19     0.17     0.67     0.28\n",
      "0.20     0.18     0.67     0.29\n",
      "0.21     0.18     0.67     0.29\n",
      "0.22     0.18     0.67     0.29\n",
      "0.23     0.18     0.67     0.29\n",
      "0.24     0.18     0.67     0.29\n",
      "0.25     0.11     0.33     0.17\n",
      "0.26     0.11     0.33     0.17\n",
      "0.27     0.07     0.17     0.10\n",
      "0.28     0.07     0.17     0.10\n",
      "0.29     0.00     0.00     0.00\n",
      "0.30     0.00     0.00     0.00\n",
      "0.31     0.00     0.00     0.00\n",
      "0.32     0.00     0.00     0.00\n",
      "0.33     0.00     0.00     0.00\n",
      "0.34     0.00     0.00     0.00\n",
      "0.35     0.00     0.00     0.00\n",
      "0.36     0.00     0.00     0.00\n",
      "0.37     0.00     0.00     0.00\n",
      "0.38     0.00     0.00     0.00\n",
      "0.39     0.00     0.00     0.00\n",
      "0.40     0.00     0.00     0.00\n",
      "0.41     0.00     0.00     0.00\n",
      "0.42     0.00     0.00     0.00\n",
      "0.43     0.00     0.00     0.00\n",
      "0.44     0.00     0.00     0.00\n",
      "0.45     0.00     0.00     0.00\n",
      "0.46     0.00     0.00     0.00\n",
      "0.47     0.00     0.00     0.00\n",
      "0.48     0.00     0.00     0.00\n",
      "0.49     0.00     0.00     0.00\n",
      "0.50     0.00     0.00     0.00\n",
      "0.51     0.00     0.00     0.00\n",
      "0.52     0.00     0.00     0.00\n",
      "0.53     0.00     0.00     0.00\n",
      "0.54     0.00     0.00     0.00\n",
      "0.55     0.00     0.00     0.00\n",
      "0.56     0.00     0.00     0.00\n",
      "0.57     0.00     0.00     0.00\n",
      "0.58     0.00     0.00     0.00\n",
      "0.59     0.00     0.00     0.00\n",
      "0.60     0.00     0.00     0.00\n",
      "0.61     0.00     0.00     0.00\n",
      "0.62     0.00     0.00     0.00\n",
      "0.63     0.00     0.00     0.00\n",
      "0.64     0.00     0.00     0.00\n",
      "0.65     0.00     0.00     0.00\n",
      "0.66     0.00     0.00     0.00\n",
      "0.67     0.00     0.00     0.00\n",
      "0.68     0.00     0.00     0.00\n",
      "0.69     0.00     0.00     0.00\n",
      "0.70     0.00     0.00     0.00\n",
      "0.71     0.00     0.00     0.00\n",
      "0.72     0.00     0.00     0.00\n",
      "0.73     0.00     0.00     0.00\n",
      "0.74     0.00     0.00     0.00\n",
      "0.75     0.00     0.00     0.00\n",
      "0.76     0.00     0.00     0.00\n",
      "0.77     0.00     0.00     0.00\n",
      "0.78     0.00     0.00     0.00\n",
      "0.79     0.00     0.00     0.00\n",
      "0.80     0.00     0.00     0.00\n",
      "\n",
      "✅ Best Threshold: 0.10 with F1 Score: 0.35\n",
      "\n",
      "📊 Classification Report at Best Threshold:\n",
      "              precision    recall  f1-score   support\n",
      "\n",
      " Not ClinSig       1.00      0.04      0.08        23\n",
      "     ClinSig       0.21      1.00      0.35         6\n",
      "\n",
      "    accuracy                           0.24        29\n",
      "   macro avg       0.61      0.52      0.22        29\n",
      "weighted avg       0.84      0.24      0.14        29\n",
      "\n"
     ]
    },
    {
     "data": {
      "text/plain": [
       "<Figure size 500x400 with 0 Axes>"
      ]
     },
     "metadata": {},
     "output_type": "display_data"
    },
    {
     "data": {
      "image/png": "[encoded data removed]",
      "text/plain": [
       "<Figure size 640x480 with 2 Axes>"
      ]
     },
     "metadata": {},
     "output_type": "display_data"
    }
   ],
   "source": [
    "import os, random, numpy as np, pandas as pd, matplotlib.pyplot as plt\n",
    "import torch, torch.nn.functional as F\n",
    "from torch import nn, optim\n",
    "from torch.utils.data import DataLoader, TensorDataset\n",
    "from sklearn.model_selection import train_test_split\n",
    "from sklearn.metrics import classification_report, confusion_matrix, ConfusionMatrixDisplay, precision_score, recall_score, f1_score\n",
    "from tqdm import tqdm\n",
    "\n",
    "# === Config\n",
    "DATA_DIR = r\"C:\\Users\\anude\\Downloads\\processed_data\"\n",
    "FINDINGS_CSV = r\"C:\\Users\\anude\\Downloads\\project\\ProstateX-Findings-Train100.csv\"\n",
    "BATCH_SIZE, EPOCHS, LR = 4, 30, 1e-4\n",
    "GAMMA = 3.0\n",
    "TARGET_SHAPE = (3, 64, 64, 64)\n",
    "DEVICE = torch.device(\"cuda\" if torch.cuda.is_available() else \"cpu\")\n",
    "\n",
    "# === Loss\n",
    "def focal_loss(logits, targets, gamma=GAMMA):\n",
    "    bce = F.binary_cross_entropy_with_logits(logits, targets, reduction='none')\n",
    "    pt = torch.exp(-bce)\n",
    "    return ((1 - pt) ** gamma * bce).mean()\n",
    "\n",
    "# === Aug + resize\n",
    "def augment(volume):\n",
    "    if random.random() < 0.5: volume = np.flip(volume, axis=2)\n",
    "    if random.random() < 0.5: volume = np.flip(volume, axis=3)\n",
    "    return volume\n",
    "\n",
    "def resize_volume(vol, target_shape, augment_flag=False):\n",
    "    if augment_flag: vol = augment(vol)\n",
    "    c, d, h, w = vol.shape\n",
    "    padded = np.zeros(target_shape, dtype=np.float32)\n",
    "    d, h, w = min(d, target_shape[1]), min(h, target_shape[2]), min(w, target_shape[3])\n",
    "    padded[:c, :d, :h, :w] = vol[:c, :d, :h, :w]\n",
    "    return padded\n",
    "\n",
    "# === Dataset loader\n",
    "def load_tensor_dataset(df, shape=TARGET_SHAPE, augment_clinsig=False):\n",
    "    x_list, y_list, ids = [], [], []\n",
    "    for _, row in df.iterrows():\n",
    "        try:\n",
    "            vol = np.load(os.path.join(DATA_DIR, f\"{row['ProxID']}.npy\")).astype(np.float32)\n",
    "            vol = resize_volume(vol, shape, augment_flag=(augment_clinsig and row['ClinSig'] == 1))\n",
    "            x_list.append(vol); y_list.append(row['ClinSig']); ids.append(row['ProxID'])\n",
    "        except Exception as e:\n",
    "            print(f\"[ERROR] {row['ProxID']}: {e}\")\n",
    "    return TensorDataset(torch.tensor(np.stack(x_list)), torch.tensor(y_list, dtype=torch.float32)), ids\n",
    "\n",
    "# === CSV load + prep\n",
    "df = pd.read_csv(FINDINGS_CSV).dropna(subset=['ClinSig'])\n",
    "df['ProxID'] = df['ProxID'].astype(str).apply(lambda x: f\"ProstateX-{x}\" if not x.startswith(\"ProstateX-\") else x)\n",
    "df['ClinSig'] = df['ClinSig'].astype(int)\n",
    "available_ids = {f.replace(\".npy\", \"\") for f in os.listdir(DATA_DIR)}\n",
    "df = df[df['ProxID'].isin(available_ids)]\n",
    "\n",
    "# === Train/Val split + light oversampling\n",
    "train_df, val_df = train_test_split(df, test_size=0.2, stratify=df['ClinSig'], random_state=42)\n",
    "train_df = pd.concat([train_df, train_df[train_df['ClinSig'] == 1]], ignore_index=True)\n",
    "\n",
    "print(\"📊 Train class distribution:\\n\", train_df['ClinSig'].value_counts())\n",
    "print(\"📊 Val class distribution:\\n\", val_df['ClinSig'].value_counts())\n",
    "\n",
    "train_data, _ = load_tensor_dataset(train_df, augment_clinsig=True)\n",
    "val_data, val_ids = load_tensor_dataset(val_df)\n",
    "train_loader = DataLoader(train_data, batch_size=BATCH_SIZE, shuffle=True)\n",
    "val_loader = DataLoader(val_data, batch_size=BATCH_SIZE, shuffle=False)\n",
    "\n",
    "# === CNN model without classes\n",
    "model = nn.Sequential(\n",
    "    # Block 1\n",
    "    nn.Conv3d(3, 32, 3, padding=1), nn.BatchNorm3d(32), nn.ReLU(),\n",
    "    nn.Conv3d(32, 32, 3, padding=1), nn.BatchNorm3d(32), nn.ReLU(),\n",
    "    nn.MaxPool3d(2),\n",
    "    # Block 2\n",
    "    nn.Conv3d(32, 64, 3, padding=1), nn.BatchNorm3d(64), nn.ReLU(),\n",
    "    nn.Conv3d(64, 64, 3, padding=1), nn.BatchNorm3d(64), nn.ReLU(),\n",
    "    nn.MaxPool3d(2),\n",
    "    # Classifier\n",
    "    nn.Flatten(),\n",
    "    nn.Dropout(0.3),\n",
    "    nn.Linear(64 * 16 * 16 * 16, 128),\n",
    "    nn.ReLU(),\n",
    "    nn.Dropout(0.3),\n",
    "    nn.Linear(128, 1)\n",
    ").to(DEVICE)\n",
    "\n",
    "optimizer = optim.Adam(model.parameters(), lr=LR, weight_decay=1e-4)\n",
    "scheduler = optim.lr_scheduler.ReduceLROnPlateau(optimizer, mode='min', patience=2, factor=0.5)\n",
    "\n",
    "# === Train\n",
    "for epoch in range(EPOCHS):\n",
    "    model.train(); total_loss = 0\n",
    "    for x_batch, y_batch in tqdm(train_loader, desc=f\"Epoch {epoch+1}/{EPOCHS}\"):\n",
    "        x_batch, y_batch = x_batch.to(DEVICE), y_batch.to(DEVICE)\n",
    "        optimizer.zero_grad()\n",
    "        logits = model(x_batch).squeeze()\n",
    "        loss = focal_loss(logits, y_batch)\n",
    "        loss.backward(); optimizer.step()\n",
    "        total_loss += loss.item()\n",
    "    print(f\"Epoch {epoch+1} - Loss: {total_loss:.4f}\")\n",
    "    scheduler.step(total_loss)\n",
    "\n",
    "# === Evaluate\n",
    "model.eval()\n",
    "all_preds, all_labels, all_probs, all_proxids = [], [], [], []\n",
    "index = 0\n",
    "with torch.no_grad():\n",
    "    for x_batch, y_batch in val_loader:\n",
    "        x_batch = x_batch.to(DEVICE)\n",
    "        logits = model(x_batch).squeeze()\n",
    "        probs = torch.sigmoid(logits).cpu().numpy()\n",
    "        probs = np.atleast_1d(probs)\n",
    "        preds = (probs > 0.5).astype(int)\n",
    "        all_probs.extend(probs.tolist())\n",
    "        y_batch = y_batch.numpy()\n",
    "        for i in range(len(preds)):\n",
    "            all_proxids.append(val_ids[index])\n",
    "            all_preds.append(int(preds[i]))\n",
    "            all_labels.append(int(y_batch[i]))\n",
    "            index += 1\n",
    "\n",
    "# === Threshold sweep\n",
    "best_threshold, best_f1 = 0.5, 0.0\n",
    "print(\"\\n🔍 Dynamic Threshold Search (Optimising F1 Score):\")\n",
    "print(f\"{'Thresh':<8} {'Prec':<8} {'Rec':<8} {'F1':<8}\")\n",
    "for t in np.arange(0.1, 0.81, 0.01):\n",
    "    test_preds = (np.array(all_probs) > t).astype(int)\n",
    "    p = precision_score(all_labels, test_preds, zero_division=0)\n",
    "    r = recall_score(all_labels, test_preds, zero_division=0)\n",
    "    f1 = f1_score(all_labels, test_preds, zero_division=0)\n",
    "    print(f\"{t:.2f}     {p:.2f}     {r:.2f}     {f1:.2f}\")\n",
    "    if f1 > best_f1:\n",
    "        best_f1 = f1\n",
    "        best_threshold = t\n",
    "\n",
    "# === Final evaluation at best threshold\n",
    "final_preds = (np.array(all_probs) > best_threshold).astype(int)\n",
    "print(f\"\\n✅ Best Threshold: {best_threshold:.2f} with F1 Score: {best_f1:.2f}\")\n",
    "print(\"\\n📊 Classification Report at Best Threshold:\")\n",
    "print(classification_report(all_labels, final_preds, target_names=[\"Not ClinSig\", \"ClinSig\"], zero_division=0))\n",
    "\n",
    "# === Confusion matrix\n",
    "cm = confusion_matrix(all_labels, final_preds, labels=[0, 1])\n",
    "disp = ConfusionMatrixDisplay(confusion_matrix=cm, display_labels=[\"Not ClinSig\", \"ClinSig\"])\n",
    "plt.figure(figsize=(5, 4))\n",
    "disp.plot(cmap=plt.cm.Blues, values_format='d')\n",
    "plt.title(f\"Confusion Matrix @ Threshold = {best_threshold:.2f}\")\n",
    "plt.tight_layout()\n",
    "plt.show()\n"
   ]
  },
  {
   "cell_type": "code",
   "execution_count": 17,
   "id": "af125429-3cdd-4f4f-9c27-7c0bbb1b461d",
   "metadata": {},
   "outputs": [
    {
     "name": "stdout",
     "output_type": "stream",
     "text": [
      "📊 Train class distribution:\n",
      " ClinSig\n",
      "0    94\n",
      "1    44\n",
      "Name: count, dtype: int64\n",
      "📊 Val class distribution:\n",
      " ClinSig\n",
      "0    23\n",
      "1     6\n",
      "Name: count, dtype: int64\n"
     ]
    },
    {
     "name": "stderr",
     "output_type": "stream",
     "text": [
      "Epoch 1/30: 100%|██████████| 35/35 [00:03<00:00, 10.13it/s]\n"
     ]
    },
    {
     "name": "stdout",
     "output_type": "stream",
     "text": [
      "Epoch 1 - Loss: 33.5410\n"
     ]
    },
    {
     "name": "stderr",
     "output_type": "stream",
     "text": [
      "Epoch 2/30: 100%|██████████| 35/35 [00:03<00:00, 10.41it/s]\n"
     ]
    },
    {
     "name": "stdout",
     "output_type": "stream",
     "text": [
      "Epoch 2 - Loss: 31.6452\n"
     ]
    },
    {
     "name": "stderr",
     "output_type": "stream",
     "text": [
      "Epoch 3/30: 100%|██████████| 35/35 [00:03<00:00, 10.53it/s]\n"
     ]
    },
    {
     "name": "stdout",
     "output_type": "stream",
     "text": [
      "Epoch 3 - Loss: 27.8615\n"
     ]
    },
    {
     "name": "stderr",
     "output_type": "stream",
     "text": [
      "Epoch 4/30: 100%|██████████| 35/35 [00:03<00:00, 10.46it/s]\n"
     ]
    },
    {
     "name": "stdout",
     "output_type": "stream",
     "text": [
      "Epoch 4 - Loss: 27.5605\n"
     ]
    },
    {
     "name": "stderr",
     "output_type": "stream",
     "text": [
      "Epoch 5/30: 100%|██████████| 35/35 [00:03<00:00, 10.49it/s]\n"
     ]
    },
    {
     "name": "stdout",
     "output_type": "stream",
     "text": [
      "Epoch 5 - Loss: 23.5263\n"
     ]
    },
    {
     "name": "stderr",
     "output_type": "stream",
     "text": [
      "Epoch 6/30: 100%|██████████| 35/35 [00:03<00:00, 10.21it/s]\n"
     ]
    },
    {
     "name": "stdout",
     "output_type": "stream",
     "text": [
      "Epoch 6 - Loss: 24.1143\n"
     ]
    },
    {
     "name": "stderr",
     "output_type": "stream",
     "text": [
      "Epoch 7/30: 100%|██████████| 35/35 [00:03<00:00, 10.37it/s]\n"
     ]
    },
    {
     "name": "stdout",
     "output_type": "stream",
     "text": [
      "Epoch 7 - Loss: 22.5566\n"
     ]
    },
    {
     "name": "stderr",
     "output_type": "stream",
     "text": [
      "Epoch 8/30: 100%|██████████| 35/35 [00:03<00:00, 10.35it/s]\n"
     ]
    },
    {
     "name": "stdout",
     "output_type": "stream",
     "text": [
      "Epoch 8 - Loss: 23.3283\n"
     ]
    },
    {
     "name": "stderr",
     "output_type": "stream",
     "text": [
      "Epoch 9/30: 100%|██████████| 35/35 [00:03<00:00, 10.36it/s]\n"
     ]
    },
    {
     "name": "stdout",
     "output_type": "stream",
     "text": [
      "Epoch 9 - Loss: 18.9912\n"
     ]
    },
    {
     "name": "stderr",
     "output_type": "stream",
     "text": [
      "Epoch 10/30: 100%|██████████| 35/35 [00:03<00:00, 10.33it/s]\n"
     ]
    },
    {
     "name": "stdout",
     "output_type": "stream",
     "text": [
      "Epoch 10 - Loss: 22.2208\n"
     ]
    },
    {
     "name": "stderr",
     "output_type": "stream",
     "text": [
      "Epoch 11/30: 100%|██████████| 35/35 [00:03<00:00, 10.01it/s]\n"
     ]
    },
    {
     "name": "stdout",
     "output_type": "stream",
     "text": [
      "Epoch 11 - Loss: 19.0852\n"
     ]
    },
    {
     "name": "stderr",
     "output_type": "stream",
     "text": [
      "Epoch 12/30: 100%|██████████| 35/35 [00:03<00:00, 10.28it/s]\n"
     ]
    },
    {
     "name": "stdout",
     "output_type": "stream",
     "text": [
      "Epoch 12 - Loss: 18.8988\n"
     ]
    },
    {
     "name": "stderr",
     "output_type": "stream",
     "text": [
      "Epoch 13/30: 100%|██████████| 35/35 [00:03<00:00, 10.40it/s]\n"
     ]
    },
    {
     "name": "stdout",
     "output_type": "stream",
     "text": [
      "Epoch 13 - Loss: 15.2968\n"
     ]
    },
    {
     "name": "stderr",
     "output_type": "stream",
     "text": [
      "Epoch 14/30: 100%|██████████| 35/35 [00:03<00:00, 10.30it/s]\n"
     ]
    },
    {
     "name": "stdout",
     "output_type": "stream",
     "text": [
      "Epoch 14 - Loss: 16.5917\n"
     ]
    },
    {
     "name": "stderr",
     "output_type": "stream",
     "text": [
      "Epoch 15/30: 100%|██████████| 35/35 [00:03<00:00, 10.18it/s]\n"
     ]
    },
    {
     "name": "stdout",
     "output_type": "stream",
     "text": [
      "Epoch 15 - Loss: 15.8907\n"
     ]
    },
    {
     "name": "stderr",
     "output_type": "stream",
     "text": [
      "Epoch 16/30: 100%|██████████| 35/35 [00:03<00:00,  9.92it/s]\n"
     ]
    },
    {
     "name": "stdout",
     "output_type": "stream",
     "text": [
      "Epoch 16 - Loss: 15.1666\n"
     ]
    },
    {
     "name": "stderr",
     "output_type": "stream",
     "text": [
      "Epoch 17/30: 100%|██████████| 35/35 [00:03<00:00, 10.15it/s]\n"
     ]
    },
    {
     "name": "stdout",
     "output_type": "stream",
     "text": [
      "Epoch 17 - Loss: 13.5985\n"
     ]
    },
    {
     "name": "stderr",
     "output_type": "stream",
     "text": [
      "Epoch 18/30: 100%|██████████| 35/35 [00:03<00:00, 10.24it/s]\n"
     ]
    },
    {
     "name": "stdout",
     "output_type": "stream",
     "text": [
      "Epoch 18 - Loss: 17.1192\n"
     ]
    },
    {
     "name": "stderr",
     "output_type": "stream",
     "text": [
      "Epoch 19/30: 100%|██████████| 35/35 [00:03<00:00, 10.29it/s]\n"
     ]
    },
    {
     "name": "stdout",
     "output_type": "stream",
     "text": [
      "Epoch 19 - Loss: 15.9554\n"
     ]
    },
    {
     "name": "stderr",
     "output_type": "stream",
     "text": [
      "Epoch 20/30: 100%|██████████| 35/35 [00:03<00:00, 10.06it/s]\n"
     ]
    },
    {
     "name": "stdout",
     "output_type": "stream",
     "text": [
      "Epoch 20 - Loss: 13.8287\n"
     ]
    },
    {
     "name": "stderr",
     "output_type": "stream",
     "text": [
      "Epoch 21/30: 100%|██████████| 35/35 [00:03<00:00, 10.22it/s]\n"
     ]
    },
    {
     "name": "stdout",
     "output_type": "stream",
     "text": [
      "Epoch 21 - Loss: 12.0442\n"
     ]
    },
    {
     "name": "stderr",
     "output_type": "stream",
     "text": [
      "Epoch 22/30: 100%|██████████| 35/35 [00:03<00:00, 10.21it/s]\n"
     ]
    },
    {
     "name": "stdout",
     "output_type": "stream",
     "text": [
      "Epoch 22 - Loss: 11.5523\n"
     ]
    },
    {
     "name": "stderr",
     "output_type": "stream",
     "text": [
      "Epoch 23/30: 100%|██████████| 35/35 [00:03<00:00, 10.16it/s]\n"
     ]
    },
    {
     "name": "stdout",
     "output_type": "stream",
     "text": [
      "Epoch 23 - Loss: 10.4349\n"
     ]
    },
    {
     "name": "stderr",
     "output_type": "stream",
     "text": [
      "Epoch 24/30: 100%|██████████| 35/35 [00:03<00:00, 10.20it/s]\n"
     ]
    },
    {
     "name": "stdout",
     "output_type": "stream",
     "text": [
      "Epoch 24 - Loss: 10.7998\n"
     ]
    },
    {
     "name": "stderr",
     "output_type": "stream",
     "text": [
      "Epoch 25/30: 100%|██████████| 35/35 [00:03<00:00, 10.09it/s]\n"
     ]
    },
    {
     "name": "stdout",
     "output_type": "stream",
     "text": [
      "Epoch 25 - Loss: 9.7036\n"
     ]
    },
    {
     "name": "stderr",
     "output_type": "stream",
     "text": [
      "Epoch 26/30: 100%|██████████| 35/35 [00:03<00:00, 10.23it/s]\n"
     ]
    },
    {
     "name": "stdout",
     "output_type": "stream",
     "text": [
      "Epoch 26 - Loss: 9.1320\n"
     ]
    },
    {
     "name": "stderr",
     "output_type": "stream",
     "text": [
      "Epoch 27/30: 100%|██████████| 35/35 [00:03<00:00, 10.24it/s]\n"
     ]
    },
    {
     "name": "stdout",
     "output_type": "stream",
     "text": [
      "Epoch 27 - Loss: 9.6995\n"
     ]
    },
    {
     "name": "stderr",
     "output_type": "stream",
     "text": [
      "Epoch 28/30: 100%|██████████| 35/35 [00:03<00:00, 10.22it/s]\n"
     ]
    },
    {
     "name": "stdout",
     "output_type": "stream",
     "text": [
      "Epoch 28 - Loss: 8.9058\n"
     ]
    },
    {
     "name": "stderr",
     "output_type": "stream",
     "text": [
      "Epoch 29/30: 100%|██████████| 35/35 [00:03<00:00, 10.23it/s]\n"
     ]
    },
    {
     "name": "stdout",
     "output_type": "stream",
     "text": [
      "Epoch 29 - Loss: 8.5253\n"
     ]
    },
    {
     "name": "stderr",
     "output_type": "stream",
     "text": [
      "Epoch 30/30: 100%|██████████| 35/35 [00:03<00:00, 10.23it/s]\n"
     ]
    },
    {
     "name": "stdout",
     "output_type": "stream",
     "text": [
      "Epoch 30 - Loss: 8.2696\n",
      "\n",
      "🔍 Dynamic Threshold Search (Optimising F1 Score):\n",
      "Thresh   Prec     Rec      F1      \n",
      "0.10     0.11     0.33     0.16\n",
      "0.11     0.11     0.33     0.16\n",
      "0.12     0.11     0.33     0.16\n",
      "0.13     0.11     0.33     0.17\n",
      "0.14     0.12     0.33     0.17\n",
      "0.15     0.12     0.33     0.17\n",
      "0.16     0.12     0.33     0.17\n",
      "0.17     0.12     0.33     0.17\n",
      "0.18     0.12     0.33     0.17\n",
      "0.19     0.06     0.17     0.09\n",
      "0.20     0.06     0.17     0.09\n",
      "0.21     0.06     0.17     0.09\n",
      "0.22     0.07     0.17     0.10\n",
      "0.23     0.07     0.17     0.10\n",
      "0.24     0.07     0.17     0.10\n",
      "0.25     0.07     0.17     0.10\n",
      "0.26     0.07     0.17     0.10\n",
      "0.27     0.07     0.17     0.10\n",
      "0.28     0.07     0.17     0.10\n",
      "0.29     0.07     0.17     0.10\n",
      "0.30     0.08     0.17     0.11\n",
      "0.31     0.08     0.17     0.11\n",
      "0.32     0.08     0.17     0.11\n",
      "0.33     0.08     0.17     0.11\n",
      "0.34     0.08     0.17     0.11\n",
      "0.35     0.08     0.17     0.11\n",
      "0.36     0.08     0.17     0.11\n",
      "0.37     0.08     0.17     0.11\n",
      "0.38     0.08     0.17     0.11\n",
      "0.39     0.08     0.17     0.11\n",
      "0.40     0.08     0.17     0.11\n",
      "0.41     0.08     0.17     0.11\n",
      "0.42     0.08     0.17     0.11\n",
      "0.43     0.08     0.17     0.11\n",
      "0.44     0.08     0.17     0.11\n",
      "0.45     0.10     0.17     0.12\n",
      "0.46     0.10     0.17     0.12\n",
      "0.47     0.10     0.17     0.12\n",
      "0.48     0.10     0.17     0.12\n",
      "0.49     0.10     0.17     0.12\n",
      "0.50     0.10     0.17     0.12\n",
      "0.51     0.10     0.17     0.12\n",
      "0.52     0.10     0.17     0.12\n",
      "0.53     0.00     0.00     0.00\n",
      "0.54     0.00     0.00     0.00\n",
      "0.55     0.00     0.00     0.00\n",
      "0.56     0.00     0.00     0.00\n",
      "0.57     0.00     0.00     0.00\n",
      "0.58     0.00     0.00     0.00\n",
      "0.59     0.00     0.00     0.00\n",
      "0.60     0.00     0.00     0.00\n",
      "0.61     0.00     0.00     0.00\n",
      "0.62     0.00     0.00     0.00\n",
      "0.63     0.00     0.00     0.00\n",
      "0.64     0.00     0.00     0.00\n",
      "0.65     0.00     0.00     0.00\n",
      "0.66     0.00     0.00     0.00\n",
      "0.67     0.00     0.00     0.00\n",
      "0.68     0.00     0.00     0.00\n",
      "0.69     0.00     0.00     0.00\n",
      "0.70     0.00     0.00     0.00\n",
      "0.71     0.00     0.00     0.00\n",
      "0.72     0.00     0.00     0.00\n",
      "0.73     0.00     0.00     0.00\n",
      "0.74     0.00     0.00     0.00\n",
      "0.75     0.00     0.00     0.00\n",
      "0.76     0.00     0.00     0.00\n",
      "0.77     0.00     0.00     0.00\n",
      "0.78     0.00     0.00     0.00\n",
      "0.79     0.00     0.00     0.00\n",
      "0.80     0.00     0.00     0.00\n",
      "\n",
      "✅ Best Threshold: 0.14 with F1 Score: 0.17\n",
      "\n",
      "📊 Classification Report at Best Threshold:\n",
      "              precision    recall  f1-score   support\n",
      "\n",
      " Not ClinSig       0.67      0.35      0.46        23\n",
      "     ClinSig       0.12      0.33      0.17         6\n",
      "\n",
      "    accuracy                           0.34        29\n",
      "   macro avg       0.39      0.34      0.32        29\n",
      "weighted avg       0.55      0.34      0.40        29\n",
      "\n"
     ]
    },
    {
     "data": {
      "text/plain": [
       "<Figure size 500x400 with 0 Axes>"
      ]
     },
     "metadata": {},
     "output_type": "display_data"
    },
    {
     "data": {
      "image/png": "[encoded data removed]",
      "text/plain": [
       "<Figure size 640x480 with 2 Axes>"
      ]
     },
     "metadata": {},
     "output_type": "display_data"
    }
   ],
   "source": [
    "import os, numpy as np, pandas as pd, matplotlib.pyplot as plt, random\n",
    "import torch, torch.nn.functional as F\n",
    "from torch import nn, optim\n",
    "from torch.utils.data import DataLoader, TensorDataset\n",
    "from sklearn.model_selection import train_test_split\n",
    "from sklearn.metrics import classification_report, confusion_matrix, ConfusionMatrixDisplay, precision_score, recall_score, f1_score\n",
    "from tqdm import tqdm\n",
    "\n",
    "# === Config\n",
    "DATA_DIR = r\"C:\\Users\\anude\\Downloads\\processed_data\"\n",
    "FINDINGS_CSV = r\"C:\\Users\\anude\\Downloads\\project\\ProstateX-Findings-Train100.csv\"\n",
    "BATCH_SIZE, EPOCHS, LR = 4, 30, 1e-4\n",
    "TARGET_SHAPE = (3, 64, 64, 64)\n",
    "DEVICE = torch.device(\"cuda\" if torch.cuda.is_available() else \"cpu\")\n",
    "POS_WEIGHT = torch.tensor([2.14], device=DEVICE)\n",
    "\n",
    "# === Resize + Augment\n",
    "def augment(volume):\n",
    "    if random.random() < 0.5: volume = np.flip(volume, axis=2)\n",
    "    if random.random() < 0.5: volume = np.flip(volume, axis=3)\n",
    "    return volume\n",
    "\n",
    "def resize_volume(vol, target_shape, augment_flag=False):\n",
    "    if augment_flag: vol = augment(vol)\n",
    "    c, d, h, w = vol.shape\n",
    "    padded = np.zeros(target_shape, dtype=np.float32)\n",
    "    d, h, w = min(d, target_shape[1]), min(h, target_shape[2]), min(w, target_shape[3])\n",
    "    padded[:c, :d, :h, :w] = vol[:c, :d, :h, :w]\n",
    "    return padded\n",
    "\n",
    "# === Dataset loader\n",
    "def load_tensor_dataset(df, shape=TARGET_SHAPE, augment_clinsig=False):\n",
    "    x_list, y_list, ids = [], [], []\n",
    "    for _, row in df.iterrows():\n",
    "        try:\n",
    "            vol = np.load(os.path.join(DATA_DIR, f\"{row['ProxID']}.npy\")).astype(np.float32)\n",
    "            vol = resize_volume(vol, shape, augment_flag=(augment_clinsig and row['ClinSig'] == 1))\n",
    "            x_list.append(vol); y_list.append(row['ClinSig']); ids.append(row['ProxID'])\n",
    "        except: pass\n",
    "    return TensorDataset(torch.tensor(np.stack(x_list)), torch.tensor(y_list, dtype=torch.float32)), ids\n",
    "\n",
    "# === Load CSV\n",
    "df = pd.read_csv(FINDINGS_CSV).dropna(subset=['ClinSig'])\n",
    "df['ProxID'] = df['ProxID'].astype(str).apply(lambda x: f\"ProstateX-{x}\" if not x.startswith(\"ProstateX-\") else x)\n",
    "df['ClinSig'] = df['ClinSig'].astype(int)\n",
    "available_ids = {f.replace(\".npy\", \"\") for f in os.listdir(DATA_DIR)}\n",
    "df = df[df['ProxID'].isin(available_ids)]\n",
    "\n",
    "# === Split + light oversample\n",
    "train_df, val_df = train_test_split(df, test_size=0.2, stratify=df['ClinSig'], random_state=42)\n",
    "train_df = pd.concat([train_df, train_df[train_df['ClinSig'] == 1]], ignore_index=True)\n",
    "\n",
    "print(\"📊 Train class distribution:\\n\", train_df['ClinSig'].value_counts())\n",
    "print(\"📊 Val class distribution:\\n\", val_df['ClinSig'].value_counts())\n",
    "\n",
    "train_data, _ = load_tensor_dataset(train_df, augment_clinsig=True)\n",
    "val_data, val_ids = load_tensor_dataset(val_df)\n",
    "train_loader = DataLoader(train_data, batch_size=BATCH_SIZE, shuffle=True)\n",
    "val_loader = DataLoader(val_data, batch_size=BATCH_SIZE, shuffle=False)\n",
    "\n",
    "# === CNN Model (deeper without class)\n",
    "model = nn.Sequential(\n",
    "    nn.Conv3d(3, 32, 3, padding=1), nn.BatchNorm3d(32), nn.ReLU(),\n",
    "    nn.Conv3d(32, 32, 3, padding=1), nn.BatchNorm3d(32), nn.ReLU(),\n",
    "    nn.MaxPool3d(2),\n",
    "    nn.Conv3d(32, 64, 3, padding=1), nn.BatchNorm3d(64), nn.ReLU(),\n",
    "    nn.Conv3d(64, 64, 3, padding=1), nn.BatchNorm3d(64), nn.ReLU(),\n",
    "    nn.MaxPool3d(2),\n",
    "    nn.Conv3d(64, 128, 3, padding=1), nn.BatchNorm3d(128), nn.ReLU(),\n",
    "    nn.AdaptiveAvgPool3d((4, 4, 4)),\n",
    "    nn.Flatten(),\n",
    "    nn.Dropout(0.3),\n",
    "    nn.Linear(128 * 4 * 4 * 4, 128),\n",
    "    nn.ReLU(),\n",
    "    nn.Dropout(0.3),\n",
    "    nn.Linear(128, 1)\n",
    ").to(DEVICE)\n",
    "\n",
    "optimizer = optim.Adam(model.parameters(), lr=LR)\n",
    "scheduler = optim.lr_scheduler.ReduceLROnPlateau(optimizer, mode='min', patience=2, factor=0.5)\n",
    "loss_fn = nn.BCEWithLogitsLoss(pos_weight=POS_WEIGHT)\n",
    "\n",
    "# === Train\n",
    "for epoch in range(EPOCHS):\n",
    "    model.train(); total_loss = 0\n",
    "    for x_batch, y_batch in tqdm(train_loader, desc=f\"Epoch {epoch+1}/{EPOCHS}\"):\n",
    "        x_batch, y_batch = x_batch.to(DEVICE), y_batch.to(DEVICE)\n",
    "        optimizer.zero_grad()\n",
    "        logits = model(x_batch).squeeze()\n",
    "        loss = loss_fn(logits, y_batch)\n",
    "        loss.backward(); optimizer.step()\n",
    "        total_loss += loss.item()\n",
    "    print(f\"Epoch {epoch+1} - Loss: {total_loss:.4f}\")\n",
    "    scheduler.step(total_loss)\n",
    "\n",
    "# === Evaluate\n",
    "model.eval(); all_preds, all_labels, all_probs, all_proxids = [], [], [], []\n",
    "index = 0\n",
    "with torch.no_grad():\n",
    "    for x_batch, y_batch in val_loader:\n",
    "        x_batch = x_batch.to(DEVICE)\n",
    "        probs = torch.sigmoid(model(x_batch).squeeze()).cpu().numpy()\n",
    "        probs = np.atleast_1d(probs); y_batch = y_batch.numpy()\n",
    "        all_probs.extend(probs.tolist())\n",
    "        for i in range(len(probs)):\n",
    "            all_proxids.append(val_ids[index])\n",
    "            all_labels.append(int(y_batch[i]))\n",
    "            index += 1\n",
    "\n",
    "# === Threshold search\n",
    "best_threshold, best_f1 = 0.5, 0.0\n",
    "print(\"\\n🔍 Dynamic Threshold Search (Optimising F1 Score):\")\n",
    "print(f\"{'Thresh':<8} {'Prec':<8} {'Rec':<8} {'F1':<8}\")\n",
    "for t in np.arange(0.1, 0.81, 0.01):\n",
    "    test_preds = (np.array(all_probs) > t).astype(int)\n",
    "    p = precision_score(all_labels, test_preds, zero_division=0)\n",
    "    r = recall_score(all_labels, test_preds, zero_division=0)\n",
    "    f1 = f1_score(all_labels, test_preds, zero_division=0)\n",
    "    print(f\"{t:.2f}     {p:.2f}     {r:.2f}     {f1:.2f}\")\n",
    "    if f1 > best_f1:\n",
    "        best_f1 = f1; best_threshold = t\n",
    "\n",
    "# === Final report\n",
    "final_preds = (np.array(all_probs) > best_threshold).astype(int)\n",
    "print(f\"\\n✅ Best Threshold: {best_threshold:.2f} with F1 Score: {best_f1:.2f}\")\n",
    "print(\"\\n📊 Classification Report at Best Threshold:\")\n",
    "print(classification_report(all_labels, final_preds, target_names=[\"Not ClinSig\", \"ClinSig\"], zero_division=0))\n",
    "\n",
    "# === Confusion Matrix\n",
    "cm = confusion_matrix(all_labels, final_preds)\n",
    "disp = ConfusionMatrixDisplay(confusion_matrix=cm, display_labels=[\"Not ClinSig\", \"ClinSig\"])\n",
    "plt.figure(figsize=(5, 4))\n",
    "disp.plot(cmap=plt.cm.Blues, values_format='d')\n",
    "plt.title(f\"Confusion Matrix @ Threshold = {best_threshold:.2f}\")\n",
    "plt.tight_layout()\n",
    "plt.show()\n"
   ]
  }
 ],
 "metadata": {
  "kernelspec": {
   "display_name": "Python [conda env:base] *",
   "language": "python",
   "name": "conda-base-py"
  },
  "language_info": {
   "codemirror_mode": {
    "name": "ipython",
    "version": 3
   },
   "file_extension": ".py",
   "mimetype": "text/x-python",
   "name": "python",
   "nbconvert_exporter": "python",
   "pygments_lexer": "ipython3",
   "version": "3.12.7"
  }
 },
 "nbformat": 4,
 "nbformat_minor": 5
}
