{
 "cells": [
  {
   "cell_type": "code",
   "execution_count": 26,
   "id": "91cc3718-d121-4bd4-acd5-44eeaacaaecd",
   "metadata": {},
   "outputs": [],
   "source": [
    "import os\n",
    "import random\n",
    "import numpy as np\n",
    "import pandas as pd\n",
    "import matplotlib.pyplot as plt\n",
    "\n",
    "import torch\n",
    "import torch.nn.functional as F\n",
    "from torch import nn, optim\n",
    "from torch.utils.data import DataLoader, TensorDataset\n",
    "\n",
    "from sklearn.model_selection import train_test_split\n",
    "from sklearn.metrics import classification_report, confusion_matrix, ConfusionMatrixDisplay\n",
    "\n",
    "from tqdm import tqdm\n"
   ]
  },
  {
   "cell_type": "markdown",
   "id": "e24ebbf0-6fb6-4249-b493-eb25cdcee73f",
   "metadata": {},
   "source": [
    "Sets training configurations and loads the ProstateX labels. It ensures only patients with\n",
    "corresponding preprocessed .npy volume files are included in the dataset."
   ]
  },
  {
   "cell_type": "code",
   "execution_count": 28,
   "id": "1ed0a1fd-da23-491e-be5b-85fb3ed9857b",
   "metadata": {},
   "outputs": [],
   "source": [
    "\n",
    "# === Config ===\n",
    "DATA_DIR = r\"C:\\Users\\anude\\Downloads\\processed_data\"\n",
    "FINDINGS_CSV = r\"C:\\Users\\anude\\Downloads\\project\\ProstateX-Findings-Train100.csv\"\n",
    "BATCH_SIZE = 4\n",
    "EPOCHS = 10\n",
    "LR = 1e-4\n",
    "DEVICE = torch.device(\"cuda\" if torch.cuda.is_available() else \"cpu\")\n",
    "\n",
    "# === Load labels and volume paths ===\n",
    "df = pd.read_csv(FINDINGS_CSV)\n",
    "df = df.dropna(subset=['ClinSig'])\n",
    "df['ProxID'] = df['ProxID'].astype(str)\n",
    "df['ClinSig'] = df['ClinSig'].astype(int)\n",
    "\n",
    "# Only use IDs that have .npy files\n",
    "available_ids = {f.replace(\".npy\", \"\") for f in os.listdir(DATA_DIR)}\n",
    "df = df[df['ProxID'].isin(available_ids)]\n"
   ]
  },
  {
   "cell_type": "code",
   "execution_count": 29,
   "id": "c9bb1ea2-da67-4f46-8018-48172383c69b",
   "metadata": {},
   "outputs": [],
   "source": [
    "#Functions\n",
    "\n",
    "def resize_volume(vol, target_shape=(3, 64, 64, 64)):\n",
    "    \"\"\"\n",
    "    Resizes a 4D volume by cropping or zero-padding to match the target shape.\n",
    "    Ensures consistent input dimensions for model training.\n",
    "    \"\"\"\n",
    "    c, d, h, w = vol.shape\n",
    "    tc, td, th, tw = target_shape\n",
    "    padded = np.zeros(target_shape, dtype=np.float32)\n",
    "    \n",
    "    # Crop if too big\n",
    "    d = min(d, td)\n",
    "    h = min(h, th)\n",
    "    w = min(w, tw)\n",
    "\n",
    "    padded[:c, :d, :h, :w] = vol[:c, :d, :h, :w]\n",
    "    return padded\n",
    "\n",
    "def load_tensor_dataset(dataframe, target_shape=(3, 64, 64, 64)):\n",
    "    \"\"\"\n",
    "    Loads and resizes volumes from .npy files, stacks them into tensors,\n",
    "    and returns a TensorDataset of image volumes and binary labels.\n",
    "    \"\"\"\n",
    "    x_list, y_list = [], []\n",
    "    for _, row in dataframe.iterrows():\n",
    "        try:\n",
    "            vol = np.load(os.path.join(DATA_DIR, f\"{row['ProxID']}.npy\")).astype(np.float32)\n",
    "            vol = resize_volume(vol, target_shape)\n",
    "            x_list.append(vol)\n",
    "            y_list.append(row['ClinSig'])\n",
    "        except Exception as e:\n",
    "            print(f\"[ERROR] Skipping {row['ProxID']}: {e}\")\n",
    "    x_tensor = torch.tensor(np.stack(x_list))  # [N, 3, 64, 64, 64]\n",
    "    y_tensor = torch.tensor(y_list, dtype=torch.float32)\n",
    "    return TensorDataset(x_tensor, y_tensor)\n"
   ]
  },
  {
   "cell_type": "markdown",
   "id": "231a413b-5daa-49c8-b8f1-6ba454d490bb",
   "metadata": {},
   "source": [
    "Splits the dataset into stratified training and validation sets based on ClinSig, loads them as tensor datasets, and prepares PyTorch DataLoaders for model training and evaluation."
   ]
  },
  {
   "cell_type": "code",
   "execution_count": 31,
   "id": "a8241f0d-6bdb-4ee5-b586-f5e11a0e74d4",
   "metadata": {},
   "outputs": [],
   "source": [
    "# Split into train/val\n",
    "train_df, val_df = train_test_split(df, test_size=0.2, stratify=df['ClinSig'], random_state=42)\n",
    "\n",
    "train_data = load_tensor_dataset(train_df)\n",
    "val_data = load_tensor_dataset(val_df)\n",
    "\n",
    "train_loader = DataLoader(train_data, batch_size=BATCH_SIZE, shuffle=True)\n",
    "val_loader = DataLoader(val_data, batch_size=BATCH_SIZE, shuffle=False)"
   ]
  },
  {
   "cell_type": "markdown",
   "id": "6d2312c9-77c4-407a-88d3-94fb13df15e7",
   "metadata": {},
   "source": [
    "A simple 3D CNN for binary classification of prostate lesions is trained using binary cross-entropy loss. After each epoch, the training loss is printed, and the model learns to predict clinical significance from the preprocessed 3D volumes."
   ]
  },
  {
   "cell_type": "code",
   "execution_count": 33,
   "id": "a33cc094-6852-4ff3-9516-704069cdd98c",
   "metadata": {},
   "outputs": [
    {
     "name": "stderr",
     "output_type": "stream",
     "text": [
      "Epoch 1/10: 100%|██████████| 29/29 [00:03<00:00,  8.60it/s]\n"
     ]
    },
    {
     "name": "stdout",
     "output_type": "stream",
     "text": [
      "Epoch 1 - Loss: 16.0126\n"
     ]
    },
    {
     "name": "stderr",
     "output_type": "stream",
     "text": [
      "Epoch 2/10: 100%|██████████| 29/29 [00:03<00:00,  8.71it/s]\n"
     ]
    },
    {
     "name": "stdout",
     "output_type": "stream",
     "text": [
      "Epoch 2 - Loss: 15.4384\n"
     ]
    },
    {
     "name": "stderr",
     "output_type": "stream",
     "text": [
      "Epoch 3/10: 100%|██████████| 29/29 [00:03<00:00,  8.72it/s]\n"
     ]
    },
    {
     "name": "stdout",
     "output_type": "stream",
     "text": [
      "Epoch 3 - Loss: 14.4914\n"
     ]
    },
    {
     "name": "stderr",
     "output_type": "stream",
     "text": [
      "Epoch 4/10: 100%|██████████| 29/29 [00:03<00:00,  8.67it/s]\n"
     ]
    },
    {
     "name": "stdout",
     "output_type": "stream",
     "text": [
      "Epoch 4 - Loss: 14.1233\n"
     ]
    },
    {
     "name": "stderr",
     "output_type": "stream",
     "text": [
      "Epoch 5/10: 100%|██████████| 29/29 [00:03<00:00,  8.65it/s]\n"
     ]
    },
    {
     "name": "stdout",
     "output_type": "stream",
     "text": [
      "Epoch 5 - Loss: 13.6600\n"
     ]
    },
    {
     "name": "stderr",
     "output_type": "stream",
     "text": [
      "Epoch 6/10: 100%|██████████| 29/29 [00:03<00:00,  8.72it/s]\n"
     ]
    },
    {
     "name": "stdout",
     "output_type": "stream",
     "text": [
      "Epoch 6 - Loss: 13.0406\n"
     ]
    },
    {
     "name": "stderr",
     "output_type": "stream",
     "text": [
      "Epoch 7/10: 100%|██████████| 29/29 [00:03<00:00,  8.67it/s]\n"
     ]
    },
    {
     "name": "stdout",
     "output_type": "stream",
     "text": [
      "Epoch 7 - Loss: 12.8113\n"
     ]
    },
    {
     "name": "stderr",
     "output_type": "stream",
     "text": [
      "Epoch 8/10: 100%|██████████| 29/29 [00:03<00:00,  8.62it/s]\n"
     ]
    },
    {
     "name": "stdout",
     "output_type": "stream",
     "text": [
      "Epoch 8 - Loss: 14.0870\n"
     ]
    },
    {
     "name": "stderr",
     "output_type": "stream",
     "text": [
      "Epoch 9/10: 100%|██████████| 29/29 [00:03<00:00,  8.66it/s]\n"
     ]
    },
    {
     "name": "stdout",
     "output_type": "stream",
     "text": [
      "Epoch 9 - Loss: 11.4950\n"
     ]
    },
    {
     "name": "stderr",
     "output_type": "stream",
     "text": [
      "Epoch 10/10: 100%|██████████| 29/29 [00:03<00:00,  8.66it/s]\n"
     ]
    },
    {
     "name": "stdout",
     "output_type": "stream",
     "text": [
      "Epoch 10 - Loss: 10.8940\n",
      " Model saved to C:\\Users\\anude\\Downloads\\project\\prostate_cnn_model_3d.pth\n"
     ]
    }
   ],
   "source": [
    "# === Define model ===\n",
    "model = nn.Sequential(\n",
    "    nn.Conv3d(3, 16, kernel_size=3, padding=1),\n",
    "    nn.ReLU(),\n",
    "    nn.MaxPool3d(2),\n",
    "    nn.Conv3d(16, 32, kernel_size=3, padding=1),\n",
    "    nn.ReLU(),\n",
    "    nn.MaxPool3d(2),\n",
    "    nn.Flatten(),\n",
    "    nn.Linear(32 * 16 * 16 * 16, 128),  # adjust if input shape is different\n",
    "    nn.ReLU(),\n",
    "    nn.Linear(128, 1),\n",
    "    nn.Sigmoid()\n",
    ").to(DEVICE)\n",
    "\n",
    "# === Training ===\n",
    "optimizer = optim.Adam(model.parameters(), lr=LR)\n",
    "loss_fn = nn.BCELoss()\n",
    "\n",
    "for epoch in range(EPOCHS):\n",
    "    model.train()\n",
    "    total_loss = 0\n",
    "    for x_batch, y_batch in tqdm(train_loader, desc=f\"Epoch {epoch+1}/{EPOCHS}\"):\n",
    "        x_batch, y_batch = x_batch.to(DEVICE), y_batch.to(DEVICE)\n",
    "        optimizer.zero_grad()\n",
    "        outputs = model(x_batch).squeeze()\n",
    "        loss = loss_fn(outputs, y_batch)\n",
    "        loss.backward()\n",
    "        optimizer.step()\n",
    "        total_loss += loss.item()\n",
    "    print(f\"Epoch {epoch+1} - Loss: {total_loss:.4f}\")\n",
    "\n",
    "# === Save model ===\n",
    "MODEL_PATH = r\"C:\\Users\\anude\\Downloads\\project\\prostate_cnn_model_3d.pth\"\n",
    "torch.save(model.state_dict(), MODEL_PATH)\n",
    "print(f\" Model saved to {MODEL_PATH}\")\n"
   ]
  },
  {
   "cell_type": "markdown",
   "id": "ad902a7f-f225-4005-87cc-1a51ab177ff9",
   "metadata": {},
   "source": [
    "Loads the saved 3D CNN model and evaluates its predictions on the validation set, calculating classification metrics like precision, recall, and F1-score for ClinSig and non-ClinSig cases."
   ]
  },
  {
   "cell_type": "code",
   "execution_count": 35,
   "id": "621a1fde-0686-45f6-8f11-68d8fd332e29",
   "metadata": {},
   "outputs": [
    {
     "name": "stdout",
     "output_type": "stream",
     "text": [
      "\n",
      "📊 Evaluation Report:\n",
      "              precision    recall  f1-score   support\n",
      "\n",
      " Not ClinSig       0.79      0.96      0.86        23\n",
      "     ClinSig       0.00      0.00      0.00         6\n",
      "\n",
      "    accuracy                           0.76        29\n",
      "   macro avg       0.39      0.48      0.43        29\n",
      "weighted avg       0.62      0.76      0.68        29\n",
      "\n"
     ]
    }
   ],
   "source": [
    "# === Load saved model ===\n",
    "MODEL_PATH = r\"C:\\Users\\anude\\Downloads\\project\\prostate_cnn_model_3d.pth\"\n",
    "model.load_state_dict(torch.load(MODEL_PATH, map_location=DEVICE))\n",
    "model.to(DEVICE)\n",
    "model.eval()\n",
    "\n",
    "# === Evaluation ===\n",
    "all_preds, all_labels = [], []\n",
    "with torch.no_grad():\n",
    "    for x_batch, y_batch in val_loader:\n",
    "        x_batch = x_batch.to(DEVICE)\n",
    "        preds = model(x_batch).squeeze().cpu().numpy()\n",
    "        preds = (preds > 0.5).astype(int)\n",
    "        all_preds += [int(preds)] if np.isscalar(preds) else preds.tolist()\n",
    "        all_labels += [int(y_batch)] if torch.numel(y_batch) == 1 else y_batch.numpy().tolist()\n",
    "\n",
    "print(\"\\n📊 Evaluation Report:\")\n",
    "print(classification_report(all_labels, all_preds, target_names=[\"Not ClinSig\", \"ClinSig\"]))\n"
   ]
  },
  {
   "cell_type": "markdown",
   "id": "9cc893bd-23d1-4ee1-be96-5d4a40f3e7d9",
   "metadata": {},
   "source": [
    "Visualises the confusion matrix to assess how well the model distinguishes between clinically significant and non-significant lesions."
   ]
  },
  {
   "cell_type": "code",
   "execution_count": 37,
   "id": "0d406fbc-e8a0-448c-ab07-4902e46f0d79",
   "metadata": {},
   "outputs": [
    {
     "data": {
      "image/png": "[encoded data removed]",
      "text/plain": [
       "<Figure size 640x480 with 2 Axes>"
      ]
     },
     "metadata": {},
     "output_type": "display_data"
    }
   ],
   "source": [
    "# === Confusion Matrix ===\n",
    "cm = confusion_matrix(all_labels, all_preds)\n",
    "disp = ConfusionMatrixDisplay(confusion_matrix=cm, display_labels=[\"Not ClinSig\", \"ClinSig\"])\n",
    "disp.plot(cmap=\"Blues\", values_format='d')\n",
    "plt.title(\"Confusion Matrix\")\n",
    "plt.tight_layout()\n",
    "plt.show()\n"
   ]
  },
  {
   "cell_type": "markdown",
   "id": "2576eb71-1919-4196-90f0-de0f0a69c8d5",
   "metadata": {},
   "source": [
    "<h2> Improving the accuracy and precision"
   ]
  },
  {
   "cell_type": "markdown",
   "id": "d90e20b6-5a0c-4dbd-bd33-fa1485eef758",
   "metadata": {},
   "source": [
    "Adding focal loss, data augmentation, and oversampling of clinically significant cases to handle class imbalance. It uses a deeper CNN architecture with batch normalization, dropout, and a learning rate scheduler for better generalisation"
   ]
  },
  {
   "cell_type": "code",
   "execution_count": 40,
   "id": "ec1dd087-c917-4d28-9a70-b858549526c8",
   "metadata": {},
   "outputs": [],
   "source": [
    "GAMMA = 3.0\n",
    "THRESHOLD = 0.5\n",
    "TARGET_SHAPE = (3, 64, 64, 64)\n",
    "EPOCHS = 30\n",
    "\n",
    "# === Data prep ===\n",
    "df = pd.read_csv(FINDINGS_CSV)\n",
    "df = df.dropna(subset=['ClinSig'])\n",
    "df['ProxID'] = df['ProxID'].astype(str)\n",
    "df['ClinSig'] = df['ClinSig'].astype(int)\n",
    "df['ProxID'] = df['ProxID'].apply(lambda x: x if x.startswith(\"ProstateX-\") else f\"ProstateX-{x}\")\n",
    "available_ids = {f.replace(\".npy\", \"\") for f in os.listdir(DATA_DIR)}\n",
    "df = df[df['ProxID'].isin(available_ids)]\n"
   ]
  },
  {
   "cell_type": "code",
   "execution_count": 41,
   "id": "4d54b166-d10e-43b8-8a9d-bcd1328e19c1",
   "metadata": {},
   "outputs": [],
   "source": [
    "# === Focal Loss ===\n",
    "def focal_loss(logits, targets, gamma=GAMMA):\n",
    "    \"\"\"\n",
    "    Computes Focal Loss to address class imbalance by focusing more on hard-to-classify examples.\n",
    "    \"\"\"\n",
    "    bce = F.binary_cross_entropy_with_logits(logits, targets, reduction='none')\n",
    "    pt = torch.exp(-bce)\n",
    "    return ((1 - pt) ** gamma * bce).mean()\n",
    "\n",
    "\n",
    "# === Augmentation ===\n",
    "def augment(volume):\n",
    "    \"\"\"\n",
    "    Applies random 3D augmentations to a volume: horizontal flip, vertical flip, and 90-degree rotations.\n",
    "    \"\"\"\n",
    "    if random.random() < 0.5:\n",
    "        volume = np.flip(volume, axis=2)  # Horizontal\n",
    "    if random.random() < 0.5:\n",
    "        volume = np.flip(volume, axis=3)  # Vertical\n",
    "    if random.random() < 0.5:\n",
    "        k = random.choice([1, 2, 3])\n",
    "        volume = np.rot90(volume, k, axes=(2, 3)).copy()\n",
    "    return volume\n",
    "\n",
    "\n",
    "# === Resize + optional augment ===\n",
    "def resize_volume(vol, target_shape, augment_flag=False):\n",
    "    \"\"\"\n",
    "    Resizes a volume to the target shape by cropping or zero-padding, with optional augmentation.\n",
    "    \"\"\"\n",
    "    if augment_flag:\n",
    "        vol = augment(vol)\n",
    "    c, d, h, w = vol.shape\n",
    "    tc, td, th, tw = target_shape\n",
    "    padded = np.zeros(target_shape, dtype=np.float32)\n",
    "    d, h, w = min(d, td), min(h, th), min(w, tw)\n",
    "    padded[:c, :d, :h, :w] = vol[:c, :d, :h, :w]\n",
    "    return padded\n",
    "\n",
    "\n",
    "# === Data loader with augment for ClinSig ===\n",
    "def load_tensor_dataset(df, shape=TARGET_SHAPE, augment_clinsig=False):\n",
    "    \"\"\"\n",
    "    Loads volume data and labels into a TensorDataset, applying augmentation only to ClinSig-positive samples.\n",
    "    Returns the dataset and associated patient IDs.\n",
    "    \"\"\"\n",
    "    x_list, y_list, ids = [], [], []\n",
    "    for _, row in df.iterrows():\n",
    "        try:\n",
    "            vol = np.load(os.path.join(DATA_DIR, f\"{row['ProxID']}.npy\")).astype(np.float32)\n",
    "            is_clinsig = row['ClinSig'] == 1\n",
    "            vol = resize_volume(vol, shape, augment_flag=augment_clinsig and is_clinsig)\n",
    "            x_list.append(vol)\n",
    "            y_list.append(row['ClinSig'])\n",
    "            ids.append(row['ProxID'])\n",
    "        except Exception as e:\n",
    "            print(f\"[ERROR] Skipping {row['ProxID']}: {e}\")\n",
    "    x_tensor = torch.tensor(np.stack(x_list))\n",
    "    y_tensor = torch.tensor(y_list, dtype=torch.float32)\n",
    "    return TensorDataset(x_tensor, y_tensor), ids\n"
   ]
  },
  {
   "cell_type": "code",
   "execution_count": 42,
   "id": "c95b5924-5e6c-4148-92cd-48dd96be024f",
   "metadata": {},
   "outputs": [
    {
     "name": "stdout",
     "output_type": "stream",
     "text": [
      "Train class distribution:\n",
      " ClinSig\n",
      "0    94\n",
      "1    44\n",
      "Name: count, dtype: int64\n",
      "Val class distribution:\n",
      " ClinSig\n",
      "0    23\n",
      "1     6\n",
      "Name: count, dtype: int64\n"
     ]
    }
   ],
   "source": [
    "\n",
    "# === Train/val split + duplicate ClinSig once ===\n",
    "train_df, val_df = train_test_split(df, test_size=0.2, stratify=df['ClinSig'], random_state=42)\n",
    "clinsig_df = train_df[train_df['ClinSig'] == 1]\n",
    "train_df = pd.concat([train_df, clinsig_df], ignore_index=True)\n",
    "\n",
    "# === Display counts ===\n",
    "print(\"Train class distribution:\\n\", train_df['ClinSig'].value_counts())\n",
    "print(\"Val class distribution:\\n\", val_df['ClinSig'].value_counts())\n",
    "\n",
    "# === Load Datasets ===\n",
    "train_data, _ = load_tensor_dataset(train_df, augment_clinsig=True)\n",
    "val_data, val_ids = load_tensor_dataset(val_df)\n",
    "train_loader = DataLoader(train_data, batch_size=BATCH_SIZE, shuffle=True)\n",
    "val_loader = DataLoader(val_data, batch_size=BATCH_SIZE, shuffle=False)"
   ]
  },
  {
   "cell_type": "code",
   "execution_count": 47,
   "id": "9a8e5086-8dad-4b79-a669-61ef73246d86",
   "metadata": {},
   "outputs": [],
   "source": [
    "#clearing GPU Chache\n",
    "torch.cuda.empty_cache()\n"
   ]
  },
  {
   "cell_type": "markdown",
   "id": "b9d4d3d8-f183-4c2a-9e4d-c5d45750a531",
   "metadata": {},
   "source": [
    "A deep 3D CNN with batch normalization, dropout, and LeakyReLU activations, then trains it using focal loss and a learning rate scheduler. The model is optimised to handle class imbalance and learn robust features from volumetric prostate data."
   ]
  },
  {
   "cell_type": "code",
   "execution_count": 44,
   "id": "3c598dc6-3e54-46eb-8d03-263db6c1cd0d",
   "metadata": {},
   "outputs": [
    {
     "name": "stderr",
     "output_type": "stream",
     "text": [
      "Epoch 1/30:   3%|▎         | 1/35 [00:01<00:50,  1.49s/it]\n"
     ]
    },
    {
     "ename": "OutOfMemoryError",
     "evalue": "CUDA out of memory. Tried to allocate 2.00 MiB. GPU 0 has a total capacity of 6.00 GiB of which 0 bytes is free. Of the allocated memory 1.62 GiB is allocated by PyTorch, and 48.79 MiB is reserved by PyTorch but unallocated. If reserved but unallocated memory is large try setting PYTORCH_CUDA_ALLOC_CONF=expandable_segments:True to avoid fragmentation.  See documentation for Memory Management  (https://pytorch.org/docs/stable/notes/cuda.html#environment-variables)",
     "output_type": "error",
     "traceback": [
      "\u001b[1;31m---------------------------------------------------------------------------\u001b[0m",
      "\u001b[1;31mOutOfMemoryError\u001b[0m                          Traceback (most recent call last)",
      "Cell \u001b[1;32mIn[44], line 25\u001b[0m\n\u001b[0;32m     23\u001b[0m x_batch, y_batch \u001b[38;5;241m=\u001b[39m x_batch\u001b[38;5;241m.\u001b[39mto(DEVICE), y_batch\u001b[38;5;241m.\u001b[39mto(DEVICE)\n\u001b[0;32m     24\u001b[0m optimizer\u001b[38;5;241m.\u001b[39mzero_grad()\n\u001b[1;32m---> 25\u001b[0m logits \u001b[38;5;241m=\u001b[39m model(x_batch)\u001b[38;5;241m.\u001b[39msqueeze()\n\u001b[0;32m     26\u001b[0m loss \u001b[38;5;241m=\u001b[39m focal_loss(logits, y_batch)\n\u001b[0;32m     27\u001b[0m loss\u001b[38;5;241m.\u001b[39mbackward()\n",
      "File \u001b[1;32m~\\anaconda3\\Lib\\site-packages\\torch\\nn\\modules\\module.py:1739\u001b[0m, in \u001b[0;36mModule._wrapped_call_impl\u001b[1;34m(self, *args, **kwargs)\u001b[0m\n\u001b[0;32m   1737\u001b[0m     \u001b[38;5;28;01mreturn\u001b[39;00m \u001b[38;5;28mself\u001b[39m\u001b[38;5;241m.\u001b[39m_compiled_call_impl(\u001b[38;5;241m*\u001b[39margs, \u001b[38;5;241m*\u001b[39m\u001b[38;5;241m*\u001b[39mkwargs)  \u001b[38;5;66;03m# type: ignore[misc]\u001b[39;00m\n\u001b[0;32m   1738\u001b[0m \u001b[38;5;28;01melse\u001b[39;00m:\n\u001b[1;32m-> 1739\u001b[0m     \u001b[38;5;28;01mreturn\u001b[39;00m \u001b[38;5;28mself\u001b[39m\u001b[38;5;241m.\u001b[39m_call_impl(\u001b[38;5;241m*\u001b[39margs, \u001b[38;5;241m*\u001b[39m\u001b[38;5;241m*\u001b[39mkwargs)\n",
      "File \u001b[1;32m~\\anaconda3\\Lib\\site-packages\\torch\\nn\\modules\\module.py:1750\u001b[0m, in \u001b[0;36mModule._call_impl\u001b[1;34m(self, *args, **kwargs)\u001b[0m\n\u001b[0;32m   1745\u001b[0m \u001b[38;5;66;03m# If we don't have any hooks, we want to skip the rest of the logic in\u001b[39;00m\n\u001b[0;32m   1746\u001b[0m \u001b[38;5;66;03m# this function, and just call forward.\u001b[39;00m\n\u001b[0;32m   1747\u001b[0m \u001b[38;5;28;01mif\u001b[39;00m \u001b[38;5;129;01mnot\u001b[39;00m (\u001b[38;5;28mself\u001b[39m\u001b[38;5;241m.\u001b[39m_backward_hooks \u001b[38;5;129;01mor\u001b[39;00m \u001b[38;5;28mself\u001b[39m\u001b[38;5;241m.\u001b[39m_backward_pre_hooks \u001b[38;5;129;01mor\u001b[39;00m \u001b[38;5;28mself\u001b[39m\u001b[38;5;241m.\u001b[39m_forward_hooks \u001b[38;5;129;01mor\u001b[39;00m \u001b[38;5;28mself\u001b[39m\u001b[38;5;241m.\u001b[39m_forward_pre_hooks\n\u001b[0;32m   1748\u001b[0m         \u001b[38;5;129;01mor\u001b[39;00m _global_backward_pre_hooks \u001b[38;5;129;01mor\u001b[39;00m _global_backward_hooks\n\u001b[0;32m   1749\u001b[0m         \u001b[38;5;129;01mor\u001b[39;00m _global_forward_hooks \u001b[38;5;129;01mor\u001b[39;00m _global_forward_pre_hooks):\n\u001b[1;32m-> 1750\u001b[0m     \u001b[38;5;28;01mreturn\u001b[39;00m forward_call(\u001b[38;5;241m*\u001b[39margs, \u001b[38;5;241m*\u001b[39m\u001b[38;5;241m*\u001b[39mkwargs)\n\u001b[0;32m   1752\u001b[0m result \u001b[38;5;241m=\u001b[39m \u001b[38;5;28;01mNone\u001b[39;00m\n\u001b[0;32m   1753\u001b[0m called_always_called_hooks \u001b[38;5;241m=\u001b[39m \u001b[38;5;28mset\u001b[39m()\n",
      "File \u001b[1;32m~\\anaconda3\\Lib\\site-packages\\torch\\nn\\modules\\container.py:250\u001b[0m, in \u001b[0;36mSequential.forward\u001b[1;34m(self, input)\u001b[0m\n\u001b[0;32m    248\u001b[0m \u001b[38;5;28;01mdef\u001b[39;00m \u001b[38;5;21mforward\u001b[39m(\u001b[38;5;28mself\u001b[39m, \u001b[38;5;28minput\u001b[39m):\n\u001b[0;32m    249\u001b[0m     \u001b[38;5;28;01mfor\u001b[39;00m module \u001b[38;5;129;01min\u001b[39;00m \u001b[38;5;28mself\u001b[39m:\n\u001b[1;32m--> 250\u001b[0m         \u001b[38;5;28minput\u001b[39m \u001b[38;5;241m=\u001b[39m module(\u001b[38;5;28minput\u001b[39m)\n\u001b[0;32m    251\u001b[0m     \u001b[38;5;28;01mreturn\u001b[39;00m \u001b[38;5;28minput\u001b[39m\n",
      "File \u001b[1;32m~\\anaconda3\\Lib\\site-packages\\torch\\nn\\modules\\module.py:1739\u001b[0m, in \u001b[0;36mModule._wrapped_call_impl\u001b[1;34m(self, *args, **kwargs)\u001b[0m\n\u001b[0;32m   1737\u001b[0m     \u001b[38;5;28;01mreturn\u001b[39;00m \u001b[38;5;28mself\u001b[39m\u001b[38;5;241m.\u001b[39m_compiled_call_impl(\u001b[38;5;241m*\u001b[39margs, \u001b[38;5;241m*\u001b[39m\u001b[38;5;241m*\u001b[39mkwargs)  \u001b[38;5;66;03m# type: ignore[misc]\u001b[39;00m\n\u001b[0;32m   1738\u001b[0m \u001b[38;5;28;01melse\u001b[39;00m:\n\u001b[1;32m-> 1739\u001b[0m     \u001b[38;5;28;01mreturn\u001b[39;00m \u001b[38;5;28mself\u001b[39m\u001b[38;5;241m.\u001b[39m_call_impl(\u001b[38;5;241m*\u001b[39margs, \u001b[38;5;241m*\u001b[39m\u001b[38;5;241m*\u001b[39mkwargs)\n",
      "File \u001b[1;32m~\\anaconda3\\Lib\\site-packages\\torch\\nn\\modules\\module.py:1750\u001b[0m, in \u001b[0;36mModule._call_impl\u001b[1;34m(self, *args, **kwargs)\u001b[0m\n\u001b[0;32m   1745\u001b[0m \u001b[38;5;66;03m# If we don't have any hooks, we want to skip the rest of the logic in\u001b[39;00m\n\u001b[0;32m   1746\u001b[0m \u001b[38;5;66;03m# this function, and just call forward.\u001b[39;00m\n\u001b[0;32m   1747\u001b[0m \u001b[38;5;28;01mif\u001b[39;00m \u001b[38;5;129;01mnot\u001b[39;00m (\u001b[38;5;28mself\u001b[39m\u001b[38;5;241m.\u001b[39m_backward_hooks \u001b[38;5;129;01mor\u001b[39;00m \u001b[38;5;28mself\u001b[39m\u001b[38;5;241m.\u001b[39m_backward_pre_hooks \u001b[38;5;129;01mor\u001b[39;00m \u001b[38;5;28mself\u001b[39m\u001b[38;5;241m.\u001b[39m_forward_hooks \u001b[38;5;129;01mor\u001b[39;00m \u001b[38;5;28mself\u001b[39m\u001b[38;5;241m.\u001b[39m_forward_pre_hooks\n\u001b[0;32m   1748\u001b[0m         \u001b[38;5;129;01mor\u001b[39;00m _global_backward_pre_hooks \u001b[38;5;129;01mor\u001b[39;00m _global_backward_hooks\n\u001b[0;32m   1749\u001b[0m         \u001b[38;5;129;01mor\u001b[39;00m _global_forward_hooks \u001b[38;5;129;01mor\u001b[39;00m _global_forward_pre_hooks):\n\u001b[1;32m-> 1750\u001b[0m     \u001b[38;5;28;01mreturn\u001b[39;00m forward_call(\u001b[38;5;241m*\u001b[39margs, \u001b[38;5;241m*\u001b[39m\u001b[38;5;241m*\u001b[39mkwargs)\n\u001b[0;32m   1752\u001b[0m result \u001b[38;5;241m=\u001b[39m \u001b[38;5;28;01mNone\u001b[39;00m\n\u001b[0;32m   1753\u001b[0m called_always_called_hooks \u001b[38;5;241m=\u001b[39m \u001b[38;5;28mset\u001b[39m()\n",
      "File \u001b[1;32m~\\anaconda3\\Lib\\site-packages\\torch\\nn\\modules\\dropout.py:70\u001b[0m, in \u001b[0;36mDropout.forward\u001b[1;34m(self, input)\u001b[0m\n\u001b[0;32m     69\u001b[0m \u001b[38;5;28;01mdef\u001b[39;00m \u001b[38;5;21mforward\u001b[39m(\u001b[38;5;28mself\u001b[39m, \u001b[38;5;28minput\u001b[39m: Tensor) \u001b[38;5;241m-\u001b[39m\u001b[38;5;241m>\u001b[39m Tensor:\n\u001b[1;32m---> 70\u001b[0m     \u001b[38;5;28;01mreturn\u001b[39;00m F\u001b[38;5;241m.\u001b[39mdropout(\u001b[38;5;28minput\u001b[39m, \u001b[38;5;28mself\u001b[39m\u001b[38;5;241m.\u001b[39mp, \u001b[38;5;28mself\u001b[39m\u001b[38;5;241m.\u001b[39mtraining, \u001b[38;5;28mself\u001b[39m\u001b[38;5;241m.\u001b[39minplace)\n",
      "File \u001b[1;32m~\\anaconda3\\Lib\\site-packages\\torch\\nn\\functional.py:1425\u001b[0m, in \u001b[0;36mdropout\u001b[1;34m(input, p, training, inplace)\u001b[0m\n\u001b[0;32m   1422\u001b[0m \u001b[38;5;28;01mif\u001b[39;00m p \u001b[38;5;241m<\u001b[39m \u001b[38;5;241m0.0\u001b[39m \u001b[38;5;129;01mor\u001b[39;00m p \u001b[38;5;241m>\u001b[39m \u001b[38;5;241m1.0\u001b[39m:\n\u001b[0;32m   1423\u001b[0m     \u001b[38;5;28;01mraise\u001b[39;00m \u001b[38;5;167;01mValueError\u001b[39;00m(\u001b[38;5;124mf\u001b[39m\u001b[38;5;124m\"\u001b[39m\u001b[38;5;124mdropout probability has to be between 0 and 1, but got \u001b[39m\u001b[38;5;132;01m{\u001b[39;00mp\u001b[38;5;132;01m}\u001b[39;00m\u001b[38;5;124m\"\u001b[39m)\n\u001b[0;32m   1424\u001b[0m \u001b[38;5;28;01mreturn\u001b[39;00m (\n\u001b[1;32m-> 1425\u001b[0m     _VF\u001b[38;5;241m.\u001b[39mdropout_(\u001b[38;5;28minput\u001b[39m, p, training) \u001b[38;5;28;01mif\u001b[39;00m inplace \u001b[38;5;28;01melse\u001b[39;00m _VF\u001b[38;5;241m.\u001b[39mdropout(\u001b[38;5;28minput\u001b[39m, p, training)\n\u001b[0;32m   1426\u001b[0m )\n",
      "\u001b[1;31mOutOfMemoryError\u001b[0m: CUDA out of memory. Tried to allocate 2.00 MiB. GPU 0 has a total capacity of 6.00 GiB of which 0 bytes is free. Of the allocated memory 1.62 GiB is allocated by PyTorch, and 48.79 MiB is reserved by PyTorch but unallocated. If reserved but unallocated memory is large try setting PYTORCH_CUDA_ALLOC_CONF=expandable_segments:True to avoid fragmentation.  See documentation for Memory Management  (https://pytorch.org/docs/stable/notes/cuda.html#environment-variables)"
     ]
    }
   ],
   "source": [
    "\n",
    "\n",
    "# === Deep CNN Model ===\n",
    "model = nn.Sequential(\n",
    "    nn.Conv3d(3, 16, 3, padding=1), nn.BatchNorm3d(16), nn.LeakyReLU(),\n",
    "    nn.Conv3d(16, 32, 3, padding=1), nn.BatchNorm3d(32), nn.LeakyReLU(),\n",
    "    nn.MaxPool3d(2),\n",
    "    nn.Conv3d(32, 64, 3, padding=1), nn.BatchNorm3d(64), nn.LeakyReLU(),\n",
    "    nn.MaxPool3d(2),\n",
    "    nn.Flatten(),\n",
    "    nn.Dropout(0.2),\n",
    "    nn.Linear(64 * 16 * 16 * 16, 256), nn.LeakyReLU(),\n",
    "    nn.Dropout(0.2),\n",
    "    nn.Linear(256, 1)\n",
    ").to(DEVICE)\n",
    "\n",
    "optimizer = optim.Adam(model.parameters(), lr=LR)\n",
    "scheduler = optim.lr_scheduler.ReduceLROnPlateau(optimizer, mode='min', patience=2, factor=0.5)\n",
    "\n",
    "# === Training Loop ===\n",
    "for epoch in range(EPOCHS):\n",
    "    model.train()\n",
    "    total_loss = 0\n",
    "    for x_batch, y_batch in tqdm(train_loader, desc=f\"Epoch {epoch+1}/{EPOCHS}\"):\n",
    "        x_batch, y_batch = x_batch.to(DEVICE), y_batch.to(DEVICE)\n",
    "        optimizer.zero_grad()\n",
    "        logits = model(x_batch).squeeze()\n",
    "        loss = focal_loss(logits, y_batch)\n",
    "        loss.backward()\n",
    "        optimizer.step()\n",
    "        total_loss += loss.item()\n",
    "    print(f\"Epoch {epoch+1} - Loss: {total_loss:.4f}\")\n",
    "    scheduler.step(total_loss)\n",
    "\n",
    "# === Save Trained Model ===\n",
    "MODEL_PATH = r\"C:\\Users\\anude\\Downloads\\project\\prostate_cnn_model_3DCNN.pth\"\n",
    "torch.save(model.state_dict(), MODEL_PATH)\n",
    "print(f\" Model saved to {MODEL_PATH}\")\n"
   ]
  },
  {
   "cell_type": "markdown",
   "id": "9f8fcef7-806c-4690-a0f6-85f037795233",
   "metadata": {},
   "source": [
    "Evaluates the model on the validation set using sigmoid-based thresholding and prints a classification report, displays example predictions."
   ]
  },
  {
   "cell_type": "code",
   "execution_count": null,
   "id": "64107ccc-ef8a-4f9e-a70e-61fa0e627513",
   "metadata": {},
   "outputs": [],
   "source": [
    "# === Load Saved Model ===\n",
    "MODEL_PATH = r\"C:\\Users\\anude\\Downloads\\project\\prostate_cnn_model_3DCNN.pth\"\n",
    "model.load_state_dict(torch.load(MODEL_PATH, map_location=DEVICE))\n",
    "model.to(DEVICE)\n",
    "model.eval()\n",
    "\n",
    "# === Evaluation ===\n",
    "all_preds, all_labels, all_proxids = [], [], []\n",
    "index = 0\n",
    "\n",
    "with torch.no_grad():\n",
    "    for x_batch, y_batch in val_loader:\n",
    "        x_batch = x_batch.to(DEVICE)\n",
    "        logits = model(x_batch).squeeze()\n",
    "        probs = torch.sigmoid(logits).cpu().numpy()\n",
    "        preds = (probs > THRESHOLD).astype(int)\n",
    "        preds = np.atleast_1d(preds)\n",
    "        y_batch = y_batch.numpy()\n",
    "        for i in range(len(preds)):\n",
    "            prox_id = val_ids[index]\n",
    "            all_proxids.append(prox_id)\n",
    "            all_preds.append(int(preds[i]))\n",
    "            all_labels.append(int(y_batch[i]))\n",
    "            index += 1\n",
    "\n",
    "# === Report ===\n",
    "print(\"\\nFinal Evaluation Report:\")\n",
    "print(classification_report(all_labels, all_preds, target_names=[\"Not ClinSig\", \"ClinSig\"], zero_division=0))\n",
    "\n",
    "print(\"\\nSample Predictions:\")\n",
    "for pid, pred, label in zip(all_proxids[:10], all_preds[:10], all_labels[:10]):\n",
    "    print(f\"{pid}: Predicted={pred}, Actual={label}\")\n",
    "\n",
    "# === Confusion Matrix ===\n",
    "cm = confusion_matrix(all_labels, all_preds, labels=[0, 1])\n",
    "disp = ConfusionMatrixDisplay(confusion_matrix=cm, display_labels=[\"Not ClinSig\", \"ClinSig\"])\n",
    "plt.figure(figsize=(5, 4))\n",
    "disp.plot(cmap=plt.cm.Blues, values_format='d')\n",
    "plt.title(\"Confusion Matrix\")\n",
    "plt.tight_layout()\n",
    "plt.show()\n"
   ]
  }
 ],
 "metadata": {
  "kernelspec": {
   "display_name": "Python [conda env:base] *",
   "language": "python",
   "name": "conda-base-py"
  },
  "language_info": {
   "codemirror_mode": {
    "name": "ipython",
    "version": 3
   },
   "file_extension": ".py",
   "mimetype": "text/x-python",
   "name": "python",
   "nbconvert_exporter": "python",
   "pygments_lexer": "ipython3",
   "version": "3.12.7"
  }
 },
 "nbformat": 4,
 "nbformat_minor": 5
}
