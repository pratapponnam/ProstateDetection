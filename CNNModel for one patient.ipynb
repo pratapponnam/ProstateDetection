{
  "nbformat": 4,
  "nbformat_minor": 0,
  "metadata": {
    "colab": {
      "provenance": [],
      "authorship_tag": "ABX9TyOfwmYd40SCHN/AqaEjhAKU",
      "include_colab_link": true
    },
    "kernelspec": {
      "name": "python3",
      "display_name": "Python 3"
    },
    "language_info": {
      "name": "python"
    }
  },
  "cells": [
    {
      "cell_type": "markdown",
      "metadata": {
        "id": "view-in-github",
        "colab_type": "text"
      },
      "source": [
        "<a href=\"https://colab.research.google.com/github/pratapponnam/ProstateDetection/blob/main/CNNModel%20for%20one%20patient.ipynb\" target=\"_parent\"><img src=\"https://colab.research.google.com/assets/colab-badge.svg\" alt=\"Open In Colab\"/></a>"
      ]
    },
    {
      "cell_type": "code",
      "source": [
        "!pip install pydicom"
      ],
      "metadata": {
        "colab": {
          "base_uri": "https://localhost:8080/"
        },
        "id": "yIBU2Sz99L8X",
        "outputId": "6e619a03-6eeb-4d44-d6b6-a90260273330"
      },
      "execution_count": 2,
      "outputs": [
        {
          "output_type": "stream",
          "name": "stdout",
          "text": [
            "Collecting pydicom\n",
            "  Downloading pydicom-3.0.1-py3-none-any.whl.metadata (9.4 kB)\n",
            "Downloading pydicom-3.0.1-py3-none-any.whl (2.4 MB)\n",
            "\u001b[2K   \u001b[90m━━━━━━━━━━━━━━━━━━━━━━━━━━━━━━━━━━━━━━━━\u001b[0m \u001b[32m2.4/2.4 MB\u001b[0m \u001b[31m18.0 MB/s\u001b[0m eta \u001b[36m0:00:00\u001b[0m\n",
            "\u001b[?25hInstalling collected packages: pydicom\n",
            "Successfully installed pydicom-3.0.1\n"
          ]
        }
      ]
    },
    {
      "cell_type": "code",
      "source": [
        "# prompt: connect to google drive\n",
        "\n",
        "from google.colab import drive\n",
        "drive.mount('/content/drive')"
      ],
      "metadata": {
        "colab": {
          "base_uri": "https://localhost:8080/"
        },
        "id": "t8kZJ_Cx9ZA5",
        "outputId": "7770361f-dd0c-4bcd-a403-c93ee6b1acd5"
      },
      "execution_count": 24,
      "outputs": [
        {
          "output_type": "stream",
          "name": "stdout",
          "text": [
            "Drive already mounted at /content/drive; to attempt to forcibly remount, call drive.mount(\"/content/drive\", force_remount=True).\n"
          ]
        }
      ]
    },
    {
      "cell_type": "code",
      "source": [
        "import os\n",
        "import pydicom\n",
        "import numpy as np\n",
        "import pandas as pd\n",
        "import tensorflow as tf\n",
        "from tensorflow import keras\n",
        "from tensorflow.keras import layers\n",
        "from sklearn.model_selection import train_test_split\n",
        "from tensorflow.keras.utils import to_categorical\n",
        "import matplotlib.pyplot as plt"
      ],
      "metadata": {
        "id": "h_u9JQul9hDk"
      },
      "execution_count": 13,
      "outputs": []
    },
    {
      "cell_type": "code",
      "execution_count": 32,
      "metadata": {
        "id": "4LbiNeltpxtg"
      },
      "outputs": [],
      "source": [
        "# Paths to data files\n",
        "findings_train_path = \"/content/drive/MyDrive/ProstateX-Findings-Train1.csv\"\n",
        "images_train_path = \"/content/drive/MyDrive/ProstateX-Images-Train1.csv\"\n",
        "dicom_dir = \"/content/drive/MyDrive/Prostate/ProstateX-0000/\"  # Update this path\n",
        "\n",
        "# Load CSV files\n",
        "findings_df = pd.read_csv(findings_train_path)\n",
        "images_df = pd.read_csv(images_train_path)\n",
        "\n",
        "# Merge the Findings and Images data\n",
        "merged_df = pd.merge(images_df, findings_df, on=[\"ProxID\", \"fid\"], how=\"inner\")\n",
        "\n",
        "# Select relevant columns\n",
        "merged_df = merged_df[[\"ProxID\", \"fid\", \"DCMSerDescr\", \"DCMSerNum\", \"ijk\", \"ClinSig\"]]\n",
        "merged_df[\"ClinSig\"] = merged_df[\"ClinSig\"].fillna(0).astype(int)\n"
      ]
    },
    {
      "cell_type": "code",
      "source": [
        "import glob\n",
        "# Function to load DICOM images based on matched series descriptions\n",
        "def load_relevant_dicom_images(dicom_dir, merged_df, img_size=(128, 128)):\n",
        "    images = []\n",
        "    labels = []\n",
        "    matched_records = 0\n",
        "\n",
        "    # Get all DICOM file paths using glob\n",
        "    dicom_files = glob.glob(os.path.join(dicom_dir, \"**/*.dcm\"), recursive=True)\n",
        "    print(f\"Found {len(dicom_files)} DICOM files.\")\n",
        "    if len(dicom_files) == 0:\n",
        "        print(\"No DICOM files found. Check the directory path.\")\n",
        "        return np.array(images), np.array(labels)\n",
        "\n",
        "    for _, row in merged_df.iterrows():\n",
        "        series_desc = row[\"DCMSerDescr\"]\n",
        "        series_num = row[\"DCMSerNum\"]\n",
        "        label = row[\"ClinSig\"]\n",
        "\n",
        "        matched = False  # Flag to prevent unnecessary looping\n",
        "        for dicom_path in dicom_files:\n",
        "            dicom = pydicom.dcmread(dicom_path)\n",
        "\n",
        "            if dicom.SeriesNumber == series_num and series_desc in dicom.SeriesDescription:\n",
        "                img = dicom.pixel_array\n",
        "                img = img.astype(np.float32)\n",
        "                img = (img - np.min(img)) / (np.max(img) - np.min(img))\n",
        "                img = np.expand_dims(img, axis=-1)  # Ensure 3D format (H, W, 1)\n",
        "                img = tf.image.resize(img, img_size)\n",
        "\n",
        "                images.append(img.numpy())\n",
        "                labels.append(label)\n",
        "                matched_records += 1\n",
        "                matched = True\n",
        "                break  # Stop checking once a match is found\n",
        "\n",
        "        if not matched:\n",
        "            print(f\"No match found for SeriesNumber {series_num} and Description {series_desc}\")\n",
        "\n",
        "    print(f\"Total matched records: {matched_records}\")\n",
        "    return np.array(images), np.array(labels)"
      ],
      "metadata": {
        "id": "AQybrsnjDpZu"
      },
      "execution_count": 30,
      "outputs": []
    },
    {
      "cell_type": "code",
      "source": [
        "\n",
        "# Load dataset\n",
        "img_size = (128, 128)\n",
        "X, y = load_relevant_dicom_images(dicom_dir, merged_df, img_size)"
      ],
      "metadata": {
        "colab": {
          "base_uri": "https://localhost:8080/"
        },
        "id": "J93Dt72iJAYk",
        "outputId": "f38f807d-a58b-4ad8-f19c-31f92dca0605"
      },
      "execution_count": 33,
      "outputs": [
        {
          "output_type": "stream",
          "name": "stdout",
          "text": [
            "Found 884 DICOM files.\n",
            "No match found for SeriesNumber 8 and Description ep2d_diff_tra_DYNDIST_MIX_ADC\n",
            "No match found for SeriesNumber 7 and Description ep2d_diff_tra_DYNDIST_MIX\n",
            "No match found for SeriesNumber 7 and Description ep2d_diff_tra_DYNDIST_MIX\n",
            "No match found for SeriesNumber 7 and Description ep2d_diff_tra_DYNDIST_MIX\n",
            "No match found for SeriesNumber 9 and Description ep2d_diff_tra_DYNDIST_MIXCALC_BVAL\n",
            "No match found for SeriesNumber 3 and Description t2_loc sag\n",
            "No match found for SeriesNumber 1 and Description t2_localizer\n",
            "No match found for SeriesNumber 2 and Description t2_localizer\n",
            "No match found for SeriesNumber 4 and Description t2_tse_sag\n",
            "No match found for SeriesNumber 6 and Description t2_tse_tra\n",
            "No match found for SeriesNumber 10 and Description t2_tse_tra\n",
            "No match found for SeriesNumber 11 and Description tfl_3d PD ref_tra_1.5x1.5_t3\n",
            "No match found for SeriesNumber 2 and Description t2_loc sag\n",
            "No match found for SeriesNumber 2 and Description t2_loc sag\n",
            "No match found for SeriesNumber 1 and Description t2_localizer\n",
            "No match found for SeriesNumber 1 and Description t2_localizer\n",
            "No match found for SeriesNumber 6 and Description ep2d_diff_tra_DYNDIST_ADC\n",
            "No match found for SeriesNumber 6 and Description ep2d_diff_tra_DYNDIST_ADC\n",
            "No match found for SeriesNumber 5 and Description ep2d_diff_tra_DYNDIST\n",
            "No match found for SeriesNumber 5 and Description ep2d_diff_tra_DYNDIST\n",
            "No match found for SeriesNumber 5 and Description ep2d_diff_tra_DYNDIST\n",
            "No match found for SeriesNumber 5 and Description ep2d_diff_tra_DYNDIST\n",
            "No match found for SeriesNumber 5 and Description ep2d_diff_tra_DYNDIST\n",
            "No match found for SeriesNumber 5 and Description ep2d_diff_tra_DYNDIST\n",
            "No match found for SeriesNumber 7 and Description ep2d_diff_tra_DYNDISTCALC_BVAL\n",
            "No match found for SeriesNumber 7 and Description ep2d_diff_tra_DYNDISTCALC_BVAL\n",
            "No match found for SeriesNumber 1 and Description t2_localizer\n",
            "No match found for SeriesNumber 1 and Description t2_localizer\n",
            "No match found for SeriesNumber 4 and Description t2_tse_cor\n",
            "No match found for SeriesNumber 4 and Description t2_tse_cor\n",
            "No match found for SeriesNumber 2 and Description t2_tse_sag\n",
            "No match found for SeriesNumber 2 and Description t2_tse_sag\n",
            "No match found for SeriesNumber 3 and Description t2_tse_tra\n",
            "No match found for SeriesNumber 3 and Description t2_tse_tra\n",
            "No match found for SeriesNumber 8 and Description tfl_3d PD ref_tra_1.5x1.5_t3\n",
            "No match found for SeriesNumber 8 and Description tfl_3d PD ref_tra_1.5x1.5_t3\n",
            "No match found for SeriesNumber 7 and Description ep2d_diff_tra_DYNDIST_MIX_ADC\n",
            "No match found for SeriesNumber 6 and Description ep2d_diff_tra_DYNDIST_MIX\n",
            "No match found for SeriesNumber 6 and Description ep2d_diff_tra_DYNDIST_MIX\n",
            "No match found for SeriesNumber 6 and Description ep2d_diff_tra_DYNDIST_MIX\n",
            "No match found for SeriesNumber 8 and Description ep2d_diff_tra_DYNDIST_MIXCALC_BVAL\n",
            "No match found for SeriesNumber 4 and Description t2_tse_cor\n",
            "No match found for SeriesNumber 5 and Description t2_tse_tra\n",
            "No match found for SeriesNumber 7 and Description ep2d_diff_tra_DYNDIST_MIX_ADC\n",
            "No match found for SeriesNumber 7 and Description ep2d_diff_tra_DYNDIST_MIX_ADC\n",
            "No match found for SeriesNumber 7 and Description ep2d_diff_tra_DYNDIST_MIX_ADC\n",
            "No match found for SeriesNumber 7 and Description ep2d_diff_tra_DYNDIST_MIX_ADC\n",
            "No match found for SeriesNumber 7 and Description ep2d_diff_tra_DYNDIST_MIX_ADC\n",
            "No match found for SeriesNumber 6 and Description ep2d_diff_tra_DYNDIST_MIX\n",
            "No match found for SeriesNumber 6 and Description ep2d_diff_tra_DYNDIST_MIX\n",
            "No match found for SeriesNumber 6 and Description ep2d_diff_tra_DYNDIST_MIX\n",
            "No match found for SeriesNumber 6 and Description ep2d_diff_tra_DYNDIST_MIX\n",
            "No match found for SeriesNumber 6 and Description ep2d_diff_tra_DYNDIST_MIX\n",
            "No match found for SeriesNumber 6 and Description ep2d_diff_tra_DYNDIST_MIX\n",
            "No match found for SeriesNumber 6 and Description ep2d_diff_tra_DYNDIST_MIX\n",
            "No match found for SeriesNumber 6 and Description ep2d_diff_tra_DYNDIST_MIX\n",
            "No match found for SeriesNumber 6 and Description ep2d_diff_tra_DYNDIST_MIX\n",
            "No match found for SeriesNumber 6 and Description ep2d_diff_tra_DYNDIST_MIX\n",
            "No match found for SeriesNumber 6 and Description ep2d_diff_tra_DYNDIST_MIX\n",
            "No match found for SeriesNumber 6 and Description ep2d_diff_tra_DYNDIST_MIX\n",
            "No match found for SeriesNumber 6 and Description ep2d_diff_tra_DYNDIST_MIX\n",
            "No match found for SeriesNumber 6 and Description ep2d_diff_tra_DYNDIST_MIX\n",
            "No match found for SeriesNumber 6 and Description ep2d_diff_tra_DYNDIST_MIX\n",
            "No match found for SeriesNumber 8 and Description ep2d_diff_tra_DYNDIST_MIXCALC_BVAL\n",
            "No match found for SeriesNumber 8 and Description ep2d_diff_tra_DYNDIST_MIXCALC_BVAL\n",
            "No match found for SeriesNumber 8 and Description ep2d_diff_tra_DYNDIST_MIXCALC_BVAL\n",
            "No match found for SeriesNumber 8 and Description ep2d_diff_tra_DYNDIST_MIXCALC_BVAL\n",
            "No match found for SeriesNumber 8 and Description ep2d_diff_tra_DYNDIST_MIXCALC_BVAL\n",
            "No match found for SeriesNumber 2 and Description t2_loc sag\n",
            "No match found for SeriesNumber 2 and Description t2_loc sag\n",
            "No match found for SeriesNumber 1 and Description t2_localizer\n",
            "No match found for SeriesNumber 1 and Description t2_localizer\n",
            "No match found for SeriesNumber 8 and Description ep2d_diff_tra_DYNDIST_ADC\n",
            "No match found for SeriesNumber 9 and Description ep2d_diff_tra_DYNDISTCALC_BVAL\n",
            "No match found for SeriesNumber 2 and Description t2_loc sag\n",
            "No match found for SeriesNumber 1 and Description t2_localizer\n",
            "No match found for SeriesNumber 6 and Description t2_tse_sag\n",
            "No match found for SeriesNumber 10 and Description tfl_3d PD ref_tra_1.5x1.5_t3\n",
            "No match found for SeriesNumber 8 and Description ep2d_diff_tra_DYNDIST_ADC\n",
            "No match found for SeriesNumber 9 and Description ep2d_diff_tra_DYNDISTCALC_BVAL\n",
            "No match found for SeriesNumber 2 and Description t2_loc sag\n",
            "No match found for SeriesNumber 1 and Description t2_localizer\n",
            "No match found for SeriesNumber 6 and Description t2_tse_sag\n",
            "No match found for SeriesNumber 10 and Description tfl_3d PD ref_tra_1.5x1.5_t3\n",
            "No match found for SeriesNumber 2 and Description t2_loc sag\n",
            "No match found for SeriesNumber 1 and Description t2_localizer\n",
            "No match found for SeriesNumber 8 and Description ep2d_diff_tra_DYNDIST_ADC\n",
            "No match found for SeriesNumber 9 and Description ep2d_diff_tra_DYNDISTCALC_BVAL\n",
            "No match found for SeriesNumber 2 and Description t2_loc sag\n",
            "No match found for SeriesNumber 1 and Description t2_localizer\n",
            "No match found for SeriesNumber 6 and Description t2_tse_tra\n",
            "No match found for SeriesNumber 10 and Description tfl_3d PD ref_tra_1.5x1.5_t3\n",
            "Total matched records: 95\n"
          ]
        }
      ]
    },
    {
      "cell_type": "code",
      "source": [
        "# One-hot encode labels\n",
        "y = to_categorical(y, 2)\n",
        "\n",
        "# Split into train and test sets\n",
        "X_train, X_test, y_train, y_test = train_test_split(X, y, test_size=0.2, random_state=42)\n",
        "\n",
        "# CNN Model\n",
        "def build_cnn_model(input_shape, num_classes):\n",
        "    model = keras.Sequential([\n",
        "        layers.Conv2D(32, (3,3), activation='relu', input_shape=input_shape),\n",
        "        layers.MaxPooling2D((2,2)),\n",
        "        layers.Conv2D(64, (3,3), activation='relu'),\n",
        "        layers.MaxPooling2D((2,2)),\n",
        "        layers.Conv2D(128, (3,3), activation='relu'),\n",
        "        layers.MaxPooling2D((2,2)),\n",
        "        layers.Flatten(),\n",
        "        layers.Dense(128, activation='relu'),\n",
        "        layers.Dropout(0.5),\n",
        "        layers.Dense(num_classes, activation='softmax')\n",
        "    ])\n",
        "\n",
        "    model.compile(optimizer='adam',\n",
        "                  loss='categorical_crossentropy',\n",
        "                  metrics=['accuracy'])\n",
        "    return model\n",
        "\n",
        "# Build and train CNN model\n",
        "model = build_cnn_model(input_shape=(128, 128, 1), num_classes=2)\n",
        "\n",
        "history = model.fit(X_train, y_train, epochs=10, validation_data=(X_test, y_test), batch_size=16)\n",
        "\n",
        "# Plot training history\n",
        "plt.plot(history.history['accuracy'], label='Train Accuracy')\n",
        "plt.plot(history.history['val_accuracy'], label='Validation Accuracy')\n",
        "plt.legend()\n",
        "plt.xlabel(\"Epochs\")\n",
        "plt.ylabel(\"Accuracy\")\n",
        "plt.title(\"CNN Model Performance\")\n",
        "plt.show()\n",
        "\n",
        "# Save the model\n",
        "model.save(\"dicom_cnn_model.h5\")\n"
      ],
      "metadata": {
        "colab": {
          "base_uri": "https://localhost:8080/",
          "height": 891
        },
        "id": "CJu3vbMD8mfm",
        "outputId": "3cc8dd43-99da-46ae-a5a8-63a996fe1e12"
      },
      "execution_count": 28,
      "outputs": [
        {
          "output_type": "stream",
          "name": "stderr",
          "text": [
            "/usr/local/lib/python3.11/dist-packages/keras/src/layers/convolutional/base_conv.py:107: UserWarning: Do not pass an `input_shape`/`input_dim` argument to a layer. When using Sequential models, prefer using an `Input(shape)` object as the first layer in the model instead.\n",
            "  super().__init__(activity_regularizer=activity_regularizer, **kwargs)\n"
          ]
        },
        {
          "output_type": "stream",
          "name": "stdout",
          "text": [
            "Epoch 1/10\n",
            "\u001b[1m5/5\u001b[0m \u001b[32m━━━━━━━━━━━━━━━━━━━━\u001b[0m\u001b[37m\u001b[0m \u001b[1m6s\u001b[0m 585ms/step - accuracy: 0.5559 - loss: 0.6909 - val_accuracy: 0.6842 - val_loss: 0.6901\n",
            "Epoch 2/10\n",
            "\u001b[1m5/5\u001b[0m \u001b[32m━━━━━━━━━━━━━━━━━━━━\u001b[0m\u001b[37m\u001b[0m \u001b[1m2s\u001b[0m 453ms/step - accuracy: 0.6699 - loss: 0.6135 - val_accuracy: 0.6842 - val_loss: 0.6484\n",
            "Epoch 3/10\n",
            "\u001b[1m5/5\u001b[0m \u001b[32m━━━━━━━━━━━━━━━━━━━━\u001b[0m\u001b[37m\u001b[0m \u001b[1m4s\u001b[0m 786ms/step - accuracy: 0.7394 - loss: 0.5968 - val_accuracy: 0.6842 - val_loss: 0.6518\n",
            "Epoch 4/10\n",
            "\u001b[1m5/5\u001b[0m \u001b[32m━━━━━━━━━━━━━━━━━━━━\u001b[0m\u001b[37m\u001b[0m \u001b[1m3s\u001b[0m 484ms/step - accuracy: 0.7168 - loss: 0.5685 - val_accuracy: 0.6842 - val_loss: 0.6603\n",
            "Epoch 5/10\n",
            "\u001b[1m5/5\u001b[0m \u001b[32m━━━━━━━━━━━━━━━━━━━━\u001b[0m\u001b[37m\u001b[0m \u001b[1m2s\u001b[0m 506ms/step - accuracy: 0.6473 - loss: 0.6379 - val_accuracy: 0.6842 - val_loss: 0.6543\n",
            "Epoch 6/10\n",
            "\u001b[1m5/5\u001b[0m \u001b[32m━━━━━━━━━━━━━━━━━━━━\u001b[0m\u001b[37m\u001b[0m \u001b[1m2s\u001b[0m 461ms/step - accuracy: 0.6890 - loss: 0.6410 - val_accuracy: 0.6842 - val_loss: 0.6660\n",
            "Epoch 7/10\n",
            "\u001b[1m5/5\u001b[0m \u001b[32m━━━━━━━━━━━━━━━━━━━━\u001b[0m\u001b[37m\u001b[0m \u001b[1m3s\u001b[0m 462ms/step - accuracy: 0.6855 - loss: 0.6100 - val_accuracy: 0.6842 - val_loss: 0.6679\n",
            "Epoch 8/10\n",
            "\u001b[1m5/5\u001b[0m \u001b[32m━━━━━━━━━━━━━━━━━━━━\u001b[0m\u001b[37m\u001b[0m \u001b[1m4s\u001b[0m 756ms/step - accuracy: 0.6499 - loss: 0.6290 - val_accuracy: 0.6842 - val_loss: 0.6809\n",
            "Epoch 9/10\n",
            "\u001b[1m5/5\u001b[0m \u001b[32m━━━━━━━━━━━━━━━━━━━━\u001b[0m\u001b[37m\u001b[0m \u001b[1m3s\u001b[0m 528ms/step - accuracy: 0.6647 - loss: 0.5908 - val_accuracy: 0.6842 - val_loss: 0.7293\n",
            "Epoch 10/10\n",
            "\u001b[1m5/5\u001b[0m \u001b[32m━━━━━━━━━━━━━━━━━━━━\u001b[0m\u001b[37m\u001b[0m \u001b[1m2s\u001b[0m 449ms/step - accuracy: 0.6890 - loss: 0.6409 - val_accuracy: 0.6842 - val_loss: 0.6933\n"
          ]
        },
        {
          "output_type": "display_data",
          "data": {
            "text/plain": [
              "<Figure size 640x480 with 1 Axes>"
            ],
            "image/png": "[encoded data removed]"
          },
          "metadata": {}
        },
        {
          "output_type": "stream",
          "name": "stderr",
          "text": [
            "WARNING:absl:You are saving your model as an HDF5 file via `model.save()` or `keras.saving.save_model(model)`. This file format is considered legacy. We recommend using instead the native Keras format, e.g. `model.save('my_model.keras')` or `keras.saving.save_model(model, 'my_model.keras')`. \n"
          ]
        }
      ]
    }
  ]
}